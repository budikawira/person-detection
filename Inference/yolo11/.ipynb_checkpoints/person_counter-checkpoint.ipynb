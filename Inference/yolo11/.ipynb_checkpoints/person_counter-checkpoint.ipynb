{
 "cells": [
  {
   "cell_type": "code",
   "execution_count": 8,
   "id": "e7ff9971-2e7e-4c88-b189-12c20674d147",
   "metadata": {},
   "outputs": [],
   "source": [
    "from ultralytics import YOLO\n",
    "import cv2\n",
    "import pandas as pd\n",
    "import matplotlib.pyplot as plt\n",
    "from tqdm.notebook import tqdm  # For Jupyter notebook progress bar"
   ]
  },
  {
   "cell_type": "code",
   "execution_count": 9,
   "id": "4bae389f-c668-443a-84a9-3e6d1133a9b2",
   "metadata": {},
   "outputs": [],
   "source": [
    "\n",
    "model_dir = '../../../Train/runs/detect/'"
   ]
  },
  {
   "cell_type": "code",
   "execution_count": 17,
   "id": "9d743179-b0fe-470e-b95c-ff526562ecbb",
   "metadata": {},
   "outputs": [],
   "source": [
    "def inference(model_name, video_path):\n",
    "    df = pd.DataFrame(columns=['frame', 'person'])\n",
    "    model_path = model_dir + model_name + '/weights/best.pt'\n",
    "    model = YOLO(model_path)\n",
    "    # Open video\n",
    "    cap = cv2.VideoCapture('../' + video_path)\n",
    "    # Get video properties\n",
    "    fps = int(cap.get(cv2.CAP_PROP_FPS))\n",
    "    width = int(cap.get(cv2.CAP_PROP_FRAME_WIDTH))\n",
    "    height = int(cap.get(cv2.CAP_PROP_FRAME_HEIGHT))\n",
    "    total_frames = int(cap.get(cv2.CAP_PROP_FRAME_COUNT))\n",
    "    \n",
    "    # Prepare DataFrame to store results\n",
    "    data = []\n",
    "    \n",
    "    # Output video writer (optional)# Set up video writer (MP4 format with mp4v codec)\n",
    "    output_path = 'output_' + model_name + '_' + video_path\n",
    "    fourcc = cv2.VideoWriter_fourcc(*'mp4v')\n",
    "    out = cv2.VideoWriter(output_path, fourcc, fps, (width, height))\n",
    "    # Initialize progress bar\n",
    "    progress = tqdm(total=total_frames, desc=\"Processing Video\", unit=\"frame\")\n",
    "    \n",
    "    frame_idx = 0\n",
    "    while cap.isOpened():\n",
    "        ret, frame = cap.read()\n",
    "        if not ret:\n",
    "            break\n",
    "    \n",
    "        # Run inference\n",
    "        results = model(frame, verbose=False)\n",
    "    \n",
    "        annotated_frame = frame.copy()\n",
    "        # Count persons\n",
    "        person_count = 0\n",
    "        # Draw bounding boxes\n",
    "        for result in results:\n",
    "            boxes = result.boxes\n",
    "            for box in boxes:\n",
    "                cls = int(box.cls)\n",
    "                if model.names[cls] == 'person':\n",
    "                    person_count += 1\n",
    "                    x1, y1, x2, y2 = map(int, box.xyxy[0])\n",
    "                    cv2.rectangle(annotated_frame, (x1, y1), (x2, y2), (0, 255, 0), 2)\n",
    "\n",
    "        # Display person count\n",
    "        cv2.putText(annotated_frame, \n",
    "                f\"Persons: {person_count}\", \n",
    "                (10, 30),  # Top-left position\n",
    "                cv2.FONT_HERSHEY_SIMPLEX, \n",
    "                1,  # Font scale\n",
    "                (0, 255, 0),  # Green color\n",
    "                2,  # Thickness\n",
    "                cv2.LINE_AA)\n",
    "        \n",
    "        # Write frame to output video\n",
    "        out.write(annotated_frame)\n",
    "    \n",
    "        frame_idx += 1\n",
    "        progress.update(1)  # Update progress bar\n",
    "    \n",
    "    # Cleanup\n",
    "    progress.close()\n",
    "    cap.release()\n",
    "    out.release()\n",
    "    print(f\"✅ Saved output video as '{output_path}'\")\n",
    "    return annotated_frame"
   ]
  },
  {
   "cell_type": "code",
   "execution_count": 18,
   "id": "946cbecd-0316-42f9-9db3-cf2d0280b765",
   "metadata": {},
   "outputs": [],
   "source": [
    "video_path = 'street.mp4'"
   ]
  },
  {
   "cell_type": "code",
   "execution_count": 19,
   "id": "ac6e1d7d-5cc8-414a-91a4-54da2b745921",
   "metadata": {},
   "outputs": [],
   "source": [
    "# Load model\n",
    "model_name = 'person_detect_v1'"
   ]
  },
  {
   "cell_type": "code",
   "execution_count": 20,
   "id": "6167d077-8fa8-44a0-bcd6-1d727a31f758",
   "metadata": {},
   "outputs": [
    {
     "data": {
      "application/vnd.jupyter.widget-view+json": {
       "model_id": "170b2828ec7a45a4b1ba31c060f81b08",
       "version_major": 2,
       "version_minor": 0
      },
      "text/plain": [
       "Processing Video:   0%|          | 0/616 [00:00<?, ?frame/s]"
      ]
     },
     "metadata": {},
     "output_type": "display_data"
    },
    {
     "name": "stdout",
     "output_type": "stream",
     "text": [
      "✅ Saved output video as 'output_person_detect_v1_street.mp4'\n"
     ]
    }
   ],
   "source": [
    "annotated_frame = inference(model_name, video_path)"
   ]
  },
  {
   "cell_type": "code",
   "execution_count": 15,
   "id": "8a2354b7-0ddb-4c0a-b35f-3bfb579fac65",
   "metadata": {},
   "outputs": [
    {
     "ename": "NameError",
     "evalue": "name 'annotated_frame' is not defined",
     "output_type": "error",
     "traceback": [
      "\u001b[31m---------------------------------------------------------------------------\u001b[39m",
      "\u001b[31mNameError\u001b[39m                                 Traceback (most recent call last)",
      "\u001b[36mCell\u001b[39m\u001b[36m \u001b[39m\u001b[32mIn[15]\u001b[39m\u001b[32m, line 1\u001b[39m\n\u001b[32m----> \u001b[39m\u001b[32m1\u001b[39m plt.imshow(cv2.cvtColor(annotated_frame, cv2.COLOR_BGR2RGB))\n\u001b[32m      2\u001b[39m plt.axis(\u001b[33m'\u001b[39m\u001b[33moff\u001b[39m\u001b[33m'\u001b[39m)\n\u001b[32m      3\u001b[39m plt.show()\n",
      "\u001b[31mNameError\u001b[39m: name 'annotated_frame' is not defined"
     ]
    }
   ],
   "source": [
    "plt.imshow(cv2.cvtColor(annotated_frame, cv2.COLOR_BGR2RGB))\n",
    "plt.axis('off')\n",
    "plt.show()"
   ]
  },
  {
   "cell_type": "code",
   "execution_count": 16,
   "id": "b3957862-2c7c-429a-9c32-bf97b6f8d6f9",
   "metadata": {},
   "outputs": [
    {
     "data": {
      "application/vnd.jupyter.widget-view+json": {
       "model_id": "5fbece146ea149e690f5e69a4887ee49",
       "version_major": 2,
       "version_minor": 0
      },
      "text/plain": [
       "Processing Video:   0%|          | 0/616 [00:00<?, ?frame/s]"
      ]
     },
     "metadata": {},
     "output_type": "display_data"
    },
    {
     "name": "stdout",
     "output_type": "stream",
     "text": [
      "✅ Saved output video as 'output_person_detect_v2_street.mp4'\n"
     ]
    }
   ],
   "source": [
    "# Load model\n",
    "model_name = 'person_detect_v2'\n",
    "annotated_frame = inference(model_name, video_path)"
   ]
  },
  {
   "cell_type": "code",
   "execution_count": null,
   "id": "09bfc3dc-7951-48f3-89db-4f5778d36724",
   "metadata": {},
   "outputs": [],
   "source": [
    "plt.imshow(cv2.cvtColor(annotated_frame, cv2.COLOR_BGR2RGB))\n",
    "plt.axis('off')\n",
    "plt.show()"
   ]
  },
  {
   "cell_type": "code",
   "execution_count": null,
   "id": "5d136376-1b36-41d2-85d4-e28260c240ae",
   "metadata": {},
   "outputs": [],
   "source": []
  }
 ],
 "metadata": {
  "kernelspec": {
   "display_name": "Python 3 (ipykernel)",
   "language": "python",
   "name": "python3"
  },
  "language_info": {
   "codemirror_mode": {
    "name": "ipython",
    "version": 3
   },
   "file_extension": ".py",
   "mimetype": "text/x-python",
   "name": "python",
   "nbconvert_exporter": "python",
   "pygments_lexer": "ipython3",
   "version": "3.11.11"
  }
 },
 "nbformat": 4,
 "nbformat_minor": 5
}
