{
 "cells": [
  {
   "cell_type": "markdown",
   "id": "850b08c7-d42d-4adb-a4d3-e1b356cd948a",
   "metadata": {},
   "source": [
    "# Person Detection"
   ]
  },
  {
   "cell_type": "markdown",
   "id": "e2a8c08c-ac71-4ff7-8867-df48f8f087bf",
   "metadata": {},
   "source": [
    "## PreTrain Model: yolo11n\n",
    "\n"
   ]
  },
  {
   "cell_type": "code",
   "execution_count": 2,
   "id": "TKblptZholXF",
   "metadata": {
    "colab": {
     "base_uri": "https://localhost:8080/"
    },
    "id": "TKblptZholXF",
    "outputId": "9d517075-6ef8-40ad-904d-24641cb816cb"
   },
   "outputs": [
    {
     "name": "stdout",
     "output_type": "stream",
     "text": [
      "Defaulting to user installation because normal site-packages is not writeable\n",
      "Requirement already satisfied: fiftyone in c:\\users\\budik\\appdata\\roaming\\python\\python311\\site-packages (1.5.2)\n",
      "Requirement already satisfied: aiofiles in c:\\users\\budik\\appdata\\roaming\\python\\python311\\site-packages (from fiftyone) (24.1.0)\n",
      "Requirement already satisfied: argcomplete in c:\\users\\budik\\appdata\\roaming\\python\\python311\\site-packages (from fiftyone) (3.6.2)\n",
      "Requirement already satisfied: async_lru>=2 in c:\\programdata\\anaconda3\\envs\\ai_cv\\lib\\site-packages (from fiftyone) (2.0.4)\n",
      "Requirement already satisfied: beautifulsoup4 in c:\\programdata\\anaconda3\\envs\\ai_cv\\lib\\site-packages (from fiftyone) (4.12.3)\n",
      "Requirement already satisfied: boto3 in c:\\users\\budik\\appdata\\roaming\\python\\python311\\site-packages (from fiftyone) (1.38.32)\n",
      "Requirement already satisfied: cachetools in c:\\users\\budik\\appdata\\roaming\\python\\python311\\site-packages (from fiftyone) (6.0.0)\n",
      "Requirement already satisfied: dacite<1.8.0,>=1.6.0 in c:\\users\\budik\\appdata\\roaming\\python\\python311\\site-packages (from fiftyone) (1.7.0)\n",
      "Requirement already satisfied: dill in c:\\users\\budik\\appdata\\roaming\\python\\python311\\site-packages (from fiftyone) (0.4.0)\n",
      "Requirement already satisfied: Deprecated in c:\\users\\budik\\appdata\\roaming\\python\\python311\\site-packages (from fiftyone) (1.2.18)\n",
      "Requirement already satisfied: ftfy in c:\\users\\budik\\appdata\\roaming\\python\\python311\\site-packages (from fiftyone) (6.3.1)\n",
      "Requirement already satisfied: humanize in c:\\users\\budik\\appdata\\roaming\\python\\python311\\site-packages (from fiftyone) (4.12.3)\n",
      "Requirement already satisfied: hypercorn>=0.13.2 in c:\\users\\budik\\appdata\\roaming\\python\\python311\\site-packages (from fiftyone) (0.17.3)\n",
      "Requirement already satisfied: Jinja2>=3 in c:\\programdata\\anaconda3\\envs\\ai_cv\\lib\\site-packages (from fiftyone) (3.1.6)\n",
      "Requirement already satisfied: kaleido!=0.2.1.post1 in c:\\users\\budik\\appdata\\roaming\\python\\python311\\site-packages (from fiftyone) (0.2.1)\n",
      "Requirement already satisfied: matplotlib in c:\\programdata\\anaconda3\\envs\\ai_cv\\lib\\site-packages (from fiftyone) (3.10.0)\n",
      "Requirement already satisfied: mongoengine~=0.29.1 in c:\\users\\budik\\appdata\\roaming\\python\\python311\\site-packages (from fiftyone) (0.29.1)\n",
      "Requirement already satisfied: motor~=3.6.0 in c:\\users\\budik\\appdata\\roaming\\python\\python311\\site-packages (from fiftyone) (3.6.1)\n",
      "Requirement already satisfied: numpy in c:\\users\\budik\\appdata\\roaming\\python\\python311\\site-packages (from fiftyone) (1.26.4)\n",
      "Requirement already satisfied: packaging in c:\\programdata\\anaconda3\\envs\\ai_cv\\lib\\site-packages (from fiftyone) (24.2)\n",
      "Requirement already satisfied: pandas in c:\\programdata\\anaconda3\\envs\\ai_cv\\lib\\site-packages (from fiftyone) (2.2.3)\n",
      "Requirement already satisfied: Pillow>=6.2 in c:\\programdata\\anaconda3\\envs\\ai_cv\\lib\\site-packages (from fiftyone) (11.1.0)\n",
      "Requirement already satisfied: plotly>=4.14 in c:\\users\\budik\\appdata\\roaming\\python\\python311\\site-packages (from fiftyone) (6.1.2)\n",
      "Requirement already satisfied: pprintpp in c:\\users\\budik\\appdata\\roaming\\python\\python311\\site-packages (from fiftyone) (0.4.0)\n",
      "Requirement already satisfied: psutil in c:\\programdata\\anaconda3\\envs\\ai_cv\\lib\\site-packages (from fiftyone) (5.9.0)\n",
      "Requirement already satisfied: pymongo~=4.9.2 in c:\\users\\budik\\appdata\\roaming\\python\\python311\\site-packages (from fiftyone) (4.9.2)\n",
      "Requirement already satisfied: pytz in c:\\programdata\\anaconda3\\envs\\ai_cv\\lib\\site-packages (from fiftyone) (2024.1)\n",
      "Requirement already satisfied: PyYAML in c:\\programdata\\anaconda3\\envs\\ai_cv\\lib\\site-packages (from fiftyone) (6.0.2)\n",
      "Requirement already satisfied: regex in c:\\users\\budik\\appdata\\roaming\\python\\python311\\site-packages (from fiftyone) (2024.11.6)\n",
      "Requirement already satisfied: retrying in c:\\users\\budik\\appdata\\roaming\\python\\python311\\site-packages (from fiftyone) (1.3.4)\n",
      "Requirement already satisfied: rtree in c:\\users\\budik\\appdata\\roaming\\python\\python311\\site-packages (from fiftyone) (1.4.0)\n",
      "Requirement already satisfied: scikit-learn in c:\\programdata\\anaconda3\\envs\\ai_cv\\lib\\site-packages (from fiftyone) (1.6.1)\n",
      "Requirement already satisfied: scikit-image in c:\\users\\budik\\appdata\\roaming\\python\\python311\\site-packages (from fiftyone) (0.25.2)\n",
      "Requirement already satisfied: scipy in c:\\programdata\\anaconda3\\envs\\ai_cv\\lib\\site-packages (from fiftyone) (1.15.3)\n",
      "Requirement already satisfied: setuptools in c:\\programdata\\anaconda3\\envs\\ai_cv\\lib\\site-packages (from fiftyone) (78.1.1)\n",
      "Requirement already satisfied: sseclient-py<2,>=1.7.2 in c:\\users\\budik\\appdata\\roaming\\python\\python311\\site-packages (from fiftyone) (1.8.0)\n",
      "Requirement already satisfied: sse-starlette<1,>=0.10.3 in c:\\users\\budik\\appdata\\roaming\\python\\python311\\site-packages (from fiftyone) (0.10.3)\n",
      "Requirement already satisfied: starlette>=0.24.0 in c:\\users\\budik\\appdata\\roaming\\python\\python311\\site-packages (from fiftyone) (0.47.1)\n",
      "Requirement already satisfied: strawberry-graphql>=0.262.4 in c:\\users\\budik\\appdata\\roaming\\python\\python311\\site-packages (from fiftyone) (0.271.1)\n",
      "Requirement already satisfied: tabulate in c:\\users\\budik\\appdata\\roaming\\python\\python311\\site-packages (from fiftyone) (0.9.0)\n",
      "Requirement already satisfied: tqdm in c:\\users\\budik\\appdata\\roaming\\python\\python311\\site-packages (from fiftyone) (4.67.1)\n",
      "Requirement already satisfied: xmltodict in c:\\users\\budik\\appdata\\roaming\\python\\python311\\site-packages (from fiftyone) (0.14.2)\n",
      "Requirement already satisfied: universal-analytics-python3<2,>=1.0.1 in c:\\users\\budik\\appdata\\roaming\\python\\python311\\site-packages (from fiftyone) (1.1.1)\n",
      "Requirement already satisfied: pydash in c:\\users\\budik\\appdata\\roaming\\python\\python311\\site-packages (from fiftyone) (8.0.5)\n",
      "Requirement already satisfied: fiftyone-brain<0.22,>=0.21.2 in c:\\users\\budik\\appdata\\roaming\\python\\python311\\site-packages (from fiftyone) (0.21.2)\n",
      "Requirement already satisfied: fiftyone-db<2.0,>=0.4 in c:\\users\\budik\\appdata\\roaming\\python\\python311\\site-packages (from fiftyone) (1.1.7)\n",
      "Requirement already satisfied: voxel51-eta<0.15,>=0.14.0 in c:\\users\\budik\\appdata\\roaming\\python\\python311\\site-packages (from fiftyone) (0.14.2)\n",
      "Requirement already satisfied: opencv-python-headless in c:\\users\\budik\\appdata\\roaming\\python\\python311\\site-packages (from fiftyone) (4.10.0.84)\n",
      "Requirement already satisfied: dnspython<3.0.0,>=1.16.0 in c:\\users\\budik\\appdata\\roaming\\python\\python311\\site-packages (from pymongo~=4.9.2->fiftyone) (2.7.0)\n",
      "Requirement already satisfied: httpx>=0.10.0 in c:\\programdata\\anaconda3\\envs\\ai_cv\\lib\\site-packages (from universal-analytics-python3<2,>=1.0.1->fiftyone) (0.28.1)\n",
      "Requirement already satisfied: future in c:\\users\\budik\\appdata\\roaming\\python\\python311\\site-packages (from voxel51-eta<0.15,>=0.14.0->fiftyone) (1.0.0)\n",
      "Requirement already satisfied: glob2 in c:\\users\\budik\\appdata\\roaming\\python\\python311\\site-packages (from voxel51-eta<0.15,>=0.14.0->fiftyone) (0.7)\n",
      "Requirement already satisfied: jsonlines in c:\\users\\budik\\appdata\\roaming\\python\\python311\\site-packages (from voxel51-eta<0.15,>=0.14.0->fiftyone) (4.0.0)\n",
      "Requirement already satisfied: py7zr in c:\\users\\budik\\appdata\\roaming\\python\\python311\\site-packages (from voxel51-eta<0.15,>=0.14.0->fiftyone) (1.0.0)\n",
      "Requirement already satisfied: python-dateutil in c:\\programdata\\anaconda3\\envs\\ai_cv\\lib\\site-packages (from voxel51-eta<0.15,>=0.14.0->fiftyone) (2.9.0.post0)\n",
      "Requirement already satisfied: rarfile in c:\\users\\budik\\appdata\\roaming\\python\\python311\\site-packages (from voxel51-eta<0.15,>=0.14.0->fiftyone) (4.2)\n",
      "Requirement already satisfied: requests in c:\\programdata\\anaconda3\\envs\\ai_cv\\lib\\site-packages (from voxel51-eta<0.15,>=0.14.0->fiftyone) (2.32.3)\n",
      "Requirement already satisfied: six in c:\\programdata\\anaconda3\\envs\\ai_cv\\lib\\site-packages (from voxel51-eta<0.15,>=0.14.0->fiftyone) (1.17.0)\n",
      "Requirement already satisfied: sortedcontainers in c:\\users\\budik\\appdata\\roaming\\python\\python311\\site-packages (from voxel51-eta<0.15,>=0.14.0->fiftyone) (2.4.0)\n",
      "Requirement already satisfied: tzlocal in c:\\users\\budik\\appdata\\roaming\\python\\python311\\site-packages (from voxel51-eta<0.15,>=0.14.0->fiftyone) (5.3.1)\n",
      "Requirement already satisfied: urllib3 in c:\\programdata\\anaconda3\\envs\\ai_cv\\lib\\site-packages (from voxel51-eta<0.15,>=0.14.0->fiftyone) (2.3.0)\n",
      "Requirement already satisfied: anyio in c:\\programdata\\anaconda3\\envs\\ai_cv\\lib\\site-packages (from httpx>=0.10.0->universal-analytics-python3<2,>=1.0.1->fiftyone) (4.7.0)\n",
      "Requirement already satisfied: certifi in c:\\programdata\\anaconda3\\envs\\ai_cv\\lib\\site-packages (from httpx>=0.10.0->universal-analytics-python3<2,>=1.0.1->fiftyone) (2025.6.15)\n",
      "Requirement already satisfied: httpcore==1.* in c:\\programdata\\anaconda3\\envs\\ai_cv\\lib\\site-packages (from httpx>=0.10.0->universal-analytics-python3<2,>=1.0.1->fiftyone) (1.0.9)\n",
      "Requirement already satisfied: idna in c:\\programdata\\anaconda3\\envs\\ai_cv\\lib\\site-packages (from httpx>=0.10.0->universal-analytics-python3<2,>=1.0.1->fiftyone) (3.7)\n",
      "Requirement already satisfied: h11>=0.16 in c:\\programdata\\anaconda3\\envs\\ai_cv\\lib\\site-packages (from httpcore==1.*->httpx>=0.10.0->universal-analytics-python3<2,>=1.0.1->fiftyone) (0.16.0)\n",
      "Requirement already satisfied: h2>=3.1.0 in c:\\users\\budik\\appdata\\roaming\\python\\python311\\site-packages (from hypercorn>=0.13.2->fiftyone) (4.2.0)\n",
      "Requirement already satisfied: priority in c:\\users\\budik\\appdata\\roaming\\python\\python311\\site-packages (from hypercorn>=0.13.2->fiftyone) (2.0.0)\n",
      "Requirement already satisfied: wsproto>=0.14.0 in c:\\users\\budik\\appdata\\roaming\\python\\python311\\site-packages (from hypercorn>=0.13.2->fiftyone) (1.2.0)\n",
      "Requirement already satisfied: hyperframe<7,>=6.1 in c:\\users\\budik\\appdata\\roaming\\python\\python311\\site-packages (from h2>=3.1.0->hypercorn>=0.13.2->fiftyone) (6.1.0)\n",
      "Requirement already satisfied: hpack<5,>=4.1 in c:\\users\\budik\\appdata\\roaming\\python\\python311\\site-packages (from h2>=3.1.0->hypercorn>=0.13.2->fiftyone) (4.1.0)\n",
      "Requirement already satisfied: MarkupSafe>=2.0 in c:\\programdata\\anaconda3\\envs\\ai_cv\\lib\\site-packages (from Jinja2>=3->fiftyone) (3.0.2)\n",
      "Requirement already satisfied: narwhals>=1.15.1 in c:\\users\\budik\\appdata\\roaming\\python\\python311\\site-packages (from plotly>=4.14->fiftyone) (1.42.0)\n",
      "Requirement already satisfied: typing-extensions>=4.10.0 in c:\\users\\budik\\appdata\\roaming\\python\\python311\\site-packages (from starlette>=0.24.0->fiftyone) (4.14.0)\n",
      "Requirement already satisfied: sniffio>=1.1 in c:\\programdata\\anaconda3\\envs\\ai_cv\\lib\\site-packages (from anyio->httpx>=0.10.0->universal-analytics-python3<2,>=1.0.1->fiftyone) (1.3.0)\n",
      "Requirement already satisfied: graphql-core<3.4.0,>=3.2.0 in c:\\users\\budik\\appdata\\roaming\\python\\python311\\site-packages (from strawberry-graphql>=0.262.4->fiftyone) (3.2.6)\n",
      "Requirement already satisfied: soupsieve>1.2 in c:\\programdata\\anaconda3\\envs\\ai_cv\\lib\\site-packages (from beautifulsoup4->fiftyone) (2.5)\n",
      "Requirement already satisfied: botocore<1.39.0,>=1.38.32 in c:\\users\\budik\\appdata\\roaming\\python\\python311\\site-packages (from boto3->fiftyone) (1.38.32)\n",
      "Requirement already satisfied: jmespath<2.0.0,>=0.7.1 in c:\\users\\budik\\appdata\\roaming\\python\\python311\\site-packages (from boto3->fiftyone) (1.0.1)\n",
      "Requirement already satisfied: s3transfer<0.14.0,>=0.13.0 in c:\\users\\budik\\appdata\\roaming\\python\\python311\\site-packages (from boto3->fiftyone) (0.13.0)\n",
      "Requirement already satisfied: wrapt<2,>=1.10 in c:\\programdata\\anaconda3\\envs\\ai_cv\\lib\\site-packages (from Deprecated->fiftyone) (1.17.2)\n",
      "Requirement already satisfied: wcwidth in c:\\programdata\\anaconda3\\envs\\ai_cv\\lib\\site-packages (from ftfy->fiftyone) (0.2.5)\n",
      "Requirement already satisfied: attrs>=19.2.0 in c:\\programdata\\anaconda3\\envs\\ai_cv\\lib\\site-packages (from jsonlines->voxel51-eta<0.15,>=0.14.0->fiftyone) (24.3.0)\n",
      "Requirement already satisfied: contourpy>=1.0.1 in c:\\programdata\\anaconda3\\envs\\ai_cv\\lib\\site-packages (from matplotlib->fiftyone) (1.3.1)\n",
      "Requirement already satisfied: cycler>=0.10 in c:\\programdata\\anaconda3\\envs\\ai_cv\\lib\\site-packages (from matplotlib->fiftyone) (0.11.0)\n",
      "Requirement already satisfied: fonttools>=4.22.0 in c:\\programdata\\anaconda3\\envs\\ai_cv\\lib\\site-packages (from matplotlib->fiftyone) (4.55.3)\n",
      "Requirement already satisfied: kiwisolver>=1.3.1 in c:\\programdata\\anaconda3\\envs\\ai_cv\\lib\\site-packages (from matplotlib->fiftyone) (1.4.8)\n",
      "Requirement already satisfied: pyparsing>=2.3.1 in c:\\programdata\\anaconda3\\envs\\ai_cv\\lib\\site-packages (from matplotlib->fiftyone) (3.2.0)\n",
      "Requirement already satisfied: tzdata>=2022.7 in c:\\programdata\\anaconda3\\envs\\ai_cv\\lib\\site-packages (from pandas->fiftyone) (2025.2)\n",
      "Requirement already satisfied: texttable in c:\\users\\budik\\appdata\\roaming\\python\\python311\\site-packages (from py7zr->voxel51-eta<0.15,>=0.14.0->fiftyone) (1.7.0)\n",
      "Requirement already satisfied: pycryptodomex>=3.20.0 in c:\\users\\budik\\appdata\\roaming\\python\\python311\\site-packages (from py7zr->voxel51-eta<0.15,>=0.14.0->fiftyone) (3.23.0)\n",
      "Requirement already satisfied: brotli>=1.1.0 in c:\\users\\budik\\appdata\\roaming\\python\\python311\\site-packages (from py7zr->voxel51-eta<0.15,>=0.14.0->fiftyone) (1.1.0)\n",
      "Requirement already satisfied: pyzstd>=0.16.1 in c:\\users\\budik\\appdata\\roaming\\python\\python311\\site-packages (from py7zr->voxel51-eta<0.15,>=0.14.0->fiftyone) (0.17.0)\n",
      "Requirement already satisfied: pyppmd<1.3.0,>=1.1.0 in c:\\users\\budik\\appdata\\roaming\\python\\python311\\site-packages (from py7zr->voxel51-eta<0.15,>=0.14.0->fiftyone) (1.2.0)\n",
      "Requirement already satisfied: pybcj<1.1.0,>=1.0.0 in c:\\users\\budik\\appdata\\roaming\\python\\python311\\site-packages (from py7zr->voxel51-eta<0.15,>=0.14.0->fiftyone) (1.0.6)\n",
      "Requirement already satisfied: multivolumefile>=0.2.3 in c:\\users\\budik\\appdata\\roaming\\python\\python311\\site-packages (from py7zr->voxel51-eta<0.15,>=0.14.0->fiftyone) (0.2.3)\n",
      "Requirement already satisfied: inflate64<1.1.0,>=1.0.0 in c:\\users\\budik\\appdata\\roaming\\python\\python311\\site-packages (from py7zr->voxel51-eta<0.15,>=0.14.0->fiftyone) (1.0.3)\n",
      "Requirement already satisfied: charset-normalizer<4,>=2 in c:\\programdata\\anaconda3\\envs\\ai_cv\\lib\\site-packages (from requests->voxel51-eta<0.15,>=0.14.0->fiftyone) (3.3.2)\n",
      "Requirement already satisfied: networkx>=3.0 in c:\\programdata\\anaconda3\\envs\\ai_cv\\lib\\site-packages (from scikit-image->fiftyone) (3.3)\n",
      "Requirement already satisfied: imageio!=2.35.0,>=2.33 in c:\\users\\budik\\appdata\\roaming\\python\\python311\\site-packages (from scikit-image->fiftyone) (2.37.0)\n",
      "Requirement already satisfied: tifffile>=2022.8.12 in c:\\users\\budik\\appdata\\roaming\\python\\python311\\site-packages (from scikit-image->fiftyone) (2025.6.1)\n",
      "Requirement already satisfied: lazy-loader>=0.4 in c:\\users\\budik\\appdata\\roaming\\python\\python311\\site-packages (from scikit-image->fiftyone) (0.4)\n",
      "Requirement already satisfied: joblib>=1.2.0 in c:\\programdata\\anaconda3\\envs\\ai_cv\\lib\\site-packages (from scikit-learn->fiftyone) (1.4.2)\n",
      "Requirement already satisfied: threadpoolctl>=3.1.0 in c:\\programdata\\anaconda3\\envs\\ai_cv\\lib\\site-packages (from scikit-learn->fiftyone) (3.5.0)\n",
      "Requirement already satisfied: colorama in c:\\programdata\\anaconda3\\envs\\ai_cv\\lib\\site-packages (from tqdm->fiftyone) (0.4.6)\n",
      "Defaulting to user installation because normal site-packages is not writeable\n",
      "Requirement already satisfied: ultralytics in c:\\programdata\\anaconda3\\envs\\ai_cv\\lib\\site-packages (8.3.152)\n",
      "Requirement already satisfied: numpy>=1.23.0 in c:\\users\\budik\\appdata\\roaming\\python\\python311\\site-packages (from ultralytics) (1.26.4)\n",
      "Requirement already satisfied: matplotlib>=3.3.0 in c:\\programdata\\anaconda3\\envs\\ai_cv\\lib\\site-packages (from ultralytics) (3.10.0)\n",
      "Requirement already satisfied: opencv-python>=4.6.0 in c:\\programdata\\anaconda3\\envs\\ai_cv\\lib\\site-packages (from ultralytics) (4.11.0.86)\n",
      "Requirement already satisfied: pillow>=7.1.2 in c:\\programdata\\anaconda3\\envs\\ai_cv\\lib\\site-packages (from ultralytics) (11.1.0)\n",
      "Requirement already satisfied: pyyaml>=5.3.1 in c:\\programdata\\anaconda3\\envs\\ai_cv\\lib\\site-packages (from ultralytics) (6.0.2)\n",
      "Requirement already satisfied: requests>=2.23.0 in c:\\programdata\\anaconda3\\envs\\ai_cv\\lib\\site-packages (from ultralytics) (2.32.3)\n",
      "Requirement already satisfied: scipy>=1.4.1 in c:\\programdata\\anaconda3\\envs\\ai_cv\\lib\\site-packages (from ultralytics) (1.15.3)\n",
      "Requirement already satisfied: torch>=1.8.0 in c:\\programdata\\anaconda3\\envs\\ai_cv\\lib\\site-packages (from ultralytics) (2.5.1+cu121)\n",
      "Requirement already satisfied: torchvision>=0.9.0 in c:\\programdata\\anaconda3\\envs\\ai_cv\\lib\\site-packages (from ultralytics) (0.20.1+cu121)\n",
      "Requirement already satisfied: tqdm>=4.64.0 in c:\\users\\budik\\appdata\\roaming\\python\\python311\\site-packages (from ultralytics) (4.67.1)\n",
      "Requirement already satisfied: psutil in c:\\programdata\\anaconda3\\envs\\ai_cv\\lib\\site-packages (from ultralytics) (5.9.0)\n",
      "Requirement already satisfied: py-cpuinfo in c:\\users\\budik\\appdata\\roaming\\python\\python311\\site-packages (from ultralytics) (9.0.0)\n",
      "Requirement already satisfied: pandas>=1.1.4 in c:\\programdata\\anaconda3\\envs\\ai_cv\\lib\\site-packages (from ultralytics) (2.2.3)\n",
      "Requirement already satisfied: ultralytics-thop>=2.0.0 in c:\\programdata\\anaconda3\\envs\\ai_cv\\lib\\site-packages (from ultralytics) (2.0.14)\n",
      "Requirement already satisfied: contourpy>=1.0.1 in c:\\programdata\\anaconda3\\envs\\ai_cv\\lib\\site-packages (from matplotlib>=3.3.0->ultralytics) (1.3.1)\n",
      "Requirement already satisfied: cycler>=0.10 in c:\\programdata\\anaconda3\\envs\\ai_cv\\lib\\site-packages (from matplotlib>=3.3.0->ultralytics) (0.11.0)\n",
      "Requirement already satisfied: fonttools>=4.22.0 in c:\\programdata\\anaconda3\\envs\\ai_cv\\lib\\site-packages (from matplotlib>=3.3.0->ultralytics) (4.55.3)\n",
      "Requirement already satisfied: kiwisolver>=1.3.1 in c:\\programdata\\anaconda3\\envs\\ai_cv\\lib\\site-packages (from matplotlib>=3.3.0->ultralytics) (1.4.8)\n",
      "Requirement already satisfied: packaging>=20.0 in c:\\programdata\\anaconda3\\envs\\ai_cv\\lib\\site-packages (from matplotlib>=3.3.0->ultralytics) (24.2)\n",
      "Requirement already satisfied: pyparsing>=2.3.1 in c:\\programdata\\anaconda3\\envs\\ai_cv\\lib\\site-packages (from matplotlib>=3.3.0->ultralytics) (3.2.0)\n",
      "Requirement already satisfied: python-dateutil>=2.7 in c:\\programdata\\anaconda3\\envs\\ai_cv\\lib\\site-packages (from matplotlib>=3.3.0->ultralytics) (2.9.0.post0)\n",
      "Requirement already satisfied: pytz>=2020.1 in c:\\programdata\\anaconda3\\envs\\ai_cv\\lib\\site-packages (from pandas>=1.1.4->ultralytics) (2024.1)\n",
      "Requirement already satisfied: tzdata>=2022.7 in c:\\programdata\\anaconda3\\envs\\ai_cv\\lib\\site-packages (from pandas>=1.1.4->ultralytics) (2025.2)\n",
      "Requirement already satisfied: six>=1.5 in c:\\programdata\\anaconda3\\envs\\ai_cv\\lib\\site-packages (from python-dateutil>=2.7->matplotlib>=3.3.0->ultralytics) (1.17.0)\n",
      "Requirement already satisfied: charset-normalizer<4,>=2 in c:\\programdata\\anaconda3\\envs\\ai_cv\\lib\\site-packages (from requests>=2.23.0->ultralytics) (3.3.2)\n",
      "Requirement already satisfied: idna<4,>=2.5 in c:\\programdata\\anaconda3\\envs\\ai_cv\\lib\\site-packages (from requests>=2.23.0->ultralytics) (3.7)\n",
      "Requirement already satisfied: urllib3<3,>=1.21.1 in c:\\programdata\\anaconda3\\envs\\ai_cv\\lib\\site-packages (from requests>=2.23.0->ultralytics) (2.3.0)\n",
      "Requirement already satisfied: certifi>=2017.4.17 in c:\\programdata\\anaconda3\\envs\\ai_cv\\lib\\site-packages (from requests>=2.23.0->ultralytics) (2025.6.15)\n",
      "Requirement already satisfied: filelock in c:\\programdata\\anaconda3\\envs\\ai_cv\\lib\\site-packages (from torch>=1.8.0->ultralytics) (3.13.1)\n",
      "Requirement already satisfied: typing-extensions>=4.8.0 in c:\\users\\budik\\appdata\\roaming\\python\\python311\\site-packages (from torch>=1.8.0->ultralytics) (4.14.0)\n",
      "Requirement already satisfied: networkx in c:\\programdata\\anaconda3\\envs\\ai_cv\\lib\\site-packages (from torch>=1.8.0->ultralytics) (3.3)\n",
      "Requirement already satisfied: jinja2 in c:\\programdata\\anaconda3\\envs\\ai_cv\\lib\\site-packages (from torch>=1.8.0->ultralytics) (3.1.6)\n",
      "Requirement already satisfied: fsspec in c:\\programdata\\anaconda3\\envs\\ai_cv\\lib\\site-packages (from torch>=1.8.0->ultralytics) (2024.6.1)\n",
      "Collecting sympy==1.13.1 (from torch>=1.8.0->ultralytics)\n",
      "  Downloading sympy-1.13.1-py3-none-any.whl.metadata (12 kB)\n",
      "Requirement already satisfied: mpmath<1.4,>=1.1.0 in c:\\programdata\\anaconda3\\envs\\ai_cv\\lib\\site-packages (from sympy==1.13.1->torch>=1.8.0->ultralytics) (1.3.0)\n",
      "Requirement already satisfied: colorama in c:\\programdata\\anaconda3\\envs\\ai_cv\\lib\\site-packages (from tqdm>=4.64.0->ultralytics) (0.4.6)\n",
      "Requirement already satisfied: MarkupSafe>=2.0 in c:\\programdata\\anaconda3\\envs\\ai_cv\\lib\\site-packages (from jinja2->torch>=1.8.0->ultralytics) (3.0.2)\n",
      "Downloading sympy-1.13.1-py3-none-any.whl (6.2 MB)\n",
      "   ---------------------------------------- 0.0/6.2 MB ? eta -:--:--\n",
      "   ---------- ----------------------------- 1.6/6.2 MB 11.9 MB/s eta 0:00:01\n",
      "   ------------------------- -------------- 3.9/6.2 MB 11.7 MB/s eta 0:00:01\n",
      "   ---------------------------------------- 6.2/6.2 MB 11.5 MB/s eta 0:00:00\n",
      "Installing collected packages: sympy\n",
      "  Attempting uninstall: sympy\n",
      "    Found existing installation: sympy 1.14.0\n",
      "    Uninstalling sympy-1.14.0:\n",
      "      Successfully uninstalled sympy-1.14.0\n",
      "Successfully installed sympy-1.13.1\n"
     ]
    }
   ],
   "source": [
    "!pip install fiftyone\n",
    "!pip install ultralytics"
   ]
  },
  {
   "cell_type": "code",
   "execution_count": 3,
   "id": "001e122c-5417-4599-85ba-0c54ba66e7b9",
   "metadata": {
    "id": "001e122c-5417-4599-85ba-0c54ba66e7b9"
   },
   "outputs": [],
   "source": [
    "import fiftyone as fo\n",
    "import fiftyone.zoo as foz\n",
    "from fiftyone import ViewField as F\n",
    "\n",
    "import yaml\n",
    "import matplotlib.pyplot as plt\n",
    "import cv2\n",
    "\n",
    "import shutil\n",
    "import torch\n",
    "import torch.nn as nn\n",
    "from ultralytics import YOLO\n",
    "\n",
    "from typing import Dict, Tuple"
   ]
  },
  {
   "cell_type": "markdown",
   "id": "656f0ce7-a702-4e64-b31a-920d54d26d42",
   "metadata": {
    "id": "656f0ce7-a702-4e64-b31a-920d54d26d42"
   },
   "source": [
    "# Dataset"
   ]
  },
  {
   "cell_type": "markdown",
   "id": "185c501b-e99a-4936-9fb2-bf0aac9b3579",
   "metadata": {
    "id": "185c501b-e99a-4936-9fb2-bf0aac9b3579"
   },
   "source": [
    "## Coco-2017\n",
    "<li>dataset: coco-2017</li>\n",
    "<li>label_types: detections, the task is for \"Person\" detection (object detection)</li>\n",
    "<li>classes: [\"person\"], downloaded dataset has person label</li>\n",
    "<li>max_samples: train: 3000, validation: 500, test: 500</li>\n",
    "<li>seed: 42, for data consistency</li>"
   ]
  },
  {
   "cell_type": "code",
   "execution_count": 4,
   "id": "77cc8556-8a8a-43d1-9e09-2e426bbc9b04",
   "metadata": {
    "colab": {
     "base_uri": "https://localhost:8080/"
    },
    "id": "77cc8556-8a8a-43d1-9e09-2e426bbc9b04",
    "outputId": "f8f730ee-40bc-4996-d8cf-7d69d5e2c634"
   },
   "outputs": [
    {
     "name": "stdout",
     "output_type": "stream",
     "text": [
      "Downloading split 'train' to 'C:\\Users\\budik\\fiftyone\\coco-2017\\train' if necessary\n",
      "Found annotations at 'C:\\Users\\budik\\fiftyone\\coco-2017\\raw\\instances_train2017.json'\n",
      "Sufficient images already downloaded\n",
      "Existing download of split 'train' is sufficient\n",
      "You are running the oldest supported major version of MongoDB. Please refer to https://deprecation.voxel51.com for deprecation notices. You can suppress this exception by setting your `database_validation` config parameter to `False`. See https://docs.voxel51.com/user_guide/config.html#configuring-a-mongodb-connection for more information\n",
      "Loading existing dataset 'coco-2017-train-3000'. To reload from disk, either delete the existing dataset or provide a custom `dataset_name` to use\n",
      "Downloading split 'validation' to 'C:\\Users\\budik\\fiftyone\\coco-2017\\validation' if necessary\n",
      "Found annotations at 'C:\\Users\\budik\\fiftyone\\coco-2017\\raw\\instances_val2017.json'\n",
      "Sufficient images already downloaded\n",
      "Existing download of split 'validation' is sufficient\n",
      "Loading existing dataset 'coco-2017-validation-500'. To reload from disk, either delete the existing dataset or provide a custom `dataset_name` to use\n",
      "Downloading split 'test' to 'C:\\Users\\budik\\fiftyone\\coco-2017\\test' if necessary\n",
      "Test split is unlabeled; ignoring classes requirement\n",
      "Found test info at 'C:\\Users\\budik\\fiftyone\\coco-2017\\raw\\image_info_test2017.json'\n",
      "250 images found; downloading the remaining 250\n",
      " 100% |██████████████████| 250/250 [22.2s elapsed, 0s remaining, 13.0 images/s]      \n",
      "Writing annotations for 500 downloaded samples to 'C:\\Users\\budik\\fiftyone\\coco-2017\\test\\labels.json'\n",
      "Dataset info written to 'C:\\Users\\budik\\fiftyone\\coco-2017\\info.json'\n",
      "Loading 'coco-2017' split 'test'\n",
      "Dataset is unlabeled; ignoring classes requirement\n",
      " 100% |█████████████████| 500/500 [156.0ms elapsed, 0s remaining, 3.2K samples/s]   \n",
      "Dataset 'coco-2017-test-500' created\n"
     ]
    }
   ],
   "source": [
    "# Load train split\n",
    "train_dataset = foz.load_zoo_dataset(\n",
    "    \"coco-2017\",\n",
    "    split=\"train\",\n",
    "    label_types=[\"detections\"],\n",
    "    classes=[\"person\"],\n",
    "    max_samples=3000,\n",
    "    seed=42\n",
    ")\n",
    "\n",
    "# Load validation split\n",
    "val_dataset = foz.load_zoo_dataset(\n",
    "    \"coco-2017\",\n",
    "    split=\"validation\",\n",
    "    label_types=[\"detections\"],\n",
    "    classes=[\"person\"],\n",
    "    max_samples=500,\n",
    "    seed=42\n",
    ")\n",
    "\n",
    "# Load test split\n",
    "test_dataset = foz.load_zoo_dataset(\n",
    "    \"coco-2017\",\n",
    "    split=\"test\",\n",
    "    label_types=[\"detections\"],\n",
    "    classes=[\"person\"],\n",
    "    max_samples=500,\n",
    "    seed=42\n",
    ")\n"
   ]
  },
  {
   "cell_type": "code",
   "execution_count": 5,
   "id": "3bca078a-8c9d-438c-b75b-6c40662f0efd",
   "metadata": {
    "id": "3bca078a-8c9d-438c-b75b-6c40662f0efd"
   },
   "outputs": [],
   "source": [
    "# Tag samples in the original datasets before merging\n",
    "for sample in train_dataset:\n",
    "    sample.tags.append(\"train\")\n",
    "    sample.save()\n",
    "\n",
    "for sample in val_dataset:\n",
    "    sample.tags.append(\"validation\")\n",
    "    sample.save()\n",
    "\n",
    "for sample in test_dataset:\n",
    "    sample.tags.append(\"test\")\n",
    "    sample.save()"
   ]
  },
  {
   "cell_type": "code",
   "execution_count": 6,
   "id": "31e6c36e-8114-48c0-a0a1-f694bf2a3580",
   "metadata": {
    "colab": {
     "base_uri": "https://localhost:8080/"
    },
    "id": "31e6c36e-8114-48c0-a0a1-f694bf2a3580",
    "outputId": "6c84d869-3826-41e4-e960-4b490778830c"
   },
   "outputs": [
    {
     "name": "stdout",
     "output_type": "stream",
     "text": [
      "Dataset 'coco-2017-person-combined' already exists. Deleting it to create a new one.\n",
      "Creating a new dataset 'coco-2017-person-combined'.\n",
      " 100% |███████████████| 3000/3000 [9.5s elapsed, 0s remaining, 344.1 samples/s]       \n",
      " 100% |█████████████████| 500/500 [1.5s elapsed, 0s remaining, 336.0 samples/s]         \n",
      " 100% |█████████████████| 500/500 [204.1ms elapsed, 0s remaining, 2.5K samples/s]  \n"
     ]
    },
    {
     "data": {
      "text/plain": [
       "['68580bb323b1bc3a7b72107b',\n",
       " '68580bb323b1bc3a7b72107c',\n",
       " '68580bb323b1bc3a7b72107d',\n",
       " '68580bb323b1bc3a7b72107e',\n",
       " '68580bb323b1bc3a7b72107f',\n",
       " '68580bb323b1bc3a7b721080',\n",
       " '68580bb323b1bc3a7b721081',\n",
       " '68580bb323b1bc3a7b721082',\n",
       " '68580bb323b1bc3a7b721083',\n",
       " '68580bb323b1bc3a7b721084',\n",
       " '68580bb323b1bc3a7b721085',\n",
       " '68580bb323b1bc3a7b721086',\n",
       " '68580bb323b1bc3a7b721087',\n",
       " '68580bb323b1bc3a7b721088',\n",
       " '68580bb323b1bc3a7b721089',\n",
       " '68580bb323b1bc3a7b72108a',\n",
       " '68580bb323b1bc3a7b72108b',\n",
       " '68580bb323b1bc3a7b72108c',\n",
       " '68580bb323b1bc3a7b72108d',\n",
       " '68580bb323b1bc3a7b72108e',\n",
       " '68580bb323b1bc3a7b72108f',\n",
       " '68580bb323b1bc3a7b721090',\n",
       " '68580bb323b1bc3a7b721091',\n",
       " '68580bb323b1bc3a7b721092',\n",
       " '68580bb323b1bc3a7b721093',\n",
       " '68580bb323b1bc3a7b721094',\n",
       " '68580bb323b1bc3a7b721095',\n",
       " '68580bb323b1bc3a7b721096',\n",
       " '68580bb323b1bc3a7b721097',\n",
       " '68580bb323b1bc3a7b721098',\n",
       " '68580bb323b1bc3a7b721099',\n",
       " '68580bb323b1bc3a7b72109a',\n",
       " '68580bb323b1bc3a7b72109b',\n",
       " '68580bb323b1bc3a7b72109c',\n",
       " '68580bb323b1bc3a7b72109d',\n",
       " '68580bb323b1bc3a7b72109e',\n",
       " '68580bb323b1bc3a7b72109f',\n",
       " '68580bb323b1bc3a7b7210a0',\n",
       " '68580bb323b1bc3a7b7210a1',\n",
       " '68580bb323b1bc3a7b7210a2',\n",
       " '68580bb323b1bc3a7b7210a3',\n",
       " '68580bb323b1bc3a7b7210a4',\n",
       " '68580bb323b1bc3a7b7210a5',\n",
       " '68580bb323b1bc3a7b7210a6',\n",
       " '68580bb323b1bc3a7b7210a7',\n",
       " '68580bb323b1bc3a7b7210a8',\n",
       " '68580bb323b1bc3a7b7210a9',\n",
       " '68580bb323b1bc3a7b7210aa',\n",
       " '68580bb323b1bc3a7b7210ab',\n",
       " '68580bb323b1bc3a7b7210ac',\n",
       " '68580bb323b1bc3a7b7210ad',\n",
       " '68580bb323b1bc3a7b7210ae',\n",
       " '68580bb323b1bc3a7b7210af',\n",
       " '68580bb323b1bc3a7b7210b0',\n",
       " '68580bb323b1bc3a7b7210b1',\n",
       " '68580bb323b1bc3a7b7210b2',\n",
       " '68580bb323b1bc3a7b7210b3',\n",
       " '68580bb323b1bc3a7b7210b4',\n",
       " '68580bb323b1bc3a7b7210b5',\n",
       " '68580bb323b1bc3a7b7210b6',\n",
       " '68580bb323b1bc3a7b7210b7',\n",
       " '68580bb323b1bc3a7b7210b8',\n",
       " '68580bb323b1bc3a7b7210b9',\n",
       " '68580bb323b1bc3a7b7210ba',\n",
       " '68580bb323b1bc3a7b7210bb',\n",
       " '68580bb323b1bc3a7b7210bc',\n",
       " '68580bb323b1bc3a7b7210bd',\n",
       " '68580bb323b1bc3a7b7210be',\n",
       " '68580bb323b1bc3a7b7210bf',\n",
       " '68580bb323b1bc3a7b7210c0',\n",
       " '68580bb323b1bc3a7b7210c1',\n",
       " '68580bb323b1bc3a7b7210c2',\n",
       " '68580bb323b1bc3a7b7210c3',\n",
       " '68580bb323b1bc3a7b7210c4',\n",
       " '68580bb323b1bc3a7b7210c5',\n",
       " '68580bb323b1bc3a7b7210c6',\n",
       " '68580bb323b1bc3a7b7210c7',\n",
       " '68580bb323b1bc3a7b7210c8',\n",
       " '68580bb323b1bc3a7b7210c9',\n",
       " '68580bb323b1bc3a7b7210ca',\n",
       " '68580bb323b1bc3a7b7210cb',\n",
       " '68580bb323b1bc3a7b7210cc',\n",
       " '68580bb323b1bc3a7b7210cd',\n",
       " '68580bb323b1bc3a7b7210ce',\n",
       " '68580bb323b1bc3a7b7210cf',\n",
       " '68580bb323b1bc3a7b7210d0',\n",
       " '68580bb323b1bc3a7b7210d1',\n",
       " '68580bb323b1bc3a7b7210d2',\n",
       " '68580bb323b1bc3a7b7210d3',\n",
       " '68580bb323b1bc3a7b7210d4',\n",
       " '68580bb323b1bc3a7b7210d5',\n",
       " '68580bb323b1bc3a7b7210d6',\n",
       " '68580bb323b1bc3a7b7210d7',\n",
       " '68580bb323b1bc3a7b7210d8',\n",
       " '68580bb323b1bc3a7b7210d9',\n",
       " '68580bb323b1bc3a7b7210da',\n",
       " '68580bb323b1bc3a7b7210db',\n",
       " '68580bb323b1bc3a7b7210dc',\n",
       " '68580bb323b1bc3a7b7210dd',\n",
       " '68580bb323b1bc3a7b7210de',\n",
       " '68580bb323b1bc3a7b7210df',\n",
       " '68580bb323b1bc3a7b7210e0',\n",
       " '68580bb323b1bc3a7b7210e1',\n",
       " '68580bb323b1bc3a7b7210e2',\n",
       " '68580bb323b1bc3a7b7210e3',\n",
       " '68580bb323b1bc3a7b7210e4',\n",
       " '68580bb323b1bc3a7b7210e5',\n",
       " '68580bb323b1bc3a7b7210e6',\n",
       " '68580bb323b1bc3a7b7210e7',\n",
       " '68580bb323b1bc3a7b7210e8',\n",
       " '68580bb323b1bc3a7b7210e9',\n",
       " '68580bb323b1bc3a7b7210ea',\n",
       " '68580bb323b1bc3a7b7210eb',\n",
       " '68580bb323b1bc3a7b7210ec',\n",
       " '68580bb323b1bc3a7b7210ed',\n",
       " '68580bb323b1bc3a7b7210ee',\n",
       " '68580bb323b1bc3a7b7210ef',\n",
       " '68580bb323b1bc3a7b7210f0',\n",
       " '68580bb323b1bc3a7b7210f1',\n",
       " '68580bb323b1bc3a7b7210f2',\n",
       " '68580bb323b1bc3a7b7210f3',\n",
       " '68580bb323b1bc3a7b7210f4',\n",
       " '68580bb323b1bc3a7b7210f5',\n",
       " '68580bb323b1bc3a7b7210f6',\n",
       " '68580bb323b1bc3a7b7210f7',\n",
       " '68580bb323b1bc3a7b7210f8',\n",
       " '68580bb323b1bc3a7b7210f9',\n",
       " '68580bb323b1bc3a7b7210fa',\n",
       " '68580bb323b1bc3a7b7210fb',\n",
       " '68580bb323b1bc3a7b7210fc',\n",
       " '68580bb323b1bc3a7b7210fd',\n",
       " '68580bb323b1bc3a7b7210fe',\n",
       " '68580bb323b1bc3a7b7210ff',\n",
       " '68580bb323b1bc3a7b721100',\n",
       " '68580bb323b1bc3a7b721101',\n",
       " '68580bb323b1bc3a7b721102',\n",
       " '68580bb323b1bc3a7b721103',\n",
       " '68580bb323b1bc3a7b721104',\n",
       " '68580bb323b1bc3a7b721105',\n",
       " '68580bb323b1bc3a7b721106',\n",
       " '68580bb323b1bc3a7b721107',\n",
       " '68580bb323b1bc3a7b721108',\n",
       " '68580bb323b1bc3a7b721109',\n",
       " '68580bb323b1bc3a7b72110a',\n",
       " '68580bb323b1bc3a7b72110b',\n",
       " '68580bb323b1bc3a7b72110c',\n",
       " '68580bb323b1bc3a7b72110d',\n",
       " '68580bb323b1bc3a7b72110e',\n",
       " '68580bb323b1bc3a7b72110f',\n",
       " '68580bb323b1bc3a7b721110',\n",
       " '68580bb323b1bc3a7b721111',\n",
       " '68580bb323b1bc3a7b721112',\n",
       " '68580bb323b1bc3a7b721113',\n",
       " '68580bb323b1bc3a7b721114',\n",
       " '68580bb323b1bc3a7b721115',\n",
       " '68580bb323b1bc3a7b721116',\n",
       " '68580bb323b1bc3a7b721117',\n",
       " '68580bb323b1bc3a7b721118',\n",
       " '68580bb323b1bc3a7b721119',\n",
       " '68580bb323b1bc3a7b72111a',\n",
       " '68580bb323b1bc3a7b72111b',\n",
       " '68580bb323b1bc3a7b72111c',\n",
       " '68580bb323b1bc3a7b72111d',\n",
       " '68580bb323b1bc3a7b72111e',\n",
       " '68580bb323b1bc3a7b72111f',\n",
       " '68580bb323b1bc3a7b721120',\n",
       " '68580bb323b1bc3a7b721121',\n",
       " '68580bb323b1bc3a7b721122',\n",
       " '68580bb323b1bc3a7b721123',\n",
       " '68580bb323b1bc3a7b721124',\n",
       " '68580bb323b1bc3a7b721125',\n",
       " '68580bb323b1bc3a7b721126',\n",
       " '68580bb323b1bc3a7b721127',\n",
       " '68580bb323b1bc3a7b721128',\n",
       " '68580bb323b1bc3a7b721129',\n",
       " '68580bb323b1bc3a7b72112a',\n",
       " '68580bb323b1bc3a7b72112b',\n",
       " '68580bb323b1bc3a7b72112c',\n",
       " '68580bb323b1bc3a7b72112d',\n",
       " '68580bb323b1bc3a7b72112e',\n",
       " '68580bb323b1bc3a7b72112f',\n",
       " '68580bb323b1bc3a7b721130',\n",
       " '68580bb323b1bc3a7b721131',\n",
       " '68580bb323b1bc3a7b721132',\n",
       " '68580bb323b1bc3a7b721133',\n",
       " '68580bb323b1bc3a7b721134',\n",
       " '68580bb323b1bc3a7b721135',\n",
       " '68580bb323b1bc3a7b721136',\n",
       " '68580bb323b1bc3a7b721137',\n",
       " '68580bb323b1bc3a7b721138',\n",
       " '68580bb323b1bc3a7b721139',\n",
       " '68580bb323b1bc3a7b72113a',\n",
       " '68580bb323b1bc3a7b72113b',\n",
       " '68580bb323b1bc3a7b72113c',\n",
       " '68580bb323b1bc3a7b72113d',\n",
       " '68580bb323b1bc3a7b72113e',\n",
       " '68580bb323b1bc3a7b72113f',\n",
       " '68580bb323b1bc3a7b721140',\n",
       " '68580bb323b1bc3a7b721141',\n",
       " '68580bb323b1bc3a7b721142',\n",
       " '68580bb323b1bc3a7b721143',\n",
       " '68580bb323b1bc3a7b721144',\n",
       " '68580bb323b1bc3a7b721145',\n",
       " '68580bb323b1bc3a7b721146',\n",
       " '68580bb323b1bc3a7b721147',\n",
       " '68580bb323b1bc3a7b721148',\n",
       " '68580bb323b1bc3a7b721149',\n",
       " '68580bb323b1bc3a7b72114a',\n",
       " '68580bb323b1bc3a7b72114b',\n",
       " '68580bb323b1bc3a7b72114c',\n",
       " '68580bb323b1bc3a7b72114d',\n",
       " '68580bb323b1bc3a7b72114e',\n",
       " '68580bb323b1bc3a7b72114f',\n",
       " '68580bb323b1bc3a7b721150',\n",
       " '68580bb323b1bc3a7b721151',\n",
       " '68580bb323b1bc3a7b721152',\n",
       " '68580bb323b1bc3a7b721153',\n",
       " '68580bb323b1bc3a7b721154',\n",
       " '68580bb323b1bc3a7b721155',\n",
       " '68580bb323b1bc3a7b721156',\n",
       " '68580bb323b1bc3a7b721157',\n",
       " '68580bb323b1bc3a7b721158',\n",
       " '68580bb323b1bc3a7b721159',\n",
       " '68580bb323b1bc3a7b72115a',\n",
       " '68580bb323b1bc3a7b72115b',\n",
       " '68580bb323b1bc3a7b72115c',\n",
       " '68580bb323b1bc3a7b72115d',\n",
       " '68580bb323b1bc3a7b72115e',\n",
       " '68580bb323b1bc3a7b72115f',\n",
       " '68580bb323b1bc3a7b721160',\n",
       " '68580bb323b1bc3a7b721161',\n",
       " '68580bb323b1bc3a7b721162',\n",
       " '68580bb323b1bc3a7b721163',\n",
       " '68580bb323b1bc3a7b721164',\n",
       " '68580bb323b1bc3a7b721165',\n",
       " '68580bb323b1bc3a7b721166',\n",
       " '68580bb323b1bc3a7b721167',\n",
       " '68580bb323b1bc3a7b721168',\n",
       " '68580bb323b1bc3a7b721169',\n",
       " '68580bb323b1bc3a7b72116a',\n",
       " '68580bb323b1bc3a7b72116b',\n",
       " '68580bb323b1bc3a7b72116c',\n",
       " '68580bb323b1bc3a7b72116d',\n",
       " '68580bb323b1bc3a7b72116e',\n",
       " '68580bb323b1bc3a7b72116f',\n",
       " '68580bb323b1bc3a7b721170',\n",
       " '68580bb323b1bc3a7b721171',\n",
       " '68580bb323b1bc3a7b721172',\n",
       " '68580bb323b1bc3a7b721173',\n",
       " '68580bb323b1bc3a7b721174',\n",
       " '68580bb323b1bc3a7b721175',\n",
       " '68580bb323b1bc3a7b721176',\n",
       " '68580bb323b1bc3a7b721177',\n",
       " '68580bb323b1bc3a7b721178',\n",
       " '68580bb323b1bc3a7b721179',\n",
       " '68580bb323b1bc3a7b72117a',\n",
       " '68580bb323b1bc3a7b72117b',\n",
       " '68580bb323b1bc3a7b72117c',\n",
       " '68580bb323b1bc3a7b72117d',\n",
       " '68580bb323b1bc3a7b72117e',\n",
       " '68580bb323b1bc3a7b72117f',\n",
       " '68580bb323b1bc3a7b721180',\n",
       " '68580bb323b1bc3a7b721181',\n",
       " '68580bb323b1bc3a7b721182',\n",
       " '68580bb323b1bc3a7b721183',\n",
       " '68580bb323b1bc3a7b721184',\n",
       " '68580bb323b1bc3a7b721185',\n",
       " '68580bb323b1bc3a7b721186',\n",
       " '68580bb323b1bc3a7b721187',\n",
       " '68580bb323b1bc3a7b721188',\n",
       " '68580bb323b1bc3a7b721189',\n",
       " '68580bb323b1bc3a7b72118a',\n",
       " '68580bb323b1bc3a7b72118b',\n",
       " '68580bb323b1bc3a7b72118c',\n",
       " '68580bb323b1bc3a7b72118d',\n",
       " '68580bb323b1bc3a7b72118e',\n",
       " '68580bb323b1bc3a7b72118f',\n",
       " '68580bb323b1bc3a7b721190',\n",
       " '68580bb323b1bc3a7b721191',\n",
       " '68580bb323b1bc3a7b721192',\n",
       " '68580bb323b1bc3a7b721193',\n",
       " '68580bb323b1bc3a7b721194',\n",
       " '68580bb323b1bc3a7b721195',\n",
       " '68580bb323b1bc3a7b721196',\n",
       " '68580bb323b1bc3a7b721197',\n",
       " '68580bb323b1bc3a7b721198',\n",
       " '68580bb323b1bc3a7b721199',\n",
       " '68580bb323b1bc3a7b72119a',\n",
       " '68580bb323b1bc3a7b72119b',\n",
       " '68580bb323b1bc3a7b72119c',\n",
       " '68580bb323b1bc3a7b72119d',\n",
       " '68580bb323b1bc3a7b72119e',\n",
       " '68580bb323b1bc3a7b72119f',\n",
       " '68580bb323b1bc3a7b7211a0',\n",
       " '68580bb323b1bc3a7b7211a1',\n",
       " '68580bb323b1bc3a7b7211a2',\n",
       " '68580bb323b1bc3a7b7211a3',\n",
       " '68580bb323b1bc3a7b7211a4',\n",
       " '68580bb323b1bc3a7b7211a5',\n",
       " '68580bb323b1bc3a7b7211a6',\n",
       " '68580bb323b1bc3a7b7211a7',\n",
       " '68580bb323b1bc3a7b7211a8',\n",
       " '68580bb323b1bc3a7b7211a9',\n",
       " '68580bb323b1bc3a7b7211aa',\n",
       " '68580bb323b1bc3a7b7211ab',\n",
       " '68580bb323b1bc3a7b7211ac',\n",
       " '68580bb323b1bc3a7b7211ad',\n",
       " '68580bb323b1bc3a7b7211ae',\n",
       " '68580bb323b1bc3a7b7211af',\n",
       " '68580bb323b1bc3a7b7211b0',\n",
       " '68580bb323b1bc3a7b7211b1',\n",
       " '68580bb323b1bc3a7b7211b2',\n",
       " '68580bb323b1bc3a7b7211b3',\n",
       " '68580bb323b1bc3a7b7211b4',\n",
       " '68580bb323b1bc3a7b7211b5',\n",
       " '68580bb323b1bc3a7b7211b6',\n",
       " '68580bb323b1bc3a7b7211b7',\n",
       " '68580bb323b1bc3a7b7211b8',\n",
       " '68580bb323b1bc3a7b7211b9',\n",
       " '68580bb323b1bc3a7b7211ba',\n",
       " '68580bb323b1bc3a7b7211bb',\n",
       " '68580bb323b1bc3a7b7211bc',\n",
       " '68580bb323b1bc3a7b7211bd',\n",
       " '68580bb323b1bc3a7b7211be',\n",
       " '68580bb323b1bc3a7b7211bf',\n",
       " '68580bb323b1bc3a7b7211c0',\n",
       " '68580bb323b1bc3a7b7211c1',\n",
       " '68580bb323b1bc3a7b7211c2',\n",
       " '68580bb323b1bc3a7b7211c3',\n",
       " '68580bb323b1bc3a7b7211c4',\n",
       " '68580bb323b1bc3a7b7211c5',\n",
       " '68580bb323b1bc3a7b7211c6',\n",
       " '68580bb323b1bc3a7b7211c7',\n",
       " '68580bb323b1bc3a7b7211c8',\n",
       " '68580bb323b1bc3a7b7211c9',\n",
       " '68580bb323b1bc3a7b7211ca',\n",
       " '68580bb323b1bc3a7b7211cb',\n",
       " '68580bb323b1bc3a7b7211cc',\n",
       " '68580bb323b1bc3a7b7211cd',\n",
       " '68580bb323b1bc3a7b7211ce',\n",
       " '68580bb323b1bc3a7b7211cf',\n",
       " '68580bb323b1bc3a7b7211d0',\n",
       " '68580bb323b1bc3a7b7211d1',\n",
       " '68580bb323b1bc3a7b7211d2',\n",
       " '68580bb323b1bc3a7b7211d3',\n",
       " '68580bb323b1bc3a7b7211d4',\n",
       " '68580bb323b1bc3a7b7211d5',\n",
       " '68580bb323b1bc3a7b7211d6',\n",
       " '68580bb323b1bc3a7b7211d7',\n",
       " '68580bb323b1bc3a7b7211d8',\n",
       " '68580bb323b1bc3a7b7211d9',\n",
       " '68580bb323b1bc3a7b7211da',\n",
       " '68580bb323b1bc3a7b7211db',\n",
       " '68580bb323b1bc3a7b7211dc',\n",
       " '68580bb323b1bc3a7b7211dd',\n",
       " '68580bb323b1bc3a7b7211de',\n",
       " '68580bb323b1bc3a7b7211df',\n",
       " '68580bb323b1bc3a7b7211e0',\n",
       " '68580bb323b1bc3a7b7211e1',\n",
       " '68580bb323b1bc3a7b7211e2',\n",
       " '68580bb323b1bc3a7b7211e3',\n",
       " '68580bb323b1bc3a7b7211e4',\n",
       " '68580bb323b1bc3a7b7211e5',\n",
       " '68580bb323b1bc3a7b7211e6',\n",
       " '68580bb323b1bc3a7b7211e7',\n",
       " '68580bb323b1bc3a7b7211e8',\n",
       " '68580bb323b1bc3a7b7211e9',\n",
       " '68580bb323b1bc3a7b7211ea',\n",
       " '68580bb323b1bc3a7b7211eb',\n",
       " '68580bb323b1bc3a7b7211ec',\n",
       " '68580bb323b1bc3a7b7211ed',\n",
       " '68580bb323b1bc3a7b7211ee',\n",
       " '68580bb323b1bc3a7b7211ef',\n",
       " '68580bb323b1bc3a7b7211f0',\n",
       " '68580bb323b1bc3a7b7211f1',\n",
       " '68580bb323b1bc3a7b7211f2',\n",
       " '68580bb323b1bc3a7b7211f3',\n",
       " '68580bb323b1bc3a7b7211f4',\n",
       " '68580bb323b1bc3a7b7211f5',\n",
       " '68580bb323b1bc3a7b7211f6',\n",
       " '68580bb323b1bc3a7b7211f7',\n",
       " '68580bb323b1bc3a7b7211f8',\n",
       " '68580bb323b1bc3a7b7211f9',\n",
       " '68580bb323b1bc3a7b7211fa',\n",
       " '68580bb323b1bc3a7b7211fb',\n",
       " '68580bb323b1bc3a7b7211fc',\n",
       " '68580bb323b1bc3a7b7211fd',\n",
       " '68580bb323b1bc3a7b7211fe',\n",
       " '68580bb323b1bc3a7b7211ff',\n",
       " '68580bb323b1bc3a7b721200',\n",
       " '68580bb323b1bc3a7b721201',\n",
       " '68580bb323b1bc3a7b721202',\n",
       " '68580bb323b1bc3a7b721203',\n",
       " '68580bb323b1bc3a7b721204',\n",
       " '68580bb323b1bc3a7b721205',\n",
       " '68580bb323b1bc3a7b721206',\n",
       " '68580bb323b1bc3a7b721207',\n",
       " '68580bb323b1bc3a7b721208',\n",
       " '68580bb323b1bc3a7b721209',\n",
       " '68580bb323b1bc3a7b72120a',\n",
       " '68580bb323b1bc3a7b72120b',\n",
       " '68580bb323b1bc3a7b72120c',\n",
       " '68580bb323b1bc3a7b72120d',\n",
       " '68580bb323b1bc3a7b72120e',\n",
       " '68580bb323b1bc3a7b72120f',\n",
       " '68580bb323b1bc3a7b721210',\n",
       " '68580bb323b1bc3a7b721211',\n",
       " '68580bb323b1bc3a7b721212',\n",
       " '68580bb323b1bc3a7b721213',\n",
       " '68580bb323b1bc3a7b721214',\n",
       " '68580bb323b1bc3a7b721215',\n",
       " '68580bb323b1bc3a7b721216',\n",
       " '68580bb323b1bc3a7b721217',\n",
       " '68580bb323b1bc3a7b721218',\n",
       " '68580bb323b1bc3a7b721219',\n",
       " '68580bb323b1bc3a7b72121a',\n",
       " '68580bb323b1bc3a7b72121b',\n",
       " '68580bb323b1bc3a7b72121c',\n",
       " '68580bb323b1bc3a7b72121d',\n",
       " '68580bb323b1bc3a7b72121e',\n",
       " '68580bb323b1bc3a7b72121f',\n",
       " '68580bb323b1bc3a7b721220',\n",
       " '68580bb323b1bc3a7b721221',\n",
       " '68580bb323b1bc3a7b721222',\n",
       " '68580bb323b1bc3a7b721223',\n",
       " '68580bb323b1bc3a7b721224',\n",
       " '68580bb323b1bc3a7b721225',\n",
       " '68580bb323b1bc3a7b721226',\n",
       " '68580bb323b1bc3a7b721227',\n",
       " '68580bb323b1bc3a7b721228',\n",
       " '68580bb323b1bc3a7b721229',\n",
       " '68580bb323b1bc3a7b72122a',\n",
       " '68580bb323b1bc3a7b72122b',\n",
       " '68580bb323b1bc3a7b72122c',\n",
       " '68580bb323b1bc3a7b72122d',\n",
       " '68580bb323b1bc3a7b72122e',\n",
       " '68580bb323b1bc3a7b72122f',\n",
       " '68580bb323b1bc3a7b721230',\n",
       " '68580bb323b1bc3a7b721231',\n",
       " '68580bb323b1bc3a7b721232',\n",
       " '68580bb323b1bc3a7b721233',\n",
       " '68580bb323b1bc3a7b721234',\n",
       " '68580bb323b1bc3a7b721235',\n",
       " '68580bb323b1bc3a7b721236',\n",
       " '68580bb323b1bc3a7b721237',\n",
       " '68580bb323b1bc3a7b721238',\n",
       " '68580bb323b1bc3a7b721239',\n",
       " '68580bb323b1bc3a7b72123a',\n",
       " '68580bb323b1bc3a7b72123b',\n",
       " '68580bb323b1bc3a7b72123c',\n",
       " '68580bb323b1bc3a7b72123d',\n",
       " '68580bb323b1bc3a7b72123e',\n",
       " '68580bb323b1bc3a7b72123f',\n",
       " '68580bb323b1bc3a7b721240',\n",
       " '68580bb323b1bc3a7b721241',\n",
       " '68580bb323b1bc3a7b721242',\n",
       " '68580bb323b1bc3a7b721243',\n",
       " '68580bb323b1bc3a7b721244',\n",
       " '68580bb323b1bc3a7b721245',\n",
       " '68580bb323b1bc3a7b721246',\n",
       " '68580bb323b1bc3a7b721247',\n",
       " '68580bb323b1bc3a7b721248',\n",
       " '68580bb323b1bc3a7b721249',\n",
       " '68580bb323b1bc3a7b72124a',\n",
       " '68580bb323b1bc3a7b72124b',\n",
       " '68580bb323b1bc3a7b72124c',\n",
       " '68580bb323b1bc3a7b72124d',\n",
       " '68580bb323b1bc3a7b72124e',\n",
       " '68580bb323b1bc3a7b72124f',\n",
       " '68580bb323b1bc3a7b721250',\n",
       " '68580bb323b1bc3a7b721251',\n",
       " '68580bb323b1bc3a7b721252',\n",
       " '68580bb323b1bc3a7b721253',\n",
       " '68580bb323b1bc3a7b721254',\n",
       " '68580bb323b1bc3a7b721255',\n",
       " '68580bb323b1bc3a7b721256',\n",
       " '68580bb323b1bc3a7b721257',\n",
       " '68580bb323b1bc3a7b721258',\n",
       " '68580bb323b1bc3a7b721259',\n",
       " '68580bb323b1bc3a7b72125a',\n",
       " '68580bb323b1bc3a7b72125b',\n",
       " '68580bb323b1bc3a7b72125c',\n",
       " '68580bb323b1bc3a7b72125d',\n",
       " '68580bb323b1bc3a7b72125e',\n",
       " '68580bb323b1bc3a7b72125f',\n",
       " '68580bb323b1bc3a7b721260',\n",
       " '68580bb323b1bc3a7b721261',\n",
       " '68580bb323b1bc3a7b721262',\n",
       " '68580bb323b1bc3a7b721263',\n",
       " '68580bb323b1bc3a7b721264',\n",
       " '68580bb323b1bc3a7b721265',\n",
       " '68580bb323b1bc3a7b721266',\n",
       " '68580bb323b1bc3a7b721267',\n",
       " '68580bb323b1bc3a7b721268',\n",
       " '68580bb323b1bc3a7b721269',\n",
       " '68580bb323b1bc3a7b72126a',\n",
       " '68580bb323b1bc3a7b72126b',\n",
       " '68580bb323b1bc3a7b72126c',\n",
       " '68580bb323b1bc3a7b72126d',\n",
       " '68580bb323b1bc3a7b72126e']"
      ]
     },
     "execution_count": 6,
     "metadata": {},
     "output_type": "execute_result"
    }
   ],
   "source": [
    "dataset_name = \"coco-2017-person-combined\"\n",
    "\n",
    "if fo.dataset_exists(dataset_name):\n",
    "    print(f\"Dataset '{dataset_name}' already exists. Deleting it to create a new one.\")\n",
    "    fo.delete_dataset(dataset_name)\n",
    "\n",
    "print(f\"Creating a new dataset '{dataset_name}'.\")\n",
    "combined_dataset = fo.Dataset(dataset_name)\n",
    "combined_dataset.add_samples(train_dataset)\n",
    "combined_dataset.add_samples(val_dataset)\n",
    "combined_dataset.add_samples(test_dataset)"
   ]
  },
  {
   "cell_type": "code",
   "execution_count": 7,
   "id": "0ea61e44-1fb1-4b42-8368-4b89aaa0e90f",
   "metadata": {
    "colab": {
     "base_uri": "https://localhost:8080/"
    },
    "id": "0ea61e44-1fb1-4b42-8368-4b89aaa0e90f",
    "outputId": "b512f0fb-57e2-4f35-a501-6b38e9dce54f"
   },
   "outputs": [
    {
     "name": "stdout",
     "output_type": "stream",
     "text": [
      "Found 3500 samples with persons\n"
     ]
    }
   ],
   "source": [
    "\n",
    "# Filter only \"person\" annotations\n",
    "person_view = combined_dataset.filter_labels(\"ground_truth\", F(\"label\") == \"person\")\n",
    "\n",
    "# Verify\n",
    "print(f\"Found {len(person_view)} samples with persons\")"
   ]
  },
  {
   "cell_type": "code",
   "execution_count": 8,
   "id": "e4cc045b-3233-4556-bf43-d3767f9e4d61",
   "metadata": {
    "colab": {
     "base_uri": "https://localhost:8080/"
    },
    "id": "e4cc045b-3233-4556-bf43-d3767f9e4d61",
    "outputId": "9f761f0a-eac4-4229-e540-92e86a4c1081"
   },
   "outputs": [
    {
     "name": "stdout",
     "output_type": "stream",
     "text": [
      " 100% |███████████████| 3000/3000 [12.2s elapsed, 0s remaining, 196.7 samples/s]      \n",
      " 100% |█████████████████| 500/500 [1.4s elapsed, 0s remaining, 350.6 samples/s]         \n",
      " 100% |█████████████████████| 0/0 [4.3ms elapsed, ? remaining, ? samples/s] \n"
     ]
    }
   ],
   "source": [
    "import os\n",
    "# ----------------------\n",
    "# 2. Export in YOLO Format\n",
    "# ----------------------\n",
    "export_dir = \"./yolo_person_dataset\"\n",
    "split_map = {\"train\": \"train\", \"validation\": \"val\", \"test\": \"test\"}  # Map FiftyOne splits to YOLO splits\n",
    "\n",
    "# Export filtered dataset\n",
    "for split in split_map.keys():\n",
    "    split_view = person_view.match_tags(split)\n",
    "    split_view.export(\n",
    "        export_dir=os.path.join(export_dir, split_map[split]),\n",
    "        dataset_type=fo.types.YOLOv5Dataset,\n",
    "        label_field=\"ground_truth\",\n",
    "        classes=[\"person\"]  # Only export 'person' class\n",
    "    )\n"
   ]
  },
  {
   "cell_type": "code",
   "execution_count": 9,
   "id": "6dedfbc0-08bd-4045-99a9-e08bb48fa6e0",
   "metadata": {
    "id": "6dedfbc0-08bd-4045-99a9-e08bb48fa6e0"
   },
   "outputs": [],
   "source": [
    "\n",
    "# ----------------------\n",
    "# 3. Create dataset.yaml\n",
    "# ----------------------\n",
    "yolo_config = {\n",
    "    \"path\": os.path.abspath(export_dir),\n",
    "    \"train\": \"train/images\",\n",
    "    \"val\": \"val/images\",\n",
    "    \"nc\": 1,\n",
    "    \"names\": [\"person\"]\n",
    "}\n",
    "\n",
    "with open(os.path.join(export_dir, \"dataset.yaml\"), \"w\") as f:\n",
    "    yaml.dump(yolo_config, f)\n"
   ]
  },
  {
   "cell_type": "markdown",
   "id": "4c5f2fa9-3841-412c-81b1-b9bfa67e437e",
   "metadata": {},
   "source": [
    "# Model-1: PreTrained Yolo11n"
   ]
  },
  {
   "cell_type": "code",
   "execution_count": 31,
   "id": "268353bb-e763-45b2-87a9-61061bc4f97e",
   "metadata": {},
   "outputs": [],
   "source": [
    "def print_trainable_layers(model):\n",
    "    print(\"Trainable layers:\")\n",
    "    for name, param in model.named_parameters():\n",
    "        if param.requires_grad:\n",
    "            print(f\" - {name}\")\n",
    "\n",
    "def print_frozen_layers(model):\n",
    "    print(\"Frozen layers:\")\n",
    "    for name, param in model.named_parameters():\n",
    "        if not param.requires_grad:\n",
    "            print(f\" - {name}\")\n",
    "\n"
   ]
  },
  {
   "cell_type": "code",
   "execution_count": 32,
   "id": "a9f47192-3e6b-4a34-897d-25237f6bf803",
   "metadata": {},
   "outputs": [],
   "source": [
    "PROJECT = \"runs/detect\"\n",
    "NAME = \"person_detect_v1\"\n",
    "\n",
    "shutil.rmtree(os.path.join(PROJECT, NAME), ignore_errors=True)\n"
   ]
  },
  {
   "cell_type": "code",
   "execution_count": 36,
   "id": "a549a75e-f5a7-4f4a-8a8c-2be92281e77c",
   "metadata": {},
   "outputs": [
    {
     "name": "stdout",
     "output_type": "stream",
     "text": [
      "DetectionModel(\n",
      "  (model): Sequential(\n",
      "    (0): Conv(\n",
      "      (conv): Conv2d(3, 16, kernel_size=(3, 3), stride=(2, 2), padding=(1, 1), bias=False)\n",
      "      (bn): BatchNorm2d(16, eps=0.001, momentum=0.03, affine=True, track_running_stats=True)\n",
      "      (act): SiLU(inplace=True)\n",
      "    )\n",
      "    (1): Conv(\n",
      "      (conv): Conv2d(16, 32, kernel_size=(3, 3), stride=(2, 2), padding=(1, 1), bias=False)\n",
      "      (bn): BatchNorm2d(32, eps=0.001, momentum=0.03, affine=True, track_running_stats=True)\n",
      "      (act): SiLU(inplace=True)\n",
      "    )\n",
      "    (2): C3k2(\n",
      "      (cv1): Conv(\n",
      "        (conv): Conv2d(32, 32, kernel_size=(1, 1), stride=(1, 1), bias=False)\n",
      "        (bn): BatchNorm2d(32, eps=0.001, momentum=0.03, affine=True, track_running_stats=True)\n",
      "        (act): SiLU(inplace=True)\n",
      "      )\n",
      "      (cv2): Conv(\n",
      "        (conv): Conv2d(48, 64, kernel_size=(1, 1), stride=(1, 1), bias=False)\n",
      "        (bn): BatchNorm2d(64, eps=0.001, momentum=0.03, affine=True, track_running_stats=True)\n",
      "        (act): SiLU(inplace=True)\n",
      "      )\n",
      "      (m): ModuleList(\n",
      "        (0): Bottleneck(\n",
      "          (cv1): Conv(\n",
      "            (conv): Conv2d(16, 8, kernel_size=(3, 3), stride=(1, 1), padding=(1, 1), bias=False)\n",
      "            (bn): BatchNorm2d(8, eps=0.001, momentum=0.03, affine=True, track_running_stats=True)\n",
      "            (act): SiLU(inplace=True)\n",
      "          )\n",
      "          (cv2): Conv(\n",
      "            (conv): Conv2d(8, 16, kernel_size=(3, 3), stride=(1, 1), padding=(1, 1), bias=False)\n",
      "            (bn): BatchNorm2d(16, eps=0.001, momentum=0.03, affine=True, track_running_stats=True)\n",
      "            (act): SiLU(inplace=True)\n",
      "          )\n",
      "        )\n",
      "      )\n",
      "    )\n",
      "    (3): Conv(\n",
      "      (conv): Conv2d(64, 64, kernel_size=(3, 3), stride=(2, 2), padding=(1, 1), bias=False)\n",
      "      (bn): BatchNorm2d(64, eps=0.001, momentum=0.03, affine=True, track_running_stats=True)\n",
      "      (act): SiLU(inplace=True)\n",
      "    )\n",
      "    (4): C3k2(\n",
      "      (cv1): Conv(\n",
      "        (conv): Conv2d(64, 64, kernel_size=(1, 1), stride=(1, 1), bias=False)\n",
      "        (bn): BatchNorm2d(64, eps=0.001, momentum=0.03, affine=True, track_running_stats=True)\n",
      "        (act): SiLU(inplace=True)\n",
      "      )\n",
      "      (cv2): Conv(\n",
      "        (conv): Conv2d(96, 128, kernel_size=(1, 1), stride=(1, 1), bias=False)\n",
      "        (bn): BatchNorm2d(128, eps=0.001, momentum=0.03, affine=True, track_running_stats=True)\n",
      "        (act): SiLU(inplace=True)\n",
      "      )\n",
      "      (m): ModuleList(\n",
      "        (0): Bottleneck(\n",
      "          (cv1): Conv(\n",
      "            (conv): Conv2d(32, 16, kernel_size=(3, 3), stride=(1, 1), padding=(1, 1), bias=False)\n",
      "            (bn): BatchNorm2d(16, eps=0.001, momentum=0.03, affine=True, track_running_stats=True)\n",
      "            (act): SiLU(inplace=True)\n",
      "          )\n",
      "          (cv2): Conv(\n",
      "            (conv): Conv2d(16, 32, kernel_size=(3, 3), stride=(1, 1), padding=(1, 1), bias=False)\n",
      "            (bn): BatchNorm2d(32, eps=0.001, momentum=0.03, affine=True, track_running_stats=True)\n",
      "            (act): SiLU(inplace=True)\n",
      "          )\n",
      "        )\n",
      "      )\n",
      "    )\n",
      "    (5): Conv(\n",
      "      (conv): Conv2d(128, 128, kernel_size=(3, 3), stride=(2, 2), padding=(1, 1), bias=False)\n",
      "      (bn): BatchNorm2d(128, eps=0.001, momentum=0.03, affine=True, track_running_stats=True)\n",
      "      (act): SiLU(inplace=True)\n",
      "    )\n",
      "    (6): C3k2(\n",
      "      (cv1): Conv(\n",
      "        (conv): Conv2d(128, 128, kernel_size=(1, 1), stride=(1, 1), bias=False)\n",
      "        (bn): BatchNorm2d(128, eps=0.001, momentum=0.03, affine=True, track_running_stats=True)\n",
      "        (act): SiLU(inplace=True)\n",
      "      )\n",
      "      (cv2): Conv(\n",
      "        (conv): Conv2d(192, 128, kernel_size=(1, 1), stride=(1, 1), bias=False)\n",
      "        (bn): BatchNorm2d(128, eps=0.001, momentum=0.03, affine=True, track_running_stats=True)\n",
      "        (act): SiLU(inplace=True)\n",
      "      )\n",
      "      (m): ModuleList(\n",
      "        (0): C3k(\n",
      "          (cv1): Conv(\n",
      "            (conv): Conv2d(64, 32, kernel_size=(1, 1), stride=(1, 1), bias=False)\n",
      "            (bn): BatchNorm2d(32, eps=0.001, momentum=0.03, affine=True, track_running_stats=True)\n",
      "            (act): SiLU(inplace=True)\n",
      "          )\n",
      "          (cv2): Conv(\n",
      "            (conv): Conv2d(64, 32, kernel_size=(1, 1), stride=(1, 1), bias=False)\n",
      "            (bn): BatchNorm2d(32, eps=0.001, momentum=0.03, affine=True, track_running_stats=True)\n",
      "            (act): SiLU(inplace=True)\n",
      "          )\n",
      "          (cv3): Conv(\n",
      "            (conv): Conv2d(64, 64, kernel_size=(1, 1), stride=(1, 1), bias=False)\n",
      "            (bn): BatchNorm2d(64, eps=0.001, momentum=0.03, affine=True, track_running_stats=True)\n",
      "            (act): SiLU(inplace=True)\n",
      "          )\n",
      "          (m): Sequential(\n",
      "            (0): Bottleneck(\n",
      "              (cv1): Conv(\n",
      "                (conv): Conv2d(32, 32, kernel_size=(3, 3), stride=(1, 1), padding=(1, 1), bias=False)\n",
      "                (bn): BatchNorm2d(32, eps=0.001, momentum=0.03, affine=True, track_running_stats=True)\n",
      "                (act): SiLU(inplace=True)\n",
      "              )\n",
      "              (cv2): Conv(\n",
      "                (conv): Conv2d(32, 32, kernel_size=(3, 3), stride=(1, 1), padding=(1, 1), bias=False)\n",
      "                (bn): BatchNorm2d(32, eps=0.001, momentum=0.03, affine=True, track_running_stats=True)\n",
      "                (act): SiLU(inplace=True)\n",
      "              )\n",
      "            )\n",
      "            (1): Bottleneck(\n",
      "              (cv1): Conv(\n",
      "                (conv): Conv2d(32, 32, kernel_size=(3, 3), stride=(1, 1), padding=(1, 1), bias=False)\n",
      "                (bn): BatchNorm2d(32, eps=0.001, momentum=0.03, affine=True, track_running_stats=True)\n",
      "                (act): SiLU(inplace=True)\n",
      "              )\n",
      "              (cv2): Conv(\n",
      "                (conv): Conv2d(32, 32, kernel_size=(3, 3), stride=(1, 1), padding=(1, 1), bias=False)\n",
      "                (bn): BatchNorm2d(32, eps=0.001, momentum=0.03, affine=True, track_running_stats=True)\n",
      "                (act): SiLU(inplace=True)\n",
      "              )\n",
      "            )\n",
      "          )\n",
      "        )\n",
      "      )\n",
      "    )\n",
      "    (7): Conv(\n",
      "      (conv): Conv2d(128, 256, kernel_size=(3, 3), stride=(2, 2), padding=(1, 1), bias=False)\n",
      "      (bn): BatchNorm2d(256, eps=0.001, momentum=0.03, affine=True, track_running_stats=True)\n",
      "      (act): SiLU(inplace=True)\n",
      "    )\n",
      "    (8): C3k2(\n",
      "      (cv1): Conv(\n",
      "        (conv): Conv2d(256, 256, kernel_size=(1, 1), stride=(1, 1), bias=False)\n",
      "        (bn): BatchNorm2d(256, eps=0.001, momentum=0.03, affine=True, track_running_stats=True)\n",
      "        (act): SiLU(inplace=True)\n",
      "      )\n",
      "      (cv2): Conv(\n",
      "        (conv): Conv2d(384, 256, kernel_size=(1, 1), stride=(1, 1), bias=False)\n",
      "        (bn): BatchNorm2d(256, eps=0.001, momentum=0.03, affine=True, track_running_stats=True)\n",
      "        (act): SiLU(inplace=True)\n",
      "      )\n",
      "      (m): ModuleList(\n",
      "        (0): C3k(\n",
      "          (cv1): Conv(\n",
      "            (conv): Conv2d(128, 64, kernel_size=(1, 1), stride=(1, 1), bias=False)\n",
      "            (bn): BatchNorm2d(64, eps=0.001, momentum=0.03, affine=True, track_running_stats=True)\n",
      "            (act): SiLU(inplace=True)\n",
      "          )\n",
      "          (cv2): Conv(\n",
      "            (conv): Conv2d(128, 64, kernel_size=(1, 1), stride=(1, 1), bias=False)\n",
      "            (bn): BatchNorm2d(64, eps=0.001, momentum=0.03, affine=True, track_running_stats=True)\n",
      "            (act): SiLU(inplace=True)\n",
      "          )\n",
      "          (cv3): Conv(\n",
      "            (conv): Conv2d(128, 128, kernel_size=(1, 1), stride=(1, 1), bias=False)\n",
      "            (bn): BatchNorm2d(128, eps=0.001, momentum=0.03, affine=True, track_running_stats=True)\n",
      "            (act): SiLU(inplace=True)\n",
      "          )\n",
      "          (m): Sequential(\n",
      "            (0): Bottleneck(\n",
      "              (cv1): Conv(\n",
      "                (conv): Conv2d(64, 64, kernel_size=(3, 3), stride=(1, 1), padding=(1, 1), bias=False)\n",
      "                (bn): BatchNorm2d(64, eps=0.001, momentum=0.03, affine=True, track_running_stats=True)\n",
      "                (act): SiLU(inplace=True)\n",
      "              )\n",
      "              (cv2): Conv(\n",
      "                (conv): Conv2d(64, 64, kernel_size=(3, 3), stride=(1, 1), padding=(1, 1), bias=False)\n",
      "                (bn): BatchNorm2d(64, eps=0.001, momentum=0.03, affine=True, track_running_stats=True)\n",
      "                (act): SiLU(inplace=True)\n",
      "              )\n",
      "            )\n",
      "            (1): Bottleneck(\n",
      "              (cv1): Conv(\n",
      "                (conv): Conv2d(64, 64, kernel_size=(3, 3), stride=(1, 1), padding=(1, 1), bias=False)\n",
      "                (bn): BatchNorm2d(64, eps=0.001, momentum=0.03, affine=True, track_running_stats=True)\n",
      "                (act): SiLU(inplace=True)\n",
      "              )\n",
      "              (cv2): Conv(\n",
      "                (conv): Conv2d(64, 64, kernel_size=(3, 3), stride=(1, 1), padding=(1, 1), bias=False)\n",
      "                (bn): BatchNorm2d(64, eps=0.001, momentum=0.03, affine=True, track_running_stats=True)\n",
      "                (act): SiLU(inplace=True)\n",
      "              )\n",
      "            )\n",
      "          )\n",
      "        )\n",
      "      )\n",
      "    )\n",
      "    (9): SPPF(\n",
      "      (cv1): Conv(\n",
      "        (conv): Conv2d(256, 128, kernel_size=(1, 1), stride=(1, 1), bias=False)\n",
      "        (bn): BatchNorm2d(128, eps=0.001, momentum=0.03, affine=True, track_running_stats=True)\n",
      "        (act): SiLU(inplace=True)\n",
      "      )\n",
      "      (cv2): Conv(\n",
      "        (conv): Conv2d(512, 256, kernel_size=(1, 1), stride=(1, 1), bias=False)\n",
      "        (bn): BatchNorm2d(256, eps=0.001, momentum=0.03, affine=True, track_running_stats=True)\n",
      "        (act): SiLU(inplace=True)\n",
      "      )\n",
      "      (m): MaxPool2d(kernel_size=5, stride=1, padding=2, dilation=1, ceil_mode=False)\n",
      "    )\n",
      "    (10): C2PSA(\n",
      "      (cv1): Conv(\n",
      "        (conv): Conv2d(256, 256, kernel_size=(1, 1), stride=(1, 1), bias=False)\n",
      "        (bn): BatchNorm2d(256, eps=0.001, momentum=0.03, affine=True, track_running_stats=True)\n",
      "        (act): SiLU(inplace=True)\n",
      "      )\n",
      "      (cv2): Conv(\n",
      "        (conv): Conv2d(256, 256, kernel_size=(1, 1), stride=(1, 1), bias=False)\n",
      "        (bn): BatchNorm2d(256, eps=0.001, momentum=0.03, affine=True, track_running_stats=True)\n",
      "        (act): SiLU(inplace=True)\n",
      "      )\n",
      "      (m): Sequential(\n",
      "        (0): PSABlock(\n",
      "          (attn): Attention(\n",
      "            (qkv): Conv(\n",
      "              (conv): Conv2d(128, 256, kernel_size=(1, 1), stride=(1, 1), bias=False)\n",
      "              (bn): BatchNorm2d(256, eps=0.001, momentum=0.03, affine=True, track_running_stats=True)\n",
      "              (act): Identity()\n",
      "            )\n",
      "            (proj): Conv(\n",
      "              (conv): Conv2d(128, 128, kernel_size=(1, 1), stride=(1, 1), bias=False)\n",
      "              (bn): BatchNorm2d(128, eps=0.001, momentum=0.03, affine=True, track_running_stats=True)\n",
      "              (act): Identity()\n",
      "            )\n",
      "            (pe): Conv(\n",
      "              (conv): Conv2d(128, 128, kernel_size=(3, 3), stride=(1, 1), padding=(1, 1), groups=128, bias=False)\n",
      "              (bn): BatchNorm2d(128, eps=0.001, momentum=0.03, affine=True, track_running_stats=True)\n",
      "              (act): Identity()\n",
      "            )\n",
      "          )\n",
      "          (ffn): Sequential(\n",
      "            (0): Conv(\n",
      "              (conv): Conv2d(128, 256, kernel_size=(1, 1), stride=(1, 1), bias=False)\n",
      "              (bn): BatchNorm2d(256, eps=0.001, momentum=0.03, affine=True, track_running_stats=True)\n",
      "              (act): SiLU(inplace=True)\n",
      "            )\n",
      "            (1): Conv(\n",
      "              (conv): Conv2d(256, 128, kernel_size=(1, 1), stride=(1, 1), bias=False)\n",
      "              (bn): BatchNorm2d(128, eps=0.001, momentum=0.03, affine=True, track_running_stats=True)\n",
      "              (act): Identity()\n",
      "            )\n",
      "          )\n",
      "        )\n",
      "      )\n",
      "    )\n",
      "    (11): Upsample(scale_factor=2.0, mode='nearest')\n",
      "    (12): Concat()\n",
      "    (13): C3k2(\n",
      "      (cv1): Conv(\n",
      "        (conv): Conv2d(384, 128, kernel_size=(1, 1), stride=(1, 1), bias=False)\n",
      "        (bn): BatchNorm2d(128, eps=0.001, momentum=0.03, affine=True, track_running_stats=True)\n",
      "        (act): SiLU(inplace=True)\n",
      "      )\n",
      "      (cv2): Conv(\n",
      "        (conv): Conv2d(192, 128, kernel_size=(1, 1), stride=(1, 1), bias=False)\n",
      "        (bn): BatchNorm2d(128, eps=0.001, momentum=0.03, affine=True, track_running_stats=True)\n",
      "        (act): SiLU(inplace=True)\n",
      "      )\n",
      "      (m): ModuleList(\n",
      "        (0): Bottleneck(\n",
      "          (cv1): Conv(\n",
      "            (conv): Conv2d(64, 32, kernel_size=(3, 3), stride=(1, 1), padding=(1, 1), bias=False)\n",
      "            (bn): BatchNorm2d(32, eps=0.001, momentum=0.03, affine=True, track_running_stats=True)\n",
      "            (act): SiLU(inplace=True)\n",
      "          )\n",
      "          (cv2): Conv(\n",
      "            (conv): Conv2d(32, 64, kernel_size=(3, 3), stride=(1, 1), padding=(1, 1), bias=False)\n",
      "            (bn): BatchNorm2d(64, eps=0.001, momentum=0.03, affine=True, track_running_stats=True)\n",
      "            (act): SiLU(inplace=True)\n",
      "          )\n",
      "        )\n",
      "      )\n",
      "    )\n",
      "    (14): Upsample(scale_factor=2.0, mode='nearest')\n",
      "    (15): Concat()\n",
      "    (16): C3k2(\n",
      "      (cv1): Conv(\n",
      "        (conv): Conv2d(256, 64, kernel_size=(1, 1), stride=(1, 1), bias=False)\n",
      "        (bn): BatchNorm2d(64, eps=0.001, momentum=0.03, affine=True, track_running_stats=True)\n",
      "        (act): SiLU(inplace=True)\n",
      "      )\n",
      "      (cv2): Conv(\n",
      "        (conv): Conv2d(96, 64, kernel_size=(1, 1), stride=(1, 1), bias=False)\n",
      "        (bn): BatchNorm2d(64, eps=0.001, momentum=0.03, affine=True, track_running_stats=True)\n",
      "        (act): SiLU(inplace=True)\n",
      "      )\n",
      "      (m): ModuleList(\n",
      "        (0): Bottleneck(\n",
      "          (cv1): Conv(\n",
      "            (conv): Conv2d(32, 16, kernel_size=(3, 3), stride=(1, 1), padding=(1, 1), bias=False)\n",
      "            (bn): BatchNorm2d(16, eps=0.001, momentum=0.03, affine=True, track_running_stats=True)\n",
      "            (act): SiLU(inplace=True)\n",
      "          )\n",
      "          (cv2): Conv(\n",
      "            (conv): Conv2d(16, 32, kernel_size=(3, 3), stride=(1, 1), padding=(1, 1), bias=False)\n",
      "            (bn): BatchNorm2d(32, eps=0.001, momentum=0.03, affine=True, track_running_stats=True)\n",
      "            (act): SiLU(inplace=True)\n",
      "          )\n",
      "        )\n",
      "      )\n",
      "    )\n",
      "    (17): Conv(\n",
      "      (conv): Conv2d(64, 64, kernel_size=(3, 3), stride=(2, 2), padding=(1, 1), bias=False)\n",
      "      (bn): BatchNorm2d(64, eps=0.001, momentum=0.03, affine=True, track_running_stats=True)\n",
      "      (act): SiLU(inplace=True)\n",
      "    )\n",
      "    (18): Concat()\n",
      "    (19): C3k2(\n",
      "      (cv1): Conv(\n",
      "        (conv): Conv2d(192, 128, kernel_size=(1, 1), stride=(1, 1), bias=False)\n",
      "        (bn): BatchNorm2d(128, eps=0.001, momentum=0.03, affine=True, track_running_stats=True)\n",
      "        (act): SiLU(inplace=True)\n",
      "      )\n",
      "      (cv2): Conv(\n",
      "        (conv): Conv2d(192, 128, kernel_size=(1, 1), stride=(1, 1), bias=False)\n",
      "        (bn): BatchNorm2d(128, eps=0.001, momentum=0.03, affine=True, track_running_stats=True)\n",
      "        (act): SiLU(inplace=True)\n",
      "      )\n",
      "      (m): ModuleList(\n",
      "        (0): Bottleneck(\n",
      "          (cv1): Conv(\n",
      "            (conv): Conv2d(64, 32, kernel_size=(3, 3), stride=(1, 1), padding=(1, 1), bias=False)\n",
      "            (bn): BatchNorm2d(32, eps=0.001, momentum=0.03, affine=True, track_running_stats=True)\n",
      "            (act): SiLU(inplace=True)\n",
      "          )\n",
      "          (cv2): Conv(\n",
      "            (conv): Conv2d(32, 64, kernel_size=(3, 3), stride=(1, 1), padding=(1, 1), bias=False)\n",
      "            (bn): BatchNorm2d(64, eps=0.001, momentum=0.03, affine=True, track_running_stats=True)\n",
      "            (act): SiLU(inplace=True)\n",
      "          )\n",
      "        )\n",
      "      )\n",
      "    )\n",
      "    (20): Conv(\n",
      "      (conv): Conv2d(128, 128, kernel_size=(3, 3), stride=(2, 2), padding=(1, 1), bias=False)\n",
      "      (bn): BatchNorm2d(128, eps=0.001, momentum=0.03, affine=True, track_running_stats=True)\n",
      "      (act): SiLU(inplace=True)\n",
      "    )\n",
      "    (21): Concat()\n",
      "    (22): C3k2(\n",
      "      (cv1): Conv(\n",
      "        (conv): Conv2d(384, 256, kernel_size=(1, 1), stride=(1, 1), bias=False)\n",
      "        (bn): BatchNorm2d(256, eps=0.001, momentum=0.03, affine=True, track_running_stats=True)\n",
      "        (act): SiLU(inplace=True)\n",
      "      )\n",
      "      (cv2): Conv(\n",
      "        (conv): Conv2d(384, 256, kernel_size=(1, 1), stride=(1, 1), bias=False)\n",
      "        (bn): BatchNorm2d(256, eps=0.001, momentum=0.03, affine=True, track_running_stats=True)\n",
      "        (act): SiLU(inplace=True)\n",
      "      )\n",
      "      (m): ModuleList(\n",
      "        (0): C3k(\n",
      "          (cv1): Conv(\n",
      "            (conv): Conv2d(128, 64, kernel_size=(1, 1), stride=(1, 1), bias=False)\n",
      "            (bn): BatchNorm2d(64, eps=0.001, momentum=0.03, affine=True, track_running_stats=True)\n",
      "            (act): SiLU(inplace=True)\n",
      "          )\n",
      "          (cv2): Conv(\n",
      "            (conv): Conv2d(128, 64, kernel_size=(1, 1), stride=(1, 1), bias=False)\n",
      "            (bn): BatchNorm2d(64, eps=0.001, momentum=0.03, affine=True, track_running_stats=True)\n",
      "            (act): SiLU(inplace=True)\n",
      "          )\n",
      "          (cv3): Conv(\n",
      "            (conv): Conv2d(128, 128, kernel_size=(1, 1), stride=(1, 1), bias=False)\n",
      "            (bn): BatchNorm2d(128, eps=0.001, momentum=0.03, affine=True, track_running_stats=True)\n",
      "            (act): SiLU(inplace=True)\n",
      "          )\n",
      "          (m): Sequential(\n",
      "            (0): Bottleneck(\n",
      "              (cv1): Conv(\n",
      "                (conv): Conv2d(64, 64, kernel_size=(3, 3), stride=(1, 1), padding=(1, 1), bias=False)\n",
      "                (bn): BatchNorm2d(64, eps=0.001, momentum=0.03, affine=True, track_running_stats=True)\n",
      "                (act): SiLU(inplace=True)\n",
      "              )\n",
      "              (cv2): Conv(\n",
      "                (conv): Conv2d(64, 64, kernel_size=(3, 3), stride=(1, 1), padding=(1, 1), bias=False)\n",
      "                (bn): BatchNorm2d(64, eps=0.001, momentum=0.03, affine=True, track_running_stats=True)\n",
      "                (act): SiLU(inplace=True)\n",
      "              )\n",
      "            )\n",
      "            (1): Bottleneck(\n",
      "              (cv1): Conv(\n",
      "                (conv): Conv2d(64, 64, kernel_size=(3, 3), stride=(1, 1), padding=(1, 1), bias=False)\n",
      "                (bn): BatchNorm2d(64, eps=0.001, momentum=0.03, affine=True, track_running_stats=True)\n",
      "                (act): SiLU(inplace=True)\n",
      "              )\n",
      "              (cv2): Conv(\n",
      "                (conv): Conv2d(64, 64, kernel_size=(3, 3), stride=(1, 1), padding=(1, 1), bias=False)\n",
      "                (bn): BatchNorm2d(64, eps=0.001, momentum=0.03, affine=True, track_running_stats=True)\n",
      "                (act): SiLU(inplace=True)\n",
      "              )\n",
      "            )\n",
      "          )\n",
      "        )\n",
      "      )\n",
      "    )\n",
      "    (23): Detect(\n",
      "      (cv2): ModuleList(\n",
      "        (0): Sequential(\n",
      "          (0): Conv(\n",
      "            (conv): Conv2d(64, 64, kernel_size=(3, 3), stride=(1, 1), padding=(1, 1), bias=False)\n",
      "            (bn): BatchNorm2d(64, eps=0.001, momentum=0.03, affine=True, track_running_stats=True)\n",
      "            (act): SiLU(inplace=True)\n",
      "          )\n",
      "          (1): Conv(\n",
      "            (conv): Conv2d(64, 64, kernel_size=(3, 3), stride=(1, 1), padding=(1, 1), bias=False)\n",
      "            (bn): BatchNorm2d(64, eps=0.001, momentum=0.03, affine=True, track_running_stats=True)\n",
      "            (act): SiLU(inplace=True)\n",
      "          )\n",
      "          (2): Conv2d(64, 64, kernel_size=(1, 1), stride=(1, 1))\n",
      "        )\n",
      "        (1): Sequential(\n",
      "          (0): Conv(\n",
      "            (conv): Conv2d(128, 64, kernel_size=(3, 3), stride=(1, 1), padding=(1, 1), bias=False)\n",
      "            (bn): BatchNorm2d(64, eps=0.001, momentum=0.03, affine=True, track_running_stats=True)\n",
      "            (act): SiLU(inplace=True)\n",
      "          )\n",
      "          (1): Conv(\n",
      "            (conv): Conv2d(64, 64, kernel_size=(3, 3), stride=(1, 1), padding=(1, 1), bias=False)\n",
      "            (bn): BatchNorm2d(64, eps=0.001, momentum=0.03, affine=True, track_running_stats=True)\n",
      "            (act): SiLU(inplace=True)\n",
      "          )\n",
      "          (2): Conv2d(64, 64, kernel_size=(1, 1), stride=(1, 1))\n",
      "        )\n",
      "        (2): Sequential(\n",
      "          (0): Conv(\n",
      "            (conv): Conv2d(256, 64, kernel_size=(3, 3), stride=(1, 1), padding=(1, 1), bias=False)\n",
      "            (bn): BatchNorm2d(64, eps=0.001, momentum=0.03, affine=True, track_running_stats=True)\n",
      "            (act): SiLU(inplace=True)\n",
      "          )\n",
      "          (1): Conv(\n",
      "            (conv): Conv2d(64, 64, kernel_size=(3, 3), stride=(1, 1), padding=(1, 1), bias=False)\n",
      "            (bn): BatchNorm2d(64, eps=0.001, momentum=0.03, affine=True, track_running_stats=True)\n",
      "            (act): SiLU(inplace=True)\n",
      "          )\n",
      "          (2): Conv2d(64, 64, kernel_size=(1, 1), stride=(1, 1))\n",
      "        )\n",
      "      )\n",
      "      (cv3): ModuleList(\n",
      "        (0): Sequential(\n",
      "          (0): Sequential(\n",
      "            (0): DWConv(\n",
      "              (conv): Conv2d(64, 64, kernel_size=(3, 3), stride=(1, 1), padding=(1, 1), groups=64, bias=False)\n",
      "              (bn): BatchNorm2d(64, eps=0.001, momentum=0.03, affine=True, track_running_stats=True)\n",
      "              (act): SiLU(inplace=True)\n",
      "            )\n",
      "            (1): Conv(\n",
      "              (conv): Conv2d(64, 80, kernel_size=(1, 1), stride=(1, 1), bias=False)\n",
      "              (bn): BatchNorm2d(80, eps=0.001, momentum=0.03, affine=True, track_running_stats=True)\n",
      "              (act): SiLU(inplace=True)\n",
      "            )\n",
      "          )\n",
      "          (1): Sequential(\n",
      "            (0): DWConv(\n",
      "              (conv): Conv2d(80, 80, kernel_size=(3, 3), stride=(1, 1), padding=(1, 1), groups=80, bias=False)\n",
      "              (bn): BatchNorm2d(80, eps=0.001, momentum=0.03, affine=True, track_running_stats=True)\n",
      "              (act): SiLU(inplace=True)\n",
      "            )\n",
      "            (1): Conv(\n",
      "              (conv): Conv2d(80, 80, kernel_size=(1, 1), stride=(1, 1), bias=False)\n",
      "              (bn): BatchNorm2d(80, eps=0.001, momentum=0.03, affine=True, track_running_stats=True)\n",
      "              (act): SiLU(inplace=True)\n",
      "            )\n",
      "          )\n",
      "          (2): Conv2d(80, 80, kernel_size=(1, 1), stride=(1, 1))\n",
      "        )\n",
      "        (1): Sequential(\n",
      "          (0): Sequential(\n",
      "            (0): DWConv(\n",
      "              (conv): Conv2d(128, 128, kernel_size=(3, 3), stride=(1, 1), padding=(1, 1), groups=128, bias=False)\n",
      "              (bn): BatchNorm2d(128, eps=0.001, momentum=0.03, affine=True, track_running_stats=True)\n",
      "              (act): SiLU(inplace=True)\n",
      "            )\n",
      "            (1): Conv(\n",
      "              (conv): Conv2d(128, 80, kernel_size=(1, 1), stride=(1, 1), bias=False)\n",
      "              (bn): BatchNorm2d(80, eps=0.001, momentum=0.03, affine=True, track_running_stats=True)\n",
      "              (act): SiLU(inplace=True)\n",
      "            )\n",
      "          )\n",
      "          (1): Sequential(\n",
      "            (0): DWConv(\n",
      "              (conv): Conv2d(80, 80, kernel_size=(3, 3), stride=(1, 1), padding=(1, 1), groups=80, bias=False)\n",
      "              (bn): BatchNorm2d(80, eps=0.001, momentum=0.03, affine=True, track_running_stats=True)\n",
      "              (act): SiLU(inplace=True)\n",
      "            )\n",
      "            (1): Conv(\n",
      "              (conv): Conv2d(80, 80, kernel_size=(1, 1), stride=(1, 1), bias=False)\n",
      "              (bn): BatchNorm2d(80, eps=0.001, momentum=0.03, affine=True, track_running_stats=True)\n",
      "              (act): SiLU(inplace=True)\n",
      "            )\n",
      "          )\n",
      "          (2): Conv2d(80, 80, kernel_size=(1, 1), stride=(1, 1))\n",
      "        )\n",
      "        (2): Sequential(\n",
      "          (0): Sequential(\n",
      "            (0): DWConv(\n",
      "              (conv): Conv2d(256, 256, kernel_size=(3, 3), stride=(1, 1), padding=(1, 1), groups=256, bias=False)\n",
      "              (bn): BatchNorm2d(256, eps=0.001, momentum=0.03, affine=True, track_running_stats=True)\n",
      "              (act): SiLU(inplace=True)\n",
      "            )\n",
      "            (1): Conv(\n",
      "              (conv): Conv2d(256, 80, kernel_size=(1, 1), stride=(1, 1), bias=False)\n",
      "              (bn): BatchNorm2d(80, eps=0.001, momentum=0.03, affine=True, track_running_stats=True)\n",
      "              (act): SiLU(inplace=True)\n",
      "            )\n",
      "          )\n",
      "          (1): Sequential(\n",
      "            (0): DWConv(\n",
      "              (conv): Conv2d(80, 80, kernel_size=(3, 3), stride=(1, 1), padding=(1, 1), groups=80, bias=False)\n",
      "              (bn): BatchNorm2d(80, eps=0.001, momentum=0.03, affine=True, track_running_stats=True)\n",
      "              (act): SiLU(inplace=True)\n",
      "            )\n",
      "            (1): Conv(\n",
      "              (conv): Conv2d(80, 80, kernel_size=(1, 1), stride=(1, 1), bias=False)\n",
      "              (bn): BatchNorm2d(80, eps=0.001, momentum=0.03, affine=True, track_running_stats=True)\n",
      "              (act): SiLU(inplace=True)\n",
      "            )\n",
      "          )\n",
      "          (2): Conv2d(80, 80, kernel_size=(1, 1), stride=(1, 1))\n",
      "        )\n",
      "      )\n",
      "      (dfl): DFL(\n",
      "        (conv): Conv2d(16, 1, kernel_size=(1, 1), stride=(1, 1), bias=False)\n",
      "      )\n",
      "    )\n",
      "  )\n",
      ")\n"
     ]
    }
   ],
   "source": [
    "model = YOLO(\"yolo11n.pt\")  # Load pretrained model\n",
    "\n",
    "print(model.model)"
   ]
  },
  {
   "cell_type": "markdown",
   "id": "1d2b7b88-4694-4988-bbd3-23f2fbcf9902",
   "metadata": {},
   "source": [
    "<html>\n",
    "    <li>Backbone: Layer 0 - 10 --> After C2PSA</li>\n",
    "    <li>Neck : Layer 11 - 22</li>\n",
    "    <li>Head : Layer 23 --> Detect</li>\n",
    "</html>"
   ]
  },
  {
   "cell_type": "code",
   "execution_count": 38,
   "id": "d8729ac4-223e-4755-ab4c-8914fb585787",
   "metadata": {},
   "outputs": [
    {
     "name": "stdout",
     "output_type": "stream",
     "text": [
      "Trainable layers:\n",
      " - model.model.0.conv.weight\n",
      " - model.model.0.bn.weight\n",
      " - model.model.0.bn.bias\n",
      " - model.model.1.conv.weight\n",
      " - model.model.1.bn.weight\n",
      " - model.model.1.bn.bias\n",
      " - model.model.2.cv1.conv.weight\n",
      " - model.model.2.cv1.bn.weight\n",
      " - model.model.2.cv1.bn.bias\n",
      " - model.model.2.cv2.conv.weight\n",
      " - model.model.2.cv2.bn.weight\n",
      " - model.model.2.cv2.bn.bias\n",
      " - model.model.2.m.0.cv1.conv.weight\n",
      " - model.model.2.m.0.cv1.bn.weight\n",
      " - model.model.2.m.0.cv1.bn.bias\n",
      " - model.model.2.m.0.cv2.conv.weight\n",
      " - model.model.2.m.0.cv2.bn.weight\n",
      " - model.model.2.m.0.cv2.bn.bias\n",
      " - model.model.3.conv.weight\n",
      " - model.model.3.bn.weight\n",
      " - model.model.3.bn.bias\n",
      " - model.model.4.cv1.conv.weight\n",
      " - model.model.4.cv1.bn.weight\n",
      " - model.model.4.cv1.bn.bias\n",
      " - model.model.4.cv2.conv.weight\n",
      " - model.model.4.cv2.bn.weight\n",
      " - model.model.4.cv2.bn.bias\n",
      " - model.model.4.m.0.cv1.conv.weight\n",
      " - model.model.4.m.0.cv1.bn.weight\n",
      " - model.model.4.m.0.cv1.bn.bias\n",
      " - model.model.4.m.0.cv2.conv.weight\n",
      " - model.model.4.m.0.cv2.bn.weight\n",
      " - model.model.4.m.0.cv2.bn.bias\n",
      " - model.model.5.conv.weight\n",
      " - model.model.5.bn.weight\n",
      " - model.model.5.bn.bias\n",
      " - model.model.6.cv1.conv.weight\n",
      " - model.model.6.cv1.bn.weight\n",
      " - model.model.6.cv1.bn.bias\n",
      " - model.model.6.cv2.conv.weight\n",
      " - model.model.6.cv2.bn.weight\n",
      " - model.model.6.cv2.bn.bias\n",
      " - model.model.6.m.0.cv1.conv.weight\n",
      " - model.model.6.m.0.cv1.bn.weight\n",
      " - model.model.6.m.0.cv1.bn.bias\n",
      " - model.model.6.m.0.cv2.conv.weight\n",
      " - model.model.6.m.0.cv2.bn.weight\n",
      " - model.model.6.m.0.cv2.bn.bias\n",
      " - model.model.6.m.0.cv3.conv.weight\n",
      " - model.model.6.m.0.cv3.bn.weight\n",
      " - model.model.6.m.0.cv3.bn.bias\n",
      " - model.model.6.m.0.m.0.cv1.conv.weight\n",
      " - model.model.6.m.0.m.0.cv1.bn.weight\n",
      " - model.model.6.m.0.m.0.cv1.bn.bias\n",
      " - model.model.6.m.0.m.0.cv2.conv.weight\n",
      " - model.model.6.m.0.m.0.cv2.bn.weight\n",
      " - model.model.6.m.0.m.0.cv2.bn.bias\n",
      " - model.model.6.m.0.m.1.cv1.conv.weight\n",
      " - model.model.6.m.0.m.1.cv1.bn.weight\n",
      " - model.model.6.m.0.m.1.cv1.bn.bias\n",
      " - model.model.6.m.0.m.1.cv2.conv.weight\n",
      " - model.model.6.m.0.m.1.cv2.bn.weight\n",
      " - model.model.6.m.0.m.1.cv2.bn.bias\n",
      " - model.model.7.conv.weight\n",
      " - model.model.7.bn.weight\n",
      " - model.model.7.bn.bias\n",
      " - model.model.8.cv1.conv.weight\n",
      " - model.model.8.cv1.bn.weight\n",
      " - model.model.8.cv1.bn.bias\n",
      " - model.model.8.cv2.conv.weight\n",
      " - model.model.8.cv2.bn.weight\n",
      " - model.model.8.cv2.bn.bias\n",
      " - model.model.8.m.0.cv1.conv.weight\n",
      " - model.model.8.m.0.cv1.bn.weight\n",
      " - model.model.8.m.0.cv1.bn.bias\n",
      " - model.model.8.m.0.cv2.conv.weight\n",
      " - model.model.8.m.0.cv2.bn.weight\n",
      " - model.model.8.m.0.cv2.bn.bias\n",
      " - model.model.8.m.0.cv3.conv.weight\n",
      " - model.model.8.m.0.cv3.bn.weight\n",
      " - model.model.8.m.0.cv3.bn.bias\n",
      " - model.model.8.m.0.m.0.cv1.conv.weight\n",
      " - model.model.8.m.0.m.0.cv1.bn.weight\n",
      " - model.model.8.m.0.m.0.cv1.bn.bias\n",
      " - model.model.8.m.0.m.0.cv2.conv.weight\n",
      " - model.model.8.m.0.m.0.cv2.bn.weight\n",
      " - model.model.8.m.0.m.0.cv2.bn.bias\n",
      " - model.model.8.m.0.m.1.cv1.conv.weight\n",
      " - model.model.8.m.0.m.1.cv1.bn.weight\n",
      " - model.model.8.m.0.m.1.cv1.bn.bias\n",
      " - model.model.8.m.0.m.1.cv2.conv.weight\n",
      " - model.model.8.m.0.m.1.cv2.bn.weight\n",
      " - model.model.8.m.0.m.1.cv2.bn.bias\n",
      " - model.model.9.cv1.conv.weight\n",
      " - model.model.9.cv1.bn.weight\n",
      " - model.model.9.cv1.bn.bias\n",
      " - model.model.9.cv2.conv.weight\n",
      " - model.model.9.cv2.bn.weight\n",
      " - model.model.9.cv2.bn.bias\n",
      " - model.model.10.cv1.conv.weight\n",
      " - model.model.10.cv1.bn.weight\n",
      " - model.model.10.cv1.bn.bias\n",
      " - model.model.10.cv2.conv.weight\n",
      " - model.model.10.cv2.bn.weight\n",
      " - model.model.10.cv2.bn.bias\n",
      " - model.model.10.m.0.attn.qkv.conv.weight\n",
      " - model.model.10.m.0.attn.qkv.bn.weight\n",
      " - model.model.10.m.0.attn.qkv.bn.bias\n",
      " - model.model.10.m.0.attn.proj.conv.weight\n",
      " - model.model.10.m.0.attn.proj.bn.weight\n",
      " - model.model.10.m.0.attn.proj.bn.bias\n",
      " - model.model.10.m.0.attn.pe.conv.weight\n",
      " - model.model.10.m.0.attn.pe.bn.weight\n",
      " - model.model.10.m.0.attn.pe.bn.bias\n",
      " - model.model.10.m.0.ffn.0.conv.weight\n",
      " - model.model.10.m.0.ffn.0.bn.weight\n",
      " - model.model.10.m.0.ffn.0.bn.bias\n",
      " - model.model.10.m.0.ffn.1.conv.weight\n",
      " - model.model.10.m.0.ffn.1.bn.weight\n",
      " - model.model.10.m.0.ffn.1.bn.bias\n",
      " - model.model.13.cv1.conv.weight\n",
      " - model.model.13.cv1.bn.weight\n",
      " - model.model.13.cv1.bn.bias\n",
      " - model.model.13.cv2.conv.weight\n",
      " - model.model.13.cv2.bn.weight\n",
      " - model.model.13.cv2.bn.bias\n",
      " - model.model.13.m.0.cv1.conv.weight\n",
      " - model.model.13.m.0.cv1.bn.weight\n",
      " - model.model.13.m.0.cv1.bn.bias\n",
      " - model.model.13.m.0.cv2.conv.weight\n",
      " - model.model.13.m.0.cv2.bn.weight\n",
      " - model.model.13.m.0.cv2.bn.bias\n",
      " - model.model.16.cv1.conv.weight\n",
      " - model.model.16.cv1.bn.weight\n",
      " - model.model.16.cv1.bn.bias\n",
      " - model.model.16.cv2.conv.weight\n",
      " - model.model.16.cv2.bn.weight\n",
      " - model.model.16.cv2.bn.bias\n",
      " - model.model.16.m.0.cv1.conv.weight\n",
      " - model.model.16.m.0.cv1.bn.weight\n",
      " - model.model.16.m.0.cv1.bn.bias\n",
      " - model.model.16.m.0.cv2.conv.weight\n",
      " - model.model.16.m.0.cv2.bn.weight\n",
      " - model.model.16.m.0.cv2.bn.bias\n",
      " - model.model.17.conv.weight\n",
      " - model.model.17.bn.weight\n",
      " - model.model.17.bn.bias\n",
      " - model.model.19.cv1.conv.weight\n",
      " - model.model.19.cv1.bn.weight\n",
      " - model.model.19.cv1.bn.bias\n",
      " - model.model.19.cv2.conv.weight\n",
      " - model.model.19.cv2.bn.weight\n",
      " - model.model.19.cv2.bn.bias\n",
      " - model.model.19.m.0.cv1.conv.weight\n",
      " - model.model.19.m.0.cv1.bn.weight\n",
      " - model.model.19.m.0.cv1.bn.bias\n",
      " - model.model.19.m.0.cv2.conv.weight\n",
      " - model.model.19.m.0.cv2.bn.weight\n",
      " - model.model.19.m.0.cv2.bn.bias\n",
      " - model.model.20.conv.weight\n",
      " - model.model.20.bn.weight\n",
      " - model.model.20.bn.bias\n",
      " - model.model.22.cv1.conv.weight\n",
      " - model.model.22.cv1.bn.weight\n",
      " - model.model.22.cv1.bn.bias\n",
      " - model.model.22.cv2.conv.weight\n",
      " - model.model.22.cv2.bn.weight\n",
      " - model.model.22.cv2.bn.bias\n",
      " - model.model.22.m.0.cv1.conv.weight\n",
      " - model.model.22.m.0.cv1.bn.weight\n",
      " - model.model.22.m.0.cv1.bn.bias\n",
      " - model.model.22.m.0.cv2.conv.weight\n",
      " - model.model.22.m.0.cv2.bn.weight\n",
      " - model.model.22.m.0.cv2.bn.bias\n",
      " - model.model.22.m.0.cv3.conv.weight\n",
      " - model.model.22.m.0.cv3.bn.weight\n",
      " - model.model.22.m.0.cv3.bn.bias\n",
      " - model.model.22.m.0.m.0.cv1.conv.weight\n",
      " - model.model.22.m.0.m.0.cv1.bn.weight\n",
      " - model.model.22.m.0.m.0.cv1.bn.bias\n",
      " - model.model.22.m.0.m.0.cv2.conv.weight\n",
      " - model.model.22.m.0.m.0.cv2.bn.weight\n",
      " - model.model.22.m.0.m.0.cv2.bn.bias\n",
      " - model.model.22.m.0.m.1.cv1.conv.weight\n",
      " - model.model.22.m.0.m.1.cv1.bn.weight\n",
      " - model.model.22.m.0.m.1.cv1.bn.bias\n",
      " - model.model.22.m.0.m.1.cv2.conv.weight\n",
      " - model.model.22.m.0.m.1.cv2.bn.weight\n",
      " - model.model.22.m.0.m.1.cv2.bn.bias\n",
      " - model.model.23.cv2.0.0.conv.weight\n",
      " - model.model.23.cv2.0.0.bn.weight\n",
      " - model.model.23.cv2.0.0.bn.bias\n",
      " - model.model.23.cv2.0.1.conv.weight\n",
      " - model.model.23.cv2.0.1.bn.weight\n",
      " - model.model.23.cv2.0.1.bn.bias\n",
      " - model.model.23.cv2.0.2.weight\n",
      " - model.model.23.cv2.0.2.bias\n",
      " - model.model.23.cv2.1.0.conv.weight\n",
      " - model.model.23.cv2.1.0.bn.weight\n",
      " - model.model.23.cv2.1.0.bn.bias\n",
      " - model.model.23.cv2.1.1.conv.weight\n",
      " - model.model.23.cv2.1.1.bn.weight\n",
      " - model.model.23.cv2.1.1.bn.bias\n",
      " - model.model.23.cv2.1.2.weight\n",
      " - model.model.23.cv2.1.2.bias\n",
      " - model.model.23.cv2.2.0.conv.weight\n",
      " - model.model.23.cv2.2.0.bn.weight\n",
      " - model.model.23.cv2.2.0.bn.bias\n",
      " - model.model.23.cv2.2.1.conv.weight\n",
      " - model.model.23.cv2.2.1.bn.weight\n",
      " - model.model.23.cv2.2.1.bn.bias\n",
      " - model.model.23.cv2.2.2.weight\n",
      " - model.model.23.cv2.2.2.bias\n",
      " - model.model.23.cv3.0.0.0.conv.weight\n",
      " - model.model.23.cv3.0.0.0.bn.weight\n",
      " - model.model.23.cv3.0.0.0.bn.bias\n",
      " - model.model.23.cv3.0.0.1.conv.weight\n",
      " - model.model.23.cv3.0.0.1.bn.weight\n",
      " - model.model.23.cv3.0.0.1.bn.bias\n",
      " - model.model.23.cv3.0.1.0.conv.weight\n",
      " - model.model.23.cv3.0.1.0.bn.weight\n",
      " - model.model.23.cv3.0.1.0.bn.bias\n",
      " - model.model.23.cv3.0.1.1.conv.weight\n",
      " - model.model.23.cv3.0.1.1.bn.weight\n",
      " - model.model.23.cv3.0.1.1.bn.bias\n",
      " - model.model.23.cv3.0.2.weight\n",
      " - model.model.23.cv3.0.2.bias\n",
      " - model.model.23.cv3.1.0.0.conv.weight\n",
      " - model.model.23.cv3.1.0.0.bn.weight\n",
      " - model.model.23.cv3.1.0.0.bn.bias\n",
      " - model.model.23.cv3.1.0.1.conv.weight\n",
      " - model.model.23.cv3.1.0.1.bn.weight\n",
      " - model.model.23.cv3.1.0.1.bn.bias\n",
      " - model.model.23.cv3.1.1.0.conv.weight\n",
      " - model.model.23.cv3.1.1.0.bn.weight\n",
      " - model.model.23.cv3.1.1.0.bn.bias\n",
      " - model.model.23.cv3.1.1.1.conv.weight\n",
      " - model.model.23.cv3.1.1.1.bn.weight\n",
      " - model.model.23.cv3.1.1.1.bn.bias\n",
      " - model.model.23.cv3.1.2.weight\n",
      " - model.model.23.cv3.1.2.bias\n",
      " - model.model.23.cv3.2.0.0.conv.weight\n",
      " - model.model.23.cv3.2.0.0.bn.weight\n",
      " - model.model.23.cv3.2.0.0.bn.bias\n",
      " - model.model.23.cv3.2.0.1.conv.weight\n",
      " - model.model.23.cv3.2.0.1.bn.weight\n",
      " - model.model.23.cv3.2.0.1.bn.bias\n",
      " - model.model.23.cv3.2.1.0.conv.weight\n",
      " - model.model.23.cv3.2.1.0.bn.weight\n",
      " - model.model.23.cv3.2.1.0.bn.bias\n",
      " - model.model.23.cv3.2.1.1.conv.weight\n",
      " - model.model.23.cv3.2.1.1.bn.weight\n",
      " - model.model.23.cv3.2.1.1.bn.bias\n",
      " - model.model.23.cv3.2.2.weight\n",
      " - model.model.23.cv3.2.2.bias\n",
      " - model.model.23.dfl.conv.weight\n"
     ]
    }
   ],
   "source": [
    "# Ensure layers are trainable\n",
    "for param in model.model.parameters():\n",
    "    param.requires_grad = True\n",
    "print_trainable_layers(model)"
   ]
  },
  {
   "cell_type": "code",
   "execution_count": 40,
   "id": "a69d664f-d9a7-47f1-b9e7-f219a63cf63d",
   "metadata": {
    "colab": {
     "base_uri": "https://localhost:8080/"
    },
    "id": "a69d664f-d9a7-47f1-b9e7-f219a63cf63d",
    "outputId": "b911a51e-0708-4401-ca76-7c4506106286"
   },
   "outputs": [
    {
     "name": "stdout",
     "output_type": "stream",
     "text": [
      "New https://pypi.org/project/ultralytics/8.3.158 available  Update with 'pip install -U ultralytics'\n",
      "Ultralytics 8.3.152  Python-3.11.11 torch-2.5.1+cu121 CUDA:0 (NVIDIA GeForce RTX 4060 Laptop GPU, 8188MiB)\n",
      "\u001b[34m\u001b[1mengine\\trainer: \u001b[0magnostic_nms=False, amp=True, augment=False, auto_augment=randaugment, batch=16, bgr=0.0, box=7.5, cache=False, cfg=None, classes=None, close_mosaic=10, cls=0.5, conf=None, copy_paste=0.0, copy_paste_mode=flip, cos_lr=True, cutmix=0.0, data=./yolo_person_dataset\\dataset.yaml, degrees=0.0, deterministic=True, device=0, dfl=1.5, dnn=False, dropout=0.0, dynamic=False, embed=None, epochs=50, erasing=0.4, exist_ok=False, fliplr=0.5, flipud=0.0, format=torchscript, fraction=1.0, freeze=None, half=False, hsv_h=0.015, hsv_s=0.7, hsv_v=0.4, imgsz=640, int8=False, iou=0.7, keras=False, kobj=1.0, line_width=None, lr0=0.001, lrf=0.01, mask_ratio=4, max_det=300, mixup=0.0, mode=train, model=yolo11n.pt, momentum=0.9, mosaic=1.0, multi_scale=False, name=person_detect_v1, nbs=64, nms=False, opset=None, optimize=False, optimizer=AdamW, overlap_mask=True, patience=100, perspective=0.0, plots=True, pose=12.0, pretrained=True, profile=False, project=runs/detect, rect=False, resume=False, retina_masks=False, save=True, save_conf=False, save_crop=False, save_dir=runs\\detect\\person_detect_v1, save_frames=False, save_json=False, save_period=-1, save_txt=False, scale=0.5, seed=0, shear=0.0, show=False, show_boxes=True, show_conf=True, show_labels=True, simplify=True, single_cls=False, source=None, split=val, stream_buffer=False, task=detect, time=None, tracker=botsort.yaml, translate=0.1, val=True, verbose=True, vid_stride=1, visualize=False, warmup_bias_lr=0.1, warmup_epochs=3, warmup_momentum=0.8, weight_decay=0.0005, workers=16, workspace=None\n",
      "Overriding model.yaml nc=80 with nc=1\n",
      "\n",
      "                   from  n    params  module                                       arguments                     \n",
      "  0                  -1  1       464  ultralytics.nn.modules.conv.Conv             [3, 16, 3, 2]                 \n",
      "  1                  -1  1      4672  ultralytics.nn.modules.conv.Conv             [16, 32, 3, 2]                \n",
      "  2                  -1  1      6640  ultralytics.nn.modules.block.C3k2            [32, 64, 1, False, 0.25]      \n",
      "  3                  -1  1     36992  ultralytics.nn.modules.conv.Conv             [64, 64, 3, 2]                \n",
      "  4                  -1  1     26080  ultralytics.nn.modules.block.C3k2            [64, 128, 1, False, 0.25]     \n",
      "  5                  -1  1    147712  ultralytics.nn.modules.conv.Conv             [128, 128, 3, 2]              \n",
      "  6                  -1  1     87040  ultralytics.nn.modules.block.C3k2            [128, 128, 1, True]           \n",
      "  7                  -1  1    295424  ultralytics.nn.modules.conv.Conv             [128, 256, 3, 2]              \n",
      "  8                  -1  1    346112  ultralytics.nn.modules.block.C3k2            [256, 256, 1, True]           \n",
      "  9                  -1  1    164608  ultralytics.nn.modules.block.SPPF            [256, 256, 5]                 \n",
      " 10                  -1  1    249728  ultralytics.nn.modules.block.C2PSA           [256, 256, 1]                 \n",
      " 11                  -1  1         0  torch.nn.modules.upsampling.Upsample         [None, 2, 'nearest']          \n",
      " 12             [-1, 6]  1         0  ultralytics.nn.modules.conv.Concat           [1]                           \n",
      " 13                  -1  1    111296  ultralytics.nn.modules.block.C3k2            [384, 128, 1, False]          \n",
      " 14                  -1  1         0  torch.nn.modules.upsampling.Upsample         [None, 2, 'nearest']          \n",
      " 15             [-1, 4]  1         0  ultralytics.nn.modules.conv.Concat           [1]                           \n",
      " 16                  -1  1     32096  ultralytics.nn.modules.block.C3k2            [256, 64, 1, False]           \n",
      " 17                  -1  1     36992  ultralytics.nn.modules.conv.Conv             [64, 64, 3, 2]                \n",
      " 18            [-1, 13]  1         0  ultralytics.nn.modules.conv.Concat           [1]                           \n",
      " 19                  -1  1     86720  ultralytics.nn.modules.block.C3k2            [192, 128, 1, False]          \n",
      " 20                  -1  1    147712  ultralytics.nn.modules.conv.Conv             [128, 128, 3, 2]              \n",
      " 21            [-1, 10]  1         0  ultralytics.nn.modules.conv.Concat           [1]                           \n",
      " 22                  -1  1    378880  ultralytics.nn.modules.block.C3k2            [384, 256, 1, True]           \n",
      " 23        [16, 19, 22]  1    430867  ultralytics.nn.modules.head.Detect           [1, [64, 128, 256]]           \n",
      "YOLO11n summary: 181 layers, 2,590,035 parameters, 2,590,019 gradients, 6.4 GFLOPs\n",
      "\n",
      "Transferred 448/499 items from pretrained weights\n",
      "Freezing layer 'model.23.dfl.conv.weight'\n",
      "\u001b[34m\u001b[1mAMP: \u001b[0mrunning Automatic Mixed Precision (AMP) checks...\n",
      "\u001b[34m\u001b[1mAMP: \u001b[0mchecks passed \n",
      "\u001b[34m\u001b[1mtrain: \u001b[0mFast image access  (ping: 0.10.0 ms, read: 388.1236.4 MB/s, size: 148.1 KB)\n"
     ]
    },
    {
     "name": "stderr",
     "output_type": "stream",
     "text": [
      "\u001b[34m\u001b[1mtrain: \u001b[0mScanning Z:\\BEKA\\2025\\AI\\Bootcamp\\Source\\Advanced CV\\Project 2\\Train\\yolo_person_dataset\\train\\labels\\val... 300\u001b[0m\n"
     ]
    },
    {
     "name": "stdout",
     "output_type": "stream",
     "text": [
      "\u001b[34m\u001b[1mtrain: \u001b[0mNew cache created: Z:\\BEKA\\2025\\AI\\Bootcamp\\Source\\Advanced CV\\Project 2\\Train\\yolo_person_dataset\\train\\labels\\val.cache\n",
      "\u001b[34m\u001b[1malbumentations: \u001b[0mBlur(p=0.01, blur_limit=(3, 7)), MedianBlur(p=0.01, blur_limit=(3, 7)), ToGray(p=0.01, method='weighted_average', num_output_channels=3), CLAHE(p=0.01, clip_limit=(1.0, 4.0), tile_grid_size=(8, 8))\n",
      "\u001b[34m\u001b[1mval: \u001b[0mFast image access  (ping: 0.10.0 ms, read: 516.4140.5 MB/s, size: 163.0 KB)\n"
     ]
    },
    {
     "name": "stderr",
     "output_type": "stream",
     "text": [
      "\u001b[34m\u001b[1mval: \u001b[0mScanning Z:\\BEKA\\2025\\AI\\Bootcamp\\Source\\Advanced CV\\Project 2\\Train\\yolo_person_dataset\\val\\labels\\val... 500 ima\u001b[0m\n"
     ]
    },
    {
     "name": "stdout",
     "output_type": "stream",
     "text": [
      "\u001b[34m\u001b[1mval: \u001b[0mNew cache created: Z:\\BEKA\\2025\\AI\\Bootcamp\\Source\\Advanced CV\\Project 2\\Train\\yolo_person_dataset\\val\\labels\\val.cache\n",
      "Plotting labels to runs\\detect\\person_detect_v1\\labels.jpg... \n",
      "\u001b[34m\u001b[1moptimizer:\u001b[0m AdamW(lr=0.001, momentum=0.9) with parameter groups 81 weight(decay=0.0), 88 weight(decay=0.0005), 87 bias(decay=0.0)\n",
      "Image sizes 640 train, 640 val\n",
      "Using 16 dataloader workers\n",
      "Logging results to \u001b[1mruns\\detect\\person_detect_v1\u001b[0m\n",
      "Starting training for 50 epochs...\n",
      "\n",
      "      Epoch    GPU_mem   box_loss   cls_loss   dfl_loss  Instances       Size\n"
     ]
    },
    {
     "name": "stderr",
     "output_type": "stream",
     "text": [
      "       1/50      2.33G      1.373      1.548      1.323         63        640: 100%|██████████| 188/188 [00:32<00:00,  \n",
      "                 Class     Images  Instances      Box(P          R      mAP50  mAP50-95): 100%|██████████| 16/16 [00:03"
     ]
    },
    {
     "name": "stdout",
     "output_type": "stream",
     "text": [
      "                   all        500       2041      0.514      0.344      0.387        0.2\n"
     ]
    },
    {
     "name": "stderr",
     "output_type": "stream",
     "text": [
      "\n"
     ]
    },
    {
     "name": "stdout",
     "output_type": "stream",
     "text": [
      "\n",
      "      Epoch    GPU_mem   box_loss   cls_loss   dfl_loss  Instances       Size\n"
     ]
    },
    {
     "name": "stderr",
     "output_type": "stream",
     "text": [
      "       2/50      2.66G      1.456      1.437      1.381         62        640: 100%|██████████| 188/188 [00:28<00:00,  \n",
      "                 Class     Images  Instances      Box(P          R      mAP50  mAP50-95): 100%|██████████| 16/16 [00:02"
     ]
    },
    {
     "name": "stdout",
     "output_type": "stream",
     "text": [
      "                   all        500       2041      0.655      0.477      0.545      0.308\n"
     ]
    },
    {
     "name": "stderr",
     "output_type": "stream",
     "text": [
      "\n"
     ]
    },
    {
     "name": "stdout",
     "output_type": "stream",
     "text": [
      "\n",
      "      Epoch    GPU_mem   box_loss   cls_loss   dfl_loss  Instances       Size\n"
     ]
    },
    {
     "name": "stderr",
     "output_type": "stream",
     "text": [
      "       3/50      2.67G      1.482      1.445      1.401         95        640: 100%|██████████| 188/188 [00:28<00:00,  \n",
      "                 Class     Images  Instances      Box(P          R      mAP50  mAP50-95): 100%|██████████| 16/16 [00:02"
     ]
    },
    {
     "name": "stdout",
     "output_type": "stream",
     "text": [
      "                   all        500       2041      0.582      0.496      0.541      0.302\n"
     ]
    },
    {
     "name": "stderr",
     "output_type": "stream",
     "text": [
      "\n"
     ]
    },
    {
     "name": "stdout",
     "output_type": "stream",
     "text": [
      "\n",
      "      Epoch    GPU_mem   box_loss   cls_loss   dfl_loss  Instances       Size\n"
     ]
    },
    {
     "name": "stderr",
     "output_type": "stream",
     "text": [
      "       4/50      2.67G      1.496      1.456       1.41         70        640: 100%|██████████| 188/188 [00:27<00:00,  \n",
      "                 Class     Images  Instances      Box(P          R      mAP50  mAP50-95): 100%|██████████| 16/16 [00:02"
     ]
    },
    {
     "name": "stdout",
     "output_type": "stream",
     "text": [
      "                   all        500       2041      0.621      0.461      0.521      0.279\n"
     ]
    },
    {
     "name": "stderr",
     "output_type": "stream",
     "text": [
      "\n"
     ]
    },
    {
     "name": "stdout",
     "output_type": "stream",
     "text": [
      "\n",
      "      Epoch    GPU_mem   box_loss   cls_loss   dfl_loss  Instances       Size\n"
     ]
    },
    {
     "name": "stderr",
     "output_type": "stream",
     "text": [
      "       5/50      2.67G       1.46      1.399       1.39         37        640: 100%|██████████| 188/188 [00:27<00:00,  \n",
      "                 Class     Images  Instances      Box(P          R      mAP50  mAP50-95): 100%|██████████| 16/16 [00:02"
     ]
    },
    {
     "name": "stdout",
     "output_type": "stream",
     "text": [
      "                   all        500       2041      0.651      0.519      0.572      0.321\n"
     ]
    },
    {
     "name": "stderr",
     "output_type": "stream",
     "text": [
      "\n"
     ]
    },
    {
     "name": "stdout",
     "output_type": "stream",
     "text": [
      "\n",
      "      Epoch    GPU_mem   box_loss   cls_loss   dfl_loss  Instances       Size\n"
     ]
    },
    {
     "name": "stderr",
     "output_type": "stream",
     "text": [
      "       6/50      2.67G      1.437      1.378      1.383         29        640: 100%|██████████| 188/188 [00:28<00:00,  \n",
      "                 Class     Images  Instances      Box(P          R      mAP50  mAP50-95): 100%|██████████| 16/16 [00:02"
     ]
    },
    {
     "name": "stdout",
     "output_type": "stream",
     "text": [
      "                   all        500       2041      0.622      0.488      0.545      0.311\n"
     ]
    },
    {
     "name": "stderr",
     "output_type": "stream",
     "text": [
      "\n"
     ]
    },
    {
     "name": "stdout",
     "output_type": "stream",
     "text": [
      "\n",
      "      Epoch    GPU_mem   box_loss   cls_loss   dfl_loss  Instances       Size\n"
     ]
    },
    {
     "name": "stderr",
     "output_type": "stream",
     "text": [
      "       7/50      2.67G      1.434       1.36      1.371         44        640: 100%|██████████| 188/188 [00:27<00:00,  \n",
      "                 Class     Images  Instances      Box(P          R      mAP50  mAP50-95): 100%|██████████| 16/16 [00:02"
     ]
    },
    {
     "name": "stdout",
     "output_type": "stream",
     "text": [
      "                   all        500       2041      0.654      0.488      0.551      0.316\n"
     ]
    },
    {
     "name": "stderr",
     "output_type": "stream",
     "text": [
      "\n"
     ]
    },
    {
     "name": "stdout",
     "output_type": "stream",
     "text": [
      "\n",
      "      Epoch    GPU_mem   box_loss   cls_loss   dfl_loss  Instances       Size\n"
     ]
    },
    {
     "name": "stderr",
     "output_type": "stream",
     "text": [
      "       8/50      2.67G      1.399      1.319      1.361         75        640: 100%|██████████| 188/188 [00:27<00:00,  \n",
      "                 Class     Images  Instances      Box(P          R      mAP50  mAP50-95): 100%|██████████| 16/16 [00:02\n"
     ]
    },
    {
     "name": "stdout",
     "output_type": "stream",
     "text": [
      "                   all        500       2041      0.641      0.483      0.549       0.32\n",
      "\n",
      "      Epoch    GPU_mem   box_loss   cls_loss   dfl_loss  Instances       Size\n"
     ]
    },
    {
     "name": "stderr",
     "output_type": "stream",
     "text": [
      "       9/50      2.67G      1.403      1.317      1.352         68        640: 100%|██████████| 188/188 [00:28<00:00,  \n",
      "                 Class     Images  Instances      Box(P          R      mAP50  mAP50-95): 100%|██████████| 16/16 [00:02"
     ]
    },
    {
     "name": "stdout",
     "output_type": "stream",
     "text": [
      "                   all        500       2041      0.671      0.523      0.586      0.332\n"
     ]
    },
    {
     "name": "stderr",
     "output_type": "stream",
     "text": [
      "\n"
     ]
    },
    {
     "name": "stdout",
     "output_type": "stream",
     "text": [
      "\n",
      "      Epoch    GPU_mem   box_loss   cls_loss   dfl_loss  Instances       Size\n"
     ]
    },
    {
     "name": "stderr",
     "output_type": "stream",
     "text": [
      "      10/50      2.67G      1.361      1.279      1.343         59        640: 100%|██████████| 188/188 [00:28<00:00,  \n",
      "                 Class     Images  Instances      Box(P          R      mAP50  mAP50-95): 100%|██████████| 16/16 [00:02"
     ]
    },
    {
     "name": "stdout",
     "output_type": "stream",
     "text": [
      "                   all        500       2041      0.673      0.529      0.595      0.351\n"
     ]
    },
    {
     "name": "stderr",
     "output_type": "stream",
     "text": [
      "\n"
     ]
    },
    {
     "name": "stdout",
     "output_type": "stream",
     "text": [
      "\n",
      "      Epoch    GPU_mem   box_loss   cls_loss   dfl_loss  Instances       Size\n"
     ]
    },
    {
     "name": "stderr",
     "output_type": "stream",
     "text": [
      "      11/50      2.67G      1.372      1.279      1.337         52        640: 100%|██████████| 188/188 [00:27<00:00,  \n",
      "                 Class     Images  Instances      Box(P          R      mAP50  mAP50-95): 100%|██████████| 16/16 [00:02"
     ]
    },
    {
     "name": "stdout",
     "output_type": "stream",
     "text": [
      "                   all        500       2041      0.686       0.53      0.606      0.355\n"
     ]
    },
    {
     "name": "stderr",
     "output_type": "stream",
     "text": [
      "\n"
     ]
    },
    {
     "name": "stdout",
     "output_type": "stream",
     "text": [
      "\n",
      "      Epoch    GPU_mem   box_loss   cls_loss   dfl_loss  Instances       Size\n"
     ]
    },
    {
     "name": "stderr",
     "output_type": "stream",
     "text": [
      "      12/50      2.67G      1.364      1.247      1.324         72        640: 100%|██████████| 188/188 [00:28<00:00,  \n",
      "                 Class     Images  Instances      Box(P          R      mAP50  mAP50-95): 100%|██████████| 16/16 [00:02"
     ]
    },
    {
     "name": "stdout",
     "output_type": "stream",
     "text": [
      "                   all        500       2041      0.682        0.5      0.577      0.348\n"
     ]
    },
    {
     "name": "stderr",
     "output_type": "stream",
     "text": [
      "\n"
     ]
    },
    {
     "name": "stdout",
     "output_type": "stream",
     "text": [
      "\n",
      "      Epoch    GPU_mem   box_loss   cls_loss   dfl_loss  Instances       Size\n"
     ]
    },
    {
     "name": "stderr",
     "output_type": "stream",
     "text": [
      "      13/50      2.67G      1.335      1.236      1.321         64        640: 100%|██████████| 188/188 [00:27<00:00,  \n",
      "                 Class     Images  Instances      Box(P          R      mAP50  mAP50-95): 100%|██████████| 16/16 [00:02"
     ]
    },
    {
     "name": "stdout",
     "output_type": "stream",
     "text": [
      "                   all        500       2041      0.693      0.504      0.589      0.355\n"
     ]
    },
    {
     "name": "stderr",
     "output_type": "stream",
     "text": [
      "\n"
     ]
    },
    {
     "name": "stdout",
     "output_type": "stream",
     "text": [
      "\n",
      "      Epoch    GPU_mem   box_loss   cls_loss   dfl_loss  Instances       Size\n"
     ]
    },
    {
     "name": "stderr",
     "output_type": "stream",
     "text": [
      "      14/50      2.67G      1.341      1.228      1.313         63        640: 100%|██████████| 188/188 [00:27<00:00,  \n",
      "                 Class     Images  Instances      Box(P          R      mAP50  mAP50-95): 100%|██████████| 16/16 [00:02"
     ]
    },
    {
     "name": "stdout",
     "output_type": "stream",
     "text": [
      "                   all        500       2041      0.672      0.558      0.614       0.36\n"
     ]
    },
    {
     "name": "stderr",
     "output_type": "stream",
     "text": [
      "\n"
     ]
    },
    {
     "name": "stdout",
     "output_type": "stream",
     "text": [
      "\n",
      "      Epoch    GPU_mem   box_loss   cls_loss   dfl_loss  Instances       Size\n"
     ]
    },
    {
     "name": "stderr",
     "output_type": "stream",
     "text": [
      "      15/50      2.67G      1.317      1.218      1.304         61        640: 100%|██████████| 188/188 [00:27<00:00,  \n",
      "                 Class     Images  Instances      Box(P          R      mAP50  mAP50-95): 100%|██████████| 16/16 [00:02"
     ]
    },
    {
     "name": "stdout",
     "output_type": "stream",
     "text": [
      "                   all        500       2041       0.69      0.539      0.614      0.371\n"
     ]
    },
    {
     "name": "stderr",
     "output_type": "stream",
     "text": [
      "\n"
     ]
    },
    {
     "name": "stdout",
     "output_type": "stream",
     "text": [
      "\n",
      "      Epoch    GPU_mem   box_loss   cls_loss   dfl_loss  Instances       Size\n"
     ]
    },
    {
     "name": "stderr",
     "output_type": "stream",
     "text": [
      "      16/50      2.67G      1.313      1.204      1.292         52        640: 100%|██████████| 188/188 [00:27<00:00,  \n",
      "                 Class     Images  Instances      Box(P          R      mAP50  mAP50-95): 100%|██████████| 16/16 [00:02"
     ]
    },
    {
     "name": "stdout",
     "output_type": "stream",
     "text": [
      "                   all        500       2041      0.691      0.585      0.641      0.383\n"
     ]
    },
    {
     "name": "stderr",
     "output_type": "stream",
     "text": [
      "\n"
     ]
    },
    {
     "name": "stdout",
     "output_type": "stream",
     "text": [
      "\n",
      "      Epoch    GPU_mem   box_loss   cls_loss   dfl_loss  Instances       Size\n"
     ]
    },
    {
     "name": "stderr",
     "output_type": "stream",
     "text": [
      "      17/50      2.67G      1.307      1.179      1.297         69        640: 100%|██████████| 188/188 [00:27<00:00,  \n",
      "                 Class     Images  Instances      Box(P          R      mAP50  mAP50-95): 100%|██████████| 16/16 [00:02"
     ]
    },
    {
     "name": "stdout",
     "output_type": "stream",
     "text": [
      "                   all        500       2041      0.691      0.569      0.637      0.391\n"
     ]
    },
    {
     "name": "stderr",
     "output_type": "stream",
     "text": [
      "\n"
     ]
    },
    {
     "name": "stdout",
     "output_type": "stream",
     "text": [
      "\n",
      "      Epoch    GPU_mem   box_loss   cls_loss   dfl_loss  Instances       Size\n"
     ]
    },
    {
     "name": "stderr",
     "output_type": "stream",
     "text": [
      "      18/50      2.67G      1.284      1.156      1.278         75        640: 100%|██████████| 188/188 [00:28<00:00,  \n",
      "                 Class     Images  Instances      Box(P          R      mAP50  mAP50-95): 100%|██████████| 16/16 [00:02"
     ]
    },
    {
     "name": "stdout",
     "output_type": "stream",
     "text": [
      "                   all        500       2041       0.72      0.549       0.64      0.386\n"
     ]
    },
    {
     "name": "stderr",
     "output_type": "stream",
     "text": [
      "\n"
     ]
    },
    {
     "name": "stdout",
     "output_type": "stream",
     "text": [
      "\n",
      "      Epoch    GPU_mem   box_loss   cls_loss   dfl_loss  Instances       Size\n"
     ]
    },
    {
     "name": "stderr",
     "output_type": "stream",
     "text": [
      "      19/50      2.67G      1.267      1.139      1.272         52        640: 100%|██████████| 188/188 [00:28<00:00,  \n",
      "                 Class     Images  Instances      Box(P          R      mAP50  mAP50-95): 100%|██████████| 16/16 [00:02"
     ]
    },
    {
     "name": "stdout",
     "output_type": "stream",
     "text": [
      "                   all        500       2041      0.717      0.569      0.649      0.394\n"
     ]
    },
    {
     "name": "stderr",
     "output_type": "stream",
     "text": [
      "\n"
     ]
    },
    {
     "name": "stdout",
     "output_type": "stream",
     "text": [
      "\n",
      "      Epoch    GPU_mem   box_loss   cls_loss   dfl_loss  Instances       Size\n"
     ]
    },
    {
     "name": "stderr",
     "output_type": "stream",
     "text": [
      "      20/50      2.67G       1.27      1.125      1.263         41        640: 100%|██████████| 188/188 [00:27<00:00,  \n",
      "                 Class     Images  Instances      Box(P          R      mAP50  mAP50-95): 100%|██████████| 16/16 [00:02"
     ]
    },
    {
     "name": "stdout",
     "output_type": "stream",
     "text": [
      "                   all        500       2041      0.714       0.56      0.642      0.394\n"
     ]
    },
    {
     "name": "stderr",
     "output_type": "stream",
     "text": [
      "\n"
     ]
    },
    {
     "name": "stdout",
     "output_type": "stream",
     "text": [
      "\n",
      "      Epoch    GPU_mem   box_loss   cls_loss   dfl_loss  Instances       Size\n"
     ]
    },
    {
     "name": "stderr",
     "output_type": "stream",
     "text": [
      "      21/50      2.67G      1.249      1.121      1.261         76        640: 100%|██████████| 188/188 [00:27<00:00,  \n",
      "                 Class     Images  Instances      Box(P          R      mAP50  mAP50-95): 100%|██████████| 16/16 [00:02"
     ]
    },
    {
     "name": "stdout",
     "output_type": "stream",
     "text": [
      "                   all        500       2041      0.712      0.579      0.659      0.403\n"
     ]
    },
    {
     "name": "stderr",
     "output_type": "stream",
     "text": [
      "\n"
     ]
    },
    {
     "name": "stdout",
     "output_type": "stream",
     "text": [
      "\n",
      "      Epoch    GPU_mem   box_loss   cls_loss   dfl_loss  Instances       Size\n"
     ]
    },
    {
     "name": "stderr",
     "output_type": "stream",
     "text": [
      "      22/50      2.67G      1.253      1.115      1.254         71        640: 100%|██████████| 188/188 [00:27<00:00,  \n",
      "                 Class     Images  Instances      Box(P          R      mAP50  mAP50-95): 100%|██████████| 16/16 [00:02"
     ]
    },
    {
     "name": "stdout",
     "output_type": "stream",
     "text": [
      "                   all        500       2041      0.727       0.57      0.655        0.4\n"
     ]
    },
    {
     "name": "stderr",
     "output_type": "stream",
     "text": [
      "\n"
     ]
    },
    {
     "name": "stdout",
     "output_type": "stream",
     "text": [
      "\n",
      "      Epoch    GPU_mem   box_loss   cls_loss   dfl_loss  Instances       Size\n"
     ]
    },
    {
     "name": "stderr",
     "output_type": "stream",
     "text": [
      "      23/50      2.67G      1.241      1.087      1.253         42        640: 100%|██████████| 188/188 [00:27<00:00,  \n",
      "                 Class     Images  Instances      Box(P          R      mAP50  mAP50-95): 100%|██████████| 16/16 [00:02"
     ]
    },
    {
     "name": "stdout",
     "output_type": "stream",
     "text": [
      "                   all        500       2041      0.701      0.573      0.649        0.4\n"
     ]
    },
    {
     "name": "stderr",
     "output_type": "stream",
     "text": [
      "\n"
     ]
    },
    {
     "name": "stdout",
     "output_type": "stream",
     "text": [
      "\n",
      "      Epoch    GPU_mem   box_loss   cls_loss   dfl_loss  Instances       Size\n"
     ]
    },
    {
     "name": "stderr",
     "output_type": "stream",
     "text": [
      "      24/50      2.67G      1.218      1.067      1.237        111        640: 100%|██████████| 188/188 [00:27<00:00,  \n",
      "                 Class     Images  Instances      Box(P          R      mAP50  mAP50-95): 100%|██████████| 16/16 [00:02"
     ]
    },
    {
     "name": "stdout",
     "output_type": "stream",
     "text": [
      "                   all        500       2041      0.688       0.59      0.653      0.411\n"
     ]
    },
    {
     "name": "stderr",
     "output_type": "stream",
     "text": [
      "\n"
     ]
    },
    {
     "name": "stdout",
     "output_type": "stream",
     "text": [
      "\n",
      "      Epoch    GPU_mem   box_loss   cls_loss   dfl_loss  Instances       Size\n"
     ]
    },
    {
     "name": "stderr",
     "output_type": "stream",
     "text": [
      "      25/50      2.67G      1.212       1.07      1.238         45        640: 100%|██████████| 188/188 [00:27<00:00,  \n",
      "                 Class     Images  Instances      Box(P          R      mAP50  mAP50-95): 100%|██████████| 16/16 [00:02"
     ]
    },
    {
     "name": "stdout",
     "output_type": "stream",
     "text": [
      "                   all        500       2041      0.705      0.592      0.658      0.411\n"
     ]
    },
    {
     "name": "stderr",
     "output_type": "stream",
     "text": [
      "\n"
     ]
    },
    {
     "name": "stdout",
     "output_type": "stream",
     "text": [
      "\n",
      "      Epoch    GPU_mem   box_loss   cls_loss   dfl_loss  Instances       Size\n"
     ]
    },
    {
     "name": "stderr",
     "output_type": "stream",
     "text": [
      "      26/50      2.67G      1.216      1.052      1.227        105        640: 100%|██████████| 188/188 [00:27<00:00,  \n",
      "                 Class     Images  Instances      Box(P          R      mAP50  mAP50-95): 100%|██████████| 16/16 [00:02"
     ]
    },
    {
     "name": "stdout",
     "output_type": "stream",
     "text": [
      "                   all        500       2041      0.742      0.571      0.668      0.418\n"
     ]
    },
    {
     "name": "stderr",
     "output_type": "stream",
     "text": [
      "\n"
     ]
    },
    {
     "name": "stdout",
     "output_type": "stream",
     "text": [
      "\n",
      "      Epoch    GPU_mem   box_loss   cls_loss   dfl_loss  Instances       Size\n"
     ]
    },
    {
     "name": "stderr",
     "output_type": "stream",
     "text": [
      "      27/50      2.67G      1.189      1.039       1.22         72        640: 100%|██████████| 188/188 [00:27<00:00,  \n",
      "                 Class     Images  Instances      Box(P          R      mAP50  mAP50-95): 100%|██████████| 16/16 [00:02"
     ]
    },
    {
     "name": "stdout",
     "output_type": "stream",
     "text": [
      "                   all        500       2041       0.74      0.584      0.678      0.422\n"
     ]
    },
    {
     "name": "stderr",
     "output_type": "stream",
     "text": [
      "\n"
     ]
    },
    {
     "name": "stdout",
     "output_type": "stream",
     "text": [
      "\n",
      "      Epoch    GPU_mem   box_loss   cls_loss   dfl_loss  Instances       Size\n"
     ]
    },
    {
     "name": "stderr",
     "output_type": "stream",
     "text": [
      "      28/50      2.67G      1.179      1.009       1.21         41        640: 100%|██████████| 188/188 [00:27<00:00,  \n",
      "                 Class     Images  Instances      Box(P          R      mAP50  mAP50-95): 100%|██████████| 16/16 [00:02"
     ]
    },
    {
     "name": "stdout",
     "output_type": "stream",
     "text": [
      "                   all        500       2041      0.703      0.607      0.676      0.427\n"
     ]
    },
    {
     "name": "stderr",
     "output_type": "stream",
     "text": [
      "\n"
     ]
    },
    {
     "name": "stdout",
     "output_type": "stream",
     "text": [
      "\n",
      "      Epoch    GPU_mem   box_loss   cls_loss   dfl_loss  Instances       Size\n"
     ]
    },
    {
     "name": "stderr",
     "output_type": "stream",
     "text": [
      "      29/50      2.67G      1.171      1.003      1.206         56        640: 100%|██████████| 188/188 [00:28<00:00,  \n",
      "                 Class     Images  Instances      Box(P          R      mAP50  mAP50-95): 100%|██████████| 16/16 [00:02"
     ]
    },
    {
     "name": "stdout",
     "output_type": "stream",
     "text": [
      "                   all        500       2041      0.766      0.573      0.683      0.426\n"
     ]
    },
    {
     "name": "stderr",
     "output_type": "stream",
     "text": [
      "\n"
     ]
    },
    {
     "name": "stdout",
     "output_type": "stream",
     "text": [
      "\n",
      "      Epoch    GPU_mem   box_loss   cls_loss   dfl_loss  Instances       Size\n"
     ]
    },
    {
     "name": "stderr",
     "output_type": "stream",
     "text": [
      "      30/50      2.67G      1.172     0.9965      1.201         68        640: 100%|██████████| 188/188 [00:27<00:00,  \n",
      "                 Class     Images  Instances      Box(P          R      mAP50  mAP50-95): 100%|██████████| 16/16 [00:02"
     ]
    },
    {
     "name": "stdout",
     "output_type": "stream",
     "text": [
      "                   all        500       2041      0.747       0.59      0.677      0.421\n"
     ]
    },
    {
     "name": "stderr",
     "output_type": "stream",
     "text": [
      "\n"
     ]
    },
    {
     "name": "stdout",
     "output_type": "stream",
     "text": [
      "\n",
      "      Epoch    GPU_mem   box_loss   cls_loss   dfl_loss  Instances       Size\n"
     ]
    },
    {
     "name": "stderr",
     "output_type": "stream",
     "text": [
      "      31/50      2.67G      1.156     0.9855      1.198         66        640: 100%|██████████| 188/188 [00:27<00:00,  \n",
      "                 Class     Images  Instances      Box(P          R      mAP50  mAP50-95): 100%|██████████| 16/16 [00:02"
     ]
    },
    {
     "name": "stdout",
     "output_type": "stream",
     "text": [
      "                   all        500       2041      0.745      0.593      0.685      0.431\n"
     ]
    },
    {
     "name": "stderr",
     "output_type": "stream",
     "text": [
      "\n"
     ]
    },
    {
     "name": "stdout",
     "output_type": "stream",
     "text": [
      "\n",
      "      Epoch    GPU_mem   box_loss   cls_loss   dfl_loss  Instances       Size\n"
     ]
    },
    {
     "name": "stderr",
     "output_type": "stream",
     "text": [
      "      32/50      2.67G      1.143     0.9766      1.192         34        640: 100%|██████████| 188/188 [00:27<00:00,  \n",
      "                 Class     Images  Instances      Box(P          R      mAP50  mAP50-95): 100%|██████████| 16/16 [00:02"
     ]
    },
    {
     "name": "stdout",
     "output_type": "stream",
     "text": [
      "                   all        500       2041      0.769      0.606      0.701      0.442\n"
     ]
    },
    {
     "name": "stderr",
     "output_type": "stream",
     "text": [
      "\n"
     ]
    },
    {
     "name": "stdout",
     "output_type": "stream",
     "text": [
      "\n",
      "      Epoch    GPU_mem   box_loss   cls_loss   dfl_loss  Instances       Size\n"
     ]
    },
    {
     "name": "stderr",
     "output_type": "stream",
     "text": [
      "      33/50      2.67G      1.127     0.9501      1.183         55        640: 100%|██████████| 188/188 [00:27<00:00,  \n",
      "                 Class     Images  Instances      Box(P          R      mAP50  mAP50-95): 100%|██████████| 16/16 [00:02"
     ]
    },
    {
     "name": "stdout",
     "output_type": "stream",
     "text": [
      "                   all        500       2041      0.751      0.606      0.688      0.433\n"
     ]
    },
    {
     "name": "stderr",
     "output_type": "stream",
     "text": [
      "\n"
     ]
    },
    {
     "name": "stdout",
     "output_type": "stream",
     "text": [
      "\n",
      "      Epoch    GPU_mem   box_loss   cls_loss   dfl_loss  Instances       Size\n"
     ]
    },
    {
     "name": "stderr",
     "output_type": "stream",
     "text": [
      "      34/50      2.67G      1.126     0.9502      1.178         62        640: 100%|██████████| 188/188 [00:28<00:00,  \n",
      "                 Class     Images  Instances      Box(P          R      mAP50  mAP50-95): 100%|██████████| 16/16 [00:02"
     ]
    },
    {
     "name": "stdout",
     "output_type": "stream",
     "text": [
      "                   all        500       2041      0.774      0.597      0.697      0.441\n"
     ]
    },
    {
     "name": "stderr",
     "output_type": "stream",
     "text": [
      "\n"
     ]
    },
    {
     "name": "stdout",
     "output_type": "stream",
     "text": [
      "\n",
      "      Epoch    GPU_mem   box_loss   cls_loss   dfl_loss  Instances       Size\n"
     ]
    },
    {
     "name": "stderr",
     "output_type": "stream",
     "text": [
      "      35/50      2.67G      1.119     0.9293      1.175         44        640: 100%|██████████| 188/188 [00:28<00:00,  \n",
      "                 Class     Images  Instances      Box(P          R      mAP50  mAP50-95): 100%|██████████| 16/16 [00:02"
     ]
    },
    {
     "name": "stdout",
     "output_type": "stream",
     "text": [
      "                   all        500       2041       0.78      0.601      0.699       0.44\n"
     ]
    },
    {
     "name": "stderr",
     "output_type": "stream",
     "text": [
      "\n"
     ]
    },
    {
     "name": "stdout",
     "output_type": "stream",
     "text": [
      "\n",
      "      Epoch    GPU_mem   box_loss   cls_loss   dfl_loss  Instances       Size\n"
     ]
    },
    {
     "name": "stderr",
     "output_type": "stream",
     "text": [
      "      36/50      2.67G      1.119     0.9354      1.173         49        640: 100%|██████████| 188/188 [00:27<00:00,  \n",
      "                 Class     Images  Instances      Box(P          R      mAP50  mAP50-95): 100%|██████████| 16/16 [00:02"
     ]
    },
    {
     "name": "stdout",
     "output_type": "stream",
     "text": [
      "                   all        500       2041      0.749      0.616      0.698      0.443\n"
     ]
    },
    {
     "name": "stderr",
     "output_type": "stream",
     "text": [
      "\n"
     ]
    },
    {
     "name": "stdout",
     "output_type": "stream",
     "text": [
      "\n",
      "      Epoch    GPU_mem   box_loss   cls_loss   dfl_loss  Instances       Size\n"
     ]
    },
    {
     "name": "stderr",
     "output_type": "stream",
     "text": [
      "      37/50      2.67G      1.106     0.9207      1.169         52        640: 100%|██████████| 188/188 [00:27<00:00,  \n",
      "                 Class     Images  Instances      Box(P          R      mAP50  mAP50-95): 100%|██████████| 16/16 [00:02"
     ]
    },
    {
     "name": "stdout",
     "output_type": "stream",
     "text": [
      "                   all        500       2041      0.782       0.61      0.705       0.45\n"
     ]
    },
    {
     "name": "stderr",
     "output_type": "stream",
     "text": [
      "\n"
     ]
    },
    {
     "name": "stdout",
     "output_type": "stream",
     "text": [
      "\n",
      "      Epoch    GPU_mem   box_loss   cls_loss   dfl_loss  Instances       Size\n"
     ]
    },
    {
     "name": "stderr",
     "output_type": "stream",
     "text": [
      "      38/50      2.67G      1.098     0.9076      1.156         49        640: 100%|██████████| 188/188 [00:27<00:00,  \n",
      "                 Class     Images  Instances      Box(P          R      mAP50  mAP50-95): 100%|██████████| 16/16 [00:02"
     ]
    },
    {
     "name": "stdout",
     "output_type": "stream",
     "text": [
      "                   all        500       2041      0.773      0.614      0.703      0.448\n"
     ]
    },
    {
     "name": "stderr",
     "output_type": "stream",
     "text": [
      "\n"
     ]
    },
    {
     "name": "stdout",
     "output_type": "stream",
     "text": [
      "\n",
      "      Epoch    GPU_mem   box_loss   cls_loss   dfl_loss  Instances       Size\n"
     ]
    },
    {
     "name": "stderr",
     "output_type": "stream",
     "text": [
      "      39/50      2.67G      1.092     0.9048       1.16         54        640: 100%|██████████| 188/188 [00:27<00:00,  \n",
      "                 Class     Images  Instances      Box(P          R      mAP50  mAP50-95): 100%|██████████| 16/16 [00:02"
     ]
    },
    {
     "name": "stdout",
     "output_type": "stream",
     "text": [
      "                   all        500       2041      0.774       0.61      0.708      0.452\n"
     ]
    },
    {
     "name": "stderr",
     "output_type": "stream",
     "text": [
      "\n"
     ]
    },
    {
     "name": "stdout",
     "output_type": "stream",
     "text": [
      "\n",
      "      Epoch    GPU_mem   box_loss   cls_loss   dfl_loss  Instances       Size\n"
     ]
    },
    {
     "name": "stderr",
     "output_type": "stream",
     "text": [
      "      40/50      2.67G      1.083     0.8895      1.153         79        640: 100%|██████████| 188/188 [00:27<00:00,  \n",
      "                 Class     Images  Instances      Box(P          R      mAP50  mAP50-95): 100%|██████████| 16/16 [00:02"
     ]
    },
    {
     "name": "stdout",
     "output_type": "stream",
     "text": [
      "                   all        500       2041      0.761      0.621      0.709       0.45\n"
     ]
    },
    {
     "name": "stderr",
     "output_type": "stream",
     "text": [
      "\n"
     ]
    },
    {
     "name": "stdout",
     "output_type": "stream",
     "text": [
      "Closing dataloader mosaic\n",
      "\u001b[34m\u001b[1malbumentations: \u001b[0mBlur(p=0.01, blur_limit=(3, 7)), MedianBlur(p=0.01, blur_limit=(3, 7)), ToGray(p=0.01, method='weighted_average', num_output_channels=3), CLAHE(p=0.01, clip_limit=(1.0, 4.0), tile_grid_size=(8, 8))\n",
      "\n",
      "      Epoch    GPU_mem   box_loss   cls_loss   dfl_loss  Instances       Size\n"
     ]
    },
    {
     "name": "stderr",
     "output_type": "stream",
     "text": [
      "      41/50      2.67G      1.057     0.8375      1.124         30        640: 100%|██████████| 188/188 [00:27<00:00,  \n",
      "                 Class     Images  Instances      Box(P          R      mAP50  mAP50-95): 100%|██████████| 16/16 [00:02"
     ]
    },
    {
     "name": "stdout",
     "output_type": "stream",
     "text": [
      "                   all        500       2041      0.777      0.606      0.698      0.445\n"
     ]
    },
    {
     "name": "stderr",
     "output_type": "stream",
     "text": [
      "\n"
     ]
    },
    {
     "name": "stdout",
     "output_type": "stream",
     "text": [
      "\n",
      "      Epoch    GPU_mem   box_loss   cls_loss   dfl_loss  Instances       Size\n"
     ]
    },
    {
     "name": "stderr",
     "output_type": "stream",
     "text": [
      "      42/50      2.67G      1.039     0.8023       1.11         38        640: 100%|██████████| 188/188 [00:27<00:00,  \n",
      "                 Class     Images  Instances      Box(P          R      mAP50  mAP50-95): 100%|██████████| 16/16 [00:02"
     ]
    },
    {
     "name": "stdout",
     "output_type": "stream",
     "text": [
      "                   all        500       2041      0.768      0.614      0.701       0.45\n"
     ]
    },
    {
     "name": "stderr",
     "output_type": "stream",
     "text": [
      "\n"
     ]
    },
    {
     "name": "stdout",
     "output_type": "stream",
     "text": [
      "\n",
      "      Epoch    GPU_mem   box_loss   cls_loss   dfl_loss  Instances       Size\n"
     ]
    },
    {
     "name": "stderr",
     "output_type": "stream",
     "text": [
      "      43/50      2.67G      1.032     0.7922      1.105         28        640: 100%|██████████| 188/188 [00:27<00:00,  \n",
      "                 Class     Images  Instances      Box(P          R      mAP50  mAP50-95): 100%|██████████| 16/16 [00:02"
     ]
    },
    {
     "name": "stdout",
     "output_type": "stream",
     "text": [
      "                   all        500       2041      0.772      0.609      0.703      0.449\n"
     ]
    },
    {
     "name": "stderr",
     "output_type": "stream",
     "text": [
      "\n"
     ]
    },
    {
     "name": "stdout",
     "output_type": "stream",
     "text": [
      "\n",
      "      Epoch    GPU_mem   box_loss   cls_loss   dfl_loss  Instances       Size\n"
     ]
    },
    {
     "name": "stderr",
     "output_type": "stream",
     "text": [
      "      44/50      2.67G      1.021     0.7703      1.093         56        640: 100%|██████████| 188/188 [00:27<00:00,  \n",
      "                 Class     Images  Instances      Box(P          R      mAP50  mAP50-95): 100%|██████████| 16/16 [00:02"
     ]
    },
    {
     "name": "stdout",
     "output_type": "stream",
     "text": [
      "                   all        500       2041      0.776      0.619      0.706      0.453\n"
     ]
    },
    {
     "name": "stderr",
     "output_type": "stream",
     "text": [
      "\n"
     ]
    },
    {
     "name": "stdout",
     "output_type": "stream",
     "text": [
      "\n",
      "      Epoch    GPU_mem   box_loss   cls_loss   dfl_loss  Instances       Size\n"
     ]
    },
    {
     "name": "stderr",
     "output_type": "stream",
     "text": [
      "      45/50      2.67G      1.014     0.7691      1.095         53        640: 100%|██████████| 188/188 [00:27<00:00,  \n",
      "                 Class     Images  Instances      Box(P          R      mAP50  mAP50-95): 100%|██████████| 16/16 [00:02"
     ]
    },
    {
     "name": "stdout",
     "output_type": "stream",
     "text": [
      "                   all        500       2041      0.782      0.609      0.704      0.454\n"
     ]
    },
    {
     "name": "stderr",
     "output_type": "stream",
     "text": [
      "\n"
     ]
    },
    {
     "name": "stdout",
     "output_type": "stream",
     "text": [
      "\n",
      "      Epoch    GPU_mem   box_loss   cls_loss   dfl_loss  Instances       Size\n"
     ]
    },
    {
     "name": "stderr",
     "output_type": "stream",
     "text": [
      "      46/50      2.67G      1.014     0.7695      1.093         17        640: 100%|██████████| 188/188 [00:27<00:00,  \n",
      "                 Class     Images  Instances      Box(P          R      mAP50  mAP50-95): 100%|██████████| 16/16 [00:02"
     ]
    },
    {
     "name": "stdout",
     "output_type": "stream",
     "text": [
      "                   all        500       2041      0.768      0.614      0.703      0.454\n"
     ]
    },
    {
     "name": "stderr",
     "output_type": "stream",
     "text": [
      "\n"
     ]
    },
    {
     "name": "stdout",
     "output_type": "stream",
     "text": [
      "\n",
      "      Epoch    GPU_mem   box_loss   cls_loss   dfl_loss  Instances       Size\n"
     ]
    },
    {
     "name": "stderr",
     "output_type": "stream",
     "text": [
      "      47/50      2.67G      1.002     0.7511      1.086         48        640: 100%|██████████| 188/188 [00:27<00:00,  \n",
      "                 Class     Images  Instances      Box(P          R      mAP50  mAP50-95): 100%|██████████| 16/16 [00:02"
     ]
    },
    {
     "name": "stdout",
     "output_type": "stream",
     "text": [
      "                   all        500       2041      0.774      0.609      0.704      0.453\n"
     ]
    },
    {
     "name": "stderr",
     "output_type": "stream",
     "text": [
      "\n"
     ]
    },
    {
     "name": "stdout",
     "output_type": "stream",
     "text": [
      "\n",
      "      Epoch    GPU_mem   box_loss   cls_loss   dfl_loss  Instances       Size\n"
     ]
    },
    {
     "name": "stderr",
     "output_type": "stream",
     "text": [
      "      48/50      2.67G      1.004      0.753      1.092         44        640: 100%|██████████| 188/188 [00:27<00:00,  \n",
      "                 Class     Images  Instances      Box(P          R      mAP50  mAP50-95): 100%|██████████| 16/16 [00:02"
     ]
    },
    {
     "name": "stdout",
     "output_type": "stream",
     "text": [
      "                   all        500       2041      0.782      0.616      0.706      0.452\n"
     ]
    },
    {
     "name": "stderr",
     "output_type": "stream",
     "text": [
      "\n"
     ]
    },
    {
     "name": "stdout",
     "output_type": "stream",
     "text": [
      "\n",
      "      Epoch    GPU_mem   box_loss   cls_loss   dfl_loss  Instances       Size\n"
     ]
    },
    {
     "name": "stderr",
     "output_type": "stream",
     "text": [
      "      49/50      2.67G      1.003      0.758      1.089         21        640: 100%|██████████| 188/188 [00:27<00:00,  \n",
      "                 Class     Images  Instances      Box(P          R      mAP50  mAP50-95): 100%|██████████| 16/16 [00:02"
     ]
    },
    {
     "name": "stdout",
     "output_type": "stream",
     "text": [
      "                   all        500       2041      0.766       0.62      0.706      0.453\n"
     ]
    },
    {
     "name": "stderr",
     "output_type": "stream",
     "text": [
      "\n"
     ]
    },
    {
     "name": "stdout",
     "output_type": "stream",
     "text": [
      "\n",
      "      Epoch    GPU_mem   box_loss   cls_loss   dfl_loss  Instances       Size\n"
     ]
    },
    {
     "name": "stderr",
     "output_type": "stream",
     "text": [
      "      50/50      2.67G      1.002     0.7494      1.085         20        640: 100%|██████████| 188/188 [00:27<00:00,  \n",
      "                 Class     Images  Instances      Box(P          R      mAP50  mAP50-95): 100%|██████████| 16/16 [00:02"
     ]
    },
    {
     "name": "stdout",
     "output_type": "stream",
     "text": [
      "                   all        500       2041      0.771      0.612      0.704      0.454\n"
     ]
    },
    {
     "name": "stderr",
     "output_type": "stream",
     "text": [
      "\n"
     ]
    },
    {
     "name": "stdout",
     "output_type": "stream",
     "text": [
      "\n",
      "50 epochs completed in 0.441 hours.\n",
      "Optimizer stripped from runs\\detect\\person_detect_v1\\weights\\last.pt, 5.5MB\n",
      "Optimizer stripped from runs\\detect\\person_detect_v1\\weights\\best.pt, 5.5MB\n",
      "\n",
      "Validating runs\\detect\\person_detect_v1\\weights\\best.pt...\n",
      "Ultralytics 8.3.152  Python-3.11.11 torch-2.5.1+cu121 CUDA:0 (NVIDIA GeForce RTX 4060 Laptop GPU, 8188MiB)\n",
      "YOLO11n summary (fused): 100 layers, 2,582,347 parameters, 0 gradients, 6.3 GFLOPs\n"
     ]
    },
    {
     "name": "stderr",
     "output_type": "stream",
     "text": [
      "                 Class     Images  Instances      Box(P          R      mAP50  mAP50-95): 100%|██████████| 16/16 [00:03\n"
     ]
    },
    {
     "name": "stdout",
     "output_type": "stream",
     "text": [
      "                   all        500       2041      0.767      0.614      0.703      0.455\n",
      "Speed: 0.3ms preprocess, 1.4ms inference, 0.0ms loss, 1.6ms postprocess per image\n",
      "Results saved to \u001b[1mruns\\detect\\person_detect_v1\u001b[0m\n"
     ]
    }
   ],
   "source": [
    "# Train with custom learning rate and optimizer\n",
    "results = model.train(\n",
    "    data=os.path.join(export_dir, \"dataset.yaml\"),\n",
    "    epochs=50,\n",
    "    batch=16,\n",
    "    imgsz=640,\n",
    "    optimizer=\"AdamW\",\n",
    "    lr0=0.001,              # Standard starting LR\n",
    "    lrf=0.01,               # Final LR after decay\n",
    "    momentum=0.9,\n",
    "    weight_decay=0.0005,    \n",
    "    warmup_epochs=3,        # Stabilize early training\n",
    "    warmup_momentum=0.8,\n",
    "    warmup_bias_lr=0.1,\n",
    "    cos_lr=True,            # Smooth cosine decay helps convergence\n",
    "    device=0,\n",
    "    workers=16,\n",
    "    project=PROJECT,\n",
    "    name=NAME,\n",
    "    close_mosaic=10         # Disable mosaic after last 10 epochs\n",
    ")\n"
   ]
  },
  {
   "cell_type": "markdown",
   "id": "eac9470b-2382-4d8f-9a76-785a876f26ef",
   "metadata": {},
   "source": [
    "## Model v2\n",
    "\n",
    "<html>\n",
    "    <li>Yolo 11n</li>\n",
    "    <li>Freeze Backbone and Neck</li>\n",
    "</html>"
   ]
  },
  {
   "cell_type": "code",
   "execution_count": 47,
   "id": "49041268-6485-4c7e-9ff4-226379b089c9",
   "metadata": {
    "colab": {
     "base_uri": "https://localhost:8080/"
    },
    "id": "49041268-6485-4c7e-9ff4-226379b089c9",
    "outputId": "05638109-b9a4-46d9-e91f-3323d50dd3fa"
   },
   "outputs": [],
   "source": [
    "PROJECT = \"runs/detect\"\n",
    "NAME = \"person_detect_v2\"\n",
    "\n",
    "shutil.rmtree(os.path.join(PROJECT, NAME), ignore_errors=True)\n"
   ]
  },
  {
   "cell_type": "code",
   "execution_count": 48,
   "id": "66c9be1e-c42f-4afb-9da0-f022f86cb61e",
   "metadata": {},
   "outputs": [
    {
     "name": "stdout",
     "output_type": "stream",
     "text": [
      "DetectionModel(\n",
      "  (model): Sequential(\n",
      "    (0): Conv(\n",
      "      (conv): Conv2d(3, 16, kernel_size=(3, 3), stride=(2, 2), padding=(1, 1), bias=False)\n",
      "      (bn): BatchNorm2d(16, eps=0.001, momentum=0.03, affine=True, track_running_stats=True)\n",
      "      (act): SiLU(inplace=True)\n",
      "    )\n",
      "    (1): Conv(\n",
      "      (conv): Conv2d(16, 32, kernel_size=(3, 3), stride=(2, 2), padding=(1, 1), bias=False)\n",
      "      (bn): BatchNorm2d(32, eps=0.001, momentum=0.03, affine=True, track_running_stats=True)\n",
      "      (act): SiLU(inplace=True)\n",
      "    )\n",
      "    (2): C3k2(\n",
      "      (cv1): Conv(\n",
      "        (conv): Conv2d(32, 32, kernel_size=(1, 1), stride=(1, 1), bias=False)\n",
      "        (bn): BatchNorm2d(32, eps=0.001, momentum=0.03, affine=True, track_running_stats=True)\n",
      "        (act): SiLU(inplace=True)\n",
      "      )\n",
      "      (cv2): Conv(\n",
      "        (conv): Conv2d(48, 64, kernel_size=(1, 1), stride=(1, 1), bias=False)\n",
      "        (bn): BatchNorm2d(64, eps=0.001, momentum=0.03, affine=True, track_running_stats=True)\n",
      "        (act): SiLU(inplace=True)\n",
      "      )\n",
      "      (m): ModuleList(\n",
      "        (0): Bottleneck(\n",
      "          (cv1): Conv(\n",
      "            (conv): Conv2d(16, 8, kernel_size=(3, 3), stride=(1, 1), padding=(1, 1), bias=False)\n",
      "            (bn): BatchNorm2d(8, eps=0.001, momentum=0.03, affine=True, track_running_stats=True)\n",
      "            (act): SiLU(inplace=True)\n",
      "          )\n",
      "          (cv2): Conv(\n",
      "            (conv): Conv2d(8, 16, kernel_size=(3, 3), stride=(1, 1), padding=(1, 1), bias=False)\n",
      "            (bn): BatchNorm2d(16, eps=0.001, momentum=0.03, affine=True, track_running_stats=True)\n",
      "            (act): SiLU(inplace=True)\n",
      "          )\n",
      "        )\n",
      "      )\n",
      "    )\n",
      "    (3): Conv(\n",
      "      (conv): Conv2d(64, 64, kernel_size=(3, 3), stride=(2, 2), padding=(1, 1), bias=False)\n",
      "      (bn): BatchNorm2d(64, eps=0.001, momentum=0.03, affine=True, track_running_stats=True)\n",
      "      (act): SiLU(inplace=True)\n",
      "    )\n",
      "    (4): C3k2(\n",
      "      (cv1): Conv(\n",
      "        (conv): Conv2d(64, 64, kernel_size=(1, 1), stride=(1, 1), bias=False)\n",
      "        (bn): BatchNorm2d(64, eps=0.001, momentum=0.03, affine=True, track_running_stats=True)\n",
      "        (act): SiLU(inplace=True)\n",
      "      )\n",
      "      (cv2): Conv(\n",
      "        (conv): Conv2d(96, 128, kernel_size=(1, 1), stride=(1, 1), bias=False)\n",
      "        (bn): BatchNorm2d(128, eps=0.001, momentum=0.03, affine=True, track_running_stats=True)\n",
      "        (act): SiLU(inplace=True)\n",
      "      )\n",
      "      (m): ModuleList(\n",
      "        (0): Bottleneck(\n",
      "          (cv1): Conv(\n",
      "            (conv): Conv2d(32, 16, kernel_size=(3, 3), stride=(1, 1), padding=(1, 1), bias=False)\n",
      "            (bn): BatchNorm2d(16, eps=0.001, momentum=0.03, affine=True, track_running_stats=True)\n",
      "            (act): SiLU(inplace=True)\n",
      "          )\n",
      "          (cv2): Conv(\n",
      "            (conv): Conv2d(16, 32, kernel_size=(3, 3), stride=(1, 1), padding=(1, 1), bias=False)\n",
      "            (bn): BatchNorm2d(32, eps=0.001, momentum=0.03, affine=True, track_running_stats=True)\n",
      "            (act): SiLU(inplace=True)\n",
      "          )\n",
      "        )\n",
      "      )\n",
      "    )\n",
      "    (5): Conv(\n",
      "      (conv): Conv2d(128, 128, kernel_size=(3, 3), stride=(2, 2), padding=(1, 1), bias=False)\n",
      "      (bn): BatchNorm2d(128, eps=0.001, momentum=0.03, affine=True, track_running_stats=True)\n",
      "      (act): SiLU(inplace=True)\n",
      "    )\n",
      "    (6): C3k2(\n",
      "      (cv1): Conv(\n",
      "        (conv): Conv2d(128, 128, kernel_size=(1, 1), stride=(1, 1), bias=False)\n",
      "        (bn): BatchNorm2d(128, eps=0.001, momentum=0.03, affine=True, track_running_stats=True)\n",
      "        (act): SiLU(inplace=True)\n",
      "      )\n",
      "      (cv2): Conv(\n",
      "        (conv): Conv2d(192, 128, kernel_size=(1, 1), stride=(1, 1), bias=False)\n",
      "        (bn): BatchNorm2d(128, eps=0.001, momentum=0.03, affine=True, track_running_stats=True)\n",
      "        (act): SiLU(inplace=True)\n",
      "      )\n",
      "      (m): ModuleList(\n",
      "        (0): C3k(\n",
      "          (cv1): Conv(\n",
      "            (conv): Conv2d(64, 32, kernel_size=(1, 1), stride=(1, 1), bias=False)\n",
      "            (bn): BatchNorm2d(32, eps=0.001, momentum=0.03, affine=True, track_running_stats=True)\n",
      "            (act): SiLU(inplace=True)\n",
      "          )\n",
      "          (cv2): Conv(\n",
      "            (conv): Conv2d(64, 32, kernel_size=(1, 1), stride=(1, 1), bias=False)\n",
      "            (bn): BatchNorm2d(32, eps=0.001, momentum=0.03, affine=True, track_running_stats=True)\n",
      "            (act): SiLU(inplace=True)\n",
      "          )\n",
      "          (cv3): Conv(\n",
      "            (conv): Conv2d(64, 64, kernel_size=(1, 1), stride=(1, 1), bias=False)\n",
      "            (bn): BatchNorm2d(64, eps=0.001, momentum=0.03, affine=True, track_running_stats=True)\n",
      "            (act): SiLU(inplace=True)\n",
      "          )\n",
      "          (m): Sequential(\n",
      "            (0): Bottleneck(\n",
      "              (cv1): Conv(\n",
      "                (conv): Conv2d(32, 32, kernel_size=(3, 3), stride=(1, 1), padding=(1, 1), bias=False)\n",
      "                (bn): BatchNorm2d(32, eps=0.001, momentum=0.03, affine=True, track_running_stats=True)\n",
      "                (act): SiLU(inplace=True)\n",
      "              )\n",
      "              (cv2): Conv(\n",
      "                (conv): Conv2d(32, 32, kernel_size=(3, 3), stride=(1, 1), padding=(1, 1), bias=False)\n",
      "                (bn): BatchNorm2d(32, eps=0.001, momentum=0.03, affine=True, track_running_stats=True)\n",
      "                (act): SiLU(inplace=True)\n",
      "              )\n",
      "            )\n",
      "            (1): Bottleneck(\n",
      "              (cv1): Conv(\n",
      "                (conv): Conv2d(32, 32, kernel_size=(3, 3), stride=(1, 1), padding=(1, 1), bias=False)\n",
      "                (bn): BatchNorm2d(32, eps=0.001, momentum=0.03, affine=True, track_running_stats=True)\n",
      "                (act): SiLU(inplace=True)\n",
      "              )\n",
      "              (cv2): Conv(\n",
      "                (conv): Conv2d(32, 32, kernel_size=(3, 3), stride=(1, 1), padding=(1, 1), bias=False)\n",
      "                (bn): BatchNorm2d(32, eps=0.001, momentum=0.03, affine=True, track_running_stats=True)\n",
      "                (act): SiLU(inplace=True)\n",
      "              )\n",
      "            )\n",
      "          )\n",
      "        )\n",
      "      )\n",
      "    )\n",
      "    (7): Conv(\n",
      "      (conv): Conv2d(128, 256, kernel_size=(3, 3), stride=(2, 2), padding=(1, 1), bias=False)\n",
      "      (bn): BatchNorm2d(256, eps=0.001, momentum=0.03, affine=True, track_running_stats=True)\n",
      "      (act): SiLU(inplace=True)\n",
      "    )\n",
      "    (8): C3k2(\n",
      "      (cv1): Conv(\n",
      "        (conv): Conv2d(256, 256, kernel_size=(1, 1), stride=(1, 1), bias=False)\n",
      "        (bn): BatchNorm2d(256, eps=0.001, momentum=0.03, affine=True, track_running_stats=True)\n",
      "        (act): SiLU(inplace=True)\n",
      "      )\n",
      "      (cv2): Conv(\n",
      "        (conv): Conv2d(384, 256, kernel_size=(1, 1), stride=(1, 1), bias=False)\n",
      "        (bn): BatchNorm2d(256, eps=0.001, momentum=0.03, affine=True, track_running_stats=True)\n",
      "        (act): SiLU(inplace=True)\n",
      "      )\n",
      "      (m): ModuleList(\n",
      "        (0): C3k(\n",
      "          (cv1): Conv(\n",
      "            (conv): Conv2d(128, 64, kernel_size=(1, 1), stride=(1, 1), bias=False)\n",
      "            (bn): BatchNorm2d(64, eps=0.001, momentum=0.03, affine=True, track_running_stats=True)\n",
      "            (act): SiLU(inplace=True)\n",
      "          )\n",
      "          (cv2): Conv(\n",
      "            (conv): Conv2d(128, 64, kernel_size=(1, 1), stride=(1, 1), bias=False)\n",
      "            (bn): BatchNorm2d(64, eps=0.001, momentum=0.03, affine=True, track_running_stats=True)\n",
      "            (act): SiLU(inplace=True)\n",
      "          )\n",
      "          (cv3): Conv(\n",
      "            (conv): Conv2d(128, 128, kernel_size=(1, 1), stride=(1, 1), bias=False)\n",
      "            (bn): BatchNorm2d(128, eps=0.001, momentum=0.03, affine=True, track_running_stats=True)\n",
      "            (act): SiLU(inplace=True)\n",
      "          )\n",
      "          (m): Sequential(\n",
      "            (0): Bottleneck(\n",
      "              (cv1): Conv(\n",
      "                (conv): Conv2d(64, 64, kernel_size=(3, 3), stride=(1, 1), padding=(1, 1), bias=False)\n",
      "                (bn): BatchNorm2d(64, eps=0.001, momentum=0.03, affine=True, track_running_stats=True)\n",
      "                (act): SiLU(inplace=True)\n",
      "              )\n",
      "              (cv2): Conv(\n",
      "                (conv): Conv2d(64, 64, kernel_size=(3, 3), stride=(1, 1), padding=(1, 1), bias=False)\n",
      "                (bn): BatchNorm2d(64, eps=0.001, momentum=0.03, affine=True, track_running_stats=True)\n",
      "                (act): SiLU(inplace=True)\n",
      "              )\n",
      "            )\n",
      "            (1): Bottleneck(\n",
      "              (cv1): Conv(\n",
      "                (conv): Conv2d(64, 64, kernel_size=(3, 3), stride=(1, 1), padding=(1, 1), bias=False)\n",
      "                (bn): BatchNorm2d(64, eps=0.001, momentum=0.03, affine=True, track_running_stats=True)\n",
      "                (act): SiLU(inplace=True)\n",
      "              )\n",
      "              (cv2): Conv(\n",
      "                (conv): Conv2d(64, 64, kernel_size=(3, 3), stride=(1, 1), padding=(1, 1), bias=False)\n",
      "                (bn): BatchNorm2d(64, eps=0.001, momentum=0.03, affine=True, track_running_stats=True)\n",
      "                (act): SiLU(inplace=True)\n",
      "              )\n",
      "            )\n",
      "          )\n",
      "        )\n",
      "      )\n",
      "    )\n",
      "    (9): SPPF(\n",
      "      (cv1): Conv(\n",
      "        (conv): Conv2d(256, 128, kernel_size=(1, 1), stride=(1, 1), bias=False)\n",
      "        (bn): BatchNorm2d(128, eps=0.001, momentum=0.03, affine=True, track_running_stats=True)\n",
      "        (act): SiLU(inplace=True)\n",
      "      )\n",
      "      (cv2): Conv(\n",
      "        (conv): Conv2d(512, 256, kernel_size=(1, 1), stride=(1, 1), bias=False)\n",
      "        (bn): BatchNorm2d(256, eps=0.001, momentum=0.03, affine=True, track_running_stats=True)\n",
      "        (act): SiLU(inplace=True)\n",
      "      )\n",
      "      (m): MaxPool2d(kernel_size=5, stride=1, padding=2, dilation=1, ceil_mode=False)\n",
      "    )\n",
      "    (10): C2PSA(\n",
      "      (cv1): Conv(\n",
      "        (conv): Conv2d(256, 256, kernel_size=(1, 1), stride=(1, 1), bias=False)\n",
      "        (bn): BatchNorm2d(256, eps=0.001, momentum=0.03, affine=True, track_running_stats=True)\n",
      "        (act): SiLU(inplace=True)\n",
      "      )\n",
      "      (cv2): Conv(\n",
      "        (conv): Conv2d(256, 256, kernel_size=(1, 1), stride=(1, 1), bias=False)\n",
      "        (bn): BatchNorm2d(256, eps=0.001, momentum=0.03, affine=True, track_running_stats=True)\n",
      "        (act): SiLU(inplace=True)\n",
      "      )\n",
      "      (m): Sequential(\n",
      "        (0): PSABlock(\n",
      "          (attn): Attention(\n",
      "            (qkv): Conv(\n",
      "              (conv): Conv2d(128, 256, kernel_size=(1, 1), stride=(1, 1), bias=False)\n",
      "              (bn): BatchNorm2d(256, eps=0.001, momentum=0.03, affine=True, track_running_stats=True)\n",
      "              (act): Identity()\n",
      "            )\n",
      "            (proj): Conv(\n",
      "              (conv): Conv2d(128, 128, kernel_size=(1, 1), stride=(1, 1), bias=False)\n",
      "              (bn): BatchNorm2d(128, eps=0.001, momentum=0.03, affine=True, track_running_stats=True)\n",
      "              (act): Identity()\n",
      "            )\n",
      "            (pe): Conv(\n",
      "              (conv): Conv2d(128, 128, kernel_size=(3, 3), stride=(1, 1), padding=(1, 1), groups=128, bias=False)\n",
      "              (bn): BatchNorm2d(128, eps=0.001, momentum=0.03, affine=True, track_running_stats=True)\n",
      "              (act): Identity()\n",
      "            )\n",
      "          )\n",
      "          (ffn): Sequential(\n",
      "            (0): Conv(\n",
      "              (conv): Conv2d(128, 256, kernel_size=(1, 1), stride=(1, 1), bias=False)\n",
      "              (bn): BatchNorm2d(256, eps=0.001, momentum=0.03, affine=True, track_running_stats=True)\n",
      "              (act): SiLU(inplace=True)\n",
      "            )\n",
      "            (1): Conv(\n",
      "              (conv): Conv2d(256, 128, kernel_size=(1, 1), stride=(1, 1), bias=False)\n",
      "              (bn): BatchNorm2d(128, eps=0.001, momentum=0.03, affine=True, track_running_stats=True)\n",
      "              (act): Identity()\n",
      "            )\n",
      "          )\n",
      "        )\n",
      "      )\n",
      "    )\n",
      "    (11): Upsample(scale_factor=2.0, mode='nearest')\n",
      "    (12): Concat()\n",
      "    (13): C3k2(\n",
      "      (cv1): Conv(\n",
      "        (conv): Conv2d(384, 128, kernel_size=(1, 1), stride=(1, 1), bias=False)\n",
      "        (bn): BatchNorm2d(128, eps=0.001, momentum=0.03, affine=True, track_running_stats=True)\n",
      "        (act): SiLU(inplace=True)\n",
      "      )\n",
      "      (cv2): Conv(\n",
      "        (conv): Conv2d(192, 128, kernel_size=(1, 1), stride=(1, 1), bias=False)\n",
      "        (bn): BatchNorm2d(128, eps=0.001, momentum=0.03, affine=True, track_running_stats=True)\n",
      "        (act): SiLU(inplace=True)\n",
      "      )\n",
      "      (m): ModuleList(\n",
      "        (0): Bottleneck(\n",
      "          (cv1): Conv(\n",
      "            (conv): Conv2d(64, 32, kernel_size=(3, 3), stride=(1, 1), padding=(1, 1), bias=False)\n",
      "            (bn): BatchNorm2d(32, eps=0.001, momentum=0.03, affine=True, track_running_stats=True)\n",
      "            (act): SiLU(inplace=True)\n",
      "          )\n",
      "          (cv2): Conv(\n",
      "            (conv): Conv2d(32, 64, kernel_size=(3, 3), stride=(1, 1), padding=(1, 1), bias=False)\n",
      "            (bn): BatchNorm2d(64, eps=0.001, momentum=0.03, affine=True, track_running_stats=True)\n",
      "            (act): SiLU(inplace=True)\n",
      "          )\n",
      "        )\n",
      "      )\n",
      "    )\n",
      "    (14): Upsample(scale_factor=2.0, mode='nearest')\n",
      "    (15): Concat()\n",
      "    (16): C3k2(\n",
      "      (cv1): Conv(\n",
      "        (conv): Conv2d(256, 64, kernel_size=(1, 1), stride=(1, 1), bias=False)\n",
      "        (bn): BatchNorm2d(64, eps=0.001, momentum=0.03, affine=True, track_running_stats=True)\n",
      "        (act): SiLU(inplace=True)\n",
      "      )\n",
      "      (cv2): Conv(\n",
      "        (conv): Conv2d(96, 64, kernel_size=(1, 1), stride=(1, 1), bias=False)\n",
      "        (bn): BatchNorm2d(64, eps=0.001, momentum=0.03, affine=True, track_running_stats=True)\n",
      "        (act): SiLU(inplace=True)\n",
      "      )\n",
      "      (m): ModuleList(\n",
      "        (0): Bottleneck(\n",
      "          (cv1): Conv(\n",
      "            (conv): Conv2d(32, 16, kernel_size=(3, 3), stride=(1, 1), padding=(1, 1), bias=False)\n",
      "            (bn): BatchNorm2d(16, eps=0.001, momentum=0.03, affine=True, track_running_stats=True)\n",
      "            (act): SiLU(inplace=True)\n",
      "          )\n",
      "          (cv2): Conv(\n",
      "            (conv): Conv2d(16, 32, kernel_size=(3, 3), stride=(1, 1), padding=(1, 1), bias=False)\n",
      "            (bn): BatchNorm2d(32, eps=0.001, momentum=0.03, affine=True, track_running_stats=True)\n",
      "            (act): SiLU(inplace=True)\n",
      "          )\n",
      "        )\n",
      "      )\n",
      "    )\n",
      "    (17): Conv(\n",
      "      (conv): Conv2d(64, 64, kernel_size=(3, 3), stride=(2, 2), padding=(1, 1), bias=False)\n",
      "      (bn): BatchNorm2d(64, eps=0.001, momentum=0.03, affine=True, track_running_stats=True)\n",
      "      (act): SiLU(inplace=True)\n",
      "    )\n",
      "    (18): Concat()\n",
      "    (19): C3k2(\n",
      "      (cv1): Conv(\n",
      "        (conv): Conv2d(192, 128, kernel_size=(1, 1), stride=(1, 1), bias=False)\n",
      "        (bn): BatchNorm2d(128, eps=0.001, momentum=0.03, affine=True, track_running_stats=True)\n",
      "        (act): SiLU(inplace=True)\n",
      "      )\n",
      "      (cv2): Conv(\n",
      "        (conv): Conv2d(192, 128, kernel_size=(1, 1), stride=(1, 1), bias=False)\n",
      "        (bn): BatchNorm2d(128, eps=0.001, momentum=0.03, affine=True, track_running_stats=True)\n",
      "        (act): SiLU(inplace=True)\n",
      "      )\n",
      "      (m): ModuleList(\n",
      "        (0): Bottleneck(\n",
      "          (cv1): Conv(\n",
      "            (conv): Conv2d(64, 32, kernel_size=(3, 3), stride=(1, 1), padding=(1, 1), bias=False)\n",
      "            (bn): BatchNorm2d(32, eps=0.001, momentum=0.03, affine=True, track_running_stats=True)\n",
      "            (act): SiLU(inplace=True)\n",
      "          )\n",
      "          (cv2): Conv(\n",
      "            (conv): Conv2d(32, 64, kernel_size=(3, 3), stride=(1, 1), padding=(1, 1), bias=False)\n",
      "            (bn): BatchNorm2d(64, eps=0.001, momentum=0.03, affine=True, track_running_stats=True)\n",
      "            (act): SiLU(inplace=True)\n",
      "          )\n",
      "        )\n",
      "      )\n",
      "    )\n",
      "    (20): Conv(\n",
      "      (conv): Conv2d(128, 128, kernel_size=(3, 3), stride=(2, 2), padding=(1, 1), bias=False)\n",
      "      (bn): BatchNorm2d(128, eps=0.001, momentum=0.03, affine=True, track_running_stats=True)\n",
      "      (act): SiLU(inplace=True)\n",
      "    )\n",
      "    (21): Concat()\n",
      "    (22): C3k2(\n",
      "      (cv1): Conv(\n",
      "        (conv): Conv2d(384, 256, kernel_size=(1, 1), stride=(1, 1), bias=False)\n",
      "        (bn): BatchNorm2d(256, eps=0.001, momentum=0.03, affine=True, track_running_stats=True)\n",
      "        (act): SiLU(inplace=True)\n",
      "      )\n",
      "      (cv2): Conv(\n",
      "        (conv): Conv2d(384, 256, kernel_size=(1, 1), stride=(1, 1), bias=False)\n",
      "        (bn): BatchNorm2d(256, eps=0.001, momentum=0.03, affine=True, track_running_stats=True)\n",
      "        (act): SiLU(inplace=True)\n",
      "      )\n",
      "      (m): ModuleList(\n",
      "        (0): C3k(\n",
      "          (cv1): Conv(\n",
      "            (conv): Conv2d(128, 64, kernel_size=(1, 1), stride=(1, 1), bias=False)\n",
      "            (bn): BatchNorm2d(64, eps=0.001, momentum=0.03, affine=True, track_running_stats=True)\n",
      "            (act): SiLU(inplace=True)\n",
      "          )\n",
      "          (cv2): Conv(\n",
      "            (conv): Conv2d(128, 64, kernel_size=(1, 1), stride=(1, 1), bias=False)\n",
      "            (bn): BatchNorm2d(64, eps=0.001, momentum=0.03, affine=True, track_running_stats=True)\n",
      "            (act): SiLU(inplace=True)\n",
      "          )\n",
      "          (cv3): Conv(\n",
      "            (conv): Conv2d(128, 128, kernel_size=(1, 1), stride=(1, 1), bias=False)\n",
      "            (bn): BatchNorm2d(128, eps=0.001, momentum=0.03, affine=True, track_running_stats=True)\n",
      "            (act): SiLU(inplace=True)\n",
      "          )\n",
      "          (m): Sequential(\n",
      "            (0): Bottleneck(\n",
      "              (cv1): Conv(\n",
      "                (conv): Conv2d(64, 64, kernel_size=(3, 3), stride=(1, 1), padding=(1, 1), bias=False)\n",
      "                (bn): BatchNorm2d(64, eps=0.001, momentum=0.03, affine=True, track_running_stats=True)\n",
      "                (act): SiLU(inplace=True)\n",
      "              )\n",
      "              (cv2): Conv(\n",
      "                (conv): Conv2d(64, 64, kernel_size=(3, 3), stride=(1, 1), padding=(1, 1), bias=False)\n",
      "                (bn): BatchNorm2d(64, eps=0.001, momentum=0.03, affine=True, track_running_stats=True)\n",
      "                (act): SiLU(inplace=True)\n",
      "              )\n",
      "            )\n",
      "            (1): Bottleneck(\n",
      "              (cv1): Conv(\n",
      "                (conv): Conv2d(64, 64, kernel_size=(3, 3), stride=(1, 1), padding=(1, 1), bias=False)\n",
      "                (bn): BatchNorm2d(64, eps=0.001, momentum=0.03, affine=True, track_running_stats=True)\n",
      "                (act): SiLU(inplace=True)\n",
      "              )\n",
      "              (cv2): Conv(\n",
      "                (conv): Conv2d(64, 64, kernel_size=(3, 3), stride=(1, 1), padding=(1, 1), bias=False)\n",
      "                (bn): BatchNorm2d(64, eps=0.001, momentum=0.03, affine=True, track_running_stats=True)\n",
      "                (act): SiLU(inplace=True)\n",
      "              )\n",
      "            )\n",
      "          )\n",
      "        )\n",
      "      )\n",
      "    )\n",
      "    (23): Detect(\n",
      "      (cv2): ModuleList(\n",
      "        (0): Sequential(\n",
      "          (0): Conv(\n",
      "            (conv): Conv2d(64, 64, kernel_size=(3, 3), stride=(1, 1), padding=(1, 1), bias=False)\n",
      "            (bn): BatchNorm2d(64, eps=0.001, momentum=0.03, affine=True, track_running_stats=True)\n",
      "            (act): SiLU(inplace=True)\n",
      "          )\n",
      "          (1): Conv(\n",
      "            (conv): Conv2d(64, 64, kernel_size=(3, 3), stride=(1, 1), padding=(1, 1), bias=False)\n",
      "            (bn): BatchNorm2d(64, eps=0.001, momentum=0.03, affine=True, track_running_stats=True)\n",
      "            (act): SiLU(inplace=True)\n",
      "          )\n",
      "          (2): Conv2d(64, 64, kernel_size=(1, 1), stride=(1, 1))\n",
      "        )\n",
      "        (1): Sequential(\n",
      "          (0): Conv(\n",
      "            (conv): Conv2d(128, 64, kernel_size=(3, 3), stride=(1, 1), padding=(1, 1), bias=False)\n",
      "            (bn): BatchNorm2d(64, eps=0.001, momentum=0.03, affine=True, track_running_stats=True)\n",
      "            (act): SiLU(inplace=True)\n",
      "          )\n",
      "          (1): Conv(\n",
      "            (conv): Conv2d(64, 64, kernel_size=(3, 3), stride=(1, 1), padding=(1, 1), bias=False)\n",
      "            (bn): BatchNorm2d(64, eps=0.001, momentum=0.03, affine=True, track_running_stats=True)\n",
      "            (act): SiLU(inplace=True)\n",
      "          )\n",
      "          (2): Conv2d(64, 64, kernel_size=(1, 1), stride=(1, 1))\n",
      "        )\n",
      "        (2): Sequential(\n",
      "          (0): Conv(\n",
      "            (conv): Conv2d(256, 64, kernel_size=(3, 3), stride=(1, 1), padding=(1, 1), bias=False)\n",
      "            (bn): BatchNorm2d(64, eps=0.001, momentum=0.03, affine=True, track_running_stats=True)\n",
      "            (act): SiLU(inplace=True)\n",
      "          )\n",
      "          (1): Conv(\n",
      "            (conv): Conv2d(64, 64, kernel_size=(3, 3), stride=(1, 1), padding=(1, 1), bias=False)\n",
      "            (bn): BatchNorm2d(64, eps=0.001, momentum=0.03, affine=True, track_running_stats=True)\n",
      "            (act): SiLU(inplace=True)\n",
      "          )\n",
      "          (2): Conv2d(64, 64, kernel_size=(1, 1), stride=(1, 1))\n",
      "        )\n",
      "      )\n",
      "      (cv3): ModuleList(\n",
      "        (0): Sequential(\n",
      "          (0): Sequential(\n",
      "            (0): DWConv(\n",
      "              (conv): Conv2d(64, 64, kernel_size=(3, 3), stride=(1, 1), padding=(1, 1), groups=64, bias=False)\n",
      "              (bn): BatchNorm2d(64, eps=0.001, momentum=0.03, affine=True, track_running_stats=True)\n",
      "              (act): SiLU(inplace=True)\n",
      "            )\n",
      "            (1): Conv(\n",
      "              (conv): Conv2d(64, 80, kernel_size=(1, 1), stride=(1, 1), bias=False)\n",
      "              (bn): BatchNorm2d(80, eps=0.001, momentum=0.03, affine=True, track_running_stats=True)\n",
      "              (act): SiLU(inplace=True)\n",
      "            )\n",
      "          )\n",
      "          (1): Sequential(\n",
      "            (0): DWConv(\n",
      "              (conv): Conv2d(80, 80, kernel_size=(3, 3), stride=(1, 1), padding=(1, 1), groups=80, bias=False)\n",
      "              (bn): BatchNorm2d(80, eps=0.001, momentum=0.03, affine=True, track_running_stats=True)\n",
      "              (act): SiLU(inplace=True)\n",
      "            )\n",
      "            (1): Conv(\n",
      "              (conv): Conv2d(80, 80, kernel_size=(1, 1), stride=(1, 1), bias=False)\n",
      "              (bn): BatchNorm2d(80, eps=0.001, momentum=0.03, affine=True, track_running_stats=True)\n",
      "              (act): SiLU(inplace=True)\n",
      "            )\n",
      "          )\n",
      "          (2): Conv2d(80, 80, kernel_size=(1, 1), stride=(1, 1))\n",
      "        )\n",
      "        (1): Sequential(\n",
      "          (0): Sequential(\n",
      "            (0): DWConv(\n",
      "              (conv): Conv2d(128, 128, kernel_size=(3, 3), stride=(1, 1), padding=(1, 1), groups=128, bias=False)\n",
      "              (bn): BatchNorm2d(128, eps=0.001, momentum=0.03, affine=True, track_running_stats=True)\n",
      "              (act): SiLU(inplace=True)\n",
      "            )\n",
      "            (1): Conv(\n",
      "              (conv): Conv2d(128, 80, kernel_size=(1, 1), stride=(1, 1), bias=False)\n",
      "              (bn): BatchNorm2d(80, eps=0.001, momentum=0.03, affine=True, track_running_stats=True)\n",
      "              (act): SiLU(inplace=True)\n",
      "            )\n",
      "          )\n",
      "          (1): Sequential(\n",
      "            (0): DWConv(\n",
      "              (conv): Conv2d(80, 80, kernel_size=(3, 3), stride=(1, 1), padding=(1, 1), groups=80, bias=False)\n",
      "              (bn): BatchNorm2d(80, eps=0.001, momentum=0.03, affine=True, track_running_stats=True)\n",
      "              (act): SiLU(inplace=True)\n",
      "            )\n",
      "            (1): Conv(\n",
      "              (conv): Conv2d(80, 80, kernel_size=(1, 1), stride=(1, 1), bias=False)\n",
      "              (bn): BatchNorm2d(80, eps=0.001, momentum=0.03, affine=True, track_running_stats=True)\n",
      "              (act): SiLU(inplace=True)\n",
      "            )\n",
      "          )\n",
      "          (2): Conv2d(80, 80, kernel_size=(1, 1), stride=(1, 1))\n",
      "        )\n",
      "        (2): Sequential(\n",
      "          (0): Sequential(\n",
      "            (0): DWConv(\n",
      "              (conv): Conv2d(256, 256, kernel_size=(3, 3), stride=(1, 1), padding=(1, 1), groups=256, bias=False)\n",
      "              (bn): BatchNorm2d(256, eps=0.001, momentum=0.03, affine=True, track_running_stats=True)\n",
      "              (act): SiLU(inplace=True)\n",
      "            )\n",
      "            (1): Conv(\n",
      "              (conv): Conv2d(256, 80, kernel_size=(1, 1), stride=(1, 1), bias=False)\n",
      "              (bn): BatchNorm2d(80, eps=0.001, momentum=0.03, affine=True, track_running_stats=True)\n",
      "              (act): SiLU(inplace=True)\n",
      "            )\n",
      "          )\n",
      "          (1): Sequential(\n",
      "            (0): DWConv(\n",
      "              (conv): Conv2d(80, 80, kernel_size=(3, 3), stride=(1, 1), padding=(1, 1), groups=80, bias=False)\n",
      "              (bn): BatchNorm2d(80, eps=0.001, momentum=0.03, affine=True, track_running_stats=True)\n",
      "              (act): SiLU(inplace=True)\n",
      "            )\n",
      "            (1): Conv(\n",
      "              (conv): Conv2d(80, 80, kernel_size=(1, 1), stride=(1, 1), bias=False)\n",
      "              (bn): BatchNorm2d(80, eps=0.001, momentum=0.03, affine=True, track_running_stats=True)\n",
      "              (act): SiLU(inplace=True)\n",
      "            )\n",
      "          )\n",
      "          (2): Conv2d(80, 80, kernel_size=(1, 1), stride=(1, 1))\n",
      "        )\n",
      "      )\n",
      "      (dfl): DFL(\n",
      "        (conv): Conv2d(16, 1, kernel_size=(1, 1), stride=(1, 1), bias=False)\n",
      "      )\n",
      "    )\n",
      "  )\n",
      ")\n"
     ]
    }
   ],
   "source": [
    "model = YOLO(\"yolo11n.pt\")  # Load pretrained model\n",
    "\n",
    "print(model.model)"
   ]
  },
  {
   "cell_type": "markdown",
   "id": "3ecc7b4e-f957-4616-8564-8b4afa8c6cbb",
   "metadata": {},
   "source": [
    "<html>\n",
    "    <li>Backbone: Layer 0 - 10 --> After C2PSA</li>\n",
    "    <li>Neck : Layer 11 - 22</li>\n",
    "    <li>Head : Layer 23 --> Detect</li>\n",
    "</html>"
   ]
  },
  {
   "cell_type": "code",
   "execution_count": 51,
   "id": "345d5ec7-c326-48b9-8a2c-4c7ac996aedb",
   "metadata": {},
   "outputs": [
    {
     "name": "stdout",
     "output_type": "stream",
     "text": [
      "New https://pypi.org/project/ultralytics/8.3.158 available  Update with 'pip install -U ultralytics'\n",
      "Ultralytics 8.3.152  Python-3.11.11 torch-2.5.1+cu121 CUDA:0 (NVIDIA GeForce RTX 4060 Laptop GPU, 8188MiB)\n",
      "\u001b[34m\u001b[1mengine\\trainer: \u001b[0magnostic_nms=False, amp=True, augment=False, auto_augment=randaugment, batch=16, bgr=0.0, box=7.5, cache=False, cfg=None, classes=None, close_mosaic=10, cls=0.5, conf=None, copy_paste=0.0, copy_paste_mode=flip, cos_lr=True, cutmix=0.0, data=./yolo_person_dataset\\dataset.yaml, degrees=0.0, deterministic=True, device=0, dfl=1.5, dnn=False, dropout=0.0, dynamic=False, embed=None, epochs=50, erasing=0.4, exist_ok=False, fliplr=0.5, flipud=0.0, format=torchscript, fraction=1.0, freeze=['model.10.', 'model.11.', 'model.12.', 'model.13.', 'model.14.'], half=False, hsv_h=0.015, hsv_s=0.7, hsv_v=0.4, imgsz=640, int8=False, iou=0.7, keras=False, kobj=1.0, line_width=None, lr0=0.0001, lrf=0.01, mask_ratio=4, max_det=300, mixup=0.0, mode=train, model=yolo11n.pt, momentum=0.9, mosaic=1.0, multi_scale=False, name=person_detect_v22, nbs=64, nms=False, opset=None, optimize=False, optimizer=AdamW, overlap_mask=True, patience=100, perspective=0.0, plots=True, pose=12.0, pretrained=True, profile=False, project=runs/detect, rect=False, resume=False, retina_masks=False, save=True, save_conf=False, save_crop=False, save_dir=runs\\detect\\person_detect_v22, save_frames=False, save_json=False, save_period=-1, save_txt=False, scale=0.5, seed=0, shear=0.0, show=False, show_boxes=True, show_conf=True, show_labels=True, simplify=True, single_cls=False, source=None, split=val, stream_buffer=False, task=detect, time=None, tracker=botsort.yaml, translate=0.1, val=True, verbose=True, vid_stride=1, visualize=False, warmup_bias_lr=0.1, warmup_epochs=3, warmup_momentum=0.8, weight_decay=0.0005, workers=16, workspace=None\n",
      "\n",
      "                   from  n    params  module                                       arguments                     \n",
      "  0                  -1  1       464  ultralytics.nn.modules.conv.Conv             [3, 16, 3, 2]                 \n",
      "  1                  -1  1      4672  ultralytics.nn.modules.conv.Conv             [16, 32, 3, 2]                \n",
      "  2                  -1  1      6640  ultralytics.nn.modules.block.C3k2            [32, 64, 1, False, 0.25]      \n",
      "  3                  -1  1     36992  ultralytics.nn.modules.conv.Conv             [64, 64, 3, 2]                \n",
      "  4                  -1  1     26080  ultralytics.nn.modules.block.C3k2            [64, 128, 1, False, 0.25]     \n",
      "  5                  -1  1    147712  ultralytics.nn.modules.conv.Conv             [128, 128, 3, 2]              \n",
      "  6                  -1  1     87040  ultralytics.nn.modules.block.C3k2            [128, 128, 1, True]           \n",
      "  7                  -1  1    295424  ultralytics.nn.modules.conv.Conv             [128, 256, 3, 2]              \n",
      "  8                  -1  1    346112  ultralytics.nn.modules.block.C3k2            [256, 256, 1, True]           \n",
      "  9                  -1  1    164608  ultralytics.nn.modules.block.SPPF            [256, 256, 5]                 \n",
      " 10                  -1  1    249728  ultralytics.nn.modules.block.C2PSA           [256, 256, 1]                 \n",
      " 11                  -1  1         0  torch.nn.modules.upsampling.Upsample         [None, 2, 'nearest']          \n",
      " 12             [-1, 6]  1         0  ultralytics.nn.modules.conv.Concat           [1]                           \n",
      " 13                  -1  1    111296  ultralytics.nn.modules.block.C3k2            [384, 128, 1, False]          \n",
      " 14                  -1  1         0  torch.nn.modules.upsampling.Upsample         [None, 2, 'nearest']          \n",
      " 15             [-1, 4]  1         0  ultralytics.nn.modules.conv.Concat           [1]                           \n",
      " 16                  -1  1     32096  ultralytics.nn.modules.block.C3k2            [256, 64, 1, False]           \n",
      " 17                  -1  1     36992  ultralytics.nn.modules.conv.Conv             [64, 64, 3, 2]                \n",
      " 18            [-1, 13]  1         0  ultralytics.nn.modules.conv.Concat           [1]                           \n",
      " 19                  -1  1     86720  ultralytics.nn.modules.block.C3k2            [192, 128, 1, False]          \n",
      " 20                  -1  1    147712  ultralytics.nn.modules.conv.Conv             [128, 128, 3, 2]              \n",
      " 21            [-1, 10]  1         0  ultralytics.nn.modules.conv.Concat           [1]                           \n",
      " 22                  -1  1    378880  ultralytics.nn.modules.block.C3k2            [384, 256, 1, True]           \n",
      " 23        [16, 19, 22]  1    430867  ultralytics.nn.modules.head.Detect           [1, [64, 128, 256]]           \n",
      "YOLO11n summary: 181 layers, 2,590,035 parameters, 2,590,019 gradients, 6.4 GFLOPs\n",
      "\n",
      "Transferred 499/499 items from pretrained weights\n",
      "Freezing layer 'model.23.dfl.conv.weight'\n",
      "\u001b[34m\u001b[1mAMP: \u001b[0mrunning Automatic Mixed Precision (AMP) checks...\n",
      "\u001b[34m\u001b[1mAMP: \u001b[0mchecks passed \n",
      "\u001b[34m\u001b[1mtrain: \u001b[0mFast image access  (ping: 0.10.0 ms, read: 1515.5870.4 MB/s, size: 148.1 KB)\n"
     ]
    },
    {
     "name": "stderr",
     "output_type": "stream",
     "text": [
      "\u001b[34m\u001b[1mtrain: \u001b[0mScanning Z:\\BEKA\\2025\\AI\\Bootcamp\\Source\\Advanced CV\\Project 2\\Train\\yolo_person_dataset\\train\\labels\\val.cache.\u001b[0m"
     ]
    },
    {
     "name": "stdout",
     "output_type": "stream",
     "text": [
      "\u001b[34m\u001b[1malbumentations: \u001b[0mBlur(p=0.01, blur_limit=(3, 7)), MedianBlur(p=0.01, blur_limit=(3, 7)), ToGray(p=0.01, method='weighted_average', num_output_channels=3), CLAHE(p=0.01, clip_limit=(1.0, 4.0), tile_grid_size=(8, 8))\n"
     ]
    },
    {
     "name": "stderr",
     "output_type": "stream",
     "text": [
      "\n"
     ]
    },
    {
     "name": "stdout",
     "output_type": "stream",
     "text": [
      "\u001b[34m\u001b[1mval: \u001b[0mFast image access  (ping: 0.10.0 ms, read: 162.2114.6 MB/s, size: 163.0 KB)\n"
     ]
    },
    {
     "name": "stderr",
     "output_type": "stream",
     "text": [
      "\u001b[34m\u001b[1mval: \u001b[0mScanning Z:\\BEKA\\2025\\AI\\Bootcamp\\Source\\Advanced CV\\Project 2\\Train\\yolo_person_dataset\\val\\labels\\val.cache... 5\u001b[0m\n"
     ]
    },
    {
     "name": "stdout",
     "output_type": "stream",
     "text": [
      "Plotting labels to runs\\detect\\person_detect_v22\\labels.jpg... \n",
      "\u001b[34m\u001b[1moptimizer:\u001b[0m AdamW(lr=0.0001, momentum=0.9) with parameter groups 81 weight(decay=0.0), 88 weight(decay=0.0005), 87 bias(decay=0.0)\n",
      "Image sizes 640 train, 640 val\n",
      "Using 16 dataloader workers\n",
      "Logging results to \u001b[1mruns\\detect\\person_detect_v22\u001b[0m\n",
      "Starting training for 50 epochs...\n",
      "\n",
      "      Epoch    GPU_mem   box_loss   cls_loss   dfl_loss  Instances       Size\n"
     ]
    },
    {
     "name": "stderr",
     "output_type": "stream",
     "text": [
      "       1/50      4.26G        1.4      1.378      1.359         63        640: 100%|██████████| 188/188 [00:31<00:00,  \n",
      "                 Class     Images  Instances      Box(P          R      mAP50  mAP50-95): 100%|██████████| 16/16 [00:02"
     ]
    },
    {
     "name": "stdout",
     "output_type": "stream",
     "text": [
      "                   all        500       2041      0.688      0.492      0.569      0.337\n"
     ]
    },
    {
     "name": "stderr",
     "output_type": "stream",
     "text": [
      "\n"
     ]
    },
    {
     "name": "stdout",
     "output_type": "stream",
     "text": [
      "\n",
      "      Epoch    GPU_mem   box_loss   cls_loss   dfl_loss  Instances       Size\n"
     ]
    },
    {
     "name": "stderr",
     "output_type": "stream",
     "text": [
      "       2/50      4.15G      1.273      1.214      1.271         62        640: 100%|██████████| 188/188 [00:28<00:00,  \n",
      "                 Class     Images  Instances      Box(P          R      mAP50  mAP50-95): 100%|██████████| 16/16 [00:02"
     ]
    },
    {
     "name": "stdout",
     "output_type": "stream",
     "text": [
      "                   all        500       2041      0.717      0.564      0.644      0.397\n"
     ]
    },
    {
     "name": "stderr",
     "output_type": "stream",
     "text": [
      "\n"
     ]
    },
    {
     "name": "stdout",
     "output_type": "stream",
     "text": [
      "\n",
      "      Epoch    GPU_mem   box_loss   cls_loss   dfl_loss  Instances       Size\n"
     ]
    },
    {
     "name": "stderr",
     "output_type": "stream",
     "text": [
      "       3/50      4.16G      1.222      1.132      1.242         95        640: 100%|██████████| 188/188 [00:28<00:00,  \n",
      "                 Class     Images  Instances      Box(P          R      mAP50  mAP50-95): 100%|██████████| 16/16 [00:02"
     ]
    },
    {
     "name": "stdout",
     "output_type": "stream",
     "text": [
      "                   all        500       2041      0.738      0.589      0.678      0.432\n"
     ]
    },
    {
     "name": "stderr",
     "output_type": "stream",
     "text": [
      "\n"
     ]
    },
    {
     "name": "stdout",
     "output_type": "stream",
     "text": [
      "\n",
      "      Epoch    GPU_mem   box_loss   cls_loss   dfl_loss  Instances       Size\n"
     ]
    },
    {
     "name": "stderr",
     "output_type": "stream",
     "text": [
      "       4/50       4.2G      1.245      1.156      1.249         70        640: 100%|██████████| 188/188 [00:27<00:00,  \n",
      "                 Class     Images  Instances      Box(P          R      mAP50  mAP50-95): 100%|██████████| 16/16 [00:02"
     ]
    },
    {
     "name": "stdout",
     "output_type": "stream",
     "text": [
      "                   all        500       2041      0.733      0.606      0.687      0.446\n"
     ]
    },
    {
     "name": "stderr",
     "output_type": "stream",
     "text": [
      "\n"
     ]
    },
    {
     "name": "stdout",
     "output_type": "stream",
     "text": [
      "\n",
      "      Epoch    GPU_mem   box_loss   cls_loss   dfl_loss  Instances       Size\n"
     ]
    },
    {
     "name": "stderr",
     "output_type": "stream",
     "text": [
      "       5/50      4.12G      1.218      1.106       1.23         37        640: 100%|██████████| 188/188 [00:27<00:00,  \n",
      "                 Class     Images  Instances      Box(P          R      mAP50  mAP50-95): 100%|██████████| 16/16 [00:02"
     ]
    },
    {
     "name": "stdout",
     "output_type": "stream",
     "text": [
      "                   all        500       2041      0.735      0.611      0.694      0.447\n"
     ]
    },
    {
     "name": "stderr",
     "output_type": "stream",
     "text": [
      "\n"
     ]
    },
    {
     "name": "stdout",
     "output_type": "stream",
     "text": [
      "\n",
      "      Epoch    GPU_mem   box_loss   cls_loss   dfl_loss  Instances       Size\n"
     ]
    },
    {
     "name": "stderr",
     "output_type": "stream",
     "text": [
      "       6/50      4.15G        1.2      1.094      1.224         29        640: 100%|██████████| 188/188 [00:27<00:00,  \n",
      "                 Class     Images  Instances      Box(P          R      mAP50  mAP50-95): 100%|██████████| 16/16 [00:02"
     ]
    },
    {
     "name": "stdout",
     "output_type": "stream",
     "text": [
      "                   all        500       2041      0.773      0.582      0.695      0.452\n"
     ]
    },
    {
     "name": "stderr",
     "output_type": "stream",
     "text": [
      "\n"
     ]
    },
    {
     "name": "stdout",
     "output_type": "stream",
     "text": [
      "\n",
      "      Epoch    GPU_mem   box_loss   cls_loss   dfl_loss  Instances       Size\n"
     ]
    },
    {
     "name": "stderr",
     "output_type": "stream",
     "text": [
      "       7/50      4.15G      1.192      1.069      1.211         44        640: 100%|██████████| 188/188 [00:27<00:00,  \n",
      "                 Class     Images  Instances      Box(P          R      mAP50  mAP50-95): 100%|██████████| 16/16 [00:02"
     ]
    },
    {
     "name": "stdout",
     "output_type": "stream",
     "text": [
      "                   all        500       2041      0.751      0.617        0.7      0.458\n"
     ]
    },
    {
     "name": "stderr",
     "output_type": "stream",
     "text": [
      "\n"
     ]
    },
    {
     "name": "stdout",
     "output_type": "stream",
     "text": [
      "\n",
      "      Epoch    GPU_mem   box_loss   cls_loss   dfl_loss  Instances       Size\n"
     ]
    },
    {
     "name": "stderr",
     "output_type": "stream",
     "text": [
      "       8/50      4.15G      1.171      1.047      1.203         75        640: 100%|██████████| 188/188 [00:27<00:00,  \n",
      "                 Class     Images  Instances      Box(P          R      mAP50  mAP50-95): 100%|██████████| 16/16 [00:02"
     ]
    },
    {
     "name": "stdout",
     "output_type": "stream",
     "text": [
      "                   all        500       2041      0.739      0.624      0.706      0.461\n"
     ]
    },
    {
     "name": "stderr",
     "output_type": "stream",
     "text": [
      "\n"
     ]
    },
    {
     "name": "stdout",
     "output_type": "stream",
     "text": [
      "\n",
      "      Epoch    GPU_mem   box_loss   cls_loss   dfl_loss  Instances       Size\n"
     ]
    },
    {
     "name": "stderr",
     "output_type": "stream",
     "text": [
      "       9/50      4.21G      1.177      1.046      1.198         68        640: 100%|██████████| 188/188 [00:27<00:00,  \n",
      "                 Class     Images  Instances      Box(P          R      mAP50  mAP50-95): 100%|██████████| 16/16 [00:02"
     ]
    },
    {
     "name": "stdout",
     "output_type": "stream",
     "text": [
      "                   all        500       2041      0.731      0.632       0.71      0.464\n"
     ]
    },
    {
     "name": "stderr",
     "output_type": "stream",
     "text": [
      "\n"
     ]
    },
    {
     "name": "stdout",
     "output_type": "stream",
     "text": [
      "\n",
      "      Epoch    GPU_mem   box_loss   cls_loss   dfl_loss  Instances       Size\n"
     ]
    },
    {
     "name": "stderr",
     "output_type": "stream",
     "text": [
      "      10/50       4.2G      1.146      1.019      1.194         59        640: 100%|██████████| 188/188 [00:27<00:00,  \n",
      "                 Class     Images  Instances      Box(P          R      mAP50  mAP50-95): 100%|██████████| 16/16 [00:02"
     ]
    },
    {
     "name": "stdout",
     "output_type": "stream",
     "text": [
      "                   all        500       2041      0.716      0.629        0.7       0.46\n"
     ]
    },
    {
     "name": "stderr",
     "output_type": "stream",
     "text": [
      "\n"
     ]
    },
    {
     "name": "stdout",
     "output_type": "stream",
     "text": [
      "\n",
      "      Epoch    GPU_mem   box_loss   cls_loss   dfl_loss  Instances       Size\n"
     ]
    },
    {
     "name": "stderr",
     "output_type": "stream",
     "text": [
      "      11/50      4.19G      1.157      1.014       1.19         52        640: 100%|██████████| 188/188 [00:27<00:00,  \n",
      "                 Class     Images  Instances      Box(P          R      mAP50  mAP50-95): 100%|██████████| 16/16 [00:02"
     ]
    },
    {
     "name": "stdout",
     "output_type": "stream",
     "text": [
      "                   all        500       2041      0.751      0.615      0.703      0.457\n"
     ]
    },
    {
     "name": "stderr",
     "output_type": "stream",
     "text": [
      "\n"
     ]
    },
    {
     "name": "stdout",
     "output_type": "stream",
     "text": [
      "\n",
      "      Epoch    GPU_mem   box_loss   cls_loss   dfl_loss  Instances       Size\n"
     ]
    },
    {
     "name": "stderr",
     "output_type": "stream",
     "text": [
      "      12/50       4.2G      1.159      1.012      1.186         72        640: 100%|██████████| 188/188 [00:27<00:00,  \n",
      "                 Class     Images  Instances      Box(P          R      mAP50  mAP50-95): 100%|██████████| 16/16 [00:02"
     ]
    },
    {
     "name": "stdout",
     "output_type": "stream",
     "text": [
      "                   all        500       2041      0.749      0.616      0.705      0.465\n"
     ]
    },
    {
     "name": "stderr",
     "output_type": "stream",
     "text": [
      "\n"
     ]
    },
    {
     "name": "stdout",
     "output_type": "stream",
     "text": [
      "\n",
      "      Epoch    GPU_mem   box_loss   cls_loss   dfl_loss  Instances       Size\n"
     ]
    },
    {
     "name": "stderr",
     "output_type": "stream",
     "text": [
      "      13/50      4.21G      1.131     0.9901      1.183         64        640: 100%|██████████| 188/188 [00:28<00:00,  \n",
      "                 Class     Images  Instances      Box(P          R      mAP50  mAP50-95): 100%|██████████| 16/16 [00:03"
     ]
    },
    {
     "name": "stdout",
     "output_type": "stream",
     "text": [
      "                   all        500       2041      0.753      0.626      0.711      0.465\n"
     ]
    },
    {
     "name": "stderr",
     "output_type": "stream",
     "text": [
      "\n"
     ]
    },
    {
     "name": "stdout",
     "output_type": "stream",
     "text": [
      "\n",
      "      Epoch    GPU_mem   box_loss   cls_loss   dfl_loss  Instances       Size\n"
     ]
    },
    {
     "name": "stderr",
     "output_type": "stream",
     "text": [
      "      14/50      4.14G      1.139     0.9921      1.177         63        640: 100%|██████████| 188/188 [00:27<00:00,  \n",
      "                 Class     Images  Instances      Box(P          R      mAP50  mAP50-95): 100%|██████████| 16/16 [00:02"
     ]
    },
    {
     "name": "stdout",
     "output_type": "stream",
     "text": [
      "                   all        500       2041      0.743      0.629      0.709      0.467\n"
     ]
    },
    {
     "name": "stderr",
     "output_type": "stream",
     "text": [
      "\n"
     ]
    },
    {
     "name": "stdout",
     "output_type": "stream",
     "text": [
      "\n",
      "      Epoch    GPU_mem   box_loss   cls_loss   dfl_loss  Instances       Size\n"
     ]
    },
    {
     "name": "stderr",
     "output_type": "stream",
     "text": [
      "      15/50      4.13G      1.126     0.9807      1.175         61        640: 100%|██████████| 188/188 [00:27<00:00,  \n",
      "                 Class     Images  Instances      Box(P          R      mAP50  mAP50-95): 100%|██████████| 16/16 [00:02"
     ]
    },
    {
     "name": "stdout",
     "output_type": "stream",
     "text": [
      "                   all        500       2041      0.735      0.644      0.711      0.467\n"
     ]
    },
    {
     "name": "stderr",
     "output_type": "stream",
     "text": [
      "\n"
     ]
    },
    {
     "name": "stdout",
     "output_type": "stream",
     "text": [
      "\n",
      "      Epoch    GPU_mem   box_loss   cls_loss   dfl_loss  Instances       Size\n"
     ]
    },
    {
     "name": "stderr",
     "output_type": "stream",
     "text": [
      "      16/50      4.11G      1.129     0.9763      1.169         52        640: 100%|██████████| 188/188 [00:28<00:00,  \n",
      "                 Class     Images  Instances      Box(P          R      mAP50  mAP50-95): 100%|██████████| 16/16 [00:02"
     ]
    },
    {
     "name": "stdout",
     "output_type": "stream",
     "text": [
      "                   all        500       2041      0.743      0.638      0.715      0.469\n"
     ]
    },
    {
     "name": "stderr",
     "output_type": "stream",
     "text": [
      "\n"
     ]
    },
    {
     "name": "stdout",
     "output_type": "stream",
     "text": [
      "\n",
      "      Epoch    GPU_mem   box_loss   cls_loss   dfl_loss  Instances       Size\n"
     ]
    },
    {
     "name": "stderr",
     "output_type": "stream",
     "text": [
      "      17/50      4.16G      1.117     0.9695      1.164         69        640: 100%|██████████| 188/188 [00:27<00:00,  \n",
      "                 Class     Images  Instances      Box(P          R      mAP50  mAP50-95): 100%|██████████| 16/16 [00:02"
     ]
    },
    {
     "name": "stdout",
     "output_type": "stream",
     "text": [
      "                   all        500       2041      0.743      0.638      0.716      0.466\n"
     ]
    },
    {
     "name": "stderr",
     "output_type": "stream",
     "text": [
      "\n"
     ]
    },
    {
     "name": "stdout",
     "output_type": "stream",
     "text": [
      "\n",
      "      Epoch    GPU_mem   box_loss   cls_loss   dfl_loss  Instances       Size\n"
     ]
    },
    {
     "name": "stderr",
     "output_type": "stream",
     "text": [
      "      18/50      4.13G      1.105     0.9424      1.153         75        640: 100%|██████████| 188/188 [00:27<00:00,  \n",
      "                 Class     Images  Instances      Box(P          R      mAP50  mAP50-95): 100%|██████████| 16/16 [00:02"
     ]
    },
    {
     "name": "stdout",
     "output_type": "stream",
     "text": [
      "                   all        500       2041      0.737      0.629      0.712      0.465\n"
     ]
    },
    {
     "name": "stderr",
     "output_type": "stream",
     "text": [
      "\n"
     ]
    },
    {
     "name": "stdout",
     "output_type": "stream",
     "text": [
      "\n",
      "      Epoch    GPU_mem   box_loss   cls_loss   dfl_loss  Instances       Size\n"
     ]
    },
    {
     "name": "stderr",
     "output_type": "stream",
     "text": [
      "      19/50      4.14G      1.104     0.9415      1.154         52        640: 100%|██████████| 188/188 [00:27<00:00,  \n",
      "                 Class     Images  Instances      Box(P          R      mAP50  mAP50-95): 100%|██████████| 16/16 [00:02"
     ]
    },
    {
     "name": "stdout",
     "output_type": "stream",
     "text": [
      "                   all        500       2041      0.745      0.626      0.715       0.47\n"
     ]
    },
    {
     "name": "stderr",
     "output_type": "stream",
     "text": [
      "\n"
     ]
    },
    {
     "name": "stdout",
     "output_type": "stream",
     "text": [
      "\n",
      "      Epoch    GPU_mem   box_loss   cls_loss   dfl_loss  Instances       Size\n"
     ]
    },
    {
     "name": "stderr",
     "output_type": "stream",
     "text": [
      "      20/50      4.19G      1.106     0.9406      1.154         41        640: 100%|██████████| 188/188 [00:28<00:00,  \n",
      "                 Class     Images  Instances      Box(P          R      mAP50  mAP50-95): 100%|██████████| 16/16 [00:02"
     ]
    },
    {
     "name": "stdout",
     "output_type": "stream",
     "text": [
      "                   all        500       2041      0.779      0.628      0.722      0.476\n"
     ]
    },
    {
     "name": "stderr",
     "output_type": "stream",
     "text": [
      "\n"
     ]
    },
    {
     "name": "stdout",
     "output_type": "stream",
     "text": [
      "\n",
      "      Epoch    GPU_mem   box_loss   cls_loss   dfl_loss  Instances       Size\n"
     ]
    },
    {
     "name": "stderr",
     "output_type": "stream",
     "text": [
      "      21/50      4.13G      1.093     0.9416      1.153         76        640: 100%|██████████| 188/188 [00:27<00:00,  \n",
      "                 Class     Images  Instances      Box(P          R      mAP50  mAP50-95): 100%|██████████| 16/16 [00:02"
     ]
    },
    {
     "name": "stdout",
     "output_type": "stream",
     "text": [
      "                   all        500       2041      0.748      0.629      0.717      0.473\n"
     ]
    },
    {
     "name": "stderr",
     "output_type": "stream",
     "text": [
      "\n"
     ]
    },
    {
     "name": "stdout",
     "output_type": "stream",
     "text": [
      "\n",
      "      Epoch    GPU_mem   box_loss   cls_loss   dfl_loss  Instances       Size\n"
     ]
    },
    {
     "name": "stderr",
     "output_type": "stream",
     "text": [
      "      22/50      4.15G       1.09     0.9329      1.147         71        640: 100%|██████████| 188/188 [00:28<00:00,  \n",
      "                 Class     Images  Instances      Box(P          R      mAP50  mAP50-95): 100%|██████████| 16/16 [00:02"
     ]
    },
    {
     "name": "stdout",
     "output_type": "stream",
     "text": [
      "                   all        500       2041      0.771       0.63      0.719      0.473\n"
     ]
    },
    {
     "name": "stderr",
     "output_type": "stream",
     "text": [
      "\n"
     ]
    },
    {
     "name": "stdout",
     "output_type": "stream",
     "text": [
      "\n",
      "      Epoch    GPU_mem   box_loss   cls_loss   dfl_loss  Instances       Size\n"
     ]
    },
    {
     "name": "stderr",
     "output_type": "stream",
     "text": [
      "      23/50       4.1G       1.09     0.9202      1.148         42        640: 100%|██████████| 188/188 [00:27<00:00,  \n",
      "                 Class     Images  Instances      Box(P          R      mAP50  mAP50-95): 100%|██████████| 16/16 [00:02"
     ]
    },
    {
     "name": "stdout",
     "output_type": "stream",
     "text": [
      "                   all        500       2041      0.771       0.63      0.723      0.473\n"
     ]
    },
    {
     "name": "stderr",
     "output_type": "stream",
     "text": [
      "\n"
     ]
    },
    {
     "name": "stdout",
     "output_type": "stream",
     "text": [
      "\n",
      "      Epoch    GPU_mem   box_loss   cls_loss   dfl_loss  Instances       Size\n"
     ]
    },
    {
     "name": "stderr",
     "output_type": "stream",
     "text": [
      "      24/50      4.16G      1.079     0.9073      1.137        111        640: 100%|██████████| 188/188 [00:28<00:00,  \n",
      "                 Class     Images  Instances      Box(P          R      mAP50  mAP50-95): 100%|██████████| 16/16 [00:02"
     ]
    },
    {
     "name": "stdout",
     "output_type": "stream",
     "text": [
      "                   all        500       2041      0.758      0.622      0.716      0.473\n"
     ]
    },
    {
     "name": "stderr",
     "output_type": "stream",
     "text": [
      "\n"
     ]
    },
    {
     "name": "stdout",
     "output_type": "stream",
     "text": [
      "\n",
      "      Epoch    GPU_mem   box_loss   cls_loss   dfl_loss  Instances       Size\n"
     ]
    },
    {
     "name": "stderr",
     "output_type": "stream",
     "text": [
      "      25/50      4.16G      1.075     0.9063       1.14         45        640: 100%|██████████| 188/188 [00:28<00:00,  \n",
      "                 Class     Images  Instances      Box(P          R      mAP50  mAP50-95): 100%|██████████| 16/16 [00:02"
     ]
    },
    {
     "name": "stdout",
     "output_type": "stream",
     "text": [
      "                   all        500       2041      0.758      0.642      0.722      0.474\n"
     ]
    },
    {
     "name": "stderr",
     "output_type": "stream",
     "text": [
      "\n"
     ]
    },
    {
     "name": "stdout",
     "output_type": "stream",
     "text": [
      "\n",
      "      Epoch    GPU_mem   box_loss   cls_loss   dfl_loss  Instances       Size\n"
     ]
    },
    {
     "name": "stderr",
     "output_type": "stream",
     "text": [
      "      26/50      4.19G       1.08     0.9052      1.135        105        640: 100%|██████████| 188/188 [00:28<00:00,  \n",
      "                 Class     Images  Instances      Box(P          R      mAP50  mAP50-95): 100%|██████████| 16/16 [00:02"
     ]
    },
    {
     "name": "stdout",
     "output_type": "stream",
     "text": [
      "                   all        500       2041      0.758       0.64      0.719      0.474\n"
     ]
    },
    {
     "name": "stderr",
     "output_type": "stream",
     "text": [
      "\n"
     ]
    },
    {
     "name": "stdout",
     "output_type": "stream",
     "text": [
      "\n",
      "      Epoch    GPU_mem   box_loss   cls_loss   dfl_loss  Instances       Size\n"
     ]
    },
    {
     "name": "stderr",
     "output_type": "stream",
     "text": [
      "      27/50      4.12G       1.07     0.9003      1.134         72        640: 100%|██████████| 188/188 [00:27<00:00,  \n",
      "                 Class     Images  Instances      Box(P          R      mAP50  mAP50-95): 100%|██████████| 16/16 [00:02"
     ]
    },
    {
     "name": "stdout",
     "output_type": "stream",
     "text": [
      "                   all        500       2041      0.785      0.618      0.722      0.476\n"
     ]
    },
    {
     "name": "stderr",
     "output_type": "stream",
     "text": [
      "\n"
     ]
    },
    {
     "name": "stdout",
     "output_type": "stream",
     "text": [
      "\n",
      "      Epoch    GPU_mem   box_loss   cls_loss   dfl_loss  Instances       Size\n"
     ]
    },
    {
     "name": "stderr",
     "output_type": "stream",
     "text": [
      "      28/50      4.19G      1.061     0.8883       1.13         41        640: 100%|██████████| 188/188 [00:28<00:00,  \n",
      "                 Class     Images  Instances      Box(P          R      mAP50  mAP50-95): 100%|██████████| 16/16 [00:02"
     ]
    },
    {
     "name": "stdout",
     "output_type": "stream",
     "text": [
      "                   all        500       2041      0.793      0.605      0.718      0.473\n"
     ]
    },
    {
     "name": "stderr",
     "output_type": "stream",
     "text": [
      "\n"
     ]
    },
    {
     "name": "stdout",
     "output_type": "stream",
     "text": [
      "\n",
      "      Epoch    GPU_mem   box_loss   cls_loss   dfl_loss  Instances       Size\n"
     ]
    },
    {
     "name": "stderr",
     "output_type": "stream",
     "text": [
      "      29/50      4.11G      1.062     0.8811      1.132         56        640: 100%|██████████| 188/188 [00:28<00:00,  \n",
      "                 Class     Images  Instances      Box(P          R      mAP50  mAP50-95): 100%|██████████| 16/16 [00:02"
     ]
    },
    {
     "name": "stdout",
     "output_type": "stream",
     "text": [
      "                   all        500       2041      0.764      0.627      0.721      0.473\n"
     ]
    },
    {
     "name": "stderr",
     "output_type": "stream",
     "text": [
      "\n"
     ]
    },
    {
     "name": "stdout",
     "output_type": "stream",
     "text": [
      "\n",
      "      Epoch    GPU_mem   box_loss   cls_loss   dfl_loss  Instances       Size\n"
     ]
    },
    {
     "name": "stderr",
     "output_type": "stream",
     "text": [
      "      30/50      4.08G      1.067     0.8794      1.126         68        640: 100%|██████████| 188/188 [00:27<00:00,  \n",
      "                 Class     Images  Instances      Box(P          R      mAP50  mAP50-95): 100%|██████████| 16/16 [00:02"
     ]
    },
    {
     "name": "stdout",
     "output_type": "stream",
     "text": [
      "                   all        500       2041      0.756      0.638       0.72      0.474\n"
     ]
    },
    {
     "name": "stderr",
     "output_type": "stream",
     "text": [
      "\n"
     ]
    },
    {
     "name": "stdout",
     "output_type": "stream",
     "text": [
      "\n",
      "      Epoch    GPU_mem   box_loss   cls_loss   dfl_loss  Instances       Size\n"
     ]
    },
    {
     "name": "stderr",
     "output_type": "stream",
     "text": [
      "      31/50      4.21G      1.059     0.8805      1.127         66        640: 100%|██████████| 188/188 [00:27<00:00,  \n",
      "                 Class     Images  Instances      Box(P          R      mAP50  mAP50-95): 100%|██████████| 16/16 [00:02"
     ]
    },
    {
     "name": "stdout",
     "output_type": "stream",
     "text": [
      "                   all        500       2041      0.788      0.619      0.718      0.475\n"
     ]
    },
    {
     "name": "stderr",
     "output_type": "stream",
     "text": [
      "\n"
     ]
    },
    {
     "name": "stdout",
     "output_type": "stream",
     "text": [
      "\n",
      "      Epoch    GPU_mem   box_loss   cls_loss   dfl_loss  Instances       Size\n"
     ]
    },
    {
     "name": "stderr",
     "output_type": "stream",
     "text": [
      "      32/50      4.16G       1.05     0.8769      1.129         34        640: 100%|██████████| 188/188 [00:27<00:00,  \n",
      "                 Class     Images  Instances      Box(P          R      mAP50  mAP50-95): 100%|██████████| 16/16 [00:02"
     ]
    },
    {
     "name": "stdout",
     "output_type": "stream",
     "text": [
      "                   all        500       2041      0.775      0.632      0.725      0.476\n"
     ]
    },
    {
     "name": "stderr",
     "output_type": "stream",
     "text": [
      "\n"
     ]
    },
    {
     "name": "stdout",
     "output_type": "stream",
     "text": [
      "\n",
      "      Epoch    GPU_mem   box_loss   cls_loss   dfl_loss  Instances       Size\n"
     ]
    },
    {
     "name": "stderr",
     "output_type": "stream",
     "text": [
      "      33/50      4.21G      1.034     0.8567      1.119         55        640: 100%|██████████| 188/188 [00:27<00:00,  \n",
      "                 Class     Images  Instances      Box(P          R      mAP50  mAP50-95): 100%|██████████| 16/16 [00:02"
     ]
    },
    {
     "name": "stdout",
     "output_type": "stream",
     "text": [
      "                   all        500       2041      0.763      0.639      0.724      0.475\n"
     ]
    },
    {
     "name": "stderr",
     "output_type": "stream",
     "text": [
      "\n"
     ]
    },
    {
     "name": "stdout",
     "output_type": "stream",
     "text": [
      "\n",
      "      Epoch    GPU_mem   box_loss   cls_loss   dfl_loss  Instances       Size\n"
     ]
    },
    {
     "name": "stderr",
     "output_type": "stream",
     "text": [
      "      34/50      4.17G      1.048     0.8666       1.12         62        640: 100%|██████████| 188/188 [00:27<00:00,  \n",
      "                 Class     Images  Instances      Box(P          R      mAP50  mAP50-95): 100%|██████████| 16/16 [00:02"
     ]
    },
    {
     "name": "stdout",
     "output_type": "stream",
     "text": [
      "                   all        500       2041       0.75      0.648      0.723      0.476\n"
     ]
    },
    {
     "name": "stderr",
     "output_type": "stream",
     "text": [
      "\n"
     ]
    },
    {
     "name": "stdout",
     "output_type": "stream",
     "text": [
      "\n",
      "      Epoch    GPU_mem   box_loss   cls_loss   dfl_loss  Instances       Size\n"
     ]
    },
    {
     "name": "stderr",
     "output_type": "stream",
     "text": [
      "      35/50      4.18G      1.046     0.8578      1.123         44        640: 100%|██████████| 188/188 [00:28<00:00,  \n",
      "                 Class     Images  Instances      Box(P          R      mAP50  mAP50-95): 100%|██████████| 16/16 [00:02"
     ]
    },
    {
     "name": "stdout",
     "output_type": "stream",
     "text": [
      "                   all        500       2041      0.776      0.623      0.721      0.473\n"
     ]
    },
    {
     "name": "stderr",
     "output_type": "stream",
     "text": [
      "\n"
     ]
    },
    {
     "name": "stdout",
     "output_type": "stream",
     "text": [
      "\n",
      "      Epoch    GPU_mem   box_loss   cls_loss   dfl_loss  Instances       Size\n"
     ]
    },
    {
     "name": "stderr",
     "output_type": "stream",
     "text": [
      "      36/50      4.17G      1.046      0.859      1.119         49        640: 100%|██████████| 188/188 [00:28<00:00,  \n",
      "                 Class     Images  Instances      Box(P          R      mAP50  mAP50-95): 100%|██████████| 16/16 [00:02"
     ]
    },
    {
     "name": "stdout",
     "output_type": "stream",
     "text": [
      "                   all        500       2041      0.755      0.647      0.722      0.475\n"
     ]
    },
    {
     "name": "stderr",
     "output_type": "stream",
     "text": [
      "\n"
     ]
    },
    {
     "name": "stdout",
     "output_type": "stream",
     "text": [
      "\n",
      "      Epoch    GPU_mem   box_loss   cls_loss   dfl_loss  Instances       Size\n"
     ]
    },
    {
     "name": "stderr",
     "output_type": "stream",
     "text": [
      "      37/50      4.21G      1.042     0.8609      1.121         52        640: 100%|██████████| 188/188 [00:29<00:00,  \n",
      "                 Class     Images  Instances      Box(P          R      mAP50  mAP50-95): 100%|██████████| 16/16 [00:03"
     ]
    },
    {
     "name": "stdout",
     "output_type": "stream",
     "text": [
      "                   all        500       2041      0.763      0.644      0.726      0.478\n"
     ]
    },
    {
     "name": "stderr",
     "output_type": "stream",
     "text": [
      "\n"
     ]
    },
    {
     "name": "stdout",
     "output_type": "stream",
     "text": [
      "\n",
      "      Epoch    GPU_mem   box_loss   cls_loss   dfl_loss  Instances       Size\n"
     ]
    },
    {
     "name": "stderr",
     "output_type": "stream",
     "text": [
      "      38/50      4.21G      1.038     0.8499      1.111         49        640: 100%|██████████| 188/188 [00:28<00:00,  \n",
      "                 Class     Images  Instances      Box(P          R      mAP50  mAP50-95): 100%|██████████| 16/16 [00:02"
     ]
    },
    {
     "name": "stdout",
     "output_type": "stream",
     "text": [
      "                   all        500       2041      0.734      0.656      0.724      0.478\n"
     ]
    },
    {
     "name": "stderr",
     "output_type": "stream",
     "text": [
      "\n"
     ]
    },
    {
     "name": "stdout",
     "output_type": "stream",
     "text": [
      "\n",
      "      Epoch    GPU_mem   box_loss   cls_loss   dfl_loss  Instances       Size\n"
     ]
    },
    {
     "name": "stderr",
     "output_type": "stream",
     "text": [
      "      39/50       4.2G      1.038     0.8528      1.117         54        640: 100%|██████████| 188/188 [00:27<00:00,  \n",
      "                 Class     Images  Instances      Box(P          R      mAP50  mAP50-95): 100%|██████████| 16/16 [00:02"
     ]
    },
    {
     "name": "stdout",
     "output_type": "stream",
     "text": [
      "                   all        500       2041      0.732      0.656      0.724      0.476\n"
     ]
    },
    {
     "name": "stderr",
     "output_type": "stream",
     "text": [
      "\n"
     ]
    },
    {
     "name": "stdout",
     "output_type": "stream",
     "text": [
      "\n",
      "      Epoch    GPU_mem   box_loss   cls_loss   dfl_loss  Instances       Size\n"
     ]
    },
    {
     "name": "stderr",
     "output_type": "stream",
     "text": [
      "      40/50      4.18G      1.037     0.8512      1.115         79        640: 100%|██████████| 188/188 [00:27<00:00,  \n",
      "                 Class     Images  Instances      Box(P          R      mAP50  mAP50-95): 100%|██████████| 16/16 [00:02"
     ]
    },
    {
     "name": "stdout",
     "output_type": "stream",
     "text": [
      "                   all        500       2041      0.745      0.647      0.724      0.476\n"
     ]
    },
    {
     "name": "stderr",
     "output_type": "stream",
     "text": [
      "\n"
     ]
    },
    {
     "name": "stdout",
     "output_type": "stream",
     "text": [
      "Closing dataloader mosaic\n",
      "\u001b[34m\u001b[1malbumentations: \u001b[0mBlur(p=0.01, blur_limit=(3, 7)), MedianBlur(p=0.01, blur_limit=(3, 7)), ToGray(p=0.01, method='weighted_average', num_output_channels=3), CLAHE(p=0.01, clip_limit=(1.0, 4.0), tile_grid_size=(8, 8))\n",
      "\n",
      "      Epoch    GPU_mem   box_loss   cls_loss   dfl_loss  Instances       Size\n"
     ]
    },
    {
     "name": "stderr",
     "output_type": "stream",
     "text": [
      "      41/50      4.02G      1.018     0.8272      1.087         30        640: 100%|██████████| 188/188 [00:28<00:00,  \n",
      "                 Class     Images  Instances      Box(P          R      mAP50  mAP50-95): 100%|██████████| 16/16 [00:02"
     ]
    },
    {
     "name": "stdout",
     "output_type": "stream",
     "text": [
      "                   all        500       2041      0.751      0.627      0.708       0.46\n"
     ]
    },
    {
     "name": "stderr",
     "output_type": "stream",
     "text": [
      "\n"
     ]
    },
    {
     "name": "stdout",
     "output_type": "stream",
     "text": [
      "\n",
      "      Epoch    GPU_mem   box_loss   cls_loss   dfl_loss  Instances       Size\n"
     ]
    },
    {
     "name": "stderr",
     "output_type": "stream",
     "text": [
      "      42/50      4.03G      1.002     0.7938      1.076         38        640: 100%|██████████| 188/188 [00:27<00:00,  \n",
      "                 Class     Images  Instances      Box(P          R      mAP50  mAP50-95): 100%|██████████| 16/16 [00:02"
     ]
    },
    {
     "name": "stdout",
     "output_type": "stream",
     "text": [
      "                   all        500       2041       0.78      0.618      0.711      0.464\n"
     ]
    },
    {
     "name": "stderr",
     "output_type": "stream",
     "text": [
      "\n"
     ]
    },
    {
     "name": "stdout",
     "output_type": "stream",
     "text": [
      "\n",
      "      Epoch    GPU_mem   box_loss   cls_loss   dfl_loss  Instances       Size\n"
     ]
    },
    {
     "name": "stderr",
     "output_type": "stream",
     "text": [
      "      43/50      4.03G          1     0.7929      1.077         28        640: 100%|██████████| 188/188 [00:27<00:00,  \n",
      "                 Class     Images  Instances      Box(P          R      mAP50  mAP50-95): 100%|██████████| 16/16 [00:02"
     ]
    },
    {
     "name": "stdout",
     "output_type": "stream",
     "text": [
      "                   all        500       2041       0.77      0.621      0.714      0.465\n"
     ]
    },
    {
     "name": "stderr",
     "output_type": "stream",
     "text": [
      "\n"
     ]
    },
    {
     "name": "stdout",
     "output_type": "stream",
     "text": [
      "\n",
      "      Epoch    GPU_mem   box_loss   cls_loss   dfl_loss  Instances       Size\n"
     ]
    },
    {
     "name": "stderr",
     "output_type": "stream",
     "text": [
      "      44/50      4.02G     0.9916     0.7754      1.066         56        640: 100%|██████████| 188/188 [00:27<00:00,  \n",
      "                 Class     Images  Instances      Box(P          R      mAP50  mAP50-95): 100%|██████████| 16/16 [00:02"
     ]
    },
    {
     "name": "stdout",
     "output_type": "stream",
     "text": [
      "                   all        500       2041      0.775      0.621      0.715      0.468\n"
     ]
    },
    {
     "name": "stderr",
     "output_type": "stream",
     "text": [
      "\n"
     ]
    },
    {
     "name": "stdout",
     "output_type": "stream",
     "text": [
      "\n",
      "      Epoch    GPU_mem   box_loss   cls_loss   dfl_loss  Instances       Size\n"
     ]
    },
    {
     "name": "stderr",
     "output_type": "stream",
     "text": [
      "      45/50      4.03G     0.9885     0.7739       1.07         53        640: 100%|██████████| 188/188 [00:27<00:00,  \n",
      "                 Class     Images  Instances      Box(P          R      mAP50  mAP50-95): 100%|██████████| 16/16 [00:02"
     ]
    },
    {
     "name": "stdout",
     "output_type": "stream",
     "text": [
      "                   all        500       2041      0.772      0.617      0.715      0.468\n"
     ]
    },
    {
     "name": "stderr",
     "output_type": "stream",
     "text": [
      "\n"
     ]
    },
    {
     "name": "stdout",
     "output_type": "stream",
     "text": [
      "\n",
      "      Epoch    GPU_mem   box_loss   cls_loss   dfl_loss  Instances       Size\n"
     ]
    },
    {
     "name": "stderr",
     "output_type": "stream",
     "text": [
      "      46/50      4.03G     0.9866     0.7742      1.069         17        640: 100%|██████████| 188/188 [00:27<00:00,  \n",
      "                 Class     Images  Instances      Box(P          R      mAP50  mAP50-95): 100%|██████████| 16/16 [00:02"
     ]
    },
    {
     "name": "stdout",
     "output_type": "stream",
     "text": [
      "                   all        500       2041       0.77      0.626      0.717      0.469\n"
     ]
    },
    {
     "name": "stderr",
     "output_type": "stream",
     "text": [
      "\n"
     ]
    },
    {
     "name": "stdout",
     "output_type": "stream",
     "text": [
      "\n",
      "      Epoch    GPU_mem   box_loss   cls_loss   dfl_loss  Instances       Size\n"
     ]
    },
    {
     "name": "stderr",
     "output_type": "stream",
     "text": [
      "      47/50      4.02G     0.9828      0.763      1.064         48        640: 100%|██████████| 188/188 [00:27<00:00,  \n",
      "                 Class     Images  Instances      Box(P          R      mAP50  mAP50-95): 100%|██████████| 16/16 [00:02"
     ]
    },
    {
     "name": "stdout",
     "output_type": "stream",
     "text": [
      "                   all        500       2041      0.772      0.617      0.717       0.47\n"
     ]
    },
    {
     "name": "stderr",
     "output_type": "stream",
     "text": [
      "\n"
     ]
    },
    {
     "name": "stdout",
     "output_type": "stream",
     "text": [
      "\n",
      "      Epoch    GPU_mem   box_loss   cls_loss   dfl_loss  Instances       Size\n"
     ]
    },
    {
     "name": "stderr",
     "output_type": "stream",
     "text": [
      "      48/50      4.02G     0.9761     0.7637      1.067         44        640: 100%|██████████| 188/188 [00:27<00:00,  \n",
      "                 Class     Images  Instances      Box(P          R      mAP50  mAP50-95): 100%|██████████| 16/16 [00:02"
     ]
    },
    {
     "name": "stdout",
     "output_type": "stream",
     "text": [
      "                   all        500       2041      0.777      0.621      0.715      0.468\n"
     ]
    },
    {
     "name": "stderr",
     "output_type": "stream",
     "text": [
      "\n"
     ]
    },
    {
     "name": "stdout",
     "output_type": "stream",
     "text": [
      "\n",
      "      Epoch    GPU_mem   box_loss   cls_loss   dfl_loss  Instances       Size\n"
     ]
    },
    {
     "name": "stderr",
     "output_type": "stream",
     "text": [
      "      49/50      4.03G     0.9882       0.77       1.07         21        640: 100%|██████████| 188/188 [00:27<00:00,  \n",
      "                 Class     Images  Instances      Box(P          R      mAP50  mAP50-95): 100%|██████████| 16/16 [00:02"
     ]
    },
    {
     "name": "stdout",
     "output_type": "stream",
     "text": [
      "                   all        500       2041      0.776      0.618      0.716       0.47\n"
     ]
    },
    {
     "name": "stderr",
     "output_type": "stream",
     "text": [
      "\n"
     ]
    },
    {
     "name": "stdout",
     "output_type": "stream",
     "text": [
      "\n",
      "      Epoch    GPU_mem   box_loss   cls_loss   dfl_loss  Instances       Size\n"
     ]
    },
    {
     "name": "stderr",
     "output_type": "stream",
     "text": [
      "      50/50      4.03G     0.9899     0.7665      1.065         20        640: 100%|██████████| 188/188 [00:27<00:00,  \n",
      "                 Class     Images  Instances      Box(P          R      mAP50  mAP50-95): 100%|██████████| 16/16 [00:02"
     ]
    },
    {
     "name": "stdout",
     "output_type": "stream",
     "text": [
      "                   all        500       2041      0.779      0.615      0.716      0.469\n"
     ]
    },
    {
     "name": "stderr",
     "output_type": "stream",
     "text": [
      "\n"
     ]
    },
    {
     "name": "stdout",
     "output_type": "stream",
     "text": [
      "\n",
      "50 epochs completed in 0.449 hours.\n",
      "Optimizer stripped from runs\\detect\\person_detect_v22\\weights\\last.pt, 5.5MB\n",
      "Optimizer stripped from runs\\detect\\person_detect_v22\\weights\\best.pt, 5.5MB\n",
      "\n",
      "Validating runs\\detect\\person_detect_v22\\weights\\best.pt...\n",
      "Ultralytics 8.3.152  Python-3.11.11 torch-2.5.1+cu121 CUDA:0 (NVIDIA GeForce RTX 4060 Laptop GPU, 8188MiB)\n",
      "YOLO11n summary (fused): 100 layers, 2,582,347 parameters, 0 gradients, 6.3 GFLOPs\n"
     ]
    },
    {
     "name": "stderr",
     "output_type": "stream",
     "text": [
      "                 Class     Images  Instances      Box(P          R      mAP50  mAP50-95): 100%|██████████| 16/16 [00:03\n"
     ]
    },
    {
     "name": "stdout",
     "output_type": "stream",
     "text": [
      "                   all        500       2041      0.764      0.645      0.725      0.478\n",
      "Speed: 0.3ms preprocess, 1.2ms inference, 0.0ms loss, 1.4ms postprocess per image\n",
      "Results saved to \u001b[1mruns\\detect\\person_detect_v22\u001b[0m\n"
     ]
    }
   ],
   "source": [
    "# Train with custom learning rate and optimizer\n",
    "results = model.train(\n",
    "    data=os.path.join(export_dir, \"dataset.yaml\"),\n",
    "    epochs=50,\n",
    "    batch=16,\n",
    "    imgsz=640,\n",
    "    optimizer=\"AdamW\",\n",
    "    lr0=0.0001,             # Lower initial LR\n",
    "    lrf=0.01,               # Final LR after decay\n",
    "    momentum=0.9,\n",
    "    weight_decay=0.0005,    \n",
    "    warmup_epochs=3,        # Stabilize early training\n",
    "    warmup_momentum=0.8,\n",
    "    warmup_bias_lr=0.1,\n",
    "    cos_lr=True,            # Smooth cosine decay helps convergence\n",
    "    device=0,\n",
    "    workers=16,\n",
    "    project=PROJECT,\n",
    "    name=NAME,\n",
    "    freeze = [\n",
    "        'model.10.', 'model.11.', 'model.12.',  # CSPNeXt blocks\n",
    "        'model.13.', 'model.14.'                # SPPF/RFA modules\n",
    "    ],\n",
    "    close_mosaic=10         # Disable mosaic after last 10 epochs\n",
    ")"
   ]
  }
 ],
 "metadata": {
  "accelerator": "GPU",
  "colab": {
   "gpuType": "L4",
   "machine_shape": "hm",
   "provenance": []
  },
  "kernelspec": {
   "display_name": "Python 3 (ipykernel)",
   "language": "python",
   "name": "python3"
  },
  "language_info": {
   "codemirror_mode": {
    "name": "ipython",
    "version": 3
   },
   "file_extension": ".py",
   "mimetype": "text/x-python",
   "name": "python",
   "nbconvert_exporter": "python",
   "pygments_lexer": "ipython3",
   "version": "3.11.11"
  }
 },
 "nbformat": 4,
 "nbformat_minor": 5
}
