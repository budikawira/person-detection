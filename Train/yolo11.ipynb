{
 "cells": [
  {
   "cell_type": "markdown",
   "id": "850b08c7-d42d-4adb-a4d3-e1b356cd948a",
   "metadata": {},
   "source": [
    "# Person Detection"
   ]
  },
  {
   "cell_type": "markdown",
   "id": "e2a8c08c-ac71-4ff7-8867-df48f8f087bf",
   "metadata": {},
   "source": [
    "## PreTrain Model: yolo11n\n",
    "<html>\n",
    "    <img src=\"https://learnopencv.com/wp-content/uploads/2024/10/feature.gif\" />\n",
    "</html>"
   ]
  },
  {
   "cell_type": "code",
   "execution_count": 1,
   "id": "TKblptZholXF",
   "metadata": {
    "colab": {
     "base_uri": "https://localhost:8080/"
    },
    "id": "TKblptZholXF",
    "outputId": "9d517075-6ef8-40ad-904d-24641cb816cb"
   },
   "outputs": [
    {
     "name": "stdout",
     "output_type": "stream",
     "text": [
      "Defaulting to user installation because normal site-packages is not writeable\n",
      "Requirement already satisfied: fiftyone in c:\\users\\budik\\appdata\\roaming\\python\\python311\\site-packages (1.5.2)\n",
      "Requirement already satisfied: aiofiles in c:\\users\\budik\\appdata\\roaming\\python\\python311\\site-packages (from fiftyone) (24.1.0)\n",
      "Requirement already satisfied: argcomplete in c:\\users\\budik\\appdata\\roaming\\python\\python311\\site-packages (from fiftyone) (3.6.2)\n",
      "Requirement already satisfied: async_lru>=2 in c:\\programdata\\anaconda3\\envs\\ai_cv\\lib\\site-packages (from fiftyone) (2.0.4)\n",
      "Requirement already satisfied: beautifulsoup4 in c:\\programdata\\anaconda3\\envs\\ai_cv\\lib\\site-packages (from fiftyone) (4.12.3)\n",
      "Requirement already satisfied: boto3 in c:\\users\\budik\\appdata\\roaming\\python\\python311\\site-packages (from fiftyone) (1.38.32)\n",
      "Requirement already satisfied: cachetools in c:\\users\\budik\\appdata\\roaming\\python\\python311\\site-packages (from fiftyone) (6.0.0)\n",
      "Requirement already satisfied: dacite<1.8.0,>=1.6.0 in c:\\users\\budik\\appdata\\roaming\\python\\python311\\site-packages (from fiftyone) (1.7.0)\n",
      "Requirement already satisfied: dill in c:\\users\\budik\\appdata\\roaming\\python\\python311\\site-packages (from fiftyone) (0.4.0)\n",
      "Requirement already satisfied: Deprecated in c:\\users\\budik\\appdata\\roaming\\python\\python311\\site-packages (from fiftyone) (1.2.18)\n",
      "Requirement already satisfied: ftfy in c:\\users\\budik\\appdata\\roaming\\python\\python311\\site-packages (from fiftyone) (6.3.1)\n",
      "Requirement already satisfied: humanize in c:\\users\\budik\\appdata\\roaming\\python\\python311\\site-packages (from fiftyone) (4.12.3)\n",
      "Requirement already satisfied: hypercorn>=0.13.2 in c:\\users\\budik\\appdata\\roaming\\python\\python311\\site-packages (from fiftyone) (0.17.3)\n",
      "Requirement already satisfied: Jinja2>=3 in c:\\programdata\\anaconda3\\envs\\ai_cv\\lib\\site-packages (from fiftyone) (3.1.6)\n",
      "Requirement already satisfied: kaleido!=0.2.1.post1 in c:\\users\\budik\\appdata\\roaming\\python\\python311\\site-packages (from fiftyone) (0.2.1)\n",
      "Requirement already satisfied: matplotlib in c:\\programdata\\anaconda3\\envs\\ai_cv\\lib\\site-packages (from fiftyone) (3.10.0)\n",
      "Requirement already satisfied: mongoengine~=0.29.1 in c:\\users\\budik\\appdata\\roaming\\python\\python311\\site-packages (from fiftyone) (0.29.1)\n",
      "Requirement already satisfied: motor~=3.6.0 in c:\\users\\budik\\appdata\\roaming\\python\\python311\\site-packages (from fiftyone) (3.6.1)\n",
      "Requirement already satisfied: numpy in c:\\users\\budik\\appdata\\roaming\\python\\python311\\site-packages (from fiftyone) (1.26.4)\n",
      "Requirement already satisfied: packaging in c:\\programdata\\anaconda3\\envs\\ai_cv\\lib\\site-packages (from fiftyone) (24.2)\n",
      "Requirement already satisfied: pandas in c:\\programdata\\anaconda3\\envs\\ai_cv\\lib\\site-packages (from fiftyone) (2.2.3)\n",
      "Requirement already satisfied: Pillow>=6.2 in c:\\programdata\\anaconda3\\envs\\ai_cv\\lib\\site-packages (from fiftyone) (11.1.0)\n",
      "Requirement already satisfied: plotly>=4.14 in c:\\users\\budik\\appdata\\roaming\\python\\python311\\site-packages (from fiftyone) (6.1.2)\n",
      "Requirement already satisfied: pprintpp in c:\\users\\budik\\appdata\\roaming\\python\\python311\\site-packages (from fiftyone) (0.4.0)\n",
      "Requirement already satisfied: psutil in c:\\programdata\\anaconda3\\envs\\ai_cv\\lib\\site-packages (from fiftyone) (5.9.0)\n",
      "Requirement already satisfied: pymongo~=4.9.2 in c:\\users\\budik\\appdata\\roaming\\python\\python311\\site-packages (from fiftyone) (4.9.2)\n",
      "Requirement already satisfied: pytz in c:\\programdata\\anaconda3\\envs\\ai_cv\\lib\\site-packages (from fiftyone) (2024.1)\n",
      "Requirement already satisfied: PyYAML in c:\\programdata\\anaconda3\\envs\\ai_cv\\lib\\site-packages (from fiftyone) (6.0.2)\n",
      "Requirement already satisfied: regex in c:\\users\\budik\\appdata\\roaming\\python\\python311\\site-packages (from fiftyone) (2024.11.6)\n",
      "Requirement already satisfied: retrying in c:\\users\\budik\\appdata\\roaming\\python\\python311\\site-packages (from fiftyone) (1.3.4)\n",
      "Requirement already satisfied: rtree in c:\\users\\budik\\appdata\\roaming\\python\\python311\\site-packages (from fiftyone) (1.4.0)\n",
      "Requirement already satisfied: scikit-learn in c:\\programdata\\anaconda3\\envs\\ai_cv\\lib\\site-packages (from fiftyone) (1.6.1)\n",
      "Requirement already satisfied: scikit-image in c:\\users\\budik\\appdata\\roaming\\python\\python311\\site-packages (from fiftyone) (0.25.2)\n",
      "Requirement already satisfied: scipy in c:\\programdata\\anaconda3\\envs\\ai_cv\\lib\\site-packages (from fiftyone) (1.15.3)\n",
      "Requirement already satisfied: setuptools in c:\\programdata\\anaconda3\\envs\\ai_cv\\lib\\site-packages (from fiftyone) (78.1.1)\n",
      "Requirement already satisfied: sseclient-py<2,>=1.7.2 in c:\\users\\budik\\appdata\\roaming\\python\\python311\\site-packages (from fiftyone) (1.8.0)\n",
      "Requirement already satisfied: sse-starlette<1,>=0.10.3 in c:\\users\\budik\\appdata\\roaming\\python\\python311\\site-packages (from fiftyone) (0.10.3)\n",
      "Requirement already satisfied: starlette>=0.24.0 in c:\\users\\budik\\appdata\\roaming\\python\\python311\\site-packages (from fiftyone) (0.47.1)\n",
      "Requirement already satisfied: strawberry-graphql>=0.262.4 in c:\\users\\budik\\appdata\\roaming\\python\\python311\\site-packages (from fiftyone) (0.271.1)\n",
      "Requirement already satisfied: tabulate in c:\\users\\budik\\appdata\\roaming\\python\\python311\\site-packages (from fiftyone) (0.9.0)\n",
      "Requirement already satisfied: tqdm in c:\\users\\budik\\appdata\\roaming\\python\\python311\\site-packages (from fiftyone) (4.67.1)\n",
      "Requirement already satisfied: xmltodict in c:\\users\\budik\\appdata\\roaming\\python\\python311\\site-packages (from fiftyone) (0.14.2)\n",
      "Requirement already satisfied: universal-analytics-python3<2,>=1.0.1 in c:\\users\\budik\\appdata\\roaming\\python\\python311\\site-packages (from fiftyone) (1.1.1)\n",
      "Requirement already satisfied: pydash in c:\\users\\budik\\appdata\\roaming\\python\\python311\\site-packages (from fiftyone) (8.0.5)\n",
      "Requirement already satisfied: fiftyone-brain<0.22,>=0.21.2 in c:\\users\\budik\\appdata\\roaming\\python\\python311\\site-packages (from fiftyone) (0.21.2)\n",
      "Requirement already satisfied: fiftyone-db<2.0,>=0.4 in c:\\users\\budik\\appdata\\roaming\\python\\python311\\site-packages (from fiftyone) (1.1.7)\n",
      "Requirement already satisfied: voxel51-eta<0.15,>=0.14.0 in c:\\users\\budik\\appdata\\roaming\\python\\python311\\site-packages (from fiftyone) (0.14.2)\n",
      "Requirement already satisfied: opencv-python-headless in c:\\users\\budik\\appdata\\roaming\\python\\python311\\site-packages (from fiftyone) (4.10.0.84)\n",
      "Requirement already satisfied: dnspython<3.0.0,>=1.16.0 in c:\\users\\budik\\appdata\\roaming\\python\\python311\\site-packages (from pymongo~=4.9.2->fiftyone) (2.7.0)\n",
      "Requirement already satisfied: httpx>=0.10.0 in c:\\programdata\\anaconda3\\envs\\ai_cv\\lib\\site-packages (from universal-analytics-python3<2,>=1.0.1->fiftyone) (0.28.1)\n",
      "Requirement already satisfied: future in c:\\users\\budik\\appdata\\roaming\\python\\python311\\site-packages (from voxel51-eta<0.15,>=0.14.0->fiftyone) (1.0.0)\n",
      "Requirement already satisfied: glob2 in c:\\users\\budik\\appdata\\roaming\\python\\python311\\site-packages (from voxel51-eta<0.15,>=0.14.0->fiftyone) (0.7)\n",
      "Requirement already satisfied: jsonlines in c:\\users\\budik\\appdata\\roaming\\python\\python311\\site-packages (from voxel51-eta<0.15,>=0.14.0->fiftyone) (4.0.0)\n",
      "Requirement already satisfied: py7zr in c:\\users\\budik\\appdata\\roaming\\python\\python311\\site-packages (from voxel51-eta<0.15,>=0.14.0->fiftyone) (1.0.0)\n",
      "Requirement already satisfied: python-dateutil in c:\\programdata\\anaconda3\\envs\\ai_cv\\lib\\site-packages (from voxel51-eta<0.15,>=0.14.0->fiftyone) (2.9.0.post0)\n",
      "Requirement already satisfied: rarfile in c:\\users\\budik\\appdata\\roaming\\python\\python311\\site-packages (from voxel51-eta<0.15,>=0.14.0->fiftyone) (4.2)\n",
      "Requirement already satisfied: requests in c:\\programdata\\anaconda3\\envs\\ai_cv\\lib\\site-packages (from voxel51-eta<0.15,>=0.14.0->fiftyone) (2.32.3)\n",
      "Requirement already satisfied: six in c:\\programdata\\anaconda3\\envs\\ai_cv\\lib\\site-packages (from voxel51-eta<0.15,>=0.14.0->fiftyone) (1.17.0)\n",
      "Requirement already satisfied: sortedcontainers in c:\\users\\budik\\appdata\\roaming\\python\\python311\\site-packages (from voxel51-eta<0.15,>=0.14.0->fiftyone) (2.4.0)\n",
      "Requirement already satisfied: tzlocal in c:\\users\\budik\\appdata\\roaming\\python\\python311\\site-packages (from voxel51-eta<0.15,>=0.14.0->fiftyone) (5.3.1)\n",
      "Requirement already satisfied: urllib3 in c:\\programdata\\anaconda3\\envs\\ai_cv\\lib\\site-packages (from voxel51-eta<0.15,>=0.14.0->fiftyone) (2.3.0)\n",
      "Requirement already satisfied: anyio in c:\\programdata\\anaconda3\\envs\\ai_cv\\lib\\site-packages (from httpx>=0.10.0->universal-analytics-python3<2,>=1.0.1->fiftyone) (4.7.0)\n",
      "Requirement already satisfied: certifi in c:\\programdata\\anaconda3\\envs\\ai_cv\\lib\\site-packages (from httpx>=0.10.0->universal-analytics-python3<2,>=1.0.1->fiftyone) (2025.6.15)\n",
      "Requirement already satisfied: httpcore==1.* in c:\\programdata\\anaconda3\\envs\\ai_cv\\lib\\site-packages (from httpx>=0.10.0->universal-analytics-python3<2,>=1.0.1->fiftyone) (1.0.9)\n",
      "Requirement already satisfied: idna in c:\\programdata\\anaconda3\\envs\\ai_cv\\lib\\site-packages (from httpx>=0.10.0->universal-analytics-python3<2,>=1.0.1->fiftyone) (3.7)\n",
      "Requirement already satisfied: h11>=0.16 in c:\\programdata\\anaconda3\\envs\\ai_cv\\lib\\site-packages (from httpcore==1.*->httpx>=0.10.0->universal-analytics-python3<2,>=1.0.1->fiftyone) (0.16.0)\n",
      "Requirement already satisfied: h2>=3.1.0 in c:\\users\\budik\\appdata\\roaming\\python\\python311\\site-packages (from hypercorn>=0.13.2->fiftyone) (4.2.0)\n",
      "Requirement already satisfied: priority in c:\\users\\budik\\appdata\\roaming\\python\\python311\\site-packages (from hypercorn>=0.13.2->fiftyone) (2.0.0)\n",
      "Requirement already satisfied: wsproto>=0.14.0 in c:\\users\\budik\\appdata\\roaming\\python\\python311\\site-packages (from hypercorn>=0.13.2->fiftyone) (1.2.0)\n",
      "Requirement already satisfied: hyperframe<7,>=6.1 in c:\\users\\budik\\appdata\\roaming\\python\\python311\\site-packages (from h2>=3.1.0->hypercorn>=0.13.2->fiftyone) (6.1.0)\n",
      "Requirement already satisfied: hpack<5,>=4.1 in c:\\users\\budik\\appdata\\roaming\\python\\python311\\site-packages (from h2>=3.1.0->hypercorn>=0.13.2->fiftyone) (4.1.0)\n",
      "Requirement already satisfied: MarkupSafe>=2.0 in c:\\programdata\\anaconda3\\envs\\ai_cv\\lib\\site-packages (from Jinja2>=3->fiftyone) (3.0.2)\n",
      "Requirement already satisfied: narwhals>=1.15.1 in c:\\users\\budik\\appdata\\roaming\\python\\python311\\site-packages (from plotly>=4.14->fiftyone) (1.42.0)\n",
      "Requirement already satisfied: typing-extensions>=4.10.0 in c:\\users\\budik\\appdata\\roaming\\python\\python311\\site-packages (from starlette>=0.24.0->fiftyone) (4.14.0)\n",
      "Requirement already satisfied: sniffio>=1.1 in c:\\programdata\\anaconda3\\envs\\ai_cv\\lib\\site-packages (from anyio->httpx>=0.10.0->universal-analytics-python3<2,>=1.0.1->fiftyone) (1.3.0)\n",
      "Requirement already satisfied: graphql-core<3.4.0,>=3.2.0 in c:\\users\\budik\\appdata\\roaming\\python\\python311\\site-packages (from strawberry-graphql>=0.262.4->fiftyone) (3.2.6)\n",
      "Requirement already satisfied: soupsieve>1.2 in c:\\programdata\\anaconda3\\envs\\ai_cv\\lib\\site-packages (from beautifulsoup4->fiftyone) (2.5)\n",
      "Requirement already satisfied: botocore<1.39.0,>=1.38.32 in c:\\users\\budik\\appdata\\roaming\\python\\python311\\site-packages (from boto3->fiftyone) (1.38.32)\n",
      "Requirement already satisfied: jmespath<2.0.0,>=0.7.1 in c:\\users\\budik\\appdata\\roaming\\python\\python311\\site-packages (from boto3->fiftyone) (1.0.1)\n",
      "Requirement already satisfied: s3transfer<0.14.0,>=0.13.0 in c:\\users\\budik\\appdata\\roaming\\python\\python311\\site-packages (from boto3->fiftyone) (0.13.0)\n",
      "Requirement already satisfied: wrapt<2,>=1.10 in c:\\programdata\\anaconda3\\envs\\ai_cv\\lib\\site-packages (from Deprecated->fiftyone) (1.17.2)\n",
      "Requirement already satisfied: wcwidth in c:\\programdata\\anaconda3\\envs\\ai_cv\\lib\\site-packages (from ftfy->fiftyone) (0.2.5)\n",
      "Requirement already satisfied: attrs>=19.2.0 in c:\\programdata\\anaconda3\\envs\\ai_cv\\lib\\site-packages (from jsonlines->voxel51-eta<0.15,>=0.14.0->fiftyone) (24.3.0)\n",
      "Requirement already satisfied: contourpy>=1.0.1 in c:\\programdata\\anaconda3\\envs\\ai_cv\\lib\\site-packages (from matplotlib->fiftyone) (1.3.1)\n",
      "Requirement already satisfied: cycler>=0.10 in c:\\programdata\\anaconda3\\envs\\ai_cv\\lib\\site-packages (from matplotlib->fiftyone) (0.11.0)\n",
      "Requirement already satisfied: fonttools>=4.22.0 in c:\\programdata\\anaconda3\\envs\\ai_cv\\lib\\site-packages (from matplotlib->fiftyone) (4.55.3)\n",
      "Requirement already satisfied: kiwisolver>=1.3.1 in c:\\programdata\\anaconda3\\envs\\ai_cv\\lib\\site-packages (from matplotlib->fiftyone) (1.4.8)\n",
      "Requirement already satisfied: pyparsing>=2.3.1 in c:\\programdata\\anaconda3\\envs\\ai_cv\\lib\\site-packages (from matplotlib->fiftyone) (3.2.0)\n",
      "Requirement already satisfied: tzdata>=2022.7 in c:\\programdata\\anaconda3\\envs\\ai_cv\\lib\\site-packages (from pandas->fiftyone) (2025.2)\n",
      "Requirement already satisfied: texttable in c:\\users\\budik\\appdata\\roaming\\python\\python311\\site-packages (from py7zr->voxel51-eta<0.15,>=0.14.0->fiftyone) (1.7.0)\n",
      "Requirement already satisfied: pycryptodomex>=3.20.0 in c:\\users\\budik\\appdata\\roaming\\python\\python311\\site-packages (from py7zr->voxel51-eta<0.15,>=0.14.0->fiftyone) (3.23.0)\n",
      "Requirement already satisfied: brotli>=1.1.0 in c:\\users\\budik\\appdata\\roaming\\python\\python311\\site-packages (from py7zr->voxel51-eta<0.15,>=0.14.0->fiftyone) (1.1.0)\n",
      "Requirement already satisfied: pyzstd>=0.16.1 in c:\\users\\budik\\appdata\\roaming\\python\\python311\\site-packages (from py7zr->voxel51-eta<0.15,>=0.14.0->fiftyone) (0.17.0)\n",
      "Requirement already satisfied: pyppmd<1.3.0,>=1.1.0 in c:\\users\\budik\\appdata\\roaming\\python\\python311\\site-packages (from py7zr->voxel51-eta<0.15,>=0.14.0->fiftyone) (1.2.0)\n",
      "Requirement already satisfied: pybcj<1.1.0,>=1.0.0 in c:\\users\\budik\\appdata\\roaming\\python\\python311\\site-packages (from py7zr->voxel51-eta<0.15,>=0.14.0->fiftyone) (1.0.6)\n",
      "Requirement already satisfied: multivolumefile>=0.2.3 in c:\\users\\budik\\appdata\\roaming\\python\\python311\\site-packages (from py7zr->voxel51-eta<0.15,>=0.14.0->fiftyone) (0.2.3)\n",
      "Requirement already satisfied: inflate64<1.1.0,>=1.0.0 in c:\\users\\budik\\appdata\\roaming\\python\\python311\\site-packages (from py7zr->voxel51-eta<0.15,>=0.14.0->fiftyone) (1.0.3)\n",
      "Requirement already satisfied: charset-normalizer<4,>=2 in c:\\programdata\\anaconda3\\envs\\ai_cv\\lib\\site-packages (from requests->voxel51-eta<0.15,>=0.14.0->fiftyone) (3.3.2)\n",
      "Requirement already satisfied: networkx>=3.0 in c:\\programdata\\anaconda3\\envs\\ai_cv\\lib\\site-packages (from scikit-image->fiftyone) (3.3)\n",
      "Requirement already satisfied: imageio!=2.35.0,>=2.33 in c:\\users\\budik\\appdata\\roaming\\python\\python311\\site-packages (from scikit-image->fiftyone) (2.37.0)\n",
      "Requirement already satisfied: tifffile>=2022.8.12 in c:\\users\\budik\\appdata\\roaming\\python\\python311\\site-packages (from scikit-image->fiftyone) (2025.6.1)\n",
      "Requirement already satisfied: lazy-loader>=0.4 in c:\\users\\budik\\appdata\\roaming\\python\\python311\\site-packages (from scikit-image->fiftyone) (0.4)\n",
      "Requirement already satisfied: joblib>=1.2.0 in c:\\programdata\\anaconda3\\envs\\ai_cv\\lib\\site-packages (from scikit-learn->fiftyone) (1.4.2)\n",
      "Requirement already satisfied: threadpoolctl>=3.1.0 in c:\\programdata\\anaconda3\\envs\\ai_cv\\lib\\site-packages (from scikit-learn->fiftyone) (3.5.0)\n",
      "Requirement already satisfied: colorama in c:\\programdata\\anaconda3\\envs\\ai_cv\\lib\\site-packages (from tqdm->fiftyone) (0.4.6)\n",
      "Defaulting to user installation because normal site-packages is not writeable\n",
      "Requirement already satisfied: ultralytics in c:\\programdata\\anaconda3\\envs\\ai_cv\\lib\\site-packages (8.3.152)\n",
      "Requirement already satisfied: numpy>=1.23.0 in c:\\users\\budik\\appdata\\roaming\\python\\python311\\site-packages (from ultralytics) (1.26.4)\n",
      "Requirement already satisfied: matplotlib>=3.3.0 in c:\\programdata\\anaconda3\\envs\\ai_cv\\lib\\site-packages (from ultralytics) (3.10.0)\n",
      "Requirement already satisfied: opencv-python>=4.6.0 in c:\\programdata\\anaconda3\\envs\\ai_cv\\lib\\site-packages (from ultralytics) (4.11.0.86)\n",
      "Requirement already satisfied: pillow>=7.1.2 in c:\\programdata\\anaconda3\\envs\\ai_cv\\lib\\site-packages (from ultralytics) (11.1.0)\n",
      "Requirement already satisfied: pyyaml>=5.3.1 in c:\\programdata\\anaconda3\\envs\\ai_cv\\lib\\site-packages (from ultralytics) (6.0.2)\n",
      "Requirement already satisfied: requests>=2.23.0 in c:\\programdata\\anaconda3\\envs\\ai_cv\\lib\\site-packages (from ultralytics) (2.32.3)\n",
      "Requirement already satisfied: scipy>=1.4.1 in c:\\programdata\\anaconda3\\envs\\ai_cv\\lib\\site-packages (from ultralytics) (1.15.3)\n",
      "Requirement already satisfied: torch>=1.8.0 in c:\\programdata\\anaconda3\\envs\\ai_cv\\lib\\site-packages (from ultralytics) (2.5.1+cu121)\n",
      "Requirement already satisfied: torchvision>=0.9.0 in c:\\programdata\\anaconda3\\envs\\ai_cv\\lib\\site-packages (from ultralytics) (0.20.1+cu121)\n",
      "Requirement already satisfied: tqdm>=4.64.0 in c:\\users\\budik\\appdata\\roaming\\python\\python311\\site-packages (from ultralytics) (4.67.1)\n",
      "Requirement already satisfied: psutil in c:\\programdata\\anaconda3\\envs\\ai_cv\\lib\\site-packages (from ultralytics) (5.9.0)\n",
      "Requirement already satisfied: py-cpuinfo in c:\\users\\budik\\appdata\\roaming\\python\\python311\\site-packages (from ultralytics) (9.0.0)\n",
      "Requirement already satisfied: pandas>=1.1.4 in c:\\programdata\\anaconda3\\envs\\ai_cv\\lib\\site-packages (from ultralytics) (2.2.3)\n",
      "Requirement already satisfied: ultralytics-thop>=2.0.0 in c:\\programdata\\anaconda3\\envs\\ai_cv\\lib\\site-packages (from ultralytics) (2.0.14)\n",
      "Requirement already satisfied: contourpy>=1.0.1 in c:\\programdata\\anaconda3\\envs\\ai_cv\\lib\\site-packages (from matplotlib>=3.3.0->ultralytics) (1.3.1)\n",
      "Requirement already satisfied: cycler>=0.10 in c:\\programdata\\anaconda3\\envs\\ai_cv\\lib\\site-packages (from matplotlib>=3.3.0->ultralytics) (0.11.0)\n",
      "Requirement already satisfied: fonttools>=4.22.0 in c:\\programdata\\anaconda3\\envs\\ai_cv\\lib\\site-packages (from matplotlib>=3.3.0->ultralytics) (4.55.3)\n",
      "Requirement already satisfied: kiwisolver>=1.3.1 in c:\\programdata\\anaconda3\\envs\\ai_cv\\lib\\site-packages (from matplotlib>=3.3.0->ultralytics) (1.4.8)\n",
      "Requirement already satisfied: packaging>=20.0 in c:\\programdata\\anaconda3\\envs\\ai_cv\\lib\\site-packages (from matplotlib>=3.3.0->ultralytics) (24.2)\n",
      "Requirement already satisfied: pyparsing>=2.3.1 in c:\\programdata\\anaconda3\\envs\\ai_cv\\lib\\site-packages (from matplotlib>=3.3.0->ultralytics) (3.2.0)\n",
      "Requirement already satisfied: python-dateutil>=2.7 in c:\\programdata\\anaconda3\\envs\\ai_cv\\lib\\site-packages (from matplotlib>=3.3.0->ultralytics) (2.9.0.post0)\n",
      "Requirement already satisfied: pytz>=2020.1 in c:\\programdata\\anaconda3\\envs\\ai_cv\\lib\\site-packages (from pandas>=1.1.4->ultralytics) (2024.1)\n",
      "Requirement already satisfied: tzdata>=2022.7 in c:\\programdata\\anaconda3\\envs\\ai_cv\\lib\\site-packages (from pandas>=1.1.4->ultralytics) (2025.2)\n",
      "Requirement already satisfied: six>=1.5 in c:\\programdata\\anaconda3\\envs\\ai_cv\\lib\\site-packages (from python-dateutil>=2.7->matplotlib>=3.3.0->ultralytics) (1.17.0)\n",
      "Requirement already satisfied: charset-normalizer<4,>=2 in c:\\programdata\\anaconda3\\envs\\ai_cv\\lib\\site-packages (from requests>=2.23.0->ultralytics) (3.3.2)\n",
      "Requirement already satisfied: idna<4,>=2.5 in c:\\programdata\\anaconda3\\envs\\ai_cv\\lib\\site-packages (from requests>=2.23.0->ultralytics) (3.7)\n",
      "Requirement already satisfied: urllib3<3,>=1.21.1 in c:\\programdata\\anaconda3\\envs\\ai_cv\\lib\\site-packages (from requests>=2.23.0->ultralytics) (2.3.0)\n",
      "Requirement already satisfied: certifi>=2017.4.17 in c:\\programdata\\anaconda3\\envs\\ai_cv\\lib\\site-packages (from requests>=2.23.0->ultralytics) (2025.6.15)\n",
      "Requirement already satisfied: filelock in c:\\programdata\\anaconda3\\envs\\ai_cv\\lib\\site-packages (from torch>=1.8.0->ultralytics) (3.13.1)\n",
      "Requirement already satisfied: typing-extensions>=4.8.0 in c:\\users\\budik\\appdata\\roaming\\python\\python311\\site-packages (from torch>=1.8.0->ultralytics) (4.14.0)\n",
      "Requirement already satisfied: networkx in c:\\programdata\\anaconda3\\envs\\ai_cv\\lib\\site-packages (from torch>=1.8.0->ultralytics) (3.3)\n",
      "Requirement already satisfied: jinja2 in c:\\programdata\\anaconda3\\envs\\ai_cv\\lib\\site-packages (from torch>=1.8.0->ultralytics) (3.1.6)\n",
      "Requirement already satisfied: fsspec in c:\\programdata\\anaconda3\\envs\\ai_cv\\lib\\site-packages (from torch>=1.8.0->ultralytics) (2024.6.1)\n",
      "Requirement already satisfied: sympy==1.13.1 in c:\\users\\budik\\appdata\\roaming\\python\\python311\\site-packages (from torch>=1.8.0->ultralytics) (1.13.1)\n",
      "Requirement already satisfied: mpmath<1.4,>=1.1.0 in c:\\programdata\\anaconda3\\envs\\ai_cv\\lib\\site-packages (from sympy==1.13.1->torch>=1.8.0->ultralytics) (1.3.0)\n",
      "Requirement already satisfied: colorama in c:\\programdata\\anaconda3\\envs\\ai_cv\\lib\\site-packages (from tqdm>=4.64.0->ultralytics) (0.4.6)\n",
      "Requirement already satisfied: MarkupSafe>=2.0 in c:\\programdata\\anaconda3\\envs\\ai_cv\\lib\\site-packages (from jinja2->torch>=1.8.0->ultralytics) (3.0.2)\n",
      "Defaulting to user installation because normal site-packages is not writeable\n",
      "Requirement already satisfied: tensorboard in c:\\programdata\\anaconda3\\envs\\ai_cv\\lib\\site-packages (2.19.0)\n",
      "Requirement already satisfied: absl-py>=0.4 in c:\\programdata\\anaconda3\\envs\\ai_cv\\lib\\site-packages (from tensorboard) (2.3.0)\n",
      "Requirement already satisfied: grpcio>=1.48.2 in c:\\programdata\\anaconda3\\envs\\ai_cv\\lib\\site-packages (from tensorboard) (1.71.0)\n",
      "Requirement already satisfied: markdown>=2.6.8 in c:\\programdata\\anaconda3\\envs\\ai_cv\\lib\\site-packages (from tensorboard) (3.8)\n",
      "Requirement already satisfied: numpy>=1.12.0 in c:\\users\\budik\\appdata\\roaming\\python\\python311\\site-packages (from tensorboard) (1.26.4)\n",
      "Requirement already satisfied: packaging in c:\\programdata\\anaconda3\\envs\\ai_cv\\lib\\site-packages (from tensorboard) (24.2)\n",
      "Requirement already satisfied: protobuf!=4.24.0,>=3.19.6 in c:\\programdata\\anaconda3\\envs\\ai_cv\\lib\\site-packages (from tensorboard) (5.29.5)\n",
      "Requirement already satisfied: setuptools>=41.0.0 in c:\\programdata\\anaconda3\\envs\\ai_cv\\lib\\site-packages (from tensorboard) (78.1.1)\n",
      "Requirement already satisfied: six>1.9 in c:\\programdata\\anaconda3\\envs\\ai_cv\\lib\\site-packages (from tensorboard) (1.17.0)\n",
      "Requirement already satisfied: tensorboard-data-server<0.8.0,>=0.7.0 in c:\\programdata\\anaconda3\\envs\\ai_cv\\lib\\site-packages (from tensorboard) (0.7.2)\n",
      "Requirement already satisfied: werkzeug>=1.0.1 in c:\\programdata\\anaconda3\\envs\\ai_cv\\lib\\site-packages (from tensorboard) (3.1.3)\n",
      "Requirement already satisfied: MarkupSafe>=2.1.1 in c:\\programdata\\anaconda3\\envs\\ai_cv\\lib\\site-packages (from werkzeug>=1.0.1->tensorboard) (3.0.2)\n"
     ]
    }
   ],
   "source": [
    "!pip install fiftyone\n",
    "!pip install ultralytics\n",
    "!pip install tensorboard"
   ]
  },
  {
   "cell_type": "code",
   "execution_count": 2,
   "id": "a4cc5a22-9f01-4e43-8a9e-78dbd4c3c4dc",
   "metadata": {},
   "outputs": [
    {
     "name": "stdout",
     "output_type": "stream",
     "text": [
      "JSONDict(\"C:\\Users\\budik\\AppData\\Roaming\\Ultralytics\\settings.json\"):\n",
      "{\n",
      "  \"settings_version\": \"0.0.6\",\n",
      "  \"datasets_dir\": \"Z:\\\\BEKA\\\\2025\\\\AI\\\\Bootcamp\\\\Source\\\\Advanced CV\\\\Project 2\\\\Test\\\\datasets\",\n",
      "  \"weights_dir\": \"weights\",\n",
      "  \"runs_dir\": \"runs\",\n",
      "  \"uuid\": \"82ab06d11bd7f08b96129e1321931b9e33d6393056b2f4dd07d7ac2f5bcd8dab\",\n",
      "  \"sync\": true,\n",
      "  \"api_key\": \"\",\n",
      "  \"openai_api_key\": \"\",\n",
      "  \"clearml\": true,\n",
      "  \"comet\": true,\n",
      "  \"dvc\": true,\n",
      "  \"hub\": true,\n",
      "  \"mlflow\": true,\n",
      "  \"neptune\": true,\n",
      "  \"raytune\": true,\n",
      "  \"tensorboard\": true,\n",
      "  \"wandb\": false,\n",
      "  \"vscode_msg\": true,\n",
      "  \"openvino_msg\": false\n",
      "}\n",
      " Learn more about Ultralytics Settings at https://docs.ultralytics.com/quickstart/#ultralytics-settings\n"
     ]
    }
   ],
   "source": [
    "%load_ext tensorboard\n",
    "# Enable TensorBoard logging\n",
    "!yolo settings tensorboard=True"
   ]
  },
  {
   "cell_type": "code",
   "execution_count": 3,
   "id": "001e122c-5417-4599-85ba-0c54ba66e7b9",
   "metadata": {
    "id": "001e122c-5417-4599-85ba-0c54ba66e7b9"
   },
   "outputs": [],
   "source": [
    "import fiftyone as fo\n",
    "import fiftyone.zoo as foz\n",
    "from fiftyone import ViewField as F\n",
    "\n",
    "import yaml\n",
    "import matplotlib.pyplot as plt\n",
    "import cv2\n",
    "\n",
    "import shutil\n",
    "import torch\n",
    "import torch.nn as nn\n",
    "from ultralytics import YOLO\n",
    "\n",
    "from typing import Dict, Tuple"
   ]
  },
  {
   "cell_type": "markdown",
   "id": "656f0ce7-a702-4e64-b31a-920d54d26d42",
   "metadata": {
    "id": "656f0ce7-a702-4e64-b31a-920d54d26d42"
   },
   "source": [
    "# Dataset"
   ]
  },
  {
   "cell_type": "markdown",
   "id": "185c501b-e99a-4936-9fb2-bf0aac9b3579",
   "metadata": {
    "id": "185c501b-e99a-4936-9fb2-bf0aac9b3579"
   },
   "source": [
    "## Coco-2017\n",
    "<table>\n",
    "    <tr>\n",
    "        <td width=\"50%\"><img src=\"https://docs.cvat.ai/images/fiftyone_logo.png\" /></td>\n",
    "        <td width=\"50%\"><img src=\"https://cocodataset.org/images/coco-logo.png\" /></td>\n",
    "    </tr>\n",
    "</table>\n",
    "\n",
    "\n",
    "<li>dataset: coco-2017</li>\n",
    "<li>label_types: detections, the task is for \"Person\" detection (object detection)</li>\n",
    "<li>classes: [\"person\"], downloaded dataset has person label</li>\n",
    "<li>max_samples: train: 3000, validation: 500</li>\n",
    "<li>seed: 42, for data consistency</li>"
   ]
  },
  {
   "cell_type": "code",
   "execution_count": 4,
   "id": "77cc8556-8a8a-43d1-9e09-2e426bbc9b04",
   "metadata": {
    "colab": {
     "base_uri": "https://localhost:8080/"
    },
    "id": "77cc8556-8a8a-43d1-9e09-2e426bbc9b04",
    "outputId": "f8f730ee-40bc-4996-d8cf-7d69d5e2c634"
   },
   "outputs": [
    {
     "name": "stdout",
     "output_type": "stream",
     "text": [
      "Downloading split 'train' to 'C:\\Users\\budik\\fiftyone\\coco-2017\\train' if necessary\n",
      "Found annotations at 'C:\\Users\\budik\\fiftyone\\coco-2017\\raw\\instances_train2017.json'\n",
      "Sufficient images already downloaded\n",
      "Existing download of split 'train' is sufficient\n",
      "You are running the oldest supported major version of MongoDB. Please refer to https://deprecation.voxel51.com for deprecation notices. You can suppress this exception by setting your `database_validation` config parameter to `False`. See https://docs.voxel51.com/user_guide/config.html#configuring-a-mongodb-connection for more information\n",
      "Loading existing dataset 'coco-2017-train-3000'. To reload from disk, either delete the existing dataset or provide a custom `dataset_name` to use\n",
      "Downloading split 'validation' to 'C:\\Users\\budik\\fiftyone\\coco-2017\\validation' if necessary\n",
      "Found annotations at 'C:\\Users\\budik\\fiftyone\\coco-2017\\raw\\instances_val2017.json'\n",
      "Sufficient images already downloaded\n",
      "Existing download of split 'validation' is sufficient\n",
      "Loading existing dataset 'coco-2017-validation-500'. To reload from disk, either delete the existing dataset or provide a custom `dataset_name` to use\n"
     ]
    }
   ],
   "source": [
    "# Load train split\n",
    "train_dataset = foz.load_zoo_dataset(\n",
    "    \"coco-2017\",\n",
    "    split=\"train\",\n",
    "    label_types=[\"detections\"],\n",
    "    classes=[\"person\"],\n",
    "    max_samples=3000,\n",
    "    seed=42\n",
    ")\n",
    "\n",
    "# Load validation split\n",
    "val_dataset = foz.load_zoo_dataset(\n",
    "    \"coco-2017\",\n",
    "    split=\"validation\",\n",
    "    label_types=[\"detections\"],\n",
    "    classes=[\"person\"],\n",
    "    max_samples=500,\n",
    "    seed=42\n",
    ")\n",
    "\n",
    "# Filter label person only\n",
    "train_dataset = train_dataset.filter_labels(\"ground_truth\", F(\"label\") == \"person\")\n",
    "val_dataset = val_dataset.filter_labels(\"ground_truth\", F(\"label\") == \"person\")\n"
   ]
  },
  {
   "cell_type": "code",
   "execution_count": 5,
   "id": "3bca078a-8c9d-438c-b75b-6c40662f0efd",
   "metadata": {
    "id": "3bca078a-8c9d-438c-b75b-6c40662f0efd"
   },
   "outputs": [],
   "source": [
    "# Tag samples in the original datasets before merging\n",
    "for sample in train_dataset:\n",
    "    sample.tags.append(\"train\")\n",
    "    sample.save()\n",
    "\n",
    "for sample in val_dataset:\n",
    "    sample.tags.append(\"validation\")\n",
    "    sample.save()\n"
   ]
  },
  {
   "cell_type": "code",
   "execution_count": 6,
   "id": "31e6c36e-8114-48c0-a0a1-f694bf2a3580",
   "metadata": {
    "colab": {
     "base_uri": "https://localhost:8080/"
    },
    "id": "31e6c36e-8114-48c0-a0a1-f694bf2a3580",
    "outputId": "6c84d869-3826-41e4-e960-4b490778830c"
   },
   "outputs": [
    {
     "name": "stdout",
     "output_type": "stream",
     "text": [
      "Dataset 'coco-2017-person-combined' already exists. Deleting it to create a new one.\n",
      "Creating a new dataset 'coco-2017-person-combined'.\n",
      " 100% |███████████████| 3000/3000 [9.6s elapsed, 0s remaining, 306.0 samples/s]       \n",
      " 100% |█████████████████| 500/500 [1.6s elapsed, 0s remaining, 317.9 samples/s]         \n"
     ]
    },
    {
     "data": {
      "text/plain": [
       "['68591382358aa6c0c0c0966e',\n",
       " '68591382358aa6c0c0c09693',\n",
       " '68591382358aa6c0c0c09694',\n",
       " '68591382358aa6c0c0c09695',\n",
       " '68591382358aa6c0c0c09696',\n",
       " '68591382358aa6c0c0c09697',\n",
       " '68591382358aa6c0c0c09698',\n",
       " '68591382358aa6c0c0c09699',\n",
       " '68591382358aa6c0c0c0969a',\n",
       " '68591382358aa6c0c0c097a8',\n",
       " '68591382358aa6c0c0c097a9',\n",
       " '68591382358aa6c0c0c097aa',\n",
       " '68591382358aa6c0c0c097ab',\n",
       " '68591382358aa6c0c0c097ac',\n",
       " '68591382358aa6c0c0c097ad',\n",
       " '68591382358aa6c0c0c097ae',\n",
       " '68591382358aa6c0c0c097af',\n",
       " '68591382358aa6c0c0c097b0',\n",
       " '68591382358aa6c0c0c097b1',\n",
       " '68591382358aa6c0c0c097b2',\n",
       " '68591382358aa6c0c0c097b3',\n",
       " '68591382358aa6c0c0c097b4',\n",
       " '68591382358aa6c0c0c097b5',\n",
       " '68591382358aa6c0c0c097b6',\n",
       " '68591382358aa6c0c0c097b7',\n",
       " '68591382358aa6c0c0c097b8',\n",
       " '68591382358aa6c0c0c097b9',\n",
       " '68591382358aa6c0c0c097ba',\n",
       " '68591382358aa6c0c0c097bb',\n",
       " '68591382358aa6c0c0c097bc',\n",
       " '68591382358aa6c0c0c097bd',\n",
       " '68591382358aa6c0c0c097be',\n",
       " '68591382358aa6c0c0c097bf',\n",
       " '68591382358aa6c0c0c097c0',\n",
       " '68591382358aa6c0c0c097c1',\n",
       " '68591382358aa6c0c0c097c2',\n",
       " '68591382358aa6c0c0c097c3',\n",
       " '68591382358aa6c0c0c097c4',\n",
       " '68591382358aa6c0c0c097c5',\n",
       " '68591382358aa6c0c0c097c6',\n",
       " '68591382358aa6c0c0c097c7',\n",
       " '68591382358aa6c0c0c097c8',\n",
       " '68591382358aa6c0c0c097c9',\n",
       " '68591382358aa6c0c0c097ca',\n",
       " '68591382358aa6c0c0c097cb',\n",
       " '68591382358aa6c0c0c097cc',\n",
       " '68591382358aa6c0c0c097cd',\n",
       " '68591382358aa6c0c0c097ce',\n",
       " '68591382358aa6c0c0c097cf',\n",
       " '68591382358aa6c0c0c097d0',\n",
       " '68591382358aa6c0c0c097d1',\n",
       " '68591382358aa6c0c0c097d2',\n",
       " '68591382358aa6c0c0c097d3',\n",
       " '68591382358aa6c0c0c097d4',\n",
       " '68591382358aa6c0c0c097d5',\n",
       " '68591382358aa6c0c0c097d6',\n",
       " '68591382358aa6c0c0c097d7',\n",
       " '68591382358aa6c0c0c097d8',\n",
       " '68591382358aa6c0c0c097d9',\n",
       " '68591382358aa6c0c0c097da',\n",
       " '68591382358aa6c0c0c097db',\n",
       " '68591382358aa6c0c0c097dc',\n",
       " '68591382358aa6c0c0c097dd',\n",
       " '68591382358aa6c0c0c097de',\n",
       " '68591382358aa6c0c0c097df',\n",
       " '68591382358aa6c0c0c098cc',\n",
       " '68591382358aa6c0c0c098cd',\n",
       " '68591382358aa6c0c0c098ce',\n",
       " '68591382358aa6c0c0c098cf',\n",
       " '68591382358aa6c0c0c098d0',\n",
       " '68591382358aa6c0c0c098d1',\n",
       " '68591382358aa6c0c0c098d2',\n",
       " '68591382358aa6c0c0c098d3',\n",
       " '68591382358aa6c0c0c098d4',\n",
       " '68591382358aa6c0c0c098d5',\n",
       " '68591382358aa6c0c0c098d6',\n",
       " '68591382358aa6c0c0c098d7',\n",
       " '68591382358aa6c0c0c098d8',\n",
       " '68591382358aa6c0c0c098d9',\n",
       " '68591382358aa6c0c0c098da',\n",
       " '68591382358aa6c0c0c098db',\n",
       " '68591382358aa6c0c0c098dc',\n",
       " '68591382358aa6c0c0c098dd',\n",
       " '68591382358aa6c0c0c098de',\n",
       " '68591382358aa6c0c0c098df',\n",
       " '68591382358aa6c0c0c098e0',\n",
       " '68591382358aa6c0c0c098e1',\n",
       " '68591382358aa6c0c0c098e2',\n",
       " '68591382358aa6c0c0c098e3',\n",
       " '68591382358aa6c0c0c098e4',\n",
       " '68591382358aa6c0c0c098e5',\n",
       " '68591382358aa6c0c0c098e6',\n",
       " '68591382358aa6c0c0c098e7',\n",
       " '68591382358aa6c0c0c098e8',\n",
       " '68591382358aa6c0c0c098e9',\n",
       " '68591382358aa6c0c0c098ea',\n",
       " '68591382358aa6c0c0c098eb',\n",
       " '68591382358aa6c0c0c098ec',\n",
       " '68591382358aa6c0c0c098ed',\n",
       " '68591382358aa6c0c0c098ee',\n",
       " '68591382358aa6c0c0c098ef',\n",
       " '68591382358aa6c0c0c098f0',\n",
       " '68591382358aa6c0c0c098f1',\n",
       " '68591382358aa6c0c0c098f2',\n",
       " '68591382358aa6c0c0c098f3',\n",
       " '68591382358aa6c0c0c098f4',\n",
       " '68591382358aa6c0c0c098f5',\n",
       " '68591382358aa6c0c0c098f6',\n",
       " '68591382358aa6c0c0c098f7',\n",
       " '68591382358aa6c0c0c098f8',\n",
       " '68591382358aa6c0c0c098f9',\n",
       " '68591382358aa6c0c0c098fa',\n",
       " '68591382358aa6c0c0c098fb',\n",
       " '68591382358aa6c0c0c098fc',\n",
       " '68591382358aa6c0c0c098fd',\n",
       " '68591382358aa6c0c0c098fe',\n",
       " '68591382358aa6c0c0c098ff',\n",
       " '68591382358aa6c0c0c09900',\n",
       " '68591382358aa6c0c0c09901',\n",
       " '68591382358aa6c0c0c09902',\n",
       " '68591382358aa6c0c0c09903',\n",
       " '68591382358aa6c0c0c09904',\n",
       " '68591383358aa6c0c0c099dc',\n",
       " '68591383358aa6c0c0c099dd',\n",
       " '68591383358aa6c0c0c099de',\n",
       " '68591383358aa6c0c0c099df',\n",
       " '68591383358aa6c0c0c099e0',\n",
       " '68591383358aa6c0c0c099e1',\n",
       " '68591383358aa6c0c0c099e2',\n",
       " '68591383358aa6c0c0c099e3',\n",
       " '68591383358aa6c0c0c099e4',\n",
       " '68591383358aa6c0c0c099e5',\n",
       " '68591383358aa6c0c0c099e6',\n",
       " '68591383358aa6c0c0c099e7',\n",
       " '68591383358aa6c0c0c099e8',\n",
       " '68591383358aa6c0c0c099e9',\n",
       " '68591383358aa6c0c0c099ea',\n",
       " '68591383358aa6c0c0c099eb',\n",
       " '68591383358aa6c0c0c099ec',\n",
       " '68591383358aa6c0c0c099ed',\n",
       " '68591383358aa6c0c0c099ee',\n",
       " '68591383358aa6c0c0c099ef',\n",
       " '68591383358aa6c0c0c099f0',\n",
       " '68591383358aa6c0c0c099f1',\n",
       " '68591383358aa6c0c0c099f2',\n",
       " '68591383358aa6c0c0c099f3',\n",
       " '68591383358aa6c0c0c099f4',\n",
       " '68591383358aa6c0c0c099f5',\n",
       " '68591383358aa6c0c0c099f6',\n",
       " '68591383358aa6c0c0c099f7',\n",
       " '68591383358aa6c0c0c099f8',\n",
       " '68591383358aa6c0c0c099f9',\n",
       " '68591383358aa6c0c0c099fa',\n",
       " '68591383358aa6c0c0c099fb',\n",
       " '68591383358aa6c0c0c099fc',\n",
       " '68591383358aa6c0c0c099fd',\n",
       " '68591383358aa6c0c0c099fe',\n",
       " '68591383358aa6c0c0c099ff',\n",
       " '68591383358aa6c0c0c09a00',\n",
       " '68591383358aa6c0c0c09a01',\n",
       " '68591383358aa6c0c0c09a02',\n",
       " '68591383358aa6c0c0c09a03',\n",
       " '68591383358aa6c0c0c09a04',\n",
       " '68591383358aa6c0c0c09a05',\n",
       " '68591383358aa6c0c0c09a06',\n",
       " '68591383358aa6c0c0c09a07',\n",
       " '68591383358aa6c0c0c09a08',\n",
       " '68591383358aa6c0c0c09a09',\n",
       " '68591383358aa6c0c0c09a0a',\n",
       " '68591383358aa6c0c0c09a0b',\n",
       " '68591383358aa6c0c0c09a0c',\n",
       " '68591383358aa6c0c0c09a0d',\n",
       " '68591383358aa6c0c0c09a0e',\n",
       " '68591383358aa6c0c0c09a0f',\n",
       " '68591383358aa6c0c0c09a10',\n",
       " '68591383358aa6c0c0c09a11',\n",
       " '68591383358aa6c0c0c09a12',\n",
       " '68591383358aa6c0c0c09a13',\n",
       " '68591383358aa6c0c0c09a14',\n",
       " '68591383358aa6c0c0c09a15',\n",
       " '68591383358aa6c0c0c09a16',\n",
       " '68591383358aa6c0c0c09a17',\n",
       " '68591383358aa6c0c0c09b02',\n",
       " '68591383358aa6c0c0c09b03',\n",
       " '68591383358aa6c0c0c09b04',\n",
       " '68591383358aa6c0c0c09b05',\n",
       " '68591383358aa6c0c0c09b06',\n",
       " '68591383358aa6c0c0c09b07',\n",
       " '68591383358aa6c0c0c09b08',\n",
       " '68591383358aa6c0c0c09b09',\n",
       " '68591383358aa6c0c0c09b0a',\n",
       " '68591383358aa6c0c0c09b0b',\n",
       " '68591383358aa6c0c0c09b0c',\n",
       " '68591383358aa6c0c0c09b0d',\n",
       " '68591383358aa6c0c0c09b0e',\n",
       " '68591383358aa6c0c0c09b0f',\n",
       " '68591383358aa6c0c0c09b10',\n",
       " '68591383358aa6c0c0c09b11',\n",
       " '68591383358aa6c0c0c09b12',\n",
       " '68591383358aa6c0c0c09b13',\n",
       " '68591383358aa6c0c0c09b14',\n",
       " '68591383358aa6c0c0c09b15',\n",
       " '68591383358aa6c0c0c09b16',\n",
       " '68591383358aa6c0c0c09b17',\n",
       " '68591383358aa6c0c0c09b18',\n",
       " '68591383358aa6c0c0c09b19',\n",
       " '68591383358aa6c0c0c09b1a',\n",
       " '68591383358aa6c0c0c09b1b',\n",
       " '68591383358aa6c0c0c09b1c',\n",
       " '68591383358aa6c0c0c09b1d',\n",
       " '68591383358aa6c0c0c09b1e',\n",
       " '68591383358aa6c0c0c09b1f',\n",
       " '68591383358aa6c0c0c09b20',\n",
       " '68591383358aa6c0c0c09b21',\n",
       " '68591383358aa6c0c0c09b22',\n",
       " '68591383358aa6c0c0c09b23',\n",
       " '68591383358aa6c0c0c09b24',\n",
       " '68591383358aa6c0c0c09b25',\n",
       " '68591383358aa6c0c0c09b26',\n",
       " '68591383358aa6c0c0c09b27',\n",
       " '68591383358aa6c0c0c09b28',\n",
       " '68591383358aa6c0c0c09b29',\n",
       " '68591383358aa6c0c0c09b2a',\n",
       " '68591383358aa6c0c0c09b2b',\n",
       " '68591383358aa6c0c0c09b2c',\n",
       " '68591383358aa6c0c0c09b2d',\n",
       " '68591383358aa6c0c0c09b2e',\n",
       " '68591383358aa6c0c0c09b2f',\n",
       " '68591383358aa6c0c0c09b30',\n",
       " '68591383358aa6c0c0c09b31',\n",
       " '68591383358aa6c0c0c09b32',\n",
       " '68591383358aa6c0c0c09b33',\n",
       " '68591383358aa6c0c0c09b34',\n",
       " '68591383358aa6c0c0c09b35',\n",
       " '68591383358aa6c0c0c09b36',\n",
       " '68591383358aa6c0c0c09b37',\n",
       " '68591383358aa6c0c0c09b38',\n",
       " '68591383358aa6c0c0c09b39',\n",
       " '68591383358aa6c0c0c09b3a',\n",
       " '68591383358aa6c0c0c09b3b',\n",
       " '68591383358aa6c0c0c09b3c',\n",
       " '68591383358aa6c0c0c09b3d',\n",
       " '68591383358aa6c0c0c09b3e',\n",
       " '68591383358aa6c0c0c09b3f',\n",
       " '68591383358aa6c0c0c09b40',\n",
       " '68591383358aa6c0c0c09b41',\n",
       " '68591383358aa6c0c0c09c58',\n",
       " '68591383358aa6c0c0c09c59',\n",
       " '68591383358aa6c0c0c09c5a',\n",
       " '68591383358aa6c0c0c09c5b',\n",
       " '68591383358aa6c0c0c09c5c',\n",
       " '68591383358aa6c0c0c09c5d',\n",
       " '68591383358aa6c0c0c09c5e',\n",
       " '68591383358aa6c0c0c09c5f',\n",
       " '68591383358aa6c0c0c09c60',\n",
       " '68591383358aa6c0c0c09c61',\n",
       " '68591383358aa6c0c0c09c62',\n",
       " '68591383358aa6c0c0c09c63',\n",
       " '68591383358aa6c0c0c09c64',\n",
       " '68591383358aa6c0c0c09c65',\n",
       " '68591383358aa6c0c0c09c66',\n",
       " '68591383358aa6c0c0c09c67',\n",
       " '68591383358aa6c0c0c09c68',\n",
       " '68591383358aa6c0c0c09c69',\n",
       " '68591383358aa6c0c0c09c6a',\n",
       " '68591383358aa6c0c0c09c6b',\n",
       " '68591383358aa6c0c0c09c6c',\n",
       " '68591383358aa6c0c0c09c6d',\n",
       " '68591383358aa6c0c0c09c6e',\n",
       " '68591383358aa6c0c0c09c6f',\n",
       " '68591383358aa6c0c0c09c70',\n",
       " '68591383358aa6c0c0c09c71',\n",
       " '68591383358aa6c0c0c09c72',\n",
       " '68591383358aa6c0c0c09c73',\n",
       " '68591383358aa6c0c0c09c74',\n",
       " '68591383358aa6c0c0c09c75',\n",
       " '68591383358aa6c0c0c09c76',\n",
       " '68591383358aa6c0c0c09c77',\n",
       " '68591383358aa6c0c0c09c78',\n",
       " '68591383358aa6c0c0c09c79',\n",
       " '68591383358aa6c0c0c09c7a',\n",
       " '68591383358aa6c0c0c09c7b',\n",
       " '68591383358aa6c0c0c09c7c',\n",
       " '68591383358aa6c0c0c09c7d',\n",
       " '68591383358aa6c0c0c09c7e',\n",
       " '68591383358aa6c0c0c09c7f',\n",
       " '68591383358aa6c0c0c09c80',\n",
       " '68591383358aa6c0c0c09c81',\n",
       " '68591383358aa6c0c0c09c82',\n",
       " '68591383358aa6c0c0c09c83',\n",
       " '68591383358aa6c0c0c09c84',\n",
       " '68591383358aa6c0c0c09c85',\n",
       " '68591383358aa6c0c0c09c86',\n",
       " '68591383358aa6c0c0c09c87',\n",
       " '68591383358aa6c0c0c09c88',\n",
       " '68591383358aa6c0c0c09c89',\n",
       " '68591383358aa6c0c0c09c8a',\n",
       " '68591383358aa6c0c0c09c8b',\n",
       " '68591383358aa6c0c0c09c8c',\n",
       " '68591383358aa6c0c0c09c8d',\n",
       " '68591383358aa6c0c0c09c8e',\n",
       " '68591383358aa6c0c0c09c8f',\n",
       " '68591383358aa6c0c0c09c90',\n",
       " '68591383358aa6c0c0c09c91',\n",
       " '68591383358aa6c0c0c09c92',\n",
       " '68591383358aa6c0c0c09c93',\n",
       " '68591383358aa6c0c0c09c94',\n",
       " '68591383358aa6c0c0c09c95',\n",
       " '68591383358aa6c0c0c09c96',\n",
       " '68591383358aa6c0c0c09c97',\n",
       " '68591383358aa6c0c0c09c98',\n",
       " '68591383358aa6c0c0c09c99',\n",
       " '68591383358aa6c0c0c09c9a',\n",
       " '68591383358aa6c0c0c09c9b',\n",
       " '68591383358aa6c0c0c09ddf',\n",
       " '68591383358aa6c0c0c09de0',\n",
       " '68591383358aa6c0c0c09de1',\n",
       " '68591383358aa6c0c0c09de2',\n",
       " '68591383358aa6c0c0c09de3',\n",
       " '68591383358aa6c0c0c09de4',\n",
       " '68591383358aa6c0c0c09de5',\n",
       " '68591383358aa6c0c0c09de6',\n",
       " '68591383358aa6c0c0c09de7',\n",
       " '68591383358aa6c0c0c09de8',\n",
       " '68591383358aa6c0c0c09de9',\n",
       " '68591383358aa6c0c0c09dea',\n",
       " '68591383358aa6c0c0c09deb',\n",
       " '68591383358aa6c0c0c09dec',\n",
       " '68591383358aa6c0c0c09ded',\n",
       " '68591383358aa6c0c0c09dee',\n",
       " '68591383358aa6c0c0c09def',\n",
       " '68591383358aa6c0c0c09df0',\n",
       " '68591383358aa6c0c0c09df1',\n",
       " '68591383358aa6c0c0c09df2',\n",
       " '68591383358aa6c0c0c09df3',\n",
       " '68591383358aa6c0c0c09df4',\n",
       " '68591383358aa6c0c0c09df5',\n",
       " '68591383358aa6c0c0c09df6',\n",
       " '68591383358aa6c0c0c09df7',\n",
       " '68591383358aa6c0c0c09df8',\n",
       " '68591383358aa6c0c0c09df9',\n",
       " '68591383358aa6c0c0c09dfa',\n",
       " '68591383358aa6c0c0c09dfb',\n",
       " '68591383358aa6c0c0c09dfc',\n",
       " '68591383358aa6c0c0c09dfd',\n",
       " '68591383358aa6c0c0c09dfe',\n",
       " '68591383358aa6c0c0c09dff',\n",
       " '68591383358aa6c0c0c09e00',\n",
       " '68591383358aa6c0c0c09e01',\n",
       " '68591383358aa6c0c0c09e02',\n",
       " '68591383358aa6c0c0c09e03',\n",
       " '68591383358aa6c0c0c09e04',\n",
       " '68591383358aa6c0c0c09e05',\n",
       " '68591383358aa6c0c0c09e06',\n",
       " '68591383358aa6c0c0c09e07',\n",
       " '68591383358aa6c0c0c09e08',\n",
       " '68591383358aa6c0c0c09e09',\n",
       " '68591383358aa6c0c0c09e0a',\n",
       " '68591383358aa6c0c0c09e0b',\n",
       " '68591383358aa6c0c0c09e0c',\n",
       " '68591383358aa6c0c0c09e0d',\n",
       " '68591383358aa6c0c0c09e0e',\n",
       " '68591383358aa6c0c0c09e0f',\n",
       " '68591383358aa6c0c0c09e10',\n",
       " '68591383358aa6c0c0c09e11',\n",
       " '68591383358aa6c0c0c09e12',\n",
       " '68591383358aa6c0c0c09e13',\n",
       " '68591383358aa6c0c0c09e14',\n",
       " '68591383358aa6c0c0c09e15',\n",
       " '68591383358aa6c0c0c09e16',\n",
       " '68591383358aa6c0c0c09e17',\n",
       " '68591383358aa6c0c0c09e18',\n",
       " '68591383358aa6c0c0c09e19',\n",
       " '68591383358aa6c0c0c09e1a',\n",
       " '68591383358aa6c0c0c09e1b',\n",
       " '68591383358aa6c0c0c09e1c',\n",
       " '68591383358aa6c0c0c09e1d',\n",
       " '68591383358aa6c0c0c09f04',\n",
       " '68591383358aa6c0c0c09f05',\n",
       " '68591383358aa6c0c0c09f06',\n",
       " '68591383358aa6c0c0c09f07',\n",
       " '68591383358aa6c0c0c09f08',\n",
       " '68591383358aa6c0c0c09f09',\n",
       " '68591383358aa6c0c0c09f0a',\n",
       " '68591383358aa6c0c0c09f0b',\n",
       " '68591383358aa6c0c0c09f0c',\n",
       " '68591383358aa6c0c0c09f0d',\n",
       " '68591383358aa6c0c0c09f0e',\n",
       " '68591383358aa6c0c0c09f0f',\n",
       " '68591383358aa6c0c0c09f10',\n",
       " '68591383358aa6c0c0c09f11',\n",
       " '68591383358aa6c0c0c09f12',\n",
       " '68591383358aa6c0c0c09f13',\n",
       " '68591383358aa6c0c0c09f14',\n",
       " '68591383358aa6c0c0c09f15',\n",
       " '68591383358aa6c0c0c09f16',\n",
       " '68591383358aa6c0c0c09f17',\n",
       " '68591383358aa6c0c0c09f18',\n",
       " '68591383358aa6c0c0c09f19',\n",
       " '68591383358aa6c0c0c09f1a',\n",
       " '68591383358aa6c0c0c09f1b',\n",
       " '68591383358aa6c0c0c09f1c',\n",
       " '68591383358aa6c0c0c09f1d',\n",
       " '68591383358aa6c0c0c09f1e',\n",
       " '68591383358aa6c0c0c09f1f',\n",
       " '68591383358aa6c0c0c09f20',\n",
       " '68591383358aa6c0c0c09f21',\n",
       " '68591383358aa6c0c0c09f22',\n",
       " '68591383358aa6c0c0c09f23',\n",
       " '68591383358aa6c0c0c09f24',\n",
       " '68591383358aa6c0c0c09f25',\n",
       " '68591383358aa6c0c0c09f26',\n",
       " '68591383358aa6c0c0c09f27',\n",
       " '68591383358aa6c0c0c09f28',\n",
       " '68591383358aa6c0c0c09f29',\n",
       " '68591383358aa6c0c0c09f2a',\n",
       " '68591383358aa6c0c0c09f2b',\n",
       " '68591383358aa6c0c0c09f2c',\n",
       " '68591383358aa6c0c0c09f2d',\n",
       " '68591383358aa6c0c0c09f2e',\n",
       " '68591383358aa6c0c0c09f2f',\n",
       " '68591383358aa6c0c0c09f30',\n",
       " '68591383358aa6c0c0c09f31',\n",
       " '68591383358aa6c0c0c09f32',\n",
       " '68591383358aa6c0c0c09f33',\n",
       " '68591383358aa6c0c0c09f34',\n",
       " '68591383358aa6c0c0c09f35',\n",
       " '68591383358aa6c0c0c09f36',\n",
       " '68591383358aa6c0c0c09f37',\n",
       " '68591383358aa6c0c0c09f38',\n",
       " '68591383358aa6c0c0c09f39',\n",
       " '68591383358aa6c0c0c09f3a',\n",
       " '68591383358aa6c0c0c09f3b',\n",
       " '68591383358aa6c0c0c09f3c',\n",
       " '68591383358aa6c0c0c09f3d',\n",
       " '68591383358aa6c0c0c09f3e',\n",
       " '68591384358aa6c0c0c0a019',\n",
       " '68591384358aa6c0c0c0a01a',\n",
       " '68591384358aa6c0c0c0a01b',\n",
       " '68591384358aa6c0c0c0a01c',\n",
       " '68591384358aa6c0c0c0a01d',\n",
       " '68591384358aa6c0c0c0a01e',\n",
       " '68591384358aa6c0c0c0a01f',\n",
       " '68591384358aa6c0c0c0a020',\n",
       " '68591384358aa6c0c0c0a021',\n",
       " '68591384358aa6c0c0c0a022',\n",
       " '68591384358aa6c0c0c0a023',\n",
       " '68591384358aa6c0c0c0a024',\n",
       " '68591384358aa6c0c0c0a025',\n",
       " '68591384358aa6c0c0c0a026',\n",
       " '68591384358aa6c0c0c0a027',\n",
       " '68591384358aa6c0c0c0a028',\n",
       " '68591384358aa6c0c0c0a029',\n",
       " '68591384358aa6c0c0c0a02a',\n",
       " '68591384358aa6c0c0c0a02b',\n",
       " '68591384358aa6c0c0c0a02c',\n",
       " '68591384358aa6c0c0c0a02d',\n",
       " '68591384358aa6c0c0c0a02e',\n",
       " '68591384358aa6c0c0c0a02f',\n",
       " '68591384358aa6c0c0c0a030',\n",
       " '68591384358aa6c0c0c0a031',\n",
       " '68591384358aa6c0c0c0a032',\n",
       " '68591384358aa6c0c0c0a033',\n",
       " '68591384358aa6c0c0c0a034',\n",
       " '68591384358aa6c0c0c0a035',\n",
       " '68591384358aa6c0c0c0a036',\n",
       " '68591384358aa6c0c0c0a037',\n",
       " '68591384358aa6c0c0c0a038',\n",
       " '68591384358aa6c0c0c0a039',\n",
       " '68591384358aa6c0c0c0a03a',\n",
       " '68591384358aa6c0c0c0a03b',\n",
       " '68591384358aa6c0c0c0a03c',\n",
       " '68591384358aa6c0c0c0a03d',\n",
       " '68591384358aa6c0c0c0a03e',\n",
       " '68591384358aa6c0c0c0a03f',\n",
       " '68591384358aa6c0c0c0a040',\n",
       " '68591384358aa6c0c0c0a041',\n",
       " '68591384358aa6c0c0c0a042',\n",
       " '68591384358aa6c0c0c0a043',\n",
       " '68591384358aa6c0c0c0a044',\n",
       " '68591384358aa6c0c0c0a045',\n",
       " '68591384358aa6c0c0c0a046',\n",
       " '68591384358aa6c0c0c0a047',\n",
       " '68591384358aa6c0c0c0a048',\n",
       " '68591384358aa6c0c0c0a049',\n",
       " '68591384358aa6c0c0c0a04a',\n",
       " '68591384358aa6c0c0c0a04b',\n",
       " '68591384358aa6c0c0c0a04c',\n",
       " '68591384358aa6c0c0c0a04d',\n",
       " '68591384358aa6c0c0c0a04e',\n",
       " '68591384358aa6c0c0c0a04f',\n",
       " '68591384358aa6c0c0c0a050',\n",
       " '68591384358aa6c0c0c0a051',\n",
       " '68591384358aa6c0c0c0a052',\n",
       " '68591384358aa6c0c0c0a053',\n",
       " '68591384358aa6c0c0c0a054',\n",
       " '68591384358aa6c0c0c0a055',\n",
       " '68591384358aa6c0c0c0a056',\n",
       " '68591384358aa6c0c0c0a057',\n",
       " '68591384358aa6c0c0c0a058']"
      ]
     },
     "execution_count": 6,
     "metadata": {},
     "output_type": "execute_result"
    }
   ],
   "source": [
    "dataset_name = \"coco-2017-person-combined\"\n",
    "\n",
    "if fo.dataset_exists(dataset_name):\n",
    "    print(f\"Dataset '{dataset_name}' already exists. Deleting it to create a new one.\")\n",
    "    fo.delete_dataset(dataset_name)\n",
    "\n",
    "print(f\"Creating a new dataset '{dataset_name}'.\")\n",
    "combined_dataset = fo.Dataset(dataset_name)\n",
    "combined_dataset.add_samples(train_dataset)\n",
    "combined_dataset.add_samples(val_dataset)"
   ]
  },
  {
   "cell_type": "code",
   "execution_count": 8,
   "id": "e4cc045b-3233-4556-bf43-d3767f9e4d61",
   "metadata": {
    "colab": {
     "base_uri": "https://localhost:8080/"
    },
    "id": "e4cc045b-3233-4556-bf43-d3767f9e4d61",
    "outputId": "9f761f0a-eac4-4229-e540-92e86a4c1081"
   },
   "outputs": [
    {
     "name": "stdout",
     "output_type": "stream",
     "text": [
      " 100% |███████████████| 3000/3000 [10.1s elapsed, 0s remaining, 197.7 samples/s]      \n",
      " 100% |█████████████████| 500/500 [1.5s elapsed, 0s remaining, 363.8 samples/s]         \n"
     ]
    }
   ],
   "source": [
    "import os\n",
    "# ----------------------\n",
    "# 2. Export in YOLO Format\n",
    "# ----------------------\n",
    "export_dir = \"./yolo_person_dataset\"\n",
    "shutil.rmtree(export_dir) # ensure clean dataset\n",
    "split_map = {\"train\": \"train\", \"validation\": \"val\"}  # Map FiftyOne splits to YOLO splits\n",
    "\n",
    "# Export filtered dataset\n",
    "for split in split_map.keys():\n",
    "    split_view = combined_dataset.match_tags(split)\n",
    "    split_view.export(\n",
    "        export_dir=os.path.join(export_dir, split_map[split]),\n",
    "        dataset_type=fo.types.YOLOv5Dataset,\n",
    "        label_field=\"ground_truth\",\n",
    "        classes=[\"person\"]  # Only export 'person' class\n",
    "    )\n"
   ]
  },
  {
   "cell_type": "code",
   "execution_count": 9,
   "id": "96a572c8-dc40-4a42-8ded-856de283010e",
   "metadata": {},
   "outputs": [
    {
     "data": {
      "text/html": [
       "\n",
       "        <iframe\n",
       "            width=\"100%\"\n",
       "            height=\"800\"\n",
       "            src=\"http://localhost:5151/?notebook=True&subscription=f77b537a-3d8a-481a-8f6b-1dacb3345d77\"\n",
       "            frameborder=\"0\"\n",
       "            allowfullscreen\n",
       "            \n",
       "        ></iframe>\n",
       "        "
      ],
      "text/plain": [
       "<IPython.lib.display.IFrame at 0x1f51cd7d250>"
      ]
     },
     "metadata": {},
     "output_type": "display_data"
    },
    {
     "name": "stdout",
     "output_type": "stream",
     "text": [
      "\n",
      "Could not connect session, trying again in 10 seconds\n",
      "\n"
     ]
    }
   ],
   "source": [
    "session = fo.launch_app(combined_dataset)"
   ]
  },
  {
   "cell_type": "code",
   "execution_count": 10,
   "id": "6dedfbc0-08bd-4045-99a9-e08bb48fa6e0",
   "metadata": {
    "id": "6dedfbc0-08bd-4045-99a9-e08bb48fa6e0"
   },
   "outputs": [],
   "source": [
    "\n",
    "# ----------------------\n",
    "# 3. Create dataset.yaml\n",
    "# ----------------------\n",
    "yolo_config = {\n",
    "    \"path\": os.path.abspath(export_dir),\n",
    "    \"train\": \"train/images\",\n",
    "    \"val\": \"val/images\",\n",
    "    \"nc\": 1,\n",
    "    \"names\": [\"person\"]\n",
    "}\n",
    "\n",
    "with open(os.path.join(export_dir, \"dataset.yaml\"), \"w\") as f:\n",
    "    yaml.dump(yolo_config, f)\n"
   ]
  },
  {
   "cell_type": "markdown",
   "id": "4c5f2fa9-3841-412c-81b1-b9bfa67e437e",
   "metadata": {},
   "source": [
    "# Model-1: PreTrained Yolo11n"
   ]
  },
  {
   "cell_type": "code",
   "execution_count": 11,
   "id": "268353bb-e763-45b2-87a9-61061bc4f97e",
   "metadata": {},
   "outputs": [],
   "source": [
    "def print_trainable_layers(model):\n",
    "    print(\"Trainable layers:\")\n",
    "    for name, param in model.named_parameters():\n",
    "        if param.requires_grad:\n",
    "            print(f\" - {name}\")\n",
    "\n",
    "def print_frozen_layers(model):\n",
    "    print(\"Frozen layers:\")\n",
    "    for name, param in model.named_parameters():\n",
    "        if not param.requires_grad:\n",
    "            print(f\" - {name}\")\n",
    "\n"
   ]
  },
  {
   "cell_type": "code",
   "execution_count": 20,
   "id": "a9f47192-3e6b-4a34-897d-25237f6bf803",
   "metadata": {},
   "outputs": [],
   "source": [
    "PROJECT = \"runs/detect\"\n",
    "NAME = \"person_detect_v1\"\n",
    "\n",
    "shutil.rmtree(os.path.join(PROJECT, NAME), ignore_errors=True)\n"
   ]
  },
  {
   "cell_type": "code",
   "execution_count": 21,
   "id": "a549a75e-f5a7-4f4a-8a8c-2be92281e77c",
   "metadata": {},
   "outputs": [
    {
     "name": "stdout",
     "output_type": "stream",
     "text": [
      "DetectionModel(\n",
      "  (model): Sequential(\n",
      "    (0): Conv(\n",
      "      (conv): Conv2d(3, 16, kernel_size=(3, 3), stride=(2, 2), padding=(1, 1), bias=False)\n",
      "      (bn): BatchNorm2d(16, eps=0.001, momentum=0.03, affine=True, track_running_stats=True)\n",
      "      (act): SiLU(inplace=True)\n",
      "    )\n",
      "    (1): Conv(\n",
      "      (conv): Conv2d(16, 32, kernel_size=(3, 3), stride=(2, 2), padding=(1, 1), bias=False)\n",
      "      (bn): BatchNorm2d(32, eps=0.001, momentum=0.03, affine=True, track_running_stats=True)\n",
      "      (act): SiLU(inplace=True)\n",
      "    )\n",
      "    (2): C3k2(\n",
      "      (cv1): Conv(\n",
      "        (conv): Conv2d(32, 32, kernel_size=(1, 1), stride=(1, 1), bias=False)\n",
      "        (bn): BatchNorm2d(32, eps=0.001, momentum=0.03, affine=True, track_running_stats=True)\n",
      "        (act): SiLU(inplace=True)\n",
      "      )\n",
      "      (cv2): Conv(\n",
      "        (conv): Conv2d(48, 64, kernel_size=(1, 1), stride=(1, 1), bias=False)\n",
      "        (bn): BatchNorm2d(64, eps=0.001, momentum=0.03, affine=True, track_running_stats=True)\n",
      "        (act): SiLU(inplace=True)\n",
      "      )\n",
      "      (m): ModuleList(\n",
      "        (0): Bottleneck(\n",
      "          (cv1): Conv(\n",
      "            (conv): Conv2d(16, 8, kernel_size=(3, 3), stride=(1, 1), padding=(1, 1), bias=False)\n",
      "            (bn): BatchNorm2d(8, eps=0.001, momentum=0.03, affine=True, track_running_stats=True)\n",
      "            (act): SiLU(inplace=True)\n",
      "          )\n",
      "          (cv2): Conv(\n",
      "            (conv): Conv2d(8, 16, kernel_size=(3, 3), stride=(1, 1), padding=(1, 1), bias=False)\n",
      "            (bn): BatchNorm2d(16, eps=0.001, momentum=0.03, affine=True, track_running_stats=True)\n",
      "            (act): SiLU(inplace=True)\n",
      "          )\n",
      "        )\n",
      "      )\n",
      "    )\n",
      "    (3): Conv(\n",
      "      (conv): Conv2d(64, 64, kernel_size=(3, 3), stride=(2, 2), padding=(1, 1), bias=False)\n",
      "      (bn): BatchNorm2d(64, eps=0.001, momentum=0.03, affine=True, track_running_stats=True)\n",
      "      (act): SiLU(inplace=True)\n",
      "    )\n",
      "    (4): C3k2(\n",
      "      (cv1): Conv(\n",
      "        (conv): Conv2d(64, 64, kernel_size=(1, 1), stride=(1, 1), bias=False)\n",
      "        (bn): BatchNorm2d(64, eps=0.001, momentum=0.03, affine=True, track_running_stats=True)\n",
      "        (act): SiLU(inplace=True)\n",
      "      )\n",
      "      (cv2): Conv(\n",
      "        (conv): Conv2d(96, 128, kernel_size=(1, 1), stride=(1, 1), bias=False)\n",
      "        (bn): BatchNorm2d(128, eps=0.001, momentum=0.03, affine=True, track_running_stats=True)\n",
      "        (act): SiLU(inplace=True)\n",
      "      )\n",
      "      (m): ModuleList(\n",
      "        (0): Bottleneck(\n",
      "          (cv1): Conv(\n",
      "            (conv): Conv2d(32, 16, kernel_size=(3, 3), stride=(1, 1), padding=(1, 1), bias=False)\n",
      "            (bn): BatchNorm2d(16, eps=0.001, momentum=0.03, affine=True, track_running_stats=True)\n",
      "            (act): SiLU(inplace=True)\n",
      "          )\n",
      "          (cv2): Conv(\n",
      "            (conv): Conv2d(16, 32, kernel_size=(3, 3), stride=(1, 1), padding=(1, 1), bias=False)\n",
      "            (bn): BatchNorm2d(32, eps=0.001, momentum=0.03, affine=True, track_running_stats=True)\n",
      "            (act): SiLU(inplace=True)\n",
      "          )\n",
      "        )\n",
      "      )\n",
      "    )\n",
      "    (5): Conv(\n",
      "      (conv): Conv2d(128, 128, kernel_size=(3, 3), stride=(2, 2), padding=(1, 1), bias=False)\n",
      "      (bn): BatchNorm2d(128, eps=0.001, momentum=0.03, affine=True, track_running_stats=True)\n",
      "      (act): SiLU(inplace=True)\n",
      "    )\n",
      "    (6): C3k2(\n",
      "      (cv1): Conv(\n",
      "        (conv): Conv2d(128, 128, kernel_size=(1, 1), stride=(1, 1), bias=False)\n",
      "        (bn): BatchNorm2d(128, eps=0.001, momentum=0.03, affine=True, track_running_stats=True)\n",
      "        (act): SiLU(inplace=True)\n",
      "      )\n",
      "      (cv2): Conv(\n",
      "        (conv): Conv2d(192, 128, kernel_size=(1, 1), stride=(1, 1), bias=False)\n",
      "        (bn): BatchNorm2d(128, eps=0.001, momentum=0.03, affine=True, track_running_stats=True)\n",
      "        (act): SiLU(inplace=True)\n",
      "      )\n",
      "      (m): ModuleList(\n",
      "        (0): C3k(\n",
      "          (cv1): Conv(\n",
      "            (conv): Conv2d(64, 32, kernel_size=(1, 1), stride=(1, 1), bias=False)\n",
      "            (bn): BatchNorm2d(32, eps=0.001, momentum=0.03, affine=True, track_running_stats=True)\n",
      "            (act): SiLU(inplace=True)\n",
      "          )\n",
      "          (cv2): Conv(\n",
      "            (conv): Conv2d(64, 32, kernel_size=(1, 1), stride=(1, 1), bias=False)\n",
      "            (bn): BatchNorm2d(32, eps=0.001, momentum=0.03, affine=True, track_running_stats=True)\n",
      "            (act): SiLU(inplace=True)\n",
      "          )\n",
      "          (cv3): Conv(\n",
      "            (conv): Conv2d(64, 64, kernel_size=(1, 1), stride=(1, 1), bias=False)\n",
      "            (bn): BatchNorm2d(64, eps=0.001, momentum=0.03, affine=True, track_running_stats=True)\n",
      "            (act): SiLU(inplace=True)\n",
      "          )\n",
      "          (m): Sequential(\n",
      "            (0): Bottleneck(\n",
      "              (cv1): Conv(\n",
      "                (conv): Conv2d(32, 32, kernel_size=(3, 3), stride=(1, 1), padding=(1, 1), bias=False)\n",
      "                (bn): BatchNorm2d(32, eps=0.001, momentum=0.03, affine=True, track_running_stats=True)\n",
      "                (act): SiLU(inplace=True)\n",
      "              )\n",
      "              (cv2): Conv(\n",
      "                (conv): Conv2d(32, 32, kernel_size=(3, 3), stride=(1, 1), padding=(1, 1), bias=False)\n",
      "                (bn): BatchNorm2d(32, eps=0.001, momentum=0.03, affine=True, track_running_stats=True)\n",
      "                (act): SiLU(inplace=True)\n",
      "              )\n",
      "            )\n",
      "            (1): Bottleneck(\n",
      "              (cv1): Conv(\n",
      "                (conv): Conv2d(32, 32, kernel_size=(3, 3), stride=(1, 1), padding=(1, 1), bias=False)\n",
      "                (bn): BatchNorm2d(32, eps=0.001, momentum=0.03, affine=True, track_running_stats=True)\n",
      "                (act): SiLU(inplace=True)\n",
      "              )\n",
      "              (cv2): Conv(\n",
      "                (conv): Conv2d(32, 32, kernel_size=(3, 3), stride=(1, 1), padding=(1, 1), bias=False)\n",
      "                (bn): BatchNorm2d(32, eps=0.001, momentum=0.03, affine=True, track_running_stats=True)\n",
      "                (act): SiLU(inplace=True)\n",
      "              )\n",
      "            )\n",
      "          )\n",
      "        )\n",
      "      )\n",
      "    )\n",
      "    (7): Conv(\n",
      "      (conv): Conv2d(128, 256, kernel_size=(3, 3), stride=(2, 2), padding=(1, 1), bias=False)\n",
      "      (bn): BatchNorm2d(256, eps=0.001, momentum=0.03, affine=True, track_running_stats=True)\n",
      "      (act): SiLU(inplace=True)\n",
      "    )\n",
      "    (8): C3k2(\n",
      "      (cv1): Conv(\n",
      "        (conv): Conv2d(256, 256, kernel_size=(1, 1), stride=(1, 1), bias=False)\n",
      "        (bn): BatchNorm2d(256, eps=0.001, momentum=0.03, affine=True, track_running_stats=True)\n",
      "        (act): SiLU(inplace=True)\n",
      "      )\n",
      "      (cv2): Conv(\n",
      "        (conv): Conv2d(384, 256, kernel_size=(1, 1), stride=(1, 1), bias=False)\n",
      "        (bn): BatchNorm2d(256, eps=0.001, momentum=0.03, affine=True, track_running_stats=True)\n",
      "        (act): SiLU(inplace=True)\n",
      "      )\n",
      "      (m): ModuleList(\n",
      "        (0): C3k(\n",
      "          (cv1): Conv(\n",
      "            (conv): Conv2d(128, 64, kernel_size=(1, 1), stride=(1, 1), bias=False)\n",
      "            (bn): BatchNorm2d(64, eps=0.001, momentum=0.03, affine=True, track_running_stats=True)\n",
      "            (act): SiLU(inplace=True)\n",
      "          )\n",
      "          (cv2): Conv(\n",
      "            (conv): Conv2d(128, 64, kernel_size=(1, 1), stride=(1, 1), bias=False)\n",
      "            (bn): BatchNorm2d(64, eps=0.001, momentum=0.03, affine=True, track_running_stats=True)\n",
      "            (act): SiLU(inplace=True)\n",
      "          )\n",
      "          (cv3): Conv(\n",
      "            (conv): Conv2d(128, 128, kernel_size=(1, 1), stride=(1, 1), bias=False)\n",
      "            (bn): BatchNorm2d(128, eps=0.001, momentum=0.03, affine=True, track_running_stats=True)\n",
      "            (act): SiLU(inplace=True)\n",
      "          )\n",
      "          (m): Sequential(\n",
      "            (0): Bottleneck(\n",
      "              (cv1): Conv(\n",
      "                (conv): Conv2d(64, 64, kernel_size=(3, 3), stride=(1, 1), padding=(1, 1), bias=False)\n",
      "                (bn): BatchNorm2d(64, eps=0.001, momentum=0.03, affine=True, track_running_stats=True)\n",
      "                (act): SiLU(inplace=True)\n",
      "              )\n",
      "              (cv2): Conv(\n",
      "                (conv): Conv2d(64, 64, kernel_size=(3, 3), stride=(1, 1), padding=(1, 1), bias=False)\n",
      "                (bn): BatchNorm2d(64, eps=0.001, momentum=0.03, affine=True, track_running_stats=True)\n",
      "                (act): SiLU(inplace=True)\n",
      "              )\n",
      "            )\n",
      "            (1): Bottleneck(\n",
      "              (cv1): Conv(\n",
      "                (conv): Conv2d(64, 64, kernel_size=(3, 3), stride=(1, 1), padding=(1, 1), bias=False)\n",
      "                (bn): BatchNorm2d(64, eps=0.001, momentum=0.03, affine=True, track_running_stats=True)\n",
      "                (act): SiLU(inplace=True)\n",
      "              )\n",
      "              (cv2): Conv(\n",
      "                (conv): Conv2d(64, 64, kernel_size=(3, 3), stride=(1, 1), padding=(1, 1), bias=False)\n",
      "                (bn): BatchNorm2d(64, eps=0.001, momentum=0.03, affine=True, track_running_stats=True)\n",
      "                (act): SiLU(inplace=True)\n",
      "              )\n",
      "            )\n",
      "          )\n",
      "        )\n",
      "      )\n",
      "    )\n",
      "    (9): SPPF(\n",
      "      (cv1): Conv(\n",
      "        (conv): Conv2d(256, 128, kernel_size=(1, 1), stride=(1, 1), bias=False)\n",
      "        (bn): BatchNorm2d(128, eps=0.001, momentum=0.03, affine=True, track_running_stats=True)\n",
      "        (act): SiLU(inplace=True)\n",
      "      )\n",
      "      (cv2): Conv(\n",
      "        (conv): Conv2d(512, 256, kernel_size=(1, 1), stride=(1, 1), bias=False)\n",
      "        (bn): BatchNorm2d(256, eps=0.001, momentum=0.03, affine=True, track_running_stats=True)\n",
      "        (act): SiLU(inplace=True)\n",
      "      )\n",
      "      (m): MaxPool2d(kernel_size=5, stride=1, padding=2, dilation=1, ceil_mode=False)\n",
      "    )\n",
      "    (10): C2PSA(\n",
      "      (cv1): Conv(\n",
      "        (conv): Conv2d(256, 256, kernel_size=(1, 1), stride=(1, 1), bias=False)\n",
      "        (bn): BatchNorm2d(256, eps=0.001, momentum=0.03, affine=True, track_running_stats=True)\n",
      "        (act): SiLU(inplace=True)\n",
      "      )\n",
      "      (cv2): Conv(\n",
      "        (conv): Conv2d(256, 256, kernel_size=(1, 1), stride=(1, 1), bias=False)\n",
      "        (bn): BatchNorm2d(256, eps=0.001, momentum=0.03, affine=True, track_running_stats=True)\n",
      "        (act): SiLU(inplace=True)\n",
      "      )\n",
      "      (m): Sequential(\n",
      "        (0): PSABlock(\n",
      "          (attn): Attention(\n",
      "            (qkv): Conv(\n",
      "              (conv): Conv2d(128, 256, kernel_size=(1, 1), stride=(1, 1), bias=False)\n",
      "              (bn): BatchNorm2d(256, eps=0.001, momentum=0.03, affine=True, track_running_stats=True)\n",
      "              (act): Identity()\n",
      "            )\n",
      "            (proj): Conv(\n",
      "              (conv): Conv2d(128, 128, kernel_size=(1, 1), stride=(1, 1), bias=False)\n",
      "              (bn): BatchNorm2d(128, eps=0.001, momentum=0.03, affine=True, track_running_stats=True)\n",
      "              (act): Identity()\n",
      "            )\n",
      "            (pe): Conv(\n",
      "              (conv): Conv2d(128, 128, kernel_size=(3, 3), stride=(1, 1), padding=(1, 1), groups=128, bias=False)\n",
      "              (bn): BatchNorm2d(128, eps=0.001, momentum=0.03, affine=True, track_running_stats=True)\n",
      "              (act): Identity()\n",
      "            )\n",
      "          )\n",
      "          (ffn): Sequential(\n",
      "            (0): Conv(\n",
      "              (conv): Conv2d(128, 256, kernel_size=(1, 1), stride=(1, 1), bias=False)\n",
      "              (bn): BatchNorm2d(256, eps=0.001, momentum=0.03, affine=True, track_running_stats=True)\n",
      "              (act): SiLU(inplace=True)\n",
      "            )\n",
      "            (1): Conv(\n",
      "              (conv): Conv2d(256, 128, kernel_size=(1, 1), stride=(1, 1), bias=False)\n",
      "              (bn): BatchNorm2d(128, eps=0.001, momentum=0.03, affine=True, track_running_stats=True)\n",
      "              (act): Identity()\n",
      "            )\n",
      "          )\n",
      "        )\n",
      "      )\n",
      "    )\n",
      "    (11): Upsample(scale_factor=2.0, mode='nearest')\n",
      "    (12): Concat()\n",
      "    (13): C3k2(\n",
      "      (cv1): Conv(\n",
      "        (conv): Conv2d(384, 128, kernel_size=(1, 1), stride=(1, 1), bias=False)\n",
      "        (bn): BatchNorm2d(128, eps=0.001, momentum=0.03, affine=True, track_running_stats=True)\n",
      "        (act): SiLU(inplace=True)\n",
      "      )\n",
      "      (cv2): Conv(\n",
      "        (conv): Conv2d(192, 128, kernel_size=(1, 1), stride=(1, 1), bias=False)\n",
      "        (bn): BatchNorm2d(128, eps=0.001, momentum=0.03, affine=True, track_running_stats=True)\n",
      "        (act): SiLU(inplace=True)\n",
      "      )\n",
      "      (m): ModuleList(\n",
      "        (0): Bottleneck(\n",
      "          (cv1): Conv(\n",
      "            (conv): Conv2d(64, 32, kernel_size=(3, 3), stride=(1, 1), padding=(1, 1), bias=False)\n",
      "            (bn): BatchNorm2d(32, eps=0.001, momentum=0.03, affine=True, track_running_stats=True)\n",
      "            (act): SiLU(inplace=True)\n",
      "          )\n",
      "          (cv2): Conv(\n",
      "            (conv): Conv2d(32, 64, kernel_size=(3, 3), stride=(1, 1), padding=(1, 1), bias=False)\n",
      "            (bn): BatchNorm2d(64, eps=0.001, momentum=0.03, affine=True, track_running_stats=True)\n",
      "            (act): SiLU(inplace=True)\n",
      "          )\n",
      "        )\n",
      "      )\n",
      "    )\n",
      "    (14): Upsample(scale_factor=2.0, mode='nearest')\n",
      "    (15): Concat()\n",
      "    (16): C3k2(\n",
      "      (cv1): Conv(\n",
      "        (conv): Conv2d(256, 64, kernel_size=(1, 1), stride=(1, 1), bias=False)\n",
      "        (bn): BatchNorm2d(64, eps=0.001, momentum=0.03, affine=True, track_running_stats=True)\n",
      "        (act): SiLU(inplace=True)\n",
      "      )\n",
      "      (cv2): Conv(\n",
      "        (conv): Conv2d(96, 64, kernel_size=(1, 1), stride=(1, 1), bias=False)\n",
      "        (bn): BatchNorm2d(64, eps=0.001, momentum=0.03, affine=True, track_running_stats=True)\n",
      "        (act): SiLU(inplace=True)\n",
      "      )\n",
      "      (m): ModuleList(\n",
      "        (0): Bottleneck(\n",
      "          (cv1): Conv(\n",
      "            (conv): Conv2d(32, 16, kernel_size=(3, 3), stride=(1, 1), padding=(1, 1), bias=False)\n",
      "            (bn): BatchNorm2d(16, eps=0.001, momentum=0.03, affine=True, track_running_stats=True)\n",
      "            (act): SiLU(inplace=True)\n",
      "          )\n",
      "          (cv2): Conv(\n",
      "            (conv): Conv2d(16, 32, kernel_size=(3, 3), stride=(1, 1), padding=(1, 1), bias=False)\n",
      "            (bn): BatchNorm2d(32, eps=0.001, momentum=0.03, affine=True, track_running_stats=True)\n",
      "            (act): SiLU(inplace=True)\n",
      "          )\n",
      "        )\n",
      "      )\n",
      "    )\n",
      "    (17): Conv(\n",
      "      (conv): Conv2d(64, 64, kernel_size=(3, 3), stride=(2, 2), padding=(1, 1), bias=False)\n",
      "      (bn): BatchNorm2d(64, eps=0.001, momentum=0.03, affine=True, track_running_stats=True)\n",
      "      (act): SiLU(inplace=True)\n",
      "    )\n",
      "    (18): Concat()\n",
      "    (19): C3k2(\n",
      "      (cv1): Conv(\n",
      "        (conv): Conv2d(192, 128, kernel_size=(1, 1), stride=(1, 1), bias=False)\n",
      "        (bn): BatchNorm2d(128, eps=0.001, momentum=0.03, affine=True, track_running_stats=True)\n",
      "        (act): SiLU(inplace=True)\n",
      "      )\n",
      "      (cv2): Conv(\n",
      "        (conv): Conv2d(192, 128, kernel_size=(1, 1), stride=(1, 1), bias=False)\n",
      "        (bn): BatchNorm2d(128, eps=0.001, momentum=0.03, affine=True, track_running_stats=True)\n",
      "        (act): SiLU(inplace=True)\n",
      "      )\n",
      "      (m): ModuleList(\n",
      "        (0): Bottleneck(\n",
      "          (cv1): Conv(\n",
      "            (conv): Conv2d(64, 32, kernel_size=(3, 3), stride=(1, 1), padding=(1, 1), bias=False)\n",
      "            (bn): BatchNorm2d(32, eps=0.001, momentum=0.03, affine=True, track_running_stats=True)\n",
      "            (act): SiLU(inplace=True)\n",
      "          )\n",
      "          (cv2): Conv(\n",
      "            (conv): Conv2d(32, 64, kernel_size=(3, 3), stride=(1, 1), padding=(1, 1), bias=False)\n",
      "            (bn): BatchNorm2d(64, eps=0.001, momentum=0.03, affine=True, track_running_stats=True)\n",
      "            (act): SiLU(inplace=True)\n",
      "          )\n",
      "        )\n",
      "      )\n",
      "    )\n",
      "    (20): Conv(\n",
      "      (conv): Conv2d(128, 128, kernel_size=(3, 3), stride=(2, 2), padding=(1, 1), bias=False)\n",
      "      (bn): BatchNorm2d(128, eps=0.001, momentum=0.03, affine=True, track_running_stats=True)\n",
      "      (act): SiLU(inplace=True)\n",
      "    )\n",
      "    (21): Concat()\n",
      "    (22): C3k2(\n",
      "      (cv1): Conv(\n",
      "        (conv): Conv2d(384, 256, kernel_size=(1, 1), stride=(1, 1), bias=False)\n",
      "        (bn): BatchNorm2d(256, eps=0.001, momentum=0.03, affine=True, track_running_stats=True)\n",
      "        (act): SiLU(inplace=True)\n",
      "      )\n",
      "      (cv2): Conv(\n",
      "        (conv): Conv2d(384, 256, kernel_size=(1, 1), stride=(1, 1), bias=False)\n",
      "        (bn): BatchNorm2d(256, eps=0.001, momentum=0.03, affine=True, track_running_stats=True)\n",
      "        (act): SiLU(inplace=True)\n",
      "      )\n",
      "      (m): ModuleList(\n",
      "        (0): C3k(\n",
      "          (cv1): Conv(\n",
      "            (conv): Conv2d(128, 64, kernel_size=(1, 1), stride=(1, 1), bias=False)\n",
      "            (bn): BatchNorm2d(64, eps=0.001, momentum=0.03, affine=True, track_running_stats=True)\n",
      "            (act): SiLU(inplace=True)\n",
      "          )\n",
      "          (cv2): Conv(\n",
      "            (conv): Conv2d(128, 64, kernel_size=(1, 1), stride=(1, 1), bias=False)\n",
      "            (bn): BatchNorm2d(64, eps=0.001, momentum=0.03, affine=True, track_running_stats=True)\n",
      "            (act): SiLU(inplace=True)\n",
      "          )\n",
      "          (cv3): Conv(\n",
      "            (conv): Conv2d(128, 128, kernel_size=(1, 1), stride=(1, 1), bias=False)\n",
      "            (bn): BatchNorm2d(128, eps=0.001, momentum=0.03, affine=True, track_running_stats=True)\n",
      "            (act): SiLU(inplace=True)\n",
      "          )\n",
      "          (m): Sequential(\n",
      "            (0): Bottleneck(\n",
      "              (cv1): Conv(\n",
      "                (conv): Conv2d(64, 64, kernel_size=(3, 3), stride=(1, 1), padding=(1, 1), bias=False)\n",
      "                (bn): BatchNorm2d(64, eps=0.001, momentum=0.03, affine=True, track_running_stats=True)\n",
      "                (act): SiLU(inplace=True)\n",
      "              )\n",
      "              (cv2): Conv(\n",
      "                (conv): Conv2d(64, 64, kernel_size=(3, 3), stride=(1, 1), padding=(1, 1), bias=False)\n",
      "                (bn): BatchNorm2d(64, eps=0.001, momentum=0.03, affine=True, track_running_stats=True)\n",
      "                (act): SiLU(inplace=True)\n",
      "              )\n",
      "            )\n",
      "            (1): Bottleneck(\n",
      "              (cv1): Conv(\n",
      "                (conv): Conv2d(64, 64, kernel_size=(3, 3), stride=(1, 1), padding=(1, 1), bias=False)\n",
      "                (bn): BatchNorm2d(64, eps=0.001, momentum=0.03, affine=True, track_running_stats=True)\n",
      "                (act): SiLU(inplace=True)\n",
      "              )\n",
      "              (cv2): Conv(\n",
      "                (conv): Conv2d(64, 64, kernel_size=(3, 3), stride=(1, 1), padding=(1, 1), bias=False)\n",
      "                (bn): BatchNorm2d(64, eps=0.001, momentum=0.03, affine=True, track_running_stats=True)\n",
      "                (act): SiLU(inplace=True)\n",
      "              )\n",
      "            )\n",
      "          )\n",
      "        )\n",
      "      )\n",
      "    )\n",
      "    (23): Detect(\n",
      "      (cv2): ModuleList(\n",
      "        (0): Sequential(\n",
      "          (0): Conv(\n",
      "            (conv): Conv2d(64, 64, kernel_size=(3, 3), stride=(1, 1), padding=(1, 1), bias=False)\n",
      "            (bn): BatchNorm2d(64, eps=0.001, momentum=0.03, affine=True, track_running_stats=True)\n",
      "            (act): SiLU(inplace=True)\n",
      "          )\n",
      "          (1): Conv(\n",
      "            (conv): Conv2d(64, 64, kernel_size=(3, 3), stride=(1, 1), padding=(1, 1), bias=False)\n",
      "            (bn): BatchNorm2d(64, eps=0.001, momentum=0.03, affine=True, track_running_stats=True)\n",
      "            (act): SiLU(inplace=True)\n",
      "          )\n",
      "          (2): Conv2d(64, 64, kernel_size=(1, 1), stride=(1, 1))\n",
      "        )\n",
      "        (1): Sequential(\n",
      "          (0): Conv(\n",
      "            (conv): Conv2d(128, 64, kernel_size=(3, 3), stride=(1, 1), padding=(1, 1), bias=False)\n",
      "            (bn): BatchNorm2d(64, eps=0.001, momentum=0.03, affine=True, track_running_stats=True)\n",
      "            (act): SiLU(inplace=True)\n",
      "          )\n",
      "          (1): Conv(\n",
      "            (conv): Conv2d(64, 64, kernel_size=(3, 3), stride=(1, 1), padding=(1, 1), bias=False)\n",
      "            (bn): BatchNorm2d(64, eps=0.001, momentum=0.03, affine=True, track_running_stats=True)\n",
      "            (act): SiLU(inplace=True)\n",
      "          )\n",
      "          (2): Conv2d(64, 64, kernel_size=(1, 1), stride=(1, 1))\n",
      "        )\n",
      "        (2): Sequential(\n",
      "          (0): Conv(\n",
      "            (conv): Conv2d(256, 64, kernel_size=(3, 3), stride=(1, 1), padding=(1, 1), bias=False)\n",
      "            (bn): BatchNorm2d(64, eps=0.001, momentum=0.03, affine=True, track_running_stats=True)\n",
      "            (act): SiLU(inplace=True)\n",
      "          )\n",
      "          (1): Conv(\n",
      "            (conv): Conv2d(64, 64, kernel_size=(3, 3), stride=(1, 1), padding=(1, 1), bias=False)\n",
      "            (bn): BatchNorm2d(64, eps=0.001, momentum=0.03, affine=True, track_running_stats=True)\n",
      "            (act): SiLU(inplace=True)\n",
      "          )\n",
      "          (2): Conv2d(64, 64, kernel_size=(1, 1), stride=(1, 1))\n",
      "        )\n",
      "      )\n",
      "      (cv3): ModuleList(\n",
      "        (0): Sequential(\n",
      "          (0): Sequential(\n",
      "            (0): DWConv(\n",
      "              (conv): Conv2d(64, 64, kernel_size=(3, 3), stride=(1, 1), padding=(1, 1), groups=64, bias=False)\n",
      "              (bn): BatchNorm2d(64, eps=0.001, momentum=0.03, affine=True, track_running_stats=True)\n",
      "              (act): SiLU(inplace=True)\n",
      "            )\n",
      "            (1): Conv(\n",
      "              (conv): Conv2d(64, 80, kernel_size=(1, 1), stride=(1, 1), bias=False)\n",
      "              (bn): BatchNorm2d(80, eps=0.001, momentum=0.03, affine=True, track_running_stats=True)\n",
      "              (act): SiLU(inplace=True)\n",
      "            )\n",
      "          )\n",
      "          (1): Sequential(\n",
      "            (0): DWConv(\n",
      "              (conv): Conv2d(80, 80, kernel_size=(3, 3), stride=(1, 1), padding=(1, 1), groups=80, bias=False)\n",
      "              (bn): BatchNorm2d(80, eps=0.001, momentum=0.03, affine=True, track_running_stats=True)\n",
      "              (act): SiLU(inplace=True)\n",
      "            )\n",
      "            (1): Conv(\n",
      "              (conv): Conv2d(80, 80, kernel_size=(1, 1), stride=(1, 1), bias=False)\n",
      "              (bn): BatchNorm2d(80, eps=0.001, momentum=0.03, affine=True, track_running_stats=True)\n",
      "              (act): SiLU(inplace=True)\n",
      "            )\n",
      "          )\n",
      "          (2): Conv2d(80, 80, kernel_size=(1, 1), stride=(1, 1))\n",
      "        )\n",
      "        (1): Sequential(\n",
      "          (0): Sequential(\n",
      "            (0): DWConv(\n",
      "              (conv): Conv2d(128, 128, kernel_size=(3, 3), stride=(1, 1), padding=(1, 1), groups=128, bias=False)\n",
      "              (bn): BatchNorm2d(128, eps=0.001, momentum=0.03, affine=True, track_running_stats=True)\n",
      "              (act): SiLU(inplace=True)\n",
      "            )\n",
      "            (1): Conv(\n",
      "              (conv): Conv2d(128, 80, kernel_size=(1, 1), stride=(1, 1), bias=False)\n",
      "              (bn): BatchNorm2d(80, eps=0.001, momentum=0.03, affine=True, track_running_stats=True)\n",
      "              (act): SiLU(inplace=True)\n",
      "            )\n",
      "          )\n",
      "          (1): Sequential(\n",
      "            (0): DWConv(\n",
      "              (conv): Conv2d(80, 80, kernel_size=(3, 3), stride=(1, 1), padding=(1, 1), groups=80, bias=False)\n",
      "              (bn): BatchNorm2d(80, eps=0.001, momentum=0.03, affine=True, track_running_stats=True)\n",
      "              (act): SiLU(inplace=True)\n",
      "            )\n",
      "            (1): Conv(\n",
      "              (conv): Conv2d(80, 80, kernel_size=(1, 1), stride=(1, 1), bias=False)\n",
      "              (bn): BatchNorm2d(80, eps=0.001, momentum=0.03, affine=True, track_running_stats=True)\n",
      "              (act): SiLU(inplace=True)\n",
      "            )\n",
      "          )\n",
      "          (2): Conv2d(80, 80, kernel_size=(1, 1), stride=(1, 1))\n",
      "        )\n",
      "        (2): Sequential(\n",
      "          (0): Sequential(\n",
      "            (0): DWConv(\n",
      "              (conv): Conv2d(256, 256, kernel_size=(3, 3), stride=(1, 1), padding=(1, 1), groups=256, bias=False)\n",
      "              (bn): BatchNorm2d(256, eps=0.001, momentum=0.03, affine=True, track_running_stats=True)\n",
      "              (act): SiLU(inplace=True)\n",
      "            )\n",
      "            (1): Conv(\n",
      "              (conv): Conv2d(256, 80, kernel_size=(1, 1), stride=(1, 1), bias=False)\n",
      "              (bn): BatchNorm2d(80, eps=0.001, momentum=0.03, affine=True, track_running_stats=True)\n",
      "              (act): SiLU(inplace=True)\n",
      "            )\n",
      "          )\n",
      "          (1): Sequential(\n",
      "            (0): DWConv(\n",
      "              (conv): Conv2d(80, 80, kernel_size=(3, 3), stride=(1, 1), padding=(1, 1), groups=80, bias=False)\n",
      "              (bn): BatchNorm2d(80, eps=0.001, momentum=0.03, affine=True, track_running_stats=True)\n",
      "              (act): SiLU(inplace=True)\n",
      "            )\n",
      "            (1): Conv(\n",
      "              (conv): Conv2d(80, 80, kernel_size=(1, 1), stride=(1, 1), bias=False)\n",
      "              (bn): BatchNorm2d(80, eps=0.001, momentum=0.03, affine=True, track_running_stats=True)\n",
      "              (act): SiLU(inplace=True)\n",
      "            )\n",
      "          )\n",
      "          (2): Conv2d(80, 80, kernel_size=(1, 1), stride=(1, 1))\n",
      "        )\n",
      "      )\n",
      "      (dfl): DFL(\n",
      "        (conv): Conv2d(16, 1, kernel_size=(1, 1), stride=(1, 1), bias=False)\n",
      "      )\n",
      "    )\n",
      "  )\n",
      ")\n"
     ]
    }
   ],
   "source": [
    "model = YOLO(\"yolo11n.pt\")  # Load pretrained model\n",
    "\n",
    "print(model.model)"
   ]
  },
  {
   "cell_type": "markdown",
   "id": "1d2b7b88-4694-4988-bbd3-23f2fbcf9902",
   "metadata": {},
   "source": [
    "<html>\n",
    "    <li>Backbone: Layer 0 - 10 --> After C2PSA</li>\n",
    "    <li>Neck : Layer 11 - 22</li>\n",
    "    <li>Head : Layer 23 --> Detect</li>\n",
    "</html>"
   ]
  },
  {
   "cell_type": "code",
   "execution_count": 22,
   "id": "426f74e0-3842-47d2-8152-cb1cd5b10bf8",
   "metadata": {},
   "outputs": [
    {
     "name": "stdout",
     "output_type": "stream",
     "text": [
      "Frozen layers:\n",
      "Trainable layers:\n",
      " - model.0.conv.weight\n",
      " - model.0.bn.weight\n",
      " - model.0.bn.bias\n",
      " - model.1.conv.weight\n",
      " - model.1.bn.weight\n",
      " - model.1.bn.bias\n",
      " - model.2.cv1.conv.weight\n",
      " - model.2.cv1.bn.weight\n",
      " - model.2.cv1.bn.bias\n",
      " - model.2.cv2.conv.weight\n",
      " - model.2.cv2.bn.weight\n",
      " - model.2.cv2.bn.bias\n",
      " - model.2.m.0.cv1.conv.weight\n",
      " - model.2.m.0.cv1.bn.weight\n",
      " - model.2.m.0.cv1.bn.bias\n",
      " - model.2.m.0.cv2.conv.weight\n",
      " - model.2.m.0.cv2.bn.weight\n",
      " - model.2.m.0.cv2.bn.bias\n",
      " - model.3.conv.weight\n",
      " - model.3.bn.weight\n",
      " - model.3.bn.bias\n",
      " - model.4.cv1.conv.weight\n",
      " - model.4.cv1.bn.weight\n",
      " - model.4.cv1.bn.bias\n",
      " - model.4.cv2.conv.weight\n",
      " - model.4.cv2.bn.weight\n",
      " - model.4.cv2.bn.bias\n",
      " - model.4.m.0.cv1.conv.weight\n",
      " - model.4.m.0.cv1.bn.weight\n",
      " - model.4.m.0.cv1.bn.bias\n",
      " - model.4.m.0.cv2.conv.weight\n",
      " - model.4.m.0.cv2.bn.weight\n",
      " - model.4.m.0.cv2.bn.bias\n",
      " - model.5.conv.weight\n",
      " - model.5.bn.weight\n",
      " - model.5.bn.bias\n",
      " - model.6.cv1.conv.weight\n",
      " - model.6.cv1.bn.weight\n",
      " - model.6.cv1.bn.bias\n",
      " - model.6.cv2.conv.weight\n",
      " - model.6.cv2.bn.weight\n",
      " - model.6.cv2.bn.bias\n",
      " - model.6.m.0.cv1.conv.weight\n",
      " - model.6.m.0.cv1.bn.weight\n",
      " - model.6.m.0.cv1.bn.bias\n",
      " - model.6.m.0.cv2.conv.weight\n",
      " - model.6.m.0.cv2.bn.weight\n",
      " - model.6.m.0.cv2.bn.bias\n",
      " - model.6.m.0.cv3.conv.weight\n",
      " - model.6.m.0.cv3.bn.weight\n",
      " - model.6.m.0.cv3.bn.bias\n",
      " - model.6.m.0.m.0.cv1.conv.weight\n",
      " - model.6.m.0.m.0.cv1.bn.weight\n",
      " - model.6.m.0.m.0.cv1.bn.bias\n",
      " - model.6.m.0.m.0.cv2.conv.weight\n",
      " - model.6.m.0.m.0.cv2.bn.weight\n",
      " - model.6.m.0.m.0.cv2.bn.bias\n",
      " - model.6.m.0.m.1.cv1.conv.weight\n",
      " - model.6.m.0.m.1.cv1.bn.weight\n",
      " - model.6.m.0.m.1.cv1.bn.bias\n",
      " - model.6.m.0.m.1.cv2.conv.weight\n",
      " - model.6.m.0.m.1.cv2.bn.weight\n",
      " - model.6.m.0.m.1.cv2.bn.bias\n",
      " - model.7.conv.weight\n",
      " - model.7.bn.weight\n",
      " - model.7.bn.bias\n",
      " - model.8.cv1.conv.weight\n",
      " - model.8.cv1.bn.weight\n",
      " - model.8.cv1.bn.bias\n",
      " - model.8.cv2.conv.weight\n",
      " - model.8.cv2.bn.weight\n",
      " - model.8.cv2.bn.bias\n",
      " - model.8.m.0.cv1.conv.weight\n",
      " - model.8.m.0.cv1.bn.weight\n",
      " - model.8.m.0.cv1.bn.bias\n",
      " - model.8.m.0.cv2.conv.weight\n",
      " - model.8.m.0.cv2.bn.weight\n",
      " - model.8.m.0.cv2.bn.bias\n",
      " - model.8.m.0.cv3.conv.weight\n",
      " - model.8.m.0.cv3.bn.weight\n",
      " - model.8.m.0.cv3.bn.bias\n",
      " - model.8.m.0.m.0.cv1.conv.weight\n",
      " - model.8.m.0.m.0.cv1.bn.weight\n",
      " - model.8.m.0.m.0.cv1.bn.bias\n",
      " - model.8.m.0.m.0.cv2.conv.weight\n",
      " - model.8.m.0.m.0.cv2.bn.weight\n",
      " - model.8.m.0.m.0.cv2.bn.bias\n",
      " - model.8.m.0.m.1.cv1.conv.weight\n",
      " - model.8.m.0.m.1.cv1.bn.weight\n",
      " - model.8.m.0.m.1.cv1.bn.bias\n",
      " - model.8.m.0.m.1.cv2.conv.weight\n",
      " - model.8.m.0.m.1.cv2.bn.weight\n",
      " - model.8.m.0.m.1.cv2.bn.bias\n",
      " - model.9.cv1.conv.weight\n",
      " - model.9.cv1.bn.weight\n",
      " - model.9.cv1.bn.bias\n",
      " - model.9.cv2.conv.weight\n",
      " - model.9.cv2.bn.weight\n",
      " - model.9.cv2.bn.bias\n",
      " - model.10.cv1.conv.weight\n",
      " - model.10.cv1.bn.weight\n",
      " - model.10.cv1.bn.bias\n",
      " - model.10.cv2.conv.weight\n",
      " - model.10.cv2.bn.weight\n",
      " - model.10.cv2.bn.bias\n",
      " - model.10.m.0.attn.qkv.conv.weight\n",
      " - model.10.m.0.attn.qkv.bn.weight\n",
      " - model.10.m.0.attn.qkv.bn.bias\n",
      " - model.10.m.0.attn.proj.conv.weight\n",
      " - model.10.m.0.attn.proj.bn.weight\n",
      " - model.10.m.0.attn.proj.bn.bias\n",
      " - model.10.m.0.attn.pe.conv.weight\n",
      " - model.10.m.0.attn.pe.bn.weight\n",
      " - model.10.m.0.attn.pe.bn.bias\n",
      " - model.10.m.0.ffn.0.conv.weight\n",
      " - model.10.m.0.ffn.0.bn.weight\n",
      " - model.10.m.0.ffn.0.bn.bias\n",
      " - model.10.m.0.ffn.1.conv.weight\n",
      " - model.10.m.0.ffn.1.bn.weight\n",
      " - model.10.m.0.ffn.1.bn.bias\n",
      " - model.13.cv1.conv.weight\n",
      " - model.13.cv1.bn.weight\n",
      " - model.13.cv1.bn.bias\n",
      " - model.13.cv2.conv.weight\n",
      " - model.13.cv2.bn.weight\n",
      " - model.13.cv2.bn.bias\n",
      " - model.13.m.0.cv1.conv.weight\n",
      " - model.13.m.0.cv1.bn.weight\n",
      " - model.13.m.0.cv1.bn.bias\n",
      " - model.13.m.0.cv2.conv.weight\n",
      " - model.13.m.0.cv2.bn.weight\n",
      " - model.13.m.0.cv2.bn.bias\n",
      " - model.16.cv1.conv.weight\n",
      " - model.16.cv1.bn.weight\n",
      " - model.16.cv1.bn.bias\n",
      " - model.16.cv2.conv.weight\n",
      " - model.16.cv2.bn.weight\n",
      " - model.16.cv2.bn.bias\n",
      " - model.16.m.0.cv1.conv.weight\n",
      " - model.16.m.0.cv1.bn.weight\n",
      " - model.16.m.0.cv1.bn.bias\n",
      " - model.16.m.0.cv2.conv.weight\n",
      " - model.16.m.0.cv2.bn.weight\n",
      " - model.16.m.0.cv2.bn.bias\n",
      " - model.17.conv.weight\n",
      " - model.17.bn.weight\n",
      " - model.17.bn.bias\n",
      " - model.19.cv1.conv.weight\n",
      " - model.19.cv1.bn.weight\n",
      " - model.19.cv1.bn.bias\n",
      " - model.19.cv2.conv.weight\n",
      " - model.19.cv2.bn.weight\n",
      " - model.19.cv2.bn.bias\n",
      " - model.19.m.0.cv1.conv.weight\n",
      " - model.19.m.0.cv1.bn.weight\n",
      " - model.19.m.0.cv1.bn.bias\n",
      " - model.19.m.0.cv2.conv.weight\n",
      " - model.19.m.0.cv2.bn.weight\n",
      " - model.19.m.0.cv2.bn.bias\n",
      " - model.20.conv.weight\n",
      " - model.20.bn.weight\n",
      " - model.20.bn.bias\n",
      " - model.22.cv1.conv.weight\n",
      " - model.22.cv1.bn.weight\n",
      " - model.22.cv1.bn.bias\n",
      " - model.22.cv2.conv.weight\n",
      " - model.22.cv2.bn.weight\n",
      " - model.22.cv2.bn.bias\n",
      " - model.22.m.0.cv1.conv.weight\n",
      " - model.22.m.0.cv1.bn.weight\n",
      " - model.22.m.0.cv1.bn.bias\n",
      " - model.22.m.0.cv2.conv.weight\n",
      " - model.22.m.0.cv2.bn.weight\n",
      " - model.22.m.0.cv2.bn.bias\n",
      " - model.22.m.0.cv3.conv.weight\n",
      " - model.22.m.0.cv3.bn.weight\n",
      " - model.22.m.0.cv3.bn.bias\n",
      " - model.22.m.0.m.0.cv1.conv.weight\n",
      " - model.22.m.0.m.0.cv1.bn.weight\n",
      " - model.22.m.0.m.0.cv1.bn.bias\n",
      " - model.22.m.0.m.0.cv2.conv.weight\n",
      " - model.22.m.0.m.0.cv2.bn.weight\n",
      " - model.22.m.0.m.0.cv2.bn.bias\n",
      " - model.22.m.0.m.1.cv1.conv.weight\n",
      " - model.22.m.0.m.1.cv1.bn.weight\n",
      " - model.22.m.0.m.1.cv1.bn.bias\n",
      " - model.22.m.0.m.1.cv2.conv.weight\n",
      " - model.22.m.0.m.1.cv2.bn.weight\n",
      " - model.22.m.0.m.1.cv2.bn.bias\n",
      " - model.23.cv2.0.0.conv.weight\n",
      " - model.23.cv2.0.0.bn.weight\n",
      " - model.23.cv2.0.0.bn.bias\n",
      " - model.23.cv2.0.1.conv.weight\n",
      " - model.23.cv2.0.1.bn.weight\n",
      " - model.23.cv2.0.1.bn.bias\n",
      " - model.23.cv2.0.2.weight\n",
      " - model.23.cv2.0.2.bias\n",
      " - model.23.cv2.1.0.conv.weight\n",
      " - model.23.cv2.1.0.bn.weight\n",
      " - model.23.cv2.1.0.bn.bias\n",
      " - model.23.cv2.1.1.conv.weight\n",
      " - model.23.cv2.1.1.bn.weight\n",
      " - model.23.cv2.1.1.bn.bias\n",
      " - model.23.cv2.1.2.weight\n",
      " - model.23.cv2.1.2.bias\n",
      " - model.23.cv2.2.0.conv.weight\n",
      " - model.23.cv2.2.0.bn.weight\n",
      " - model.23.cv2.2.0.bn.bias\n",
      " - model.23.cv2.2.1.conv.weight\n",
      " - model.23.cv2.2.1.bn.weight\n",
      " - model.23.cv2.2.1.bn.bias\n",
      " - model.23.cv2.2.2.weight\n",
      " - model.23.cv2.2.2.bias\n",
      " - model.23.cv3.0.0.0.conv.weight\n",
      " - model.23.cv3.0.0.0.bn.weight\n",
      " - model.23.cv3.0.0.0.bn.bias\n",
      " - model.23.cv3.0.0.1.conv.weight\n",
      " - model.23.cv3.0.0.1.bn.weight\n",
      " - model.23.cv3.0.0.1.bn.bias\n",
      " - model.23.cv3.0.1.0.conv.weight\n",
      " - model.23.cv3.0.1.0.bn.weight\n",
      " - model.23.cv3.0.1.0.bn.bias\n",
      " - model.23.cv3.0.1.1.conv.weight\n",
      " - model.23.cv3.0.1.1.bn.weight\n",
      " - model.23.cv3.0.1.1.bn.bias\n",
      " - model.23.cv3.0.2.weight\n",
      " - model.23.cv3.0.2.bias\n",
      " - model.23.cv3.1.0.0.conv.weight\n",
      " - model.23.cv3.1.0.0.bn.weight\n",
      " - model.23.cv3.1.0.0.bn.bias\n",
      " - model.23.cv3.1.0.1.conv.weight\n",
      " - model.23.cv3.1.0.1.bn.weight\n",
      " - model.23.cv3.1.0.1.bn.bias\n",
      " - model.23.cv3.1.1.0.conv.weight\n",
      " - model.23.cv3.1.1.0.bn.weight\n",
      " - model.23.cv3.1.1.0.bn.bias\n",
      " - model.23.cv3.1.1.1.conv.weight\n",
      " - model.23.cv3.1.1.1.bn.weight\n",
      " - model.23.cv3.1.1.1.bn.bias\n",
      " - model.23.cv3.1.2.weight\n",
      " - model.23.cv3.1.2.bias\n",
      " - model.23.cv3.2.0.0.conv.weight\n",
      " - model.23.cv3.2.0.0.bn.weight\n",
      " - model.23.cv3.2.0.0.bn.bias\n",
      " - model.23.cv3.2.0.1.conv.weight\n",
      " - model.23.cv3.2.0.1.bn.weight\n",
      " - model.23.cv3.2.0.1.bn.bias\n",
      " - model.23.cv3.2.1.0.conv.weight\n",
      " - model.23.cv3.2.1.0.bn.weight\n",
      " - model.23.cv3.2.1.0.bn.bias\n",
      " - model.23.cv3.2.1.1.conv.weight\n",
      " - model.23.cv3.2.1.1.bn.weight\n",
      " - model.23.cv3.2.1.1.bn.bias\n",
      " - model.23.cv3.2.2.weight\n",
      " - model.23.cv3.2.2.bias\n",
      " - model.23.dfl.conv.weight\n"
     ]
    }
   ],
   "source": [
    "# Ensure that all layers are trainable\n",
    "for name, param in model.model.named_parameters():\n",
    "    param.requires_grad = True\n",
    "\n",
    "print_frozen_layers(model.model)\n",
    "print_trainable_layers(model.model)"
   ]
  },
  {
   "cell_type": "code",
   "execution_count": 23,
   "id": "a69d664f-d9a7-47f1-b9e7-f219a63cf63d",
   "metadata": {
    "colab": {
     "base_uri": "https://localhost:8080/"
    },
    "id": "a69d664f-d9a7-47f1-b9e7-f219a63cf63d",
    "outputId": "b911a51e-0708-4401-ca76-7c4506106286"
   },
   "outputs": [
    {
     "name": "stdout",
     "output_type": "stream",
     "text": [
      "New https://pypi.org/project/ultralytics/8.3.158 available  Update with 'pip install -U ultralytics'\n",
      "Ultralytics 8.3.152  Python-3.11.11 torch-2.5.1+cu121 CUDA:0 (NVIDIA GeForce RTX 4060 Laptop GPU, 8188MiB)\n",
      "\u001b[34m\u001b[1mengine\\trainer: \u001b[0magnostic_nms=False, amp=True, augment=False, auto_augment=randaugment, batch=16, bgr=0.0, box=7.5, cache=False, cfg=None, classes=None, close_mosaic=10, cls=0.5, conf=None, copy_paste=0.0, copy_paste_mode=flip, cos_lr=True, cutmix=0.0, data=./yolo_person_dataset\\dataset.yaml, degrees=0.0, deterministic=True, device=0, dfl=1.5, dnn=False, dropout=0.0, dynamic=False, embed=None, epochs=50, erasing=0.4, exist_ok=False, fliplr=0.5, flipud=0.0, format=torchscript, fraction=1.0, freeze=None, half=False, hsv_h=0.015, hsv_s=0.7, hsv_v=0.4, imgsz=640, int8=False, iou=0.7, keras=False, kobj=1.0, line_width=None, lr0=0.001, lrf=0.01, mask_ratio=4, max_det=300, mixup=0.0, mode=train, model=yolo11n.pt, momentum=0.9, mosaic=1.0, multi_scale=False, name=person_detect_v1, nbs=64, nms=False, opset=None, optimize=False, optimizer=AdamW, overlap_mask=True, patience=100, perspective=0.0, plots=True, pose=12.0, pretrained=True, profile=False, project=runs/detect, rect=False, resume=False, retina_masks=False, save=True, save_conf=False, save_crop=False, save_dir=runs\\detect\\person_detect_v1, save_frames=False, save_json=False, save_period=-1, save_txt=False, scale=0.5, seed=0, shear=0.0, show=False, show_boxes=True, show_conf=True, show_labels=True, simplify=True, single_cls=False, source=None, split=val, stream_buffer=False, task=detect, time=None, tracker=botsort.yaml, translate=0.1, val=True, verbose=True, vid_stride=1, visualize=False, warmup_bias_lr=0.1, warmup_epochs=3, warmup_momentum=0.8, weight_decay=0.0005, workers=16, workspace=None\n",
      "Overriding model.yaml nc=80 with nc=1\n",
      "\n",
      "                   from  n    params  module                                       arguments                     \n",
      "  0                  -1  1       464  ultralytics.nn.modules.conv.Conv             [3, 16, 3, 2]                 \n",
      "  1                  -1  1      4672  ultralytics.nn.modules.conv.Conv             [16, 32, 3, 2]                \n",
      "  2                  -1  1      6640  ultralytics.nn.modules.block.C3k2            [32, 64, 1, False, 0.25]      \n",
      "  3                  -1  1     36992  ultralytics.nn.modules.conv.Conv             [64, 64, 3, 2]                \n",
      "  4                  -1  1     26080  ultralytics.nn.modules.block.C3k2            [64, 128, 1, False, 0.25]     \n",
      "  5                  -1  1    147712  ultralytics.nn.modules.conv.Conv             [128, 128, 3, 2]              \n",
      "  6                  -1  1     87040  ultralytics.nn.modules.block.C3k2            [128, 128, 1, True]           \n",
      "  7                  -1  1    295424  ultralytics.nn.modules.conv.Conv             [128, 256, 3, 2]              \n",
      "  8                  -1  1    346112  ultralytics.nn.modules.block.C3k2            [256, 256, 1, True]           \n",
      "  9                  -1  1    164608  ultralytics.nn.modules.block.SPPF            [256, 256, 5]                 \n",
      " 10                  -1  1    249728  ultralytics.nn.modules.block.C2PSA           [256, 256, 1]                 \n",
      " 11                  -1  1         0  torch.nn.modules.upsampling.Upsample         [None, 2, 'nearest']          \n",
      " 12             [-1, 6]  1         0  ultralytics.nn.modules.conv.Concat           [1]                           \n",
      " 13                  -1  1    111296  ultralytics.nn.modules.block.C3k2            [384, 128, 1, False]          \n",
      " 14                  -1  1         0  torch.nn.modules.upsampling.Upsample         [None, 2, 'nearest']          \n",
      " 15             [-1, 4]  1         0  ultralytics.nn.modules.conv.Concat           [1]                           \n",
      " 16                  -1  1     32096  ultralytics.nn.modules.block.C3k2            [256, 64, 1, False]           \n",
      " 17                  -1  1     36992  ultralytics.nn.modules.conv.Conv             [64, 64, 3, 2]                \n",
      " 18            [-1, 13]  1         0  ultralytics.nn.modules.conv.Concat           [1]                           \n",
      " 19                  -1  1     86720  ultralytics.nn.modules.block.C3k2            [192, 128, 1, False]          \n",
      " 20                  -1  1    147712  ultralytics.nn.modules.conv.Conv             [128, 128, 3, 2]              \n",
      " 21            [-1, 10]  1         0  ultralytics.nn.modules.conv.Concat           [1]                           \n",
      " 22                  -1  1    378880  ultralytics.nn.modules.block.C3k2            [384, 256, 1, True]           \n",
      " 23        [16, 19, 22]  1    430867  ultralytics.nn.modules.head.Detect           [1, [64, 128, 256]]           \n",
      "YOLO11n summary: 181 layers, 2,590,035 parameters, 2,590,019 gradients, 6.4 GFLOPs\n",
      "\n",
      "Transferred 448/499 items from pretrained weights\n",
      "\u001b[34m\u001b[1mTensorBoard: \u001b[0mStart with 'tensorboard --logdir runs\\detect\\person_detect_v1', view at http://localhost:6006/\n",
      "Freezing layer 'model.23.dfl.conv.weight'\n",
      "\u001b[34m\u001b[1mAMP: \u001b[0mrunning Automatic Mixed Precision (AMP) checks...\n",
      "\u001b[34m\u001b[1mAMP: \u001b[0mchecks passed \n",
      "\u001b[34m\u001b[1mtrain: \u001b[0mFast image access  (ping: 0.10.0 ms, read: 240.5141.7 MB/s, size: 148.1 KB)\n"
     ]
    },
    {
     "name": "stderr",
     "output_type": "stream",
     "text": [
      "\u001b[34m\u001b[1mtrain: \u001b[0mScanning Z:\\BEKA\\2025\\AI\\Bootcamp\\Source\\Advanced CV\\Project 2\\Train\\yolo_person_dataset\\train\\labels\\val.cache.\u001b[0m"
     ]
    },
    {
     "name": "stdout",
     "output_type": "stream",
     "text": [
      "\u001b[34m\u001b[1malbumentations: \u001b[0mBlur(p=0.01, blur_limit=(3, 7)), MedianBlur(p=0.01, blur_limit=(3, 7)), ToGray(p=0.01, method='weighted_average', num_output_channels=3), CLAHE(p=0.01, clip_limit=(1.0, 4.0), tile_grid_size=(8, 8))\n"
     ]
    },
    {
     "name": "stderr",
     "output_type": "stream",
     "text": [
      "\n"
     ]
    },
    {
     "name": "stdout",
     "output_type": "stream",
     "text": [
      "\u001b[34m\u001b[1mval: \u001b[0mFast image access  (ping: 0.20.2 ms, read: 197.796.3 MB/s, size: 163.0 KB)\n"
     ]
    },
    {
     "name": "stderr",
     "output_type": "stream",
     "text": [
      "\u001b[34m\u001b[1mval: \u001b[0mScanning Z:\\BEKA\\2025\\AI\\Bootcamp\\Source\\Advanced CV\\Project 2\\Train\\yolo_person_dataset\\val\\labels\\val.cache... 5\u001b[0m\n"
     ]
    },
    {
     "name": "stdout",
     "output_type": "stream",
     "text": [
      "Plotting labels to runs\\detect\\person_detect_v1\\labels.jpg... \n",
      "\u001b[34m\u001b[1moptimizer:\u001b[0m AdamW(lr=0.001, momentum=0.9) with parameter groups 81 weight(decay=0.0), 88 weight(decay=0.0005), 87 bias(decay=0.0)\n",
      "\u001b[34m\u001b[1mTensorBoard: \u001b[0mmodel graph visualization added \n",
      "Image sizes 640 train, 640 val\n",
      "Using 16 dataloader workers\n",
      "Logging results to \u001b[1mruns\\detect\\person_detect_v1\u001b[0m\n",
      "Starting training for 50 epochs...\n",
      "\n",
      "      Epoch    GPU_mem   box_loss   cls_loss   dfl_loss  Instances       Size\n"
     ]
    },
    {
     "name": "stderr",
     "output_type": "stream",
     "text": [
      "       1/50      2.67G      1.373      1.548      1.323         63        640: 100%|██████████| 188/188 [00:32<00:00,  \n",
      "                 Class     Images  Instances      Box(P          R      mAP50  mAP50-95): 100%|██████████| 16/16 [00:02"
     ]
    },
    {
     "name": "stdout",
     "output_type": "stream",
     "text": [
      "                   all        500       2041      0.514      0.344      0.387        0.2\n"
     ]
    },
    {
     "name": "stderr",
     "output_type": "stream",
     "text": [
      "\n"
     ]
    },
    {
     "name": "stdout",
     "output_type": "stream",
     "text": [
      "\n",
      "      Epoch    GPU_mem   box_loss   cls_loss   dfl_loss  Instances       Size\n"
     ]
    },
    {
     "name": "stderr",
     "output_type": "stream",
     "text": [
      "       2/50      2.89G      1.456      1.437      1.381         62        640: 100%|██████████| 188/188 [00:29<00:00,  \n",
      "                 Class     Images  Instances      Box(P          R      mAP50  mAP50-95): 100%|██████████| 16/16 [00:02"
     ]
    },
    {
     "name": "stdout",
     "output_type": "stream",
     "text": [
      "                   all        500       2041      0.655      0.477      0.545      0.308\n"
     ]
    },
    {
     "name": "stderr",
     "output_type": "stream",
     "text": [
      "\n"
     ]
    },
    {
     "name": "stdout",
     "output_type": "stream",
     "text": [
      "\n",
      "      Epoch    GPU_mem   box_loss   cls_loss   dfl_loss  Instances       Size\n"
     ]
    },
    {
     "name": "stderr",
     "output_type": "stream",
     "text": [
      "       3/50      2.89G      1.482      1.445      1.401         95        640: 100%|██████████| 188/188 [00:28<00:00,  \n",
      "                 Class     Images  Instances      Box(P          R      mAP50  mAP50-95): 100%|██████████| 16/16 [00:02"
     ]
    },
    {
     "name": "stdout",
     "output_type": "stream",
     "text": [
      "                   all        500       2041      0.582      0.496      0.541      0.302\n"
     ]
    },
    {
     "name": "stderr",
     "output_type": "stream",
     "text": [
      "\n"
     ]
    },
    {
     "name": "stdout",
     "output_type": "stream",
     "text": [
      "\n",
      "      Epoch    GPU_mem   box_loss   cls_loss   dfl_loss  Instances       Size\n"
     ]
    },
    {
     "name": "stderr",
     "output_type": "stream",
     "text": [
      "       4/50      2.89G      1.496      1.456       1.41         70        640: 100%|██████████| 188/188 [00:28<00:00,  \n",
      "                 Class     Images  Instances      Box(P          R      mAP50  mAP50-95): 100%|██████████| 16/16 [00:02"
     ]
    },
    {
     "name": "stdout",
     "output_type": "stream",
     "text": [
      "                   all        500       2041      0.621      0.461      0.521      0.279\n"
     ]
    },
    {
     "name": "stderr",
     "output_type": "stream",
     "text": [
      "\n"
     ]
    },
    {
     "name": "stdout",
     "output_type": "stream",
     "text": [
      "\n",
      "      Epoch    GPU_mem   box_loss   cls_loss   dfl_loss  Instances       Size\n"
     ]
    },
    {
     "name": "stderr",
     "output_type": "stream",
     "text": [
      "       5/50      2.89G       1.46      1.399       1.39         37        640: 100%|██████████| 188/188 [00:27<00:00,  \n",
      "                 Class     Images  Instances      Box(P          R      mAP50  mAP50-95): 100%|██████████| 16/16 [00:02"
     ]
    },
    {
     "name": "stdout",
     "output_type": "stream",
     "text": [
      "                   all        500       2041      0.651      0.519      0.572      0.321\n"
     ]
    },
    {
     "name": "stderr",
     "output_type": "stream",
     "text": [
      "\n"
     ]
    },
    {
     "name": "stdout",
     "output_type": "stream",
     "text": [
      "\n",
      "      Epoch    GPU_mem   box_loss   cls_loss   dfl_loss  Instances       Size\n"
     ]
    },
    {
     "name": "stderr",
     "output_type": "stream",
     "text": [
      "       6/50      2.89G      1.437      1.378      1.383         29        640: 100%|██████████| 188/188 [00:28<00:00,  \n",
      "                 Class     Images  Instances      Box(P          R      mAP50  mAP50-95): 100%|██████████| 16/16 [00:02"
     ]
    },
    {
     "name": "stdout",
     "output_type": "stream",
     "text": [
      "                   all        500       2041      0.622      0.488      0.545      0.311\n"
     ]
    },
    {
     "name": "stderr",
     "output_type": "stream",
     "text": [
      "\n"
     ]
    },
    {
     "name": "stdout",
     "output_type": "stream",
     "text": [
      "\n",
      "      Epoch    GPU_mem   box_loss   cls_loss   dfl_loss  Instances       Size\n"
     ]
    },
    {
     "name": "stderr",
     "output_type": "stream",
     "text": [
      "       7/50      2.89G      1.434       1.36      1.371         44        640: 100%|██████████| 188/188 [00:28<00:00,  \n",
      "                 Class     Images  Instances      Box(P          R      mAP50  mAP50-95): 100%|██████████| 16/16 [00:02"
     ]
    },
    {
     "name": "stdout",
     "output_type": "stream",
     "text": [
      "                   all        500       2041      0.654      0.488      0.551      0.316\n"
     ]
    },
    {
     "name": "stderr",
     "output_type": "stream",
     "text": [
      "\n"
     ]
    },
    {
     "name": "stdout",
     "output_type": "stream",
     "text": [
      "\n",
      "      Epoch    GPU_mem   box_loss   cls_loss   dfl_loss  Instances       Size\n"
     ]
    },
    {
     "name": "stderr",
     "output_type": "stream",
     "text": [
      "       8/50      2.89G      1.399      1.319      1.361         75        640: 100%|██████████| 188/188 [00:28<00:00,  \n",
      "                 Class     Images  Instances      Box(P          R      mAP50  mAP50-95): 100%|██████████| 16/16 [00:02"
     ]
    },
    {
     "name": "stdout",
     "output_type": "stream",
     "text": [
      "                   all        500       2041      0.641      0.483      0.549       0.32\n"
     ]
    },
    {
     "name": "stderr",
     "output_type": "stream",
     "text": [
      "\n"
     ]
    },
    {
     "name": "stdout",
     "output_type": "stream",
     "text": [
      "\n",
      "      Epoch    GPU_mem   box_loss   cls_loss   dfl_loss  Instances       Size\n"
     ]
    },
    {
     "name": "stderr",
     "output_type": "stream",
     "text": [
      "       9/50      2.89G      1.403      1.317      1.352         68        640: 100%|██████████| 188/188 [00:27<00:00,  \n",
      "                 Class     Images  Instances      Box(P          R      mAP50  mAP50-95): 100%|██████████| 16/16 [00:02"
     ]
    },
    {
     "name": "stdout",
     "output_type": "stream",
     "text": [
      "                   all        500       2041      0.671      0.523      0.586      0.332\n"
     ]
    },
    {
     "name": "stderr",
     "output_type": "stream",
     "text": [
      "\n"
     ]
    },
    {
     "name": "stdout",
     "output_type": "stream",
     "text": [
      "\n",
      "      Epoch    GPU_mem   box_loss   cls_loss   dfl_loss  Instances       Size\n"
     ]
    },
    {
     "name": "stderr",
     "output_type": "stream",
     "text": [
      "      10/50      2.89G      1.361      1.279      1.343         59        640: 100%|██████████| 188/188 [00:27<00:00,  \n",
      "                 Class     Images  Instances      Box(P          R      mAP50  mAP50-95): 100%|██████████| 16/16 [00:02"
     ]
    },
    {
     "name": "stdout",
     "output_type": "stream",
     "text": [
      "                   all        500       2041      0.673      0.529      0.595      0.351\n"
     ]
    },
    {
     "name": "stderr",
     "output_type": "stream",
     "text": [
      "\n"
     ]
    },
    {
     "name": "stdout",
     "output_type": "stream",
     "text": [
      "\n",
      "      Epoch    GPU_mem   box_loss   cls_loss   dfl_loss  Instances       Size\n"
     ]
    },
    {
     "name": "stderr",
     "output_type": "stream",
     "text": [
      "      11/50      2.89G      1.372      1.279      1.337         52        640: 100%|██████████| 188/188 [00:26<00:00,  \n",
      "                 Class     Images  Instances      Box(P          R      mAP50  mAP50-95): 100%|██████████| 16/16 [00:02"
     ]
    },
    {
     "name": "stdout",
     "output_type": "stream",
     "text": [
      "                   all        500       2041      0.686       0.53      0.606      0.355\n"
     ]
    },
    {
     "name": "stderr",
     "output_type": "stream",
     "text": [
      "\n"
     ]
    },
    {
     "name": "stdout",
     "output_type": "stream",
     "text": [
      "\n",
      "      Epoch    GPU_mem   box_loss   cls_loss   dfl_loss  Instances       Size\n"
     ]
    },
    {
     "name": "stderr",
     "output_type": "stream",
     "text": [
      "      12/50      2.89G      1.364      1.247      1.324         72        640: 100%|██████████| 188/188 [00:26<00:00,  \n",
      "                 Class     Images  Instances      Box(P          R      mAP50  mAP50-95): 100%|██████████| 16/16 [00:02"
     ]
    },
    {
     "name": "stdout",
     "output_type": "stream",
     "text": [
      "                   all        500       2041      0.682        0.5      0.577      0.348\n"
     ]
    },
    {
     "name": "stderr",
     "output_type": "stream",
     "text": [
      "\n"
     ]
    },
    {
     "name": "stdout",
     "output_type": "stream",
     "text": [
      "\n",
      "      Epoch    GPU_mem   box_loss   cls_loss   dfl_loss  Instances       Size\n"
     ]
    },
    {
     "name": "stderr",
     "output_type": "stream",
     "text": [
      "      13/50      2.89G      1.335      1.236      1.321         64        640: 100%|██████████| 188/188 [00:28<00:00,  \n",
      "                 Class     Images  Instances      Box(P          R      mAP50  mAP50-95): 100%|██████████| 16/16 [00:02"
     ]
    },
    {
     "name": "stdout",
     "output_type": "stream",
     "text": [
      "                   all        500       2041      0.693      0.504      0.589      0.355\n"
     ]
    },
    {
     "name": "stderr",
     "output_type": "stream",
     "text": [
      "\n"
     ]
    },
    {
     "name": "stdout",
     "output_type": "stream",
     "text": [
      "\n",
      "      Epoch    GPU_mem   box_loss   cls_loss   dfl_loss  Instances       Size\n"
     ]
    },
    {
     "name": "stderr",
     "output_type": "stream",
     "text": [
      "      14/50      2.89G      1.341      1.228      1.313         63        640: 100%|██████████| 188/188 [00:30<00:00,  \n",
      "                 Class     Images  Instances      Box(P          R      mAP50  mAP50-95): 100%|██████████| 16/16 [00:02"
     ]
    },
    {
     "name": "stdout",
     "output_type": "stream",
     "text": [
      "                   all        500       2041      0.672      0.558      0.614       0.36\n"
     ]
    },
    {
     "name": "stderr",
     "output_type": "stream",
     "text": [
      "\n"
     ]
    },
    {
     "name": "stdout",
     "output_type": "stream",
     "text": [
      "\n",
      "      Epoch    GPU_mem   box_loss   cls_loss   dfl_loss  Instances       Size\n"
     ]
    },
    {
     "name": "stderr",
     "output_type": "stream",
     "text": [
      "      15/50      2.89G      1.317      1.218      1.304         61        640: 100%|██████████| 188/188 [00:29<00:00,  \n",
      "                 Class     Images  Instances      Box(P          R      mAP50  mAP50-95): 100%|██████████| 16/16 [00:02"
     ]
    },
    {
     "name": "stdout",
     "output_type": "stream",
     "text": [
      "                   all        500       2041       0.69      0.539      0.614      0.371\n"
     ]
    },
    {
     "name": "stderr",
     "output_type": "stream",
     "text": [
      "\n"
     ]
    },
    {
     "name": "stdout",
     "output_type": "stream",
     "text": [
      "\n",
      "      Epoch    GPU_mem   box_loss   cls_loss   dfl_loss  Instances       Size\n"
     ]
    },
    {
     "name": "stderr",
     "output_type": "stream",
     "text": [
      "      16/50      2.89G      1.313      1.204      1.292         52        640: 100%|██████████| 188/188 [00:29<00:00,  \n",
      "                 Class     Images  Instances      Box(P          R      mAP50  mAP50-95): 100%|██████████| 16/16 [00:02"
     ]
    },
    {
     "name": "stdout",
     "output_type": "stream",
     "text": [
      "                   all        500       2041      0.691      0.585      0.641      0.383\n"
     ]
    },
    {
     "name": "stderr",
     "output_type": "stream",
     "text": [
      "\n"
     ]
    },
    {
     "name": "stdout",
     "output_type": "stream",
     "text": [
      "\n",
      "      Epoch    GPU_mem   box_loss   cls_loss   dfl_loss  Instances       Size\n"
     ]
    },
    {
     "name": "stderr",
     "output_type": "stream",
     "text": [
      "      17/50      2.89G      1.307      1.179      1.297         69        640: 100%|██████████| 188/188 [00:29<00:00,  \n",
      "                 Class     Images  Instances      Box(P          R      mAP50  mAP50-95): 100%|██████████| 16/16 [00:02"
     ]
    },
    {
     "name": "stdout",
     "output_type": "stream",
     "text": [
      "                   all        500       2041      0.691      0.569      0.637      0.391\n"
     ]
    },
    {
     "name": "stderr",
     "output_type": "stream",
     "text": [
      "\n"
     ]
    },
    {
     "name": "stdout",
     "output_type": "stream",
     "text": [
      "\n",
      "      Epoch    GPU_mem   box_loss   cls_loss   dfl_loss  Instances       Size\n"
     ]
    },
    {
     "name": "stderr",
     "output_type": "stream",
     "text": [
      "      18/50      2.89G      1.284      1.156      1.278         75        640: 100%|██████████| 188/188 [00:29<00:00,  \n",
      "                 Class     Images  Instances      Box(P          R      mAP50  mAP50-95): 100%|██████████| 16/16 [00:02"
     ]
    },
    {
     "name": "stdout",
     "output_type": "stream",
     "text": [
      "                   all        500       2041       0.72      0.549       0.64      0.386\n"
     ]
    },
    {
     "name": "stderr",
     "output_type": "stream",
     "text": [
      "\n"
     ]
    },
    {
     "name": "stdout",
     "output_type": "stream",
     "text": [
      "\n",
      "      Epoch    GPU_mem   box_loss   cls_loss   dfl_loss  Instances       Size\n"
     ]
    },
    {
     "name": "stderr",
     "output_type": "stream",
     "text": [
      "      19/50      2.89G      1.267      1.139      1.272         52        640: 100%|██████████| 188/188 [00:29<00:00,  \n",
      "                 Class     Images  Instances      Box(P          R      mAP50  mAP50-95): 100%|██████████| 16/16 [00:02"
     ]
    },
    {
     "name": "stdout",
     "output_type": "stream",
     "text": [
      "                   all        500       2041      0.717      0.569      0.649      0.394\n"
     ]
    },
    {
     "name": "stderr",
     "output_type": "stream",
     "text": [
      "\n"
     ]
    },
    {
     "name": "stdout",
     "output_type": "stream",
     "text": [
      "\n",
      "      Epoch    GPU_mem   box_loss   cls_loss   dfl_loss  Instances       Size\n"
     ]
    },
    {
     "name": "stderr",
     "output_type": "stream",
     "text": [
      "      20/50      2.89G       1.27      1.125      1.263         41        640: 100%|██████████| 188/188 [00:29<00:00,  \n",
      "                 Class     Images  Instances      Box(P          R      mAP50  mAP50-95): 100%|██████████| 16/16 [00:02"
     ]
    },
    {
     "name": "stdout",
     "output_type": "stream",
     "text": [
      "                   all        500       2041      0.714       0.56      0.642      0.394\n"
     ]
    },
    {
     "name": "stderr",
     "output_type": "stream",
     "text": [
      "\n"
     ]
    },
    {
     "name": "stdout",
     "output_type": "stream",
     "text": [
      "\n",
      "      Epoch    GPU_mem   box_loss   cls_loss   dfl_loss  Instances       Size\n"
     ]
    },
    {
     "name": "stderr",
     "output_type": "stream",
     "text": [
      "      21/50      2.89G      1.249      1.121      1.261         76        640: 100%|██████████| 188/188 [00:29<00:00,  \n",
      "                 Class     Images  Instances      Box(P          R      mAP50  mAP50-95): 100%|██████████| 16/16 [00:02"
     ]
    },
    {
     "name": "stdout",
     "output_type": "stream",
     "text": [
      "                   all        500       2041      0.712      0.579      0.659      0.403\n"
     ]
    },
    {
     "name": "stderr",
     "output_type": "stream",
     "text": [
      "\n"
     ]
    },
    {
     "name": "stdout",
     "output_type": "stream",
     "text": [
      "\n",
      "      Epoch    GPU_mem   box_loss   cls_loss   dfl_loss  Instances       Size\n"
     ]
    },
    {
     "name": "stderr",
     "output_type": "stream",
     "text": [
      "      22/50      2.89G      1.253      1.115      1.254         71        640: 100%|██████████| 188/188 [00:29<00:00,  \n",
      "                 Class     Images  Instances      Box(P          R      mAP50  mAP50-95): 100%|██████████| 16/16 [00:02"
     ]
    },
    {
     "name": "stdout",
     "output_type": "stream",
     "text": [
      "                   all        500       2041      0.727       0.57      0.655        0.4\n"
     ]
    },
    {
     "name": "stderr",
     "output_type": "stream",
     "text": [
      "\n"
     ]
    },
    {
     "name": "stdout",
     "output_type": "stream",
     "text": [
      "\n",
      "      Epoch    GPU_mem   box_loss   cls_loss   dfl_loss  Instances       Size\n"
     ]
    },
    {
     "name": "stderr",
     "output_type": "stream",
     "text": [
      "      23/50      2.89G      1.241      1.087      1.253         42        640: 100%|██████████| 188/188 [00:29<00:00,  \n",
      "                 Class     Images  Instances      Box(P          R      mAP50  mAP50-95): 100%|██████████| 16/16 [00:02"
     ]
    },
    {
     "name": "stdout",
     "output_type": "stream",
     "text": [
      "                   all        500       2041      0.701      0.573      0.649        0.4\n"
     ]
    },
    {
     "name": "stderr",
     "output_type": "stream",
     "text": [
      "\n"
     ]
    },
    {
     "name": "stdout",
     "output_type": "stream",
     "text": [
      "\n",
      "      Epoch    GPU_mem   box_loss   cls_loss   dfl_loss  Instances       Size\n"
     ]
    },
    {
     "name": "stderr",
     "output_type": "stream",
     "text": [
      "      24/50      2.89G      1.218      1.067      1.237        111        640: 100%|██████████| 188/188 [00:28<00:00,  \n",
      "                 Class     Images  Instances      Box(P          R      mAP50  mAP50-95): 100%|██████████| 16/16 [00:02"
     ]
    },
    {
     "name": "stdout",
     "output_type": "stream",
     "text": [
      "                   all        500       2041      0.688       0.59      0.653      0.411\n"
     ]
    },
    {
     "name": "stderr",
     "output_type": "stream",
     "text": [
      "\n"
     ]
    },
    {
     "name": "stdout",
     "output_type": "stream",
     "text": [
      "\n",
      "      Epoch    GPU_mem   box_loss   cls_loss   dfl_loss  Instances       Size\n"
     ]
    },
    {
     "name": "stderr",
     "output_type": "stream",
     "text": [
      "      25/50      2.89G      1.212       1.07      1.238         45        640: 100%|██████████| 188/188 [00:29<00:00,  \n",
      "                 Class     Images  Instances      Box(P          R      mAP50  mAP50-95): 100%|██████████| 16/16 [00:02"
     ]
    },
    {
     "name": "stdout",
     "output_type": "stream",
     "text": [
      "                   all        500       2041      0.705      0.592      0.658      0.411\n"
     ]
    },
    {
     "name": "stderr",
     "output_type": "stream",
     "text": [
      "\n"
     ]
    },
    {
     "name": "stdout",
     "output_type": "stream",
     "text": [
      "\n",
      "      Epoch    GPU_mem   box_loss   cls_loss   dfl_loss  Instances       Size\n"
     ]
    },
    {
     "name": "stderr",
     "output_type": "stream",
     "text": [
      "      26/50      2.89G      1.216      1.052      1.227        105        640: 100%|██████████| 188/188 [00:29<00:00,  \n",
      "                 Class     Images  Instances      Box(P          R      mAP50  mAP50-95): 100%|██████████| 16/16 [00:02"
     ]
    },
    {
     "name": "stdout",
     "output_type": "stream",
     "text": [
      "                   all        500       2041      0.742      0.571      0.668      0.418\n"
     ]
    },
    {
     "name": "stderr",
     "output_type": "stream",
     "text": [
      "\n"
     ]
    },
    {
     "name": "stdout",
     "output_type": "stream",
     "text": [
      "\n",
      "      Epoch    GPU_mem   box_loss   cls_loss   dfl_loss  Instances       Size\n"
     ]
    },
    {
     "name": "stderr",
     "output_type": "stream",
     "text": [
      "      27/50      2.89G      1.189      1.039       1.22         72        640: 100%|██████████| 188/188 [00:29<00:00,  \n",
      "                 Class     Images  Instances      Box(P          R      mAP50  mAP50-95): 100%|██████████| 16/16 [00:02"
     ]
    },
    {
     "name": "stdout",
     "output_type": "stream",
     "text": [
      "                   all        500       2041       0.74      0.584      0.678      0.422\n"
     ]
    },
    {
     "name": "stderr",
     "output_type": "stream",
     "text": [
      "\n"
     ]
    },
    {
     "name": "stdout",
     "output_type": "stream",
     "text": [
      "\n",
      "      Epoch    GPU_mem   box_loss   cls_loss   dfl_loss  Instances       Size\n"
     ]
    },
    {
     "name": "stderr",
     "output_type": "stream",
     "text": [
      "      28/50      2.89G      1.179      1.009       1.21         41        640: 100%|██████████| 188/188 [00:29<00:00,  \n",
      "                 Class     Images  Instances      Box(P          R      mAP50  mAP50-95): 100%|██████████| 16/16 [00:02"
     ]
    },
    {
     "name": "stdout",
     "output_type": "stream",
     "text": [
      "                   all        500       2041      0.703      0.607      0.676      0.427\n"
     ]
    },
    {
     "name": "stderr",
     "output_type": "stream",
     "text": [
      "\n"
     ]
    },
    {
     "name": "stdout",
     "output_type": "stream",
     "text": [
      "\n",
      "      Epoch    GPU_mem   box_loss   cls_loss   dfl_loss  Instances       Size\n"
     ]
    },
    {
     "name": "stderr",
     "output_type": "stream",
     "text": [
      "      29/50      2.89G      1.171      1.003      1.206         56        640: 100%|██████████| 188/188 [00:29<00:00,  \n",
      "                 Class     Images  Instances      Box(P          R      mAP50  mAP50-95): 100%|██████████| 16/16 [00:02"
     ]
    },
    {
     "name": "stdout",
     "output_type": "stream",
     "text": [
      "                   all        500       2041      0.766      0.573      0.683      0.426\n"
     ]
    },
    {
     "name": "stderr",
     "output_type": "stream",
     "text": [
      "\n"
     ]
    },
    {
     "name": "stdout",
     "output_type": "stream",
     "text": [
      "\n",
      "      Epoch    GPU_mem   box_loss   cls_loss   dfl_loss  Instances       Size\n"
     ]
    },
    {
     "name": "stderr",
     "output_type": "stream",
     "text": [
      "      30/50      2.89G      1.172     0.9965      1.201         68        640: 100%|██████████| 188/188 [00:29<00:00,  \n",
      "                 Class     Images  Instances      Box(P          R      mAP50  mAP50-95): 100%|██████████| 16/16 [00:02"
     ]
    },
    {
     "name": "stdout",
     "output_type": "stream",
     "text": [
      "                   all        500       2041      0.747       0.59      0.677      0.421\n"
     ]
    },
    {
     "name": "stderr",
     "output_type": "stream",
     "text": [
      "\n"
     ]
    },
    {
     "name": "stdout",
     "output_type": "stream",
     "text": [
      "\n",
      "      Epoch    GPU_mem   box_loss   cls_loss   dfl_loss  Instances       Size\n"
     ]
    },
    {
     "name": "stderr",
     "output_type": "stream",
     "text": [
      "      31/50      2.89G      1.156     0.9855      1.198         66        640: 100%|██████████| 188/188 [00:29<00:00,  \n",
      "                 Class     Images  Instances      Box(P          R      mAP50  mAP50-95): 100%|██████████| 16/16 [00:02"
     ]
    },
    {
     "name": "stdout",
     "output_type": "stream",
     "text": [
      "                   all        500       2041      0.745      0.593      0.685      0.431\n"
     ]
    },
    {
     "name": "stderr",
     "output_type": "stream",
     "text": [
      "\n"
     ]
    },
    {
     "name": "stdout",
     "output_type": "stream",
     "text": [
      "\n",
      "      Epoch    GPU_mem   box_loss   cls_loss   dfl_loss  Instances       Size\n"
     ]
    },
    {
     "name": "stderr",
     "output_type": "stream",
     "text": [
      "      32/50      2.89G      1.143     0.9766      1.192         34        640: 100%|██████████| 188/188 [00:28<00:00,  \n",
      "                 Class     Images  Instances      Box(P          R      mAP50  mAP50-95): 100%|██████████| 16/16 [00:02"
     ]
    },
    {
     "name": "stdout",
     "output_type": "stream",
     "text": [
      "                   all        500       2041      0.769      0.606      0.701      0.442\n"
     ]
    },
    {
     "name": "stderr",
     "output_type": "stream",
     "text": [
      "\n"
     ]
    },
    {
     "name": "stdout",
     "output_type": "stream",
     "text": [
      "\n",
      "      Epoch    GPU_mem   box_loss   cls_loss   dfl_loss  Instances       Size\n"
     ]
    },
    {
     "name": "stderr",
     "output_type": "stream",
     "text": [
      "      33/50      2.89G      1.127     0.9501      1.183         55        640: 100%|██████████| 188/188 [00:29<00:00,  \n",
      "                 Class     Images  Instances      Box(P          R      mAP50  mAP50-95): 100%|██████████| 16/16 [00:02"
     ]
    },
    {
     "name": "stdout",
     "output_type": "stream",
     "text": [
      "                   all        500       2041      0.751      0.606      0.688      0.433\n"
     ]
    },
    {
     "name": "stderr",
     "output_type": "stream",
     "text": [
      "\n"
     ]
    },
    {
     "name": "stdout",
     "output_type": "stream",
     "text": [
      "\n",
      "      Epoch    GPU_mem   box_loss   cls_loss   dfl_loss  Instances       Size\n"
     ]
    },
    {
     "name": "stderr",
     "output_type": "stream",
     "text": [
      "      34/50      2.89G      1.126     0.9502      1.178         62        640: 100%|██████████| 188/188 [00:29<00:00,  \n",
      "                 Class     Images  Instances      Box(P          R      mAP50  mAP50-95): 100%|██████████| 16/16 [00:02"
     ]
    },
    {
     "name": "stdout",
     "output_type": "stream",
     "text": [
      "                   all        500       2041      0.774      0.597      0.697      0.441\n"
     ]
    },
    {
     "name": "stderr",
     "output_type": "stream",
     "text": [
      "\n"
     ]
    },
    {
     "name": "stdout",
     "output_type": "stream",
     "text": [
      "\n",
      "      Epoch    GPU_mem   box_loss   cls_loss   dfl_loss  Instances       Size\n"
     ]
    },
    {
     "name": "stderr",
     "output_type": "stream",
     "text": [
      "      35/50      2.89G      1.119     0.9293      1.175         44        640: 100%|██████████| 188/188 [00:29<00:00,  \n",
      "                 Class     Images  Instances      Box(P          R      mAP50  mAP50-95): 100%|██████████| 16/16 [00:02"
     ]
    },
    {
     "name": "stdout",
     "output_type": "stream",
     "text": [
      "                   all        500       2041       0.78      0.601      0.699       0.44\n"
     ]
    },
    {
     "name": "stderr",
     "output_type": "stream",
     "text": [
      "\n"
     ]
    },
    {
     "name": "stdout",
     "output_type": "stream",
     "text": [
      "\n",
      "      Epoch    GPU_mem   box_loss   cls_loss   dfl_loss  Instances       Size\n"
     ]
    },
    {
     "name": "stderr",
     "output_type": "stream",
     "text": [
      "      36/50      2.89G      1.119     0.9354      1.173         49        640: 100%|██████████| 188/188 [00:29<00:00,  \n",
      "                 Class     Images  Instances      Box(P          R      mAP50  mAP50-95): 100%|██████████| 16/16 [00:02"
     ]
    },
    {
     "name": "stdout",
     "output_type": "stream",
     "text": [
      "                   all        500       2041      0.749      0.616      0.698      0.443\n"
     ]
    },
    {
     "name": "stderr",
     "output_type": "stream",
     "text": [
      "\n"
     ]
    },
    {
     "name": "stdout",
     "output_type": "stream",
     "text": [
      "\n",
      "      Epoch    GPU_mem   box_loss   cls_loss   dfl_loss  Instances       Size\n"
     ]
    },
    {
     "name": "stderr",
     "output_type": "stream",
     "text": [
      "      37/50      2.89G      1.106     0.9207      1.169         52        640: 100%|██████████| 188/188 [00:28<00:00,  \n",
      "                 Class     Images  Instances      Box(P          R      mAP50  mAP50-95): 100%|██████████| 16/16 [00:02"
     ]
    },
    {
     "name": "stdout",
     "output_type": "stream",
     "text": [
      "                   all        500       2041      0.782       0.61      0.705       0.45\n"
     ]
    },
    {
     "name": "stderr",
     "output_type": "stream",
     "text": [
      "\n"
     ]
    },
    {
     "name": "stdout",
     "output_type": "stream",
     "text": [
      "\n",
      "      Epoch    GPU_mem   box_loss   cls_loss   dfl_loss  Instances       Size\n"
     ]
    },
    {
     "name": "stderr",
     "output_type": "stream",
     "text": [
      "      38/50      2.89G      1.098     0.9076      1.156         49        640: 100%|██████████| 188/188 [00:29<00:00,  \n",
      "                 Class     Images  Instances      Box(P          R      mAP50  mAP50-95): 100%|██████████| 16/16 [00:02"
     ]
    },
    {
     "name": "stdout",
     "output_type": "stream",
     "text": [
      "                   all        500       2041      0.773      0.614      0.703      0.448\n"
     ]
    },
    {
     "name": "stderr",
     "output_type": "stream",
     "text": [
      "\n"
     ]
    },
    {
     "name": "stdout",
     "output_type": "stream",
     "text": [
      "\n",
      "      Epoch    GPU_mem   box_loss   cls_loss   dfl_loss  Instances       Size\n"
     ]
    },
    {
     "name": "stderr",
     "output_type": "stream",
     "text": [
      "      39/50      2.89G      1.092     0.9048       1.16         54        640: 100%|██████████| 188/188 [00:28<00:00,  \n",
      "                 Class     Images  Instances      Box(P          R      mAP50  mAP50-95): 100%|██████████| 16/16 [00:02"
     ]
    },
    {
     "name": "stdout",
     "output_type": "stream",
     "text": [
      "                   all        500       2041      0.774       0.61      0.708      0.452\n"
     ]
    },
    {
     "name": "stderr",
     "output_type": "stream",
     "text": [
      "\n"
     ]
    },
    {
     "name": "stdout",
     "output_type": "stream",
     "text": [
      "\n",
      "      Epoch    GPU_mem   box_loss   cls_loss   dfl_loss  Instances       Size\n"
     ]
    },
    {
     "name": "stderr",
     "output_type": "stream",
     "text": [
      "      40/50      2.89G      1.083     0.8895      1.153         79        640: 100%|██████████| 188/188 [00:29<00:00,  \n",
      "                 Class     Images  Instances      Box(P          R      mAP50  mAP50-95): 100%|██████████| 16/16 [00:02"
     ]
    },
    {
     "name": "stdout",
     "output_type": "stream",
     "text": [
      "                   all        500       2041      0.761      0.621      0.709       0.45\n"
     ]
    },
    {
     "name": "stderr",
     "output_type": "stream",
     "text": [
      "\n"
     ]
    },
    {
     "name": "stdout",
     "output_type": "stream",
     "text": [
      "Closing dataloader mosaic\n",
      "\u001b[34m\u001b[1malbumentations: \u001b[0mBlur(p=0.01, blur_limit=(3, 7)), MedianBlur(p=0.01, blur_limit=(3, 7)), ToGray(p=0.01, method='weighted_average', num_output_channels=3), CLAHE(p=0.01, clip_limit=(1.0, 4.0), tile_grid_size=(8, 8))\n",
      "\n",
      "      Epoch    GPU_mem   box_loss   cls_loss   dfl_loss  Instances       Size\n"
     ]
    },
    {
     "name": "stderr",
     "output_type": "stream",
     "text": [
      "      41/50      2.89G      1.057     0.8375      1.124         30        640: 100%|██████████| 188/188 [00:28<00:00,  \n",
      "                 Class     Images  Instances      Box(P          R      mAP50  mAP50-95): 100%|██████████| 16/16 [00:02"
     ]
    },
    {
     "name": "stdout",
     "output_type": "stream",
     "text": [
      "                   all        500       2041      0.777      0.606      0.698      0.445\n"
     ]
    },
    {
     "name": "stderr",
     "output_type": "stream",
     "text": [
      "\n"
     ]
    },
    {
     "name": "stdout",
     "output_type": "stream",
     "text": [
      "\n",
      "      Epoch    GPU_mem   box_loss   cls_loss   dfl_loss  Instances       Size\n"
     ]
    },
    {
     "name": "stderr",
     "output_type": "stream",
     "text": [
      "      42/50      2.89G      1.039     0.8023       1.11         38        640: 100%|██████████| 188/188 [00:28<00:00,  \n",
      "                 Class     Images  Instances      Box(P          R      mAP50  mAP50-95): 100%|██████████| 16/16 [00:02"
     ]
    },
    {
     "name": "stdout",
     "output_type": "stream",
     "text": [
      "                   all        500       2041      0.768      0.614      0.701       0.45\n"
     ]
    },
    {
     "name": "stderr",
     "output_type": "stream",
     "text": [
      "\n"
     ]
    },
    {
     "name": "stdout",
     "output_type": "stream",
     "text": [
      "\n",
      "      Epoch    GPU_mem   box_loss   cls_loss   dfl_loss  Instances       Size\n"
     ]
    },
    {
     "name": "stderr",
     "output_type": "stream",
     "text": [
      "      43/50      2.89G      1.032     0.7922      1.105         28        640: 100%|██████████| 188/188 [00:28<00:00,  \n",
      "                 Class     Images  Instances      Box(P          R      mAP50  mAP50-95): 100%|██████████| 16/16 [00:02"
     ]
    },
    {
     "name": "stdout",
     "output_type": "stream",
     "text": [
      "                   all        500       2041      0.772      0.609      0.703      0.449\n"
     ]
    },
    {
     "name": "stderr",
     "output_type": "stream",
     "text": [
      "\n"
     ]
    },
    {
     "name": "stdout",
     "output_type": "stream",
     "text": [
      "\n",
      "      Epoch    GPU_mem   box_loss   cls_loss   dfl_loss  Instances       Size\n"
     ]
    },
    {
     "name": "stderr",
     "output_type": "stream",
     "text": [
      "      44/50      2.89G      1.021     0.7703      1.093         56        640: 100%|██████████| 188/188 [00:28<00:00,  \n",
      "                 Class     Images  Instances      Box(P          R      mAP50  mAP50-95): 100%|██████████| 16/16 [00:02"
     ]
    },
    {
     "name": "stdout",
     "output_type": "stream",
     "text": [
      "                   all        500       2041      0.776      0.619      0.706      0.453\n"
     ]
    },
    {
     "name": "stderr",
     "output_type": "stream",
     "text": [
      "\n"
     ]
    },
    {
     "name": "stdout",
     "output_type": "stream",
     "text": [
      "\n",
      "      Epoch    GPU_mem   box_loss   cls_loss   dfl_loss  Instances       Size\n"
     ]
    },
    {
     "name": "stderr",
     "output_type": "stream",
     "text": [
      "      45/50      2.89G      1.014     0.7691      1.095         53        640: 100%|██████████| 188/188 [00:28<00:00,  \n",
      "                 Class     Images  Instances      Box(P          R      mAP50  mAP50-95): 100%|██████████| 16/16 [00:02"
     ]
    },
    {
     "name": "stdout",
     "output_type": "stream",
     "text": [
      "                   all        500       2041      0.782      0.609      0.704      0.454\n"
     ]
    },
    {
     "name": "stderr",
     "output_type": "stream",
     "text": [
      "\n"
     ]
    },
    {
     "name": "stdout",
     "output_type": "stream",
     "text": [
      "\n",
      "      Epoch    GPU_mem   box_loss   cls_loss   dfl_loss  Instances       Size\n"
     ]
    },
    {
     "name": "stderr",
     "output_type": "stream",
     "text": [
      "      46/50      2.89G      1.014     0.7695      1.093         17        640: 100%|██████████| 188/188 [00:28<00:00,  \n",
      "                 Class     Images  Instances      Box(P          R      mAP50  mAP50-95): 100%|██████████| 16/16 [00:02"
     ]
    },
    {
     "name": "stdout",
     "output_type": "stream",
     "text": [
      "                   all        500       2041      0.768      0.614      0.703      0.454\n"
     ]
    },
    {
     "name": "stderr",
     "output_type": "stream",
     "text": [
      "\n"
     ]
    },
    {
     "name": "stdout",
     "output_type": "stream",
     "text": [
      "\n",
      "      Epoch    GPU_mem   box_loss   cls_loss   dfl_loss  Instances       Size\n"
     ]
    },
    {
     "name": "stderr",
     "output_type": "stream",
     "text": [
      "      47/50      2.89G      1.002     0.7511      1.086         48        640: 100%|██████████| 188/188 [00:28<00:00,  \n",
      "                 Class     Images  Instances      Box(P          R      mAP50  mAP50-95): 100%|██████████| 16/16 [00:02"
     ]
    },
    {
     "name": "stdout",
     "output_type": "stream",
     "text": [
      "                   all        500       2041      0.774      0.609      0.704      0.453\n"
     ]
    },
    {
     "name": "stderr",
     "output_type": "stream",
     "text": [
      "\n"
     ]
    },
    {
     "name": "stdout",
     "output_type": "stream",
     "text": [
      "\n",
      "      Epoch    GPU_mem   box_loss   cls_loss   dfl_loss  Instances       Size\n"
     ]
    },
    {
     "name": "stderr",
     "output_type": "stream",
     "text": [
      "      48/50      2.89G      1.004      0.753      1.092         44        640: 100%|██████████| 188/188 [00:29<00:00,  \n",
      "                 Class     Images  Instances      Box(P          R      mAP50  mAP50-95): 100%|██████████| 16/16 [00:02"
     ]
    },
    {
     "name": "stdout",
     "output_type": "stream",
     "text": [
      "                   all        500       2041      0.782      0.616      0.706      0.452\n"
     ]
    },
    {
     "name": "stderr",
     "output_type": "stream",
     "text": [
      "\n"
     ]
    },
    {
     "name": "stdout",
     "output_type": "stream",
     "text": [
      "\n",
      "      Epoch    GPU_mem   box_loss   cls_loss   dfl_loss  Instances       Size\n"
     ]
    },
    {
     "name": "stderr",
     "output_type": "stream",
     "text": [
      "      49/50      2.89G      1.003      0.758      1.089         21        640: 100%|██████████| 188/188 [00:28<00:00,  \n",
      "                 Class     Images  Instances      Box(P          R      mAP50  mAP50-95): 100%|██████████| 16/16 [00:02"
     ]
    },
    {
     "name": "stdout",
     "output_type": "stream",
     "text": [
      "                   all        500       2041      0.766       0.62      0.706      0.453\n"
     ]
    },
    {
     "name": "stderr",
     "output_type": "stream",
     "text": [
      "\n"
     ]
    },
    {
     "name": "stdout",
     "output_type": "stream",
     "text": [
      "\n",
      "      Epoch    GPU_mem   box_loss   cls_loss   dfl_loss  Instances       Size\n"
     ]
    },
    {
     "name": "stderr",
     "output_type": "stream",
     "text": [
      "      50/50      2.89G      1.002     0.7494      1.085         20        640: 100%|██████████| 188/188 [00:28<00:00,  \n",
      "                 Class     Images  Instances      Box(P          R      mAP50  mAP50-95): 100%|██████████| 16/16 [00:02"
     ]
    },
    {
     "name": "stdout",
     "output_type": "stream",
     "text": [
      "                   all        500       2041      0.771      0.612      0.704      0.454\n"
     ]
    },
    {
     "name": "stderr",
     "output_type": "stream",
     "text": [
      "\n"
     ]
    },
    {
     "name": "stdout",
     "output_type": "stream",
     "text": [
      "\n",
      "50 epochs completed in 0.458 hours.\n",
      "Optimizer stripped from runs\\detect\\person_detect_v1\\weights\\last.pt, 5.5MB\n",
      "Optimizer stripped from runs\\detect\\person_detect_v1\\weights\\best.pt, 5.5MB\n",
      "\n",
      "Validating runs\\detect\\person_detect_v1\\weights\\best.pt...\n",
      "Ultralytics 8.3.152  Python-3.11.11 torch-2.5.1+cu121 CUDA:0 (NVIDIA GeForce RTX 4060 Laptop GPU, 8188MiB)\n",
      "YOLO11n summary (fused): 100 layers, 2,582,347 parameters, 0 gradients, 6.3 GFLOPs\n"
     ]
    },
    {
     "name": "stderr",
     "output_type": "stream",
     "text": [
      "                 Class     Images  Instances      Box(P          R      mAP50  mAP50-95): 100%|██████████| 16/16 [00:03\n"
     ]
    },
    {
     "name": "stdout",
     "output_type": "stream",
     "text": [
      "                   all        500       2041      0.767      0.614      0.703      0.455\n",
      "Speed: 0.2ms preprocess, 1.4ms inference, 0.0ms loss, 1.4ms postprocess per image\n",
      "Results saved to \u001b[1mruns\\detect\\person_detect_v1\u001b[0m\n"
     ]
    }
   ],
   "source": [
    "# Train with custom learning rate and optimizer\n",
    "results = model.train(\n",
    "    data=os.path.join(export_dir, \"dataset.yaml\"),\n",
    "    epochs=50,\n",
    "    batch=16,\n",
    "    imgsz=640,\n",
    "    optimizer=\"AdamW\",\n",
    "    lr0=0.001,              # Standard starting LR\n",
    "    lrf=0.01,               # Final LR after decay\n",
    "    momentum=0.9,\n",
    "    weight_decay=0.0005,    \n",
    "    warmup_epochs=3,        # Stabilize early training\n",
    "    warmup_momentum=0.8,\n",
    "    warmup_bias_lr=0.1,\n",
    "    cos_lr=True,            # Smooth cosine decay helps convergence\n",
    "    device=0,\n",
    "    workers=16,\n",
    "    project=PROJECT,\n",
    "    name=NAME\n",
    ")\n"
   ]
  },
  {
   "cell_type": "markdown",
   "id": "eac9470b-2382-4d8f-9a76-785a876f26ef",
   "metadata": {},
   "source": [
    "## Model v2\n",
    "\n",
    "<html>\n",
    "    <li>Yolo 11n</li>\n",
    "    <li>Freeze Backbone and Neck</li>\n",
    "</html>"
   ]
  },
  {
   "cell_type": "code",
   "execution_count": 16,
   "id": "49041268-6485-4c7e-9ff4-226379b089c9",
   "metadata": {
    "colab": {
     "base_uri": "https://localhost:8080/"
    },
    "id": "49041268-6485-4c7e-9ff4-226379b089c9",
    "outputId": "05638109-b9a4-46d9-e91f-3323d50dd3fa"
   },
   "outputs": [],
   "source": [
    "PROJECT = \"runs/detect\"\n",
    "NAME = \"person_detect_v2\"\n",
    "\n",
    "shutil.rmtree(os.path.join(PROJECT, NAME), ignore_errors=True)\n"
   ]
  },
  {
   "cell_type": "code",
   "execution_count": 17,
   "id": "66c9be1e-c42f-4afb-9da0-f022f86cb61e",
   "metadata": {},
   "outputs": [
    {
     "name": "stdout",
     "output_type": "stream",
     "text": [
      "DetectionModel(\n",
      "  (model): Sequential(\n",
      "    (0): Conv(\n",
      "      (conv): Conv2d(3, 16, kernel_size=(3, 3), stride=(2, 2), padding=(1, 1), bias=False)\n",
      "      (bn): BatchNorm2d(16, eps=0.001, momentum=0.03, affine=True, track_running_stats=True)\n",
      "      (act): SiLU(inplace=True)\n",
      "    )\n",
      "    (1): Conv(\n",
      "      (conv): Conv2d(16, 32, kernel_size=(3, 3), stride=(2, 2), padding=(1, 1), bias=False)\n",
      "      (bn): BatchNorm2d(32, eps=0.001, momentum=0.03, affine=True, track_running_stats=True)\n",
      "      (act): SiLU(inplace=True)\n",
      "    )\n",
      "    (2): C3k2(\n",
      "      (cv1): Conv(\n",
      "        (conv): Conv2d(32, 32, kernel_size=(1, 1), stride=(1, 1), bias=False)\n",
      "        (bn): BatchNorm2d(32, eps=0.001, momentum=0.03, affine=True, track_running_stats=True)\n",
      "        (act): SiLU(inplace=True)\n",
      "      )\n",
      "      (cv2): Conv(\n",
      "        (conv): Conv2d(48, 64, kernel_size=(1, 1), stride=(1, 1), bias=False)\n",
      "        (bn): BatchNorm2d(64, eps=0.001, momentum=0.03, affine=True, track_running_stats=True)\n",
      "        (act): SiLU(inplace=True)\n",
      "      )\n",
      "      (m): ModuleList(\n",
      "        (0): Bottleneck(\n",
      "          (cv1): Conv(\n",
      "            (conv): Conv2d(16, 8, kernel_size=(3, 3), stride=(1, 1), padding=(1, 1), bias=False)\n",
      "            (bn): BatchNorm2d(8, eps=0.001, momentum=0.03, affine=True, track_running_stats=True)\n",
      "            (act): SiLU(inplace=True)\n",
      "          )\n",
      "          (cv2): Conv(\n",
      "            (conv): Conv2d(8, 16, kernel_size=(3, 3), stride=(1, 1), padding=(1, 1), bias=False)\n",
      "            (bn): BatchNorm2d(16, eps=0.001, momentum=0.03, affine=True, track_running_stats=True)\n",
      "            (act): SiLU(inplace=True)\n",
      "          )\n",
      "        )\n",
      "      )\n",
      "    )\n",
      "    (3): Conv(\n",
      "      (conv): Conv2d(64, 64, kernel_size=(3, 3), stride=(2, 2), padding=(1, 1), bias=False)\n",
      "      (bn): BatchNorm2d(64, eps=0.001, momentum=0.03, affine=True, track_running_stats=True)\n",
      "      (act): SiLU(inplace=True)\n",
      "    )\n",
      "    (4): C3k2(\n",
      "      (cv1): Conv(\n",
      "        (conv): Conv2d(64, 64, kernel_size=(1, 1), stride=(1, 1), bias=False)\n",
      "        (bn): BatchNorm2d(64, eps=0.001, momentum=0.03, affine=True, track_running_stats=True)\n",
      "        (act): SiLU(inplace=True)\n",
      "      )\n",
      "      (cv2): Conv(\n",
      "        (conv): Conv2d(96, 128, kernel_size=(1, 1), stride=(1, 1), bias=False)\n",
      "        (bn): BatchNorm2d(128, eps=0.001, momentum=0.03, affine=True, track_running_stats=True)\n",
      "        (act): SiLU(inplace=True)\n",
      "      )\n",
      "      (m): ModuleList(\n",
      "        (0): Bottleneck(\n",
      "          (cv1): Conv(\n",
      "            (conv): Conv2d(32, 16, kernel_size=(3, 3), stride=(1, 1), padding=(1, 1), bias=False)\n",
      "            (bn): BatchNorm2d(16, eps=0.001, momentum=0.03, affine=True, track_running_stats=True)\n",
      "            (act): SiLU(inplace=True)\n",
      "          )\n",
      "          (cv2): Conv(\n",
      "            (conv): Conv2d(16, 32, kernel_size=(3, 3), stride=(1, 1), padding=(1, 1), bias=False)\n",
      "            (bn): BatchNorm2d(32, eps=0.001, momentum=0.03, affine=True, track_running_stats=True)\n",
      "            (act): SiLU(inplace=True)\n",
      "          )\n",
      "        )\n",
      "      )\n",
      "    )\n",
      "    (5): Conv(\n",
      "      (conv): Conv2d(128, 128, kernel_size=(3, 3), stride=(2, 2), padding=(1, 1), bias=False)\n",
      "      (bn): BatchNorm2d(128, eps=0.001, momentum=0.03, affine=True, track_running_stats=True)\n",
      "      (act): SiLU(inplace=True)\n",
      "    )\n",
      "    (6): C3k2(\n",
      "      (cv1): Conv(\n",
      "        (conv): Conv2d(128, 128, kernel_size=(1, 1), stride=(1, 1), bias=False)\n",
      "        (bn): BatchNorm2d(128, eps=0.001, momentum=0.03, affine=True, track_running_stats=True)\n",
      "        (act): SiLU(inplace=True)\n",
      "      )\n",
      "      (cv2): Conv(\n",
      "        (conv): Conv2d(192, 128, kernel_size=(1, 1), stride=(1, 1), bias=False)\n",
      "        (bn): BatchNorm2d(128, eps=0.001, momentum=0.03, affine=True, track_running_stats=True)\n",
      "        (act): SiLU(inplace=True)\n",
      "      )\n",
      "      (m): ModuleList(\n",
      "        (0): C3k(\n",
      "          (cv1): Conv(\n",
      "            (conv): Conv2d(64, 32, kernel_size=(1, 1), stride=(1, 1), bias=False)\n",
      "            (bn): BatchNorm2d(32, eps=0.001, momentum=0.03, affine=True, track_running_stats=True)\n",
      "            (act): SiLU(inplace=True)\n",
      "          )\n",
      "          (cv2): Conv(\n",
      "            (conv): Conv2d(64, 32, kernel_size=(1, 1), stride=(1, 1), bias=False)\n",
      "            (bn): BatchNorm2d(32, eps=0.001, momentum=0.03, affine=True, track_running_stats=True)\n",
      "            (act): SiLU(inplace=True)\n",
      "          )\n",
      "          (cv3): Conv(\n",
      "            (conv): Conv2d(64, 64, kernel_size=(1, 1), stride=(1, 1), bias=False)\n",
      "            (bn): BatchNorm2d(64, eps=0.001, momentum=0.03, affine=True, track_running_stats=True)\n",
      "            (act): SiLU(inplace=True)\n",
      "          )\n",
      "          (m): Sequential(\n",
      "            (0): Bottleneck(\n",
      "              (cv1): Conv(\n",
      "                (conv): Conv2d(32, 32, kernel_size=(3, 3), stride=(1, 1), padding=(1, 1), bias=False)\n",
      "                (bn): BatchNorm2d(32, eps=0.001, momentum=0.03, affine=True, track_running_stats=True)\n",
      "                (act): SiLU(inplace=True)\n",
      "              )\n",
      "              (cv2): Conv(\n",
      "                (conv): Conv2d(32, 32, kernel_size=(3, 3), stride=(1, 1), padding=(1, 1), bias=False)\n",
      "                (bn): BatchNorm2d(32, eps=0.001, momentum=0.03, affine=True, track_running_stats=True)\n",
      "                (act): SiLU(inplace=True)\n",
      "              )\n",
      "            )\n",
      "            (1): Bottleneck(\n",
      "              (cv1): Conv(\n",
      "                (conv): Conv2d(32, 32, kernel_size=(3, 3), stride=(1, 1), padding=(1, 1), bias=False)\n",
      "                (bn): BatchNorm2d(32, eps=0.001, momentum=0.03, affine=True, track_running_stats=True)\n",
      "                (act): SiLU(inplace=True)\n",
      "              )\n",
      "              (cv2): Conv(\n",
      "                (conv): Conv2d(32, 32, kernel_size=(3, 3), stride=(1, 1), padding=(1, 1), bias=False)\n",
      "                (bn): BatchNorm2d(32, eps=0.001, momentum=0.03, affine=True, track_running_stats=True)\n",
      "                (act): SiLU(inplace=True)\n",
      "              )\n",
      "            )\n",
      "          )\n",
      "        )\n",
      "      )\n",
      "    )\n",
      "    (7): Conv(\n",
      "      (conv): Conv2d(128, 256, kernel_size=(3, 3), stride=(2, 2), padding=(1, 1), bias=False)\n",
      "      (bn): BatchNorm2d(256, eps=0.001, momentum=0.03, affine=True, track_running_stats=True)\n",
      "      (act): SiLU(inplace=True)\n",
      "    )\n",
      "    (8): C3k2(\n",
      "      (cv1): Conv(\n",
      "        (conv): Conv2d(256, 256, kernel_size=(1, 1), stride=(1, 1), bias=False)\n",
      "        (bn): BatchNorm2d(256, eps=0.001, momentum=0.03, affine=True, track_running_stats=True)\n",
      "        (act): SiLU(inplace=True)\n",
      "      )\n",
      "      (cv2): Conv(\n",
      "        (conv): Conv2d(384, 256, kernel_size=(1, 1), stride=(1, 1), bias=False)\n",
      "        (bn): BatchNorm2d(256, eps=0.001, momentum=0.03, affine=True, track_running_stats=True)\n",
      "        (act): SiLU(inplace=True)\n",
      "      )\n",
      "      (m): ModuleList(\n",
      "        (0): C3k(\n",
      "          (cv1): Conv(\n",
      "            (conv): Conv2d(128, 64, kernel_size=(1, 1), stride=(1, 1), bias=False)\n",
      "            (bn): BatchNorm2d(64, eps=0.001, momentum=0.03, affine=True, track_running_stats=True)\n",
      "            (act): SiLU(inplace=True)\n",
      "          )\n",
      "          (cv2): Conv(\n",
      "            (conv): Conv2d(128, 64, kernel_size=(1, 1), stride=(1, 1), bias=False)\n",
      "            (bn): BatchNorm2d(64, eps=0.001, momentum=0.03, affine=True, track_running_stats=True)\n",
      "            (act): SiLU(inplace=True)\n",
      "          )\n",
      "          (cv3): Conv(\n",
      "            (conv): Conv2d(128, 128, kernel_size=(1, 1), stride=(1, 1), bias=False)\n",
      "            (bn): BatchNorm2d(128, eps=0.001, momentum=0.03, affine=True, track_running_stats=True)\n",
      "            (act): SiLU(inplace=True)\n",
      "          )\n",
      "          (m): Sequential(\n",
      "            (0): Bottleneck(\n",
      "              (cv1): Conv(\n",
      "                (conv): Conv2d(64, 64, kernel_size=(3, 3), stride=(1, 1), padding=(1, 1), bias=False)\n",
      "                (bn): BatchNorm2d(64, eps=0.001, momentum=0.03, affine=True, track_running_stats=True)\n",
      "                (act): SiLU(inplace=True)\n",
      "              )\n",
      "              (cv2): Conv(\n",
      "                (conv): Conv2d(64, 64, kernel_size=(3, 3), stride=(1, 1), padding=(1, 1), bias=False)\n",
      "                (bn): BatchNorm2d(64, eps=0.001, momentum=0.03, affine=True, track_running_stats=True)\n",
      "                (act): SiLU(inplace=True)\n",
      "              )\n",
      "            )\n",
      "            (1): Bottleneck(\n",
      "              (cv1): Conv(\n",
      "                (conv): Conv2d(64, 64, kernel_size=(3, 3), stride=(1, 1), padding=(1, 1), bias=False)\n",
      "                (bn): BatchNorm2d(64, eps=0.001, momentum=0.03, affine=True, track_running_stats=True)\n",
      "                (act): SiLU(inplace=True)\n",
      "              )\n",
      "              (cv2): Conv(\n",
      "                (conv): Conv2d(64, 64, kernel_size=(3, 3), stride=(1, 1), padding=(1, 1), bias=False)\n",
      "                (bn): BatchNorm2d(64, eps=0.001, momentum=0.03, affine=True, track_running_stats=True)\n",
      "                (act): SiLU(inplace=True)\n",
      "              )\n",
      "            )\n",
      "          )\n",
      "        )\n",
      "      )\n",
      "    )\n",
      "    (9): SPPF(\n",
      "      (cv1): Conv(\n",
      "        (conv): Conv2d(256, 128, kernel_size=(1, 1), stride=(1, 1), bias=False)\n",
      "        (bn): BatchNorm2d(128, eps=0.001, momentum=0.03, affine=True, track_running_stats=True)\n",
      "        (act): SiLU(inplace=True)\n",
      "      )\n",
      "      (cv2): Conv(\n",
      "        (conv): Conv2d(512, 256, kernel_size=(1, 1), stride=(1, 1), bias=False)\n",
      "        (bn): BatchNorm2d(256, eps=0.001, momentum=0.03, affine=True, track_running_stats=True)\n",
      "        (act): SiLU(inplace=True)\n",
      "      )\n",
      "      (m): MaxPool2d(kernel_size=5, stride=1, padding=2, dilation=1, ceil_mode=False)\n",
      "    )\n",
      "    (10): C2PSA(\n",
      "      (cv1): Conv(\n",
      "        (conv): Conv2d(256, 256, kernel_size=(1, 1), stride=(1, 1), bias=False)\n",
      "        (bn): BatchNorm2d(256, eps=0.001, momentum=0.03, affine=True, track_running_stats=True)\n",
      "        (act): SiLU(inplace=True)\n",
      "      )\n",
      "      (cv2): Conv(\n",
      "        (conv): Conv2d(256, 256, kernel_size=(1, 1), stride=(1, 1), bias=False)\n",
      "        (bn): BatchNorm2d(256, eps=0.001, momentum=0.03, affine=True, track_running_stats=True)\n",
      "        (act): SiLU(inplace=True)\n",
      "      )\n",
      "      (m): Sequential(\n",
      "        (0): PSABlock(\n",
      "          (attn): Attention(\n",
      "            (qkv): Conv(\n",
      "              (conv): Conv2d(128, 256, kernel_size=(1, 1), stride=(1, 1), bias=False)\n",
      "              (bn): BatchNorm2d(256, eps=0.001, momentum=0.03, affine=True, track_running_stats=True)\n",
      "              (act): Identity()\n",
      "            )\n",
      "            (proj): Conv(\n",
      "              (conv): Conv2d(128, 128, kernel_size=(1, 1), stride=(1, 1), bias=False)\n",
      "              (bn): BatchNorm2d(128, eps=0.001, momentum=0.03, affine=True, track_running_stats=True)\n",
      "              (act): Identity()\n",
      "            )\n",
      "            (pe): Conv(\n",
      "              (conv): Conv2d(128, 128, kernel_size=(3, 3), stride=(1, 1), padding=(1, 1), groups=128, bias=False)\n",
      "              (bn): BatchNorm2d(128, eps=0.001, momentum=0.03, affine=True, track_running_stats=True)\n",
      "              (act): Identity()\n",
      "            )\n",
      "          )\n",
      "          (ffn): Sequential(\n",
      "            (0): Conv(\n",
      "              (conv): Conv2d(128, 256, kernel_size=(1, 1), stride=(1, 1), bias=False)\n",
      "              (bn): BatchNorm2d(256, eps=0.001, momentum=0.03, affine=True, track_running_stats=True)\n",
      "              (act): SiLU(inplace=True)\n",
      "            )\n",
      "            (1): Conv(\n",
      "              (conv): Conv2d(256, 128, kernel_size=(1, 1), stride=(1, 1), bias=False)\n",
      "              (bn): BatchNorm2d(128, eps=0.001, momentum=0.03, affine=True, track_running_stats=True)\n",
      "              (act): Identity()\n",
      "            )\n",
      "          )\n",
      "        )\n",
      "      )\n",
      "    )\n",
      "    (11): Upsample(scale_factor=2.0, mode='nearest')\n",
      "    (12): Concat()\n",
      "    (13): C3k2(\n",
      "      (cv1): Conv(\n",
      "        (conv): Conv2d(384, 128, kernel_size=(1, 1), stride=(1, 1), bias=False)\n",
      "        (bn): BatchNorm2d(128, eps=0.001, momentum=0.03, affine=True, track_running_stats=True)\n",
      "        (act): SiLU(inplace=True)\n",
      "      )\n",
      "      (cv2): Conv(\n",
      "        (conv): Conv2d(192, 128, kernel_size=(1, 1), stride=(1, 1), bias=False)\n",
      "        (bn): BatchNorm2d(128, eps=0.001, momentum=0.03, affine=True, track_running_stats=True)\n",
      "        (act): SiLU(inplace=True)\n",
      "      )\n",
      "      (m): ModuleList(\n",
      "        (0): Bottleneck(\n",
      "          (cv1): Conv(\n",
      "            (conv): Conv2d(64, 32, kernel_size=(3, 3), stride=(1, 1), padding=(1, 1), bias=False)\n",
      "            (bn): BatchNorm2d(32, eps=0.001, momentum=0.03, affine=True, track_running_stats=True)\n",
      "            (act): SiLU(inplace=True)\n",
      "          )\n",
      "          (cv2): Conv(\n",
      "            (conv): Conv2d(32, 64, kernel_size=(3, 3), stride=(1, 1), padding=(1, 1), bias=False)\n",
      "            (bn): BatchNorm2d(64, eps=0.001, momentum=0.03, affine=True, track_running_stats=True)\n",
      "            (act): SiLU(inplace=True)\n",
      "          )\n",
      "        )\n",
      "      )\n",
      "    )\n",
      "    (14): Upsample(scale_factor=2.0, mode='nearest')\n",
      "    (15): Concat()\n",
      "    (16): C3k2(\n",
      "      (cv1): Conv(\n",
      "        (conv): Conv2d(256, 64, kernel_size=(1, 1), stride=(1, 1), bias=False)\n",
      "        (bn): BatchNorm2d(64, eps=0.001, momentum=0.03, affine=True, track_running_stats=True)\n",
      "        (act): SiLU(inplace=True)\n",
      "      )\n",
      "      (cv2): Conv(\n",
      "        (conv): Conv2d(96, 64, kernel_size=(1, 1), stride=(1, 1), bias=False)\n",
      "        (bn): BatchNorm2d(64, eps=0.001, momentum=0.03, affine=True, track_running_stats=True)\n",
      "        (act): SiLU(inplace=True)\n",
      "      )\n",
      "      (m): ModuleList(\n",
      "        (0): Bottleneck(\n",
      "          (cv1): Conv(\n",
      "            (conv): Conv2d(32, 16, kernel_size=(3, 3), stride=(1, 1), padding=(1, 1), bias=False)\n",
      "            (bn): BatchNorm2d(16, eps=0.001, momentum=0.03, affine=True, track_running_stats=True)\n",
      "            (act): SiLU(inplace=True)\n",
      "          )\n",
      "          (cv2): Conv(\n",
      "            (conv): Conv2d(16, 32, kernel_size=(3, 3), stride=(1, 1), padding=(1, 1), bias=False)\n",
      "            (bn): BatchNorm2d(32, eps=0.001, momentum=0.03, affine=True, track_running_stats=True)\n",
      "            (act): SiLU(inplace=True)\n",
      "          )\n",
      "        )\n",
      "      )\n",
      "    )\n",
      "    (17): Conv(\n",
      "      (conv): Conv2d(64, 64, kernel_size=(3, 3), stride=(2, 2), padding=(1, 1), bias=False)\n",
      "      (bn): BatchNorm2d(64, eps=0.001, momentum=0.03, affine=True, track_running_stats=True)\n",
      "      (act): SiLU(inplace=True)\n",
      "    )\n",
      "    (18): Concat()\n",
      "    (19): C3k2(\n",
      "      (cv1): Conv(\n",
      "        (conv): Conv2d(192, 128, kernel_size=(1, 1), stride=(1, 1), bias=False)\n",
      "        (bn): BatchNorm2d(128, eps=0.001, momentum=0.03, affine=True, track_running_stats=True)\n",
      "        (act): SiLU(inplace=True)\n",
      "      )\n",
      "      (cv2): Conv(\n",
      "        (conv): Conv2d(192, 128, kernel_size=(1, 1), stride=(1, 1), bias=False)\n",
      "        (bn): BatchNorm2d(128, eps=0.001, momentum=0.03, affine=True, track_running_stats=True)\n",
      "        (act): SiLU(inplace=True)\n",
      "      )\n",
      "      (m): ModuleList(\n",
      "        (0): Bottleneck(\n",
      "          (cv1): Conv(\n",
      "            (conv): Conv2d(64, 32, kernel_size=(3, 3), stride=(1, 1), padding=(1, 1), bias=False)\n",
      "            (bn): BatchNorm2d(32, eps=0.001, momentum=0.03, affine=True, track_running_stats=True)\n",
      "            (act): SiLU(inplace=True)\n",
      "          )\n",
      "          (cv2): Conv(\n",
      "            (conv): Conv2d(32, 64, kernel_size=(3, 3), stride=(1, 1), padding=(1, 1), bias=False)\n",
      "            (bn): BatchNorm2d(64, eps=0.001, momentum=0.03, affine=True, track_running_stats=True)\n",
      "            (act): SiLU(inplace=True)\n",
      "          )\n",
      "        )\n",
      "      )\n",
      "    )\n",
      "    (20): Conv(\n",
      "      (conv): Conv2d(128, 128, kernel_size=(3, 3), stride=(2, 2), padding=(1, 1), bias=False)\n",
      "      (bn): BatchNorm2d(128, eps=0.001, momentum=0.03, affine=True, track_running_stats=True)\n",
      "      (act): SiLU(inplace=True)\n",
      "    )\n",
      "    (21): Concat()\n",
      "    (22): C3k2(\n",
      "      (cv1): Conv(\n",
      "        (conv): Conv2d(384, 256, kernel_size=(1, 1), stride=(1, 1), bias=False)\n",
      "        (bn): BatchNorm2d(256, eps=0.001, momentum=0.03, affine=True, track_running_stats=True)\n",
      "        (act): SiLU(inplace=True)\n",
      "      )\n",
      "      (cv2): Conv(\n",
      "        (conv): Conv2d(384, 256, kernel_size=(1, 1), stride=(1, 1), bias=False)\n",
      "        (bn): BatchNorm2d(256, eps=0.001, momentum=0.03, affine=True, track_running_stats=True)\n",
      "        (act): SiLU(inplace=True)\n",
      "      )\n",
      "      (m): ModuleList(\n",
      "        (0): C3k(\n",
      "          (cv1): Conv(\n",
      "            (conv): Conv2d(128, 64, kernel_size=(1, 1), stride=(1, 1), bias=False)\n",
      "            (bn): BatchNorm2d(64, eps=0.001, momentum=0.03, affine=True, track_running_stats=True)\n",
      "            (act): SiLU(inplace=True)\n",
      "          )\n",
      "          (cv2): Conv(\n",
      "            (conv): Conv2d(128, 64, kernel_size=(1, 1), stride=(1, 1), bias=False)\n",
      "            (bn): BatchNorm2d(64, eps=0.001, momentum=0.03, affine=True, track_running_stats=True)\n",
      "            (act): SiLU(inplace=True)\n",
      "          )\n",
      "          (cv3): Conv(\n",
      "            (conv): Conv2d(128, 128, kernel_size=(1, 1), stride=(1, 1), bias=False)\n",
      "            (bn): BatchNorm2d(128, eps=0.001, momentum=0.03, affine=True, track_running_stats=True)\n",
      "            (act): SiLU(inplace=True)\n",
      "          )\n",
      "          (m): Sequential(\n",
      "            (0): Bottleneck(\n",
      "              (cv1): Conv(\n",
      "                (conv): Conv2d(64, 64, kernel_size=(3, 3), stride=(1, 1), padding=(1, 1), bias=False)\n",
      "                (bn): BatchNorm2d(64, eps=0.001, momentum=0.03, affine=True, track_running_stats=True)\n",
      "                (act): SiLU(inplace=True)\n",
      "              )\n",
      "              (cv2): Conv(\n",
      "                (conv): Conv2d(64, 64, kernel_size=(3, 3), stride=(1, 1), padding=(1, 1), bias=False)\n",
      "                (bn): BatchNorm2d(64, eps=0.001, momentum=0.03, affine=True, track_running_stats=True)\n",
      "                (act): SiLU(inplace=True)\n",
      "              )\n",
      "            )\n",
      "            (1): Bottleneck(\n",
      "              (cv1): Conv(\n",
      "                (conv): Conv2d(64, 64, kernel_size=(3, 3), stride=(1, 1), padding=(1, 1), bias=False)\n",
      "                (bn): BatchNorm2d(64, eps=0.001, momentum=0.03, affine=True, track_running_stats=True)\n",
      "                (act): SiLU(inplace=True)\n",
      "              )\n",
      "              (cv2): Conv(\n",
      "                (conv): Conv2d(64, 64, kernel_size=(3, 3), stride=(1, 1), padding=(1, 1), bias=False)\n",
      "                (bn): BatchNorm2d(64, eps=0.001, momentum=0.03, affine=True, track_running_stats=True)\n",
      "                (act): SiLU(inplace=True)\n",
      "              )\n",
      "            )\n",
      "          )\n",
      "        )\n",
      "      )\n",
      "    )\n",
      "    (23): Detect(\n",
      "      (cv2): ModuleList(\n",
      "        (0): Sequential(\n",
      "          (0): Conv(\n",
      "            (conv): Conv2d(64, 64, kernel_size=(3, 3), stride=(1, 1), padding=(1, 1), bias=False)\n",
      "            (bn): BatchNorm2d(64, eps=0.001, momentum=0.03, affine=True, track_running_stats=True)\n",
      "            (act): SiLU(inplace=True)\n",
      "          )\n",
      "          (1): Conv(\n",
      "            (conv): Conv2d(64, 64, kernel_size=(3, 3), stride=(1, 1), padding=(1, 1), bias=False)\n",
      "            (bn): BatchNorm2d(64, eps=0.001, momentum=0.03, affine=True, track_running_stats=True)\n",
      "            (act): SiLU(inplace=True)\n",
      "          )\n",
      "          (2): Conv2d(64, 64, kernel_size=(1, 1), stride=(1, 1))\n",
      "        )\n",
      "        (1): Sequential(\n",
      "          (0): Conv(\n",
      "            (conv): Conv2d(128, 64, kernel_size=(3, 3), stride=(1, 1), padding=(1, 1), bias=False)\n",
      "            (bn): BatchNorm2d(64, eps=0.001, momentum=0.03, affine=True, track_running_stats=True)\n",
      "            (act): SiLU(inplace=True)\n",
      "          )\n",
      "          (1): Conv(\n",
      "            (conv): Conv2d(64, 64, kernel_size=(3, 3), stride=(1, 1), padding=(1, 1), bias=False)\n",
      "            (bn): BatchNorm2d(64, eps=0.001, momentum=0.03, affine=True, track_running_stats=True)\n",
      "            (act): SiLU(inplace=True)\n",
      "          )\n",
      "          (2): Conv2d(64, 64, kernel_size=(1, 1), stride=(1, 1))\n",
      "        )\n",
      "        (2): Sequential(\n",
      "          (0): Conv(\n",
      "            (conv): Conv2d(256, 64, kernel_size=(3, 3), stride=(1, 1), padding=(1, 1), bias=False)\n",
      "            (bn): BatchNorm2d(64, eps=0.001, momentum=0.03, affine=True, track_running_stats=True)\n",
      "            (act): SiLU(inplace=True)\n",
      "          )\n",
      "          (1): Conv(\n",
      "            (conv): Conv2d(64, 64, kernel_size=(3, 3), stride=(1, 1), padding=(1, 1), bias=False)\n",
      "            (bn): BatchNorm2d(64, eps=0.001, momentum=0.03, affine=True, track_running_stats=True)\n",
      "            (act): SiLU(inplace=True)\n",
      "          )\n",
      "          (2): Conv2d(64, 64, kernel_size=(1, 1), stride=(1, 1))\n",
      "        )\n",
      "      )\n",
      "      (cv3): ModuleList(\n",
      "        (0): Sequential(\n",
      "          (0): Sequential(\n",
      "            (0): DWConv(\n",
      "              (conv): Conv2d(64, 64, kernel_size=(3, 3), stride=(1, 1), padding=(1, 1), groups=64, bias=False)\n",
      "              (bn): BatchNorm2d(64, eps=0.001, momentum=0.03, affine=True, track_running_stats=True)\n",
      "              (act): SiLU(inplace=True)\n",
      "            )\n",
      "            (1): Conv(\n",
      "              (conv): Conv2d(64, 80, kernel_size=(1, 1), stride=(1, 1), bias=False)\n",
      "              (bn): BatchNorm2d(80, eps=0.001, momentum=0.03, affine=True, track_running_stats=True)\n",
      "              (act): SiLU(inplace=True)\n",
      "            )\n",
      "          )\n",
      "          (1): Sequential(\n",
      "            (0): DWConv(\n",
      "              (conv): Conv2d(80, 80, kernel_size=(3, 3), stride=(1, 1), padding=(1, 1), groups=80, bias=False)\n",
      "              (bn): BatchNorm2d(80, eps=0.001, momentum=0.03, affine=True, track_running_stats=True)\n",
      "              (act): SiLU(inplace=True)\n",
      "            )\n",
      "            (1): Conv(\n",
      "              (conv): Conv2d(80, 80, kernel_size=(1, 1), stride=(1, 1), bias=False)\n",
      "              (bn): BatchNorm2d(80, eps=0.001, momentum=0.03, affine=True, track_running_stats=True)\n",
      "              (act): SiLU(inplace=True)\n",
      "            )\n",
      "          )\n",
      "          (2): Conv2d(80, 80, kernel_size=(1, 1), stride=(1, 1))\n",
      "        )\n",
      "        (1): Sequential(\n",
      "          (0): Sequential(\n",
      "            (0): DWConv(\n",
      "              (conv): Conv2d(128, 128, kernel_size=(3, 3), stride=(1, 1), padding=(1, 1), groups=128, bias=False)\n",
      "              (bn): BatchNorm2d(128, eps=0.001, momentum=0.03, affine=True, track_running_stats=True)\n",
      "              (act): SiLU(inplace=True)\n",
      "            )\n",
      "            (1): Conv(\n",
      "              (conv): Conv2d(128, 80, kernel_size=(1, 1), stride=(1, 1), bias=False)\n",
      "              (bn): BatchNorm2d(80, eps=0.001, momentum=0.03, affine=True, track_running_stats=True)\n",
      "              (act): SiLU(inplace=True)\n",
      "            )\n",
      "          )\n",
      "          (1): Sequential(\n",
      "            (0): DWConv(\n",
      "              (conv): Conv2d(80, 80, kernel_size=(3, 3), stride=(1, 1), padding=(1, 1), groups=80, bias=False)\n",
      "              (bn): BatchNorm2d(80, eps=0.001, momentum=0.03, affine=True, track_running_stats=True)\n",
      "              (act): SiLU(inplace=True)\n",
      "            )\n",
      "            (1): Conv(\n",
      "              (conv): Conv2d(80, 80, kernel_size=(1, 1), stride=(1, 1), bias=False)\n",
      "              (bn): BatchNorm2d(80, eps=0.001, momentum=0.03, affine=True, track_running_stats=True)\n",
      "              (act): SiLU(inplace=True)\n",
      "            )\n",
      "          )\n",
      "          (2): Conv2d(80, 80, kernel_size=(1, 1), stride=(1, 1))\n",
      "        )\n",
      "        (2): Sequential(\n",
      "          (0): Sequential(\n",
      "            (0): DWConv(\n",
      "              (conv): Conv2d(256, 256, kernel_size=(3, 3), stride=(1, 1), padding=(1, 1), groups=256, bias=False)\n",
      "              (bn): BatchNorm2d(256, eps=0.001, momentum=0.03, affine=True, track_running_stats=True)\n",
      "              (act): SiLU(inplace=True)\n",
      "            )\n",
      "            (1): Conv(\n",
      "              (conv): Conv2d(256, 80, kernel_size=(1, 1), stride=(1, 1), bias=False)\n",
      "              (bn): BatchNorm2d(80, eps=0.001, momentum=0.03, affine=True, track_running_stats=True)\n",
      "              (act): SiLU(inplace=True)\n",
      "            )\n",
      "          )\n",
      "          (1): Sequential(\n",
      "            (0): DWConv(\n",
      "              (conv): Conv2d(80, 80, kernel_size=(3, 3), stride=(1, 1), padding=(1, 1), groups=80, bias=False)\n",
      "              (bn): BatchNorm2d(80, eps=0.001, momentum=0.03, affine=True, track_running_stats=True)\n",
      "              (act): SiLU(inplace=True)\n",
      "            )\n",
      "            (1): Conv(\n",
      "              (conv): Conv2d(80, 80, kernel_size=(1, 1), stride=(1, 1), bias=False)\n",
      "              (bn): BatchNorm2d(80, eps=0.001, momentum=0.03, affine=True, track_running_stats=True)\n",
      "              (act): SiLU(inplace=True)\n",
      "            )\n",
      "          )\n",
      "          (2): Conv2d(80, 80, kernel_size=(1, 1), stride=(1, 1))\n",
      "        )\n",
      "      )\n",
      "      (dfl): DFL(\n",
      "        (conv): Conv2d(16, 1, kernel_size=(1, 1), stride=(1, 1), bias=False)\n",
      "      )\n",
      "    )\n",
      "  )\n",
      ")\n"
     ]
    }
   ],
   "source": [
    "model = YOLO(\"yolo11n.pt\")  # Load pretrained model\n",
    "\n",
    "print(model.model)"
   ]
  },
  {
   "cell_type": "markdown",
   "id": "3ecc7b4e-f957-4616-8564-8b4afa8c6cbb",
   "metadata": {},
   "source": [
    "<html>\n",
    "    <li>Backbone: Layer 0 - 10 --> After C2PSA</li>\n",
    "    <li>Neck : Layer 11 - 22</li>\n",
    "    <li>Head : Layer 23 --> Detect</li>\n",
    "</html>"
   ]
  },
  {
   "cell_type": "code",
   "execution_count": 18,
   "id": "d5d5f20d-5154-4fa7-a3cc-0cd7106bf10a",
   "metadata": {},
   "outputs": [
    {
     "name": "stdout",
     "output_type": "stream",
     "text": [
      "Frozen layers:\n",
      " - model.0.conv.weight\n",
      " - model.0.bn.weight\n",
      " - model.0.bn.bias\n",
      " - model.1.conv.weight\n",
      " - model.1.bn.weight\n",
      " - model.1.bn.bias\n",
      " - model.2.cv1.conv.weight\n",
      " - model.2.cv1.bn.weight\n",
      " - model.2.cv1.bn.bias\n",
      " - model.2.cv2.conv.weight\n",
      " - model.2.cv2.bn.weight\n",
      " - model.2.cv2.bn.bias\n",
      " - model.2.m.0.cv1.conv.weight\n",
      " - model.2.m.0.cv1.bn.weight\n",
      " - model.2.m.0.cv1.bn.bias\n",
      " - model.2.m.0.cv2.conv.weight\n",
      " - model.2.m.0.cv2.bn.weight\n",
      " - model.2.m.0.cv2.bn.bias\n",
      " - model.3.conv.weight\n",
      " - model.3.bn.weight\n",
      " - model.3.bn.bias\n",
      " - model.4.cv1.conv.weight\n",
      " - model.4.cv1.bn.weight\n",
      " - model.4.cv1.bn.bias\n",
      " - model.4.cv2.conv.weight\n",
      " - model.4.cv2.bn.weight\n",
      " - model.4.cv2.bn.bias\n",
      " - model.4.m.0.cv1.conv.weight\n",
      " - model.4.m.0.cv1.bn.weight\n",
      " - model.4.m.0.cv1.bn.bias\n",
      " - model.4.m.0.cv2.conv.weight\n",
      " - model.4.m.0.cv2.bn.weight\n",
      " - model.4.m.0.cv2.bn.bias\n",
      " - model.5.conv.weight\n",
      " - model.5.bn.weight\n",
      " - model.5.bn.bias\n",
      " - model.6.cv1.conv.weight\n",
      " - model.6.cv1.bn.weight\n",
      " - model.6.cv1.bn.bias\n",
      " - model.6.cv2.conv.weight\n",
      " - model.6.cv2.bn.weight\n",
      " - model.6.cv2.bn.bias\n",
      " - model.6.m.0.cv1.conv.weight\n",
      " - model.6.m.0.cv1.bn.weight\n",
      " - model.6.m.0.cv1.bn.bias\n",
      " - model.6.m.0.cv2.conv.weight\n",
      " - model.6.m.0.cv2.bn.weight\n",
      " - model.6.m.0.cv2.bn.bias\n",
      " - model.6.m.0.cv3.conv.weight\n",
      " - model.6.m.0.cv3.bn.weight\n",
      " - model.6.m.0.cv3.bn.bias\n",
      " - model.6.m.0.m.0.cv1.conv.weight\n",
      " - model.6.m.0.m.0.cv1.bn.weight\n",
      " - model.6.m.0.m.0.cv1.bn.bias\n",
      " - model.6.m.0.m.0.cv2.conv.weight\n",
      " - model.6.m.0.m.0.cv2.bn.weight\n",
      " - model.6.m.0.m.0.cv2.bn.bias\n",
      " - model.6.m.0.m.1.cv1.conv.weight\n",
      " - model.6.m.0.m.1.cv1.bn.weight\n",
      " - model.6.m.0.m.1.cv1.bn.bias\n",
      " - model.6.m.0.m.1.cv2.conv.weight\n",
      " - model.6.m.0.m.1.cv2.bn.weight\n",
      " - model.6.m.0.m.1.cv2.bn.bias\n",
      " - model.7.conv.weight\n",
      " - model.7.bn.weight\n",
      " - model.7.bn.bias\n",
      " - model.8.cv1.conv.weight\n",
      " - model.8.cv1.bn.weight\n",
      " - model.8.cv1.bn.bias\n",
      " - model.8.cv2.conv.weight\n",
      " - model.8.cv2.bn.weight\n",
      " - model.8.cv2.bn.bias\n",
      " - model.8.m.0.cv1.conv.weight\n",
      " - model.8.m.0.cv1.bn.weight\n",
      " - model.8.m.0.cv1.bn.bias\n",
      " - model.8.m.0.cv2.conv.weight\n",
      " - model.8.m.0.cv2.bn.weight\n",
      " - model.8.m.0.cv2.bn.bias\n",
      " - model.8.m.0.cv3.conv.weight\n",
      " - model.8.m.0.cv3.bn.weight\n",
      " - model.8.m.0.cv3.bn.bias\n",
      " - model.8.m.0.m.0.cv1.conv.weight\n",
      " - model.8.m.0.m.0.cv1.bn.weight\n",
      " - model.8.m.0.m.0.cv1.bn.bias\n",
      " - model.8.m.0.m.0.cv2.conv.weight\n",
      " - model.8.m.0.m.0.cv2.bn.weight\n",
      " - model.8.m.0.m.0.cv2.bn.bias\n",
      " - model.8.m.0.m.1.cv1.conv.weight\n",
      " - model.8.m.0.m.1.cv1.bn.weight\n",
      " - model.8.m.0.m.1.cv1.bn.bias\n",
      " - model.8.m.0.m.1.cv2.conv.weight\n",
      " - model.8.m.0.m.1.cv2.bn.weight\n",
      " - model.8.m.0.m.1.cv2.bn.bias\n",
      " - model.9.cv1.conv.weight\n",
      " - model.9.cv1.bn.weight\n",
      " - model.9.cv1.bn.bias\n",
      " - model.9.cv2.conv.weight\n",
      " - model.9.cv2.bn.weight\n",
      " - model.9.cv2.bn.bias\n",
      "Trainable layers:\n",
      " - model.10.cv1.conv.weight\n",
      " - model.10.cv1.bn.weight\n",
      " - model.10.cv1.bn.bias\n",
      " - model.10.cv2.conv.weight\n",
      " - model.10.cv2.bn.weight\n",
      " - model.10.cv2.bn.bias\n",
      " - model.10.m.0.attn.qkv.conv.weight\n",
      " - model.10.m.0.attn.qkv.bn.weight\n",
      " - model.10.m.0.attn.qkv.bn.bias\n",
      " - model.10.m.0.attn.proj.conv.weight\n",
      " - model.10.m.0.attn.proj.bn.weight\n",
      " - model.10.m.0.attn.proj.bn.bias\n",
      " - model.10.m.0.attn.pe.conv.weight\n",
      " - model.10.m.0.attn.pe.bn.weight\n",
      " - model.10.m.0.attn.pe.bn.bias\n",
      " - model.10.m.0.ffn.0.conv.weight\n",
      " - model.10.m.0.ffn.0.bn.weight\n",
      " - model.10.m.0.ffn.0.bn.bias\n",
      " - model.10.m.0.ffn.1.conv.weight\n",
      " - model.10.m.0.ffn.1.bn.weight\n",
      " - model.10.m.0.ffn.1.bn.bias\n",
      " - model.13.cv1.conv.weight\n",
      " - model.13.cv1.bn.weight\n",
      " - model.13.cv1.bn.bias\n",
      " - model.13.cv2.conv.weight\n",
      " - model.13.cv2.bn.weight\n",
      " - model.13.cv2.bn.bias\n",
      " - model.13.m.0.cv1.conv.weight\n",
      " - model.13.m.0.cv1.bn.weight\n",
      " - model.13.m.0.cv1.bn.bias\n",
      " - model.13.m.0.cv2.conv.weight\n",
      " - model.13.m.0.cv2.bn.weight\n",
      " - model.13.m.0.cv2.bn.bias\n",
      " - model.16.cv1.conv.weight\n",
      " - model.16.cv1.bn.weight\n",
      " - model.16.cv1.bn.bias\n",
      " - model.16.cv2.conv.weight\n",
      " - model.16.cv2.bn.weight\n",
      " - model.16.cv2.bn.bias\n",
      " - model.16.m.0.cv1.conv.weight\n",
      " - model.16.m.0.cv1.bn.weight\n",
      " - model.16.m.0.cv1.bn.bias\n",
      " - model.16.m.0.cv2.conv.weight\n",
      " - model.16.m.0.cv2.bn.weight\n",
      " - model.16.m.0.cv2.bn.bias\n",
      " - model.17.conv.weight\n",
      " - model.17.bn.weight\n",
      " - model.17.bn.bias\n",
      " - model.19.cv1.conv.weight\n",
      " - model.19.cv1.bn.weight\n",
      " - model.19.cv1.bn.bias\n",
      " - model.19.cv2.conv.weight\n",
      " - model.19.cv2.bn.weight\n",
      " - model.19.cv2.bn.bias\n",
      " - model.19.m.0.cv1.conv.weight\n",
      " - model.19.m.0.cv1.bn.weight\n",
      " - model.19.m.0.cv1.bn.bias\n",
      " - model.19.m.0.cv2.conv.weight\n",
      " - model.19.m.0.cv2.bn.weight\n",
      " - model.19.m.0.cv2.bn.bias\n",
      " - model.20.conv.weight\n",
      " - model.20.bn.weight\n",
      " - model.20.bn.bias\n",
      " - model.22.cv1.conv.weight\n",
      " - model.22.cv1.bn.weight\n",
      " - model.22.cv1.bn.bias\n",
      " - model.22.cv2.conv.weight\n",
      " - model.22.cv2.bn.weight\n",
      " - model.22.cv2.bn.bias\n",
      " - model.22.m.0.cv1.conv.weight\n",
      " - model.22.m.0.cv1.bn.weight\n",
      " - model.22.m.0.cv1.bn.bias\n",
      " - model.22.m.0.cv2.conv.weight\n",
      " - model.22.m.0.cv2.bn.weight\n",
      " - model.22.m.0.cv2.bn.bias\n",
      " - model.22.m.0.cv3.conv.weight\n",
      " - model.22.m.0.cv3.bn.weight\n",
      " - model.22.m.0.cv3.bn.bias\n",
      " - model.22.m.0.m.0.cv1.conv.weight\n",
      " - model.22.m.0.m.0.cv1.bn.weight\n",
      " - model.22.m.0.m.0.cv1.bn.bias\n",
      " - model.22.m.0.m.0.cv2.conv.weight\n",
      " - model.22.m.0.m.0.cv2.bn.weight\n",
      " - model.22.m.0.m.0.cv2.bn.bias\n",
      " - model.22.m.0.m.1.cv1.conv.weight\n",
      " - model.22.m.0.m.1.cv1.bn.weight\n",
      " - model.22.m.0.m.1.cv1.bn.bias\n",
      " - model.22.m.0.m.1.cv2.conv.weight\n",
      " - model.22.m.0.m.1.cv2.bn.weight\n",
      " - model.22.m.0.m.1.cv2.bn.bias\n",
      " - model.23.cv2.0.0.conv.weight\n",
      " - model.23.cv2.0.0.bn.weight\n",
      " - model.23.cv2.0.0.bn.bias\n",
      " - model.23.cv2.0.1.conv.weight\n",
      " - model.23.cv2.0.1.bn.weight\n",
      " - model.23.cv2.0.1.bn.bias\n",
      " - model.23.cv2.0.2.weight\n",
      " - model.23.cv2.0.2.bias\n",
      " - model.23.cv2.1.0.conv.weight\n",
      " - model.23.cv2.1.0.bn.weight\n",
      " - model.23.cv2.1.0.bn.bias\n",
      " - model.23.cv2.1.1.conv.weight\n",
      " - model.23.cv2.1.1.bn.weight\n",
      " - model.23.cv2.1.1.bn.bias\n",
      " - model.23.cv2.1.2.weight\n",
      " - model.23.cv2.1.2.bias\n",
      " - model.23.cv2.2.0.conv.weight\n",
      " - model.23.cv2.2.0.bn.weight\n",
      " - model.23.cv2.2.0.bn.bias\n",
      " - model.23.cv2.2.1.conv.weight\n",
      " - model.23.cv2.2.1.bn.weight\n",
      " - model.23.cv2.2.1.bn.bias\n",
      " - model.23.cv2.2.2.weight\n",
      " - model.23.cv2.2.2.bias\n",
      " - model.23.cv3.0.0.0.conv.weight\n",
      " - model.23.cv3.0.0.0.bn.weight\n",
      " - model.23.cv3.0.0.0.bn.bias\n",
      " - model.23.cv3.0.0.1.conv.weight\n",
      " - model.23.cv3.0.0.1.bn.weight\n",
      " - model.23.cv3.0.0.1.bn.bias\n",
      " - model.23.cv3.0.1.0.conv.weight\n",
      " - model.23.cv3.0.1.0.bn.weight\n",
      " - model.23.cv3.0.1.0.bn.bias\n",
      " - model.23.cv3.0.1.1.conv.weight\n",
      " - model.23.cv3.0.1.1.bn.weight\n",
      " - model.23.cv3.0.1.1.bn.bias\n",
      " - model.23.cv3.0.2.weight\n",
      " - model.23.cv3.0.2.bias\n",
      " - model.23.cv3.1.0.0.conv.weight\n",
      " - model.23.cv3.1.0.0.bn.weight\n",
      " - model.23.cv3.1.0.0.bn.bias\n",
      " - model.23.cv3.1.0.1.conv.weight\n",
      " - model.23.cv3.1.0.1.bn.weight\n",
      " - model.23.cv3.1.0.1.bn.bias\n",
      " - model.23.cv3.1.1.0.conv.weight\n",
      " - model.23.cv3.1.1.0.bn.weight\n",
      " - model.23.cv3.1.1.0.bn.bias\n",
      " - model.23.cv3.1.1.1.conv.weight\n",
      " - model.23.cv3.1.1.1.bn.weight\n",
      " - model.23.cv3.1.1.1.bn.bias\n",
      " - model.23.cv3.1.2.weight\n",
      " - model.23.cv3.1.2.bias\n",
      " - model.23.cv3.2.0.0.conv.weight\n",
      " - model.23.cv3.2.0.0.bn.weight\n",
      " - model.23.cv3.2.0.0.bn.bias\n",
      " - model.23.cv3.2.0.1.conv.weight\n",
      " - model.23.cv3.2.0.1.bn.weight\n",
      " - model.23.cv3.2.0.1.bn.bias\n",
      " - model.23.cv3.2.1.0.conv.weight\n",
      " - model.23.cv3.2.1.0.bn.weight\n",
      " - model.23.cv3.2.1.0.bn.bias\n",
      " - model.23.cv3.2.1.1.conv.weight\n",
      " - model.23.cv3.2.1.1.bn.weight\n",
      " - model.23.cv3.2.1.1.bn.bias\n",
      " - model.23.cv3.2.2.weight\n",
      " - model.23.cv3.2.2.bias\n",
      " - model.23.dfl.conv.weight\n"
     ]
    }
   ],
   "source": [
    "# Freeze Backbone (Feature Extraction)\n",
    "for name, param in model.model.named_parameters():\n",
    "    if any(name.startswith(f\"model.{i}.\") for i in range(10)):\n",
    "        param.requires_grad = False\n",
    "    else:\n",
    "        param.requires_grad = True\n",
    "\n",
    "print_frozen_layers(model.model)\n",
    "print_trainable_layers(model.model)"
   ]
  },
  {
   "cell_type": "code",
   "execution_count": 19,
   "id": "345d5ec7-c326-48b9-8a2c-4c7ac996aedb",
   "metadata": {},
   "outputs": [
    {
     "name": "stdout",
     "output_type": "stream",
     "text": [
      "New https://pypi.org/project/ultralytics/8.3.158 available  Update with 'pip install -U ultralytics'\n",
      "Ultralytics 8.3.152  Python-3.11.11 torch-2.5.1+cu121 CUDA:0 (NVIDIA GeForce RTX 4060 Laptop GPU, 8188MiB)\n",
      "\u001b[34m\u001b[1mengine\\trainer: \u001b[0magnostic_nms=False, amp=True, augment=False, auto_augment=randaugment, batch=16, bgr=0.0, box=7.5, cache=False, cfg=None, classes=None, close_mosaic=10, cls=0.5, conf=None, copy_paste=0.0, copy_paste_mode=flip, cos_lr=True, cutmix=0.0, data=./yolo_person_dataset\\dataset.yaml, degrees=0.0, deterministic=True, device=0, dfl=1.5, dnn=False, dropout=0.0, dynamic=False, embed=None, epochs=50, erasing=0.4, exist_ok=False, fliplr=0.5, flipud=0.0, format=torchscript, fraction=1.0, freeze=None, half=False, hsv_h=0.015, hsv_s=0.7, hsv_v=0.4, imgsz=640, int8=False, iou=0.7, keras=False, kobj=1.0, line_width=None, lr0=0.0001, lrf=0.01, mask_ratio=4, max_det=300, mixup=0.0, mode=train, model=yolo11n.pt, momentum=0.9, mosaic=1.0, multi_scale=False, name=person_detect_v2, nbs=64, nms=False, opset=None, optimize=False, optimizer=AdamW, overlap_mask=True, patience=100, perspective=0.0, plots=True, pose=12.0, pretrained=True, profile=False, project=runs/detect, rect=False, resume=False, retina_masks=False, save=True, save_conf=False, save_crop=False, save_dir=runs\\detect\\person_detect_v2, save_frames=False, save_json=False, save_period=-1, save_txt=False, scale=0.5, seed=0, shear=0.0, show=False, show_boxes=True, show_conf=True, show_labels=True, simplify=True, single_cls=False, source=None, split=val, stream_buffer=False, task=detect, time=None, tracker=botsort.yaml, translate=0.1, val=True, verbose=True, vid_stride=1, visualize=False, warmup_bias_lr=0.1, warmup_epochs=3, warmup_momentum=0.8, weight_decay=0.0005, workers=16, workspace=None\n",
      "Overriding model.yaml nc=80 with nc=1\n",
      "\n",
      "                   from  n    params  module                                       arguments                     \n",
      "  0                  -1  1       464  ultralytics.nn.modules.conv.Conv             [3, 16, 3, 2]                 \n",
      "  1                  -1  1      4672  ultralytics.nn.modules.conv.Conv             [16, 32, 3, 2]                \n",
      "  2                  -1  1      6640  ultralytics.nn.modules.block.C3k2            [32, 64, 1, False, 0.25]      \n",
      "  3                  -1  1     36992  ultralytics.nn.modules.conv.Conv             [64, 64, 3, 2]                \n",
      "  4                  -1  1     26080  ultralytics.nn.modules.block.C3k2            [64, 128, 1, False, 0.25]     \n",
      "  5                  -1  1    147712  ultralytics.nn.modules.conv.Conv             [128, 128, 3, 2]              \n",
      "  6                  -1  1     87040  ultralytics.nn.modules.block.C3k2            [128, 128, 1, True]           \n",
      "  7                  -1  1    295424  ultralytics.nn.modules.conv.Conv             [128, 256, 3, 2]              \n",
      "  8                  -1  1    346112  ultralytics.nn.modules.block.C3k2            [256, 256, 1, True]           \n",
      "  9                  -1  1    164608  ultralytics.nn.modules.block.SPPF            [256, 256, 5]                 \n",
      " 10                  -1  1    249728  ultralytics.nn.modules.block.C2PSA           [256, 256, 1]                 \n",
      " 11                  -1  1         0  torch.nn.modules.upsampling.Upsample         [None, 2, 'nearest']          \n",
      " 12             [-1, 6]  1         0  ultralytics.nn.modules.conv.Concat           [1]                           \n",
      " 13                  -1  1    111296  ultralytics.nn.modules.block.C3k2            [384, 128, 1, False]          \n",
      " 14                  -1  1         0  torch.nn.modules.upsampling.Upsample         [None, 2, 'nearest']          \n",
      " 15             [-1, 4]  1         0  ultralytics.nn.modules.conv.Concat           [1]                           \n",
      " 16                  -1  1     32096  ultralytics.nn.modules.block.C3k2            [256, 64, 1, False]           \n",
      " 17                  -1  1     36992  ultralytics.nn.modules.conv.Conv             [64, 64, 3, 2]                \n",
      " 18            [-1, 13]  1         0  ultralytics.nn.modules.conv.Concat           [1]                           \n",
      " 19                  -1  1     86720  ultralytics.nn.modules.block.C3k2            [192, 128, 1, False]          \n",
      " 20                  -1  1    147712  ultralytics.nn.modules.conv.Conv             [128, 128, 3, 2]              \n",
      " 21            [-1, 10]  1         0  ultralytics.nn.modules.conv.Concat           [1]                           \n",
      " 22                  -1  1    378880  ultralytics.nn.modules.block.C3k2            [384, 256, 1, True]           \n",
      " 23        [16, 19, 22]  1    430867  ultralytics.nn.modules.head.Detect           [1, [64, 128, 256]]           \n",
      "YOLO11n summary: 181 layers, 2,590,035 parameters, 2,590,019 gradients, 6.4 GFLOPs\n",
      "\n",
      "Transferred 448/499 items from pretrained weights\n",
      "\u001b[34m\u001b[1mTensorBoard: \u001b[0mStart with 'tensorboard --logdir runs\\detect\\person_detect_v2', view at http://localhost:6006/\n",
      "Freezing layer 'model.23.dfl.conv.weight'\n",
      "\u001b[34m\u001b[1mAMP: \u001b[0mrunning Automatic Mixed Precision (AMP) checks...\n",
      "\u001b[34m\u001b[1mAMP: \u001b[0mchecks passed \n",
      "\u001b[34m\u001b[1mtrain: \u001b[0mFast image access  (ping: 0.10.1 ms, read: 383.8217.5 MB/s, size: 148.1 KB)\n"
     ]
    },
    {
     "name": "stderr",
     "output_type": "stream",
     "text": [
      "\u001b[34m\u001b[1mtrain: \u001b[0mScanning Z:\\BEKA\\2025\\AI\\Bootcamp\\Source\\Advanced CV\\Project 2\\Train\\yolo_person_dataset\\train\\labels\\val.cache.\u001b[0m\n"
     ]
    },
    {
     "name": "stdout",
     "output_type": "stream",
     "text": [
      "\u001b[34m\u001b[1malbumentations: \u001b[0mBlur(p=0.01, blur_limit=(3, 7)), MedianBlur(p=0.01, blur_limit=(3, 7)), ToGray(p=0.01, method='weighted_average', num_output_channels=3), CLAHE(p=0.01, clip_limit=(1.0, 4.0), tile_grid_size=(8, 8))\n",
      "\u001b[34m\u001b[1mval: \u001b[0mFast image access  (ping: 0.10.1 ms, read: 165.6138.9 MB/s, size: 163.0 KB)\n"
     ]
    },
    {
     "name": "stderr",
     "output_type": "stream",
     "text": [
      "\u001b[34m\u001b[1mval: \u001b[0mScanning Z:\\BEKA\\2025\\AI\\Bootcamp\\Source\\Advanced CV\\Project 2\\Train\\yolo_person_dataset\\val\\labels\\val.cache... 5\u001b[0m\n"
     ]
    },
    {
     "name": "stdout",
     "output_type": "stream",
     "text": [
      "Plotting labels to runs\\detect\\person_detect_v2\\labels.jpg... \n",
      "\u001b[34m\u001b[1moptimizer:\u001b[0m AdamW(lr=0.0001, momentum=0.9) with parameter groups 81 weight(decay=0.0), 88 weight(decay=0.0005), 87 bias(decay=0.0)\n",
      "\u001b[34m\u001b[1mTensorBoard: \u001b[0mmodel graph visualization added \n",
      "Image sizes 640 train, 640 val\n",
      "Using 16 dataloader workers\n",
      "Logging results to \u001b[1mruns\\detect\\person_detect_v2\u001b[0m\n",
      "Starting training for 50 epochs...\n",
      "\n",
      "      Epoch    GPU_mem   box_loss   cls_loss   dfl_loss  Instances       Size\n"
     ]
    },
    {
     "name": "stderr",
     "output_type": "stream",
     "text": [
      "       1/50      2.72G      1.316      1.508      1.276         63        640: 100%|██████████| 188/188 [00:31<00:00,  \n",
      "                 Class     Images  Instances      Box(P          R      mAP50  mAP50-95): 100%|██████████| 16/16 [00:02"
     ]
    },
    {
     "name": "stdout",
     "output_type": "stream",
     "text": [
      "                   all        500       2041      0.658       0.52      0.582      0.362\n"
     ]
    },
    {
     "name": "stderr",
     "output_type": "stream",
     "text": [
      "\n"
     ]
    },
    {
     "name": "stdout",
     "output_type": "stream",
     "text": [
      "\n",
      "      Epoch    GPU_mem   box_loss   cls_loss   dfl_loss  Instances       Size\n"
     ]
    },
    {
     "name": "stderr",
     "output_type": "stream",
     "text": [
      "       2/50      2.94G      1.248      1.235      1.234         62        640: 100%|██████████| 188/188 [00:28<00:00,  \n",
      "                 Class     Images  Instances      Box(P          R      mAP50  mAP50-95): 100%|██████████| 16/16 [00:02"
     ]
    },
    {
     "name": "stdout",
     "output_type": "stream",
     "text": [
      "                   all        500       2041      0.779      0.559      0.667      0.431\n"
     ]
    },
    {
     "name": "stderr",
     "output_type": "stream",
     "text": [
      "\n"
     ]
    },
    {
     "name": "stdout",
     "output_type": "stream",
     "text": [
      "\n",
      "      Epoch    GPU_mem   box_loss   cls_loss   dfl_loss  Instances       Size\n"
     ]
    },
    {
     "name": "stderr",
     "output_type": "stream",
     "text": [
      "       3/50      2.95G      1.199      1.137      1.207         95        640: 100%|██████████| 188/188 [00:28<00:00,  \n",
      "                 Class     Images  Instances      Box(P          R      mAP50  mAP50-95): 100%|██████████| 16/16 [00:02"
     ]
    },
    {
     "name": "stdout",
     "output_type": "stream",
     "text": [
      "                   all        500       2041      0.761      0.628      0.714      0.473\n"
     ]
    },
    {
     "name": "stderr",
     "output_type": "stream",
     "text": [
      "\n"
     ]
    },
    {
     "name": "stdout",
     "output_type": "stream",
     "text": [
      "\n",
      "      Epoch    GPU_mem   box_loss   cls_loss   dfl_loss  Instances       Size\n"
     ]
    },
    {
     "name": "stderr",
     "output_type": "stream",
     "text": [
      "       4/50      2.95G      1.175      1.096      1.188         70        640: 100%|██████████| 188/188 [00:27<00:00,  \n",
      "                 Class     Images  Instances      Box(P          R      mAP50  mAP50-95): 100%|██████████| 16/16 [00:02"
     ]
    },
    {
     "name": "stdout",
     "output_type": "stream",
     "text": [
      "                   all        500       2041      0.786      0.619      0.725      0.481\n"
     ]
    },
    {
     "name": "stderr",
     "output_type": "stream",
     "text": [
      "\n"
     ]
    },
    {
     "name": "stdout",
     "output_type": "stream",
     "text": [
      "\n",
      "      Epoch    GPU_mem   box_loss   cls_loss   dfl_loss  Instances       Size\n"
     ]
    },
    {
     "name": "stderr",
     "output_type": "stream",
     "text": [
      "       5/50      2.95G      1.162      1.055      1.179         37        640: 100%|██████████| 188/188 [00:28<00:00,  \n",
      "                 Class     Images  Instances      Box(P          R      mAP50  mAP50-95): 100%|██████████| 16/16 [00:02"
     ]
    },
    {
     "name": "stdout",
     "output_type": "stream",
     "text": [
      "                   all        500       2041      0.757      0.623       0.72      0.469\n"
     ]
    },
    {
     "name": "stderr",
     "output_type": "stream",
     "text": [
      "\n"
     ]
    },
    {
     "name": "stdout",
     "output_type": "stream",
     "text": [
      "\n",
      "      Epoch    GPU_mem   box_loss   cls_loss   dfl_loss  Instances       Size\n"
     ]
    },
    {
     "name": "stderr",
     "output_type": "stream",
     "text": [
      "       6/50      2.95G      1.151      1.048      1.181         29        640: 100%|██████████| 188/188 [00:28<00:00,  \n",
      "                 Class     Images  Instances      Box(P          R      mAP50  mAP50-95): 100%|██████████| 16/16 [00:02"
     ]
    },
    {
     "name": "stdout",
     "output_type": "stream",
     "text": [
      "                   all        500       2041      0.758      0.631      0.719      0.477\n"
     ]
    },
    {
     "name": "stderr",
     "output_type": "stream",
     "text": [
      "\n"
     ]
    },
    {
     "name": "stdout",
     "output_type": "stream",
     "text": [
      "\n",
      "      Epoch    GPU_mem   box_loss   cls_loss   dfl_loss  Instances       Size\n"
     ]
    },
    {
     "name": "stderr",
     "output_type": "stream",
     "text": [
      "       7/50      2.95G      1.139      1.021      1.163         44        640: 100%|██████████| 188/188 [00:28<00:00,  \n",
      "                 Class     Images  Instances      Box(P          R      mAP50  mAP50-95): 100%|██████████| 16/16 [00:02"
     ]
    },
    {
     "name": "stdout",
     "output_type": "stream",
     "text": [
      "                   all        500       2041      0.729      0.633      0.715      0.474\n"
     ]
    },
    {
     "name": "stderr",
     "output_type": "stream",
     "text": [
      "\n"
     ]
    },
    {
     "name": "stdout",
     "output_type": "stream",
     "text": [
      "\n",
      "      Epoch    GPU_mem   box_loss   cls_loss   dfl_loss  Instances       Size\n"
     ]
    },
    {
     "name": "stderr",
     "output_type": "stream",
     "text": [
      "       8/50      2.95G      1.127     0.9968      1.162         75        640: 100%|██████████| 188/188 [00:27<00:00,  \n",
      "                 Class     Images  Instances      Box(P          R      mAP50  mAP50-95): 100%|██████████| 16/16 [00:02"
     ]
    },
    {
     "name": "stdout",
     "output_type": "stream",
     "text": [
      "                   all        500       2041      0.762      0.638      0.726      0.482\n"
     ]
    },
    {
     "name": "stderr",
     "output_type": "stream",
     "text": [
      "\n"
     ]
    },
    {
     "name": "stdout",
     "output_type": "stream",
     "text": [
      "\n",
      "      Epoch    GPU_mem   box_loss   cls_loss   dfl_loss  Instances       Size\n"
     ]
    },
    {
     "name": "stderr",
     "output_type": "stream",
     "text": [
      "       9/50      2.95G      1.141      1.002      1.162         68        640: 100%|██████████| 188/188 [00:27<00:00,  \n",
      "                 Class     Images  Instances      Box(P          R      mAP50  mAP50-95): 100%|██████████| 16/16 [00:02"
     ]
    },
    {
     "name": "stdout",
     "output_type": "stream",
     "text": [
      "                   all        500       2041      0.782      0.624      0.729      0.484\n"
     ]
    },
    {
     "name": "stderr",
     "output_type": "stream",
     "text": [
      "\n"
     ]
    },
    {
     "name": "stdout",
     "output_type": "stream",
     "text": [
      "\n",
      "      Epoch    GPU_mem   box_loss   cls_loss   dfl_loss  Instances       Size\n"
     ]
    },
    {
     "name": "stderr",
     "output_type": "stream",
     "text": [
      "      10/50      2.95G      1.105     0.9745      1.152         59        640: 100%|██████████| 188/188 [00:28<00:00,  \n",
      "                 Class     Images  Instances      Box(P          R      mAP50  mAP50-95): 100%|██████████| 16/16 [00:02"
     ]
    },
    {
     "name": "stdout",
     "output_type": "stream",
     "text": [
      "                   all        500       2041      0.756      0.646      0.727      0.477\n"
     ]
    },
    {
     "name": "stderr",
     "output_type": "stream",
     "text": [
      "\n"
     ]
    },
    {
     "name": "stdout",
     "output_type": "stream",
     "text": [
      "\n",
      "      Epoch    GPU_mem   box_loss   cls_loss   dfl_loss  Instances       Size\n"
     ]
    },
    {
     "name": "stderr",
     "output_type": "stream",
     "text": [
      "      11/50      2.95G       1.12     0.9772      1.152         52        640: 100%|██████████| 188/188 [00:27<00:00,  \n",
      "                 Class     Images  Instances      Box(P          R      mAP50  mAP50-95): 100%|██████████| 16/16 [00:02"
     ]
    },
    {
     "name": "stdout",
     "output_type": "stream",
     "text": [
      "                   all        500       2041      0.758      0.649      0.733      0.488\n"
     ]
    },
    {
     "name": "stderr",
     "output_type": "stream",
     "text": [
      "\n"
     ]
    },
    {
     "name": "stdout",
     "output_type": "stream",
     "text": [
      "\n",
      "      Epoch    GPU_mem   box_loss   cls_loss   dfl_loss  Instances       Size\n"
     ]
    },
    {
     "name": "stderr",
     "output_type": "stream",
     "text": [
      "      12/50      2.95G      1.123      0.962      1.153         72        640: 100%|██████████| 188/188 [00:27<00:00,  \n",
      "                 Class     Images  Instances      Box(P          R      mAP50  mAP50-95): 100%|██████████| 16/16 [00:02"
     ]
    },
    {
     "name": "stdout",
     "output_type": "stream",
     "text": [
      "                   all        500       2041      0.752      0.646       0.73      0.488\n"
     ]
    },
    {
     "name": "stderr",
     "output_type": "stream",
     "text": [
      "\n"
     ]
    },
    {
     "name": "stdout",
     "output_type": "stream",
     "text": [
      "\n",
      "      Epoch    GPU_mem   box_loss   cls_loss   dfl_loss  Instances       Size\n"
     ]
    },
    {
     "name": "stderr",
     "output_type": "stream",
     "text": [
      "      13/50      2.95G      1.092     0.9443       1.15         64        640: 100%|██████████| 188/188 [00:28<00:00,  \n",
      "                 Class     Images  Instances      Box(P          R      mAP50  mAP50-95): 100%|██████████| 16/16 [00:02"
     ]
    },
    {
     "name": "stdout",
     "output_type": "stream",
     "text": [
      "                   all        500       2041      0.747       0.63      0.714      0.468\n"
     ]
    },
    {
     "name": "stderr",
     "output_type": "stream",
     "text": [
      "\n"
     ]
    },
    {
     "name": "stdout",
     "output_type": "stream",
     "text": [
      "\n",
      "      Epoch    GPU_mem   box_loss   cls_loss   dfl_loss  Instances       Size\n"
     ]
    },
    {
     "name": "stderr",
     "output_type": "stream",
     "text": [
      "      14/50      2.95G      1.104     0.9512      1.145         63        640: 100%|██████████| 188/188 [00:27<00:00,  \n",
      "                 Class     Images  Instances      Box(P          R      mAP50  mAP50-95): 100%|██████████| 16/16 [00:02"
     ]
    },
    {
     "name": "stdout",
     "output_type": "stream",
     "text": [
      "                   all        500       2041      0.737      0.654      0.724      0.479\n"
     ]
    },
    {
     "name": "stderr",
     "output_type": "stream",
     "text": [
      "\n"
     ]
    },
    {
     "name": "stdout",
     "output_type": "stream",
     "text": [
      "\n",
      "      Epoch    GPU_mem   box_loss   cls_loss   dfl_loss  Instances       Size\n"
     ]
    },
    {
     "name": "stderr",
     "output_type": "stream",
     "text": [
      "      15/50      2.95G      1.091     0.9313      1.142         61        640: 100%|██████████| 188/188 [00:27<00:00,  \n",
      "                 Class     Images  Instances      Box(P          R      mAP50  mAP50-95): 100%|██████████| 16/16 [00:02"
     ]
    },
    {
     "name": "stdout",
     "output_type": "stream",
     "text": [
      "                   all        500       2041      0.718      0.661      0.724      0.474\n"
     ]
    },
    {
     "name": "stderr",
     "output_type": "stream",
     "text": [
      "\n"
     ]
    },
    {
     "name": "stdout",
     "output_type": "stream",
     "text": [
      "\n",
      "      Epoch    GPU_mem   box_loss   cls_loss   dfl_loss  Instances       Size\n"
     ]
    },
    {
     "name": "stderr",
     "output_type": "stream",
     "text": [
      "      16/50      2.95G      1.095     0.9306       1.14         52        640: 100%|██████████| 188/188 [00:27<00:00,  \n",
      "                 Class     Images  Instances      Box(P          R      mAP50  mAP50-95): 100%|██████████| 16/16 [00:02"
     ]
    },
    {
     "name": "stdout",
     "output_type": "stream",
     "text": [
      "                   all        500       2041       0.79      0.639      0.732      0.484\n"
     ]
    },
    {
     "name": "stderr",
     "output_type": "stream",
     "text": [
      "\n"
     ]
    },
    {
     "name": "stdout",
     "output_type": "stream",
     "text": [
      "\n",
      "      Epoch    GPU_mem   box_loss   cls_loss   dfl_loss  Instances       Size\n"
     ]
    },
    {
     "name": "stderr",
     "output_type": "stream",
     "text": [
      "      17/50      2.95G      1.081     0.9202      1.134         69        640: 100%|██████████| 188/188 [00:28<00:00,  \n",
      "                 Class     Images  Instances      Box(P          R      mAP50  mAP50-95): 100%|██████████| 16/16 [00:02"
     ]
    },
    {
     "name": "stdout",
     "output_type": "stream",
     "text": [
      "                   all        500       2041      0.758      0.662      0.738      0.487\n"
     ]
    },
    {
     "name": "stderr",
     "output_type": "stream",
     "text": [
      "\n"
     ]
    },
    {
     "name": "stdout",
     "output_type": "stream",
     "text": [
      "\n",
      "      Epoch    GPU_mem   box_loss   cls_loss   dfl_loss  Instances       Size\n"
     ]
    },
    {
     "name": "stderr",
     "output_type": "stream",
     "text": [
      "      18/50      2.95G      1.068     0.8998      1.125         75        640: 100%|██████████| 188/188 [00:27<00:00,  \n",
      "                 Class     Images  Instances      Box(P          R      mAP50  mAP50-95): 100%|██████████| 16/16 [00:02"
     ]
    },
    {
     "name": "stdout",
     "output_type": "stream",
     "text": [
      "                   all        500       2041       0.77      0.638      0.725      0.482\n"
     ]
    },
    {
     "name": "stderr",
     "output_type": "stream",
     "text": [
      "\n"
     ]
    },
    {
     "name": "stdout",
     "output_type": "stream",
     "text": [
      "\n",
      "      Epoch    GPU_mem   box_loss   cls_loss   dfl_loss  Instances       Size\n"
     ]
    },
    {
     "name": "stderr",
     "output_type": "stream",
     "text": [
      "      19/50      2.95G      1.071     0.9016      1.126         52        640: 100%|██████████| 188/188 [00:27<00:00,  \n",
      "                 Class     Images  Instances      Box(P          R      mAP50  mAP50-95): 100%|██████████| 16/16 [00:02"
     ]
    },
    {
     "name": "stdout",
     "output_type": "stream",
     "text": [
      "                   all        500       2041      0.768      0.641       0.73      0.486\n"
     ]
    },
    {
     "name": "stderr",
     "output_type": "stream",
     "text": [
      "\n"
     ]
    },
    {
     "name": "stdout",
     "output_type": "stream",
     "text": [
      "\n",
      "      Epoch    GPU_mem   box_loss   cls_loss   dfl_loss  Instances       Size\n"
     ]
    },
    {
     "name": "stderr",
     "output_type": "stream",
     "text": [
      "      20/50      2.95G      1.073     0.8953      1.125         41        640: 100%|██████████| 188/188 [00:27<00:00,  \n",
      "                 Class     Images  Instances      Box(P          R      mAP50  mAP50-95): 100%|██████████| 16/16 [00:02"
     ]
    },
    {
     "name": "stdout",
     "output_type": "stream",
     "text": [
      "                   all        500       2041      0.733      0.666      0.733      0.488\n"
     ]
    },
    {
     "name": "stderr",
     "output_type": "stream",
     "text": [
      "\n"
     ]
    },
    {
     "name": "stdout",
     "output_type": "stream",
     "text": [
      "\n",
      "      Epoch    GPU_mem   box_loss   cls_loss   dfl_loss  Instances       Size\n"
     ]
    },
    {
     "name": "stderr",
     "output_type": "stream",
     "text": [
      "      21/50      2.95G      1.056     0.8949      1.125         76        640: 100%|██████████| 188/188 [00:27<00:00,  \n",
      "                 Class     Images  Instances      Box(P          R      mAP50  mAP50-95): 100%|██████████| 16/16 [00:02"
     ]
    },
    {
     "name": "stdout",
     "output_type": "stream",
     "text": [
      "                   all        500       2041      0.758       0.64      0.723      0.482\n"
     ]
    },
    {
     "name": "stderr",
     "output_type": "stream",
     "text": [
      "\n"
     ]
    },
    {
     "name": "stdout",
     "output_type": "stream",
     "text": [
      "\n",
      "      Epoch    GPU_mem   box_loss   cls_loss   dfl_loss  Instances       Size\n"
     ]
    },
    {
     "name": "stderr",
     "output_type": "stream",
     "text": [
      "      22/50      2.95G      1.059     0.8899      1.119         71        640: 100%|██████████| 188/188 [00:27<00:00,  \n",
      "                 Class     Images  Instances      Box(P          R      mAP50  mAP50-95): 100%|██████████| 16/16 [00:02"
     ]
    },
    {
     "name": "stdout",
     "output_type": "stream",
     "text": [
      "                   all        500       2041      0.747      0.645      0.726       0.48\n"
     ]
    },
    {
     "name": "stderr",
     "output_type": "stream",
     "text": [
      "\n"
     ]
    },
    {
     "name": "stdout",
     "output_type": "stream",
     "text": [
      "\n",
      "      Epoch    GPU_mem   box_loss   cls_loss   dfl_loss  Instances       Size\n"
     ]
    },
    {
     "name": "stderr",
     "output_type": "stream",
     "text": [
      "      23/50      2.95G      1.052     0.8785      1.122         42        640: 100%|██████████| 188/188 [00:27<00:00,  \n",
      "                 Class     Images  Instances      Box(P          R      mAP50  mAP50-95): 100%|██████████| 16/16 [00:02"
     ]
    },
    {
     "name": "stdout",
     "output_type": "stream",
     "text": [
      "                   all        500       2041       0.79      0.627      0.731      0.486\n"
     ]
    },
    {
     "name": "stderr",
     "output_type": "stream",
     "text": [
      "\n"
     ]
    },
    {
     "name": "stdout",
     "output_type": "stream",
     "text": [
      "\n",
      "      Epoch    GPU_mem   box_loss   cls_loss   dfl_loss  Instances       Size\n"
     ]
    },
    {
     "name": "stderr",
     "output_type": "stream",
     "text": [
      "      24/50      2.95G      1.042     0.8601      1.109        111        640: 100%|██████████| 188/188 [00:27<00:00,  \n",
      "                 Class     Images  Instances      Box(P          R      mAP50  mAP50-95): 100%|██████████| 16/16 [00:02"
     ]
    },
    {
     "name": "stdout",
     "output_type": "stream",
     "text": [
      "                   all        500       2041      0.769      0.646      0.731      0.485\n"
     ]
    },
    {
     "name": "stderr",
     "output_type": "stream",
     "text": [
      "\n"
     ]
    },
    {
     "name": "stdout",
     "output_type": "stream",
     "text": [
      "\n",
      "      Epoch    GPU_mem   box_loss   cls_loss   dfl_loss  Instances       Size\n"
     ]
    },
    {
     "name": "stderr",
     "output_type": "stream",
     "text": [
      "      25/50      2.95G      1.044     0.8682      1.113         45        640: 100%|██████████| 188/188 [00:27<00:00,  \n",
      "                 Class     Images  Instances      Box(P          R      mAP50  mAP50-95): 100%|██████████| 16/16 [00:02"
     ]
    },
    {
     "name": "stdout",
     "output_type": "stream",
     "text": [
      "                   all        500       2041      0.782      0.635      0.731      0.484\n"
     ]
    },
    {
     "name": "stderr",
     "output_type": "stream",
     "text": [
      "\n"
     ]
    },
    {
     "name": "stdout",
     "output_type": "stream",
     "text": [
      "\n",
      "      Epoch    GPU_mem   box_loss   cls_loss   dfl_loss  Instances       Size\n"
     ]
    },
    {
     "name": "stderr",
     "output_type": "stream",
     "text": [
      "      26/50      2.95G      1.052     0.8684      1.112        105        640: 100%|██████████| 188/188 [00:28<00:00,  \n",
      "                 Class     Images  Instances      Box(P          R      mAP50  mAP50-95): 100%|██████████| 16/16 [00:02"
     ]
    },
    {
     "name": "stdout",
     "output_type": "stream",
     "text": [
      "                   all        500       2041      0.762      0.652      0.735      0.484\n"
     ]
    },
    {
     "name": "stderr",
     "output_type": "stream",
     "text": [
      "\n"
     ]
    },
    {
     "name": "stdout",
     "output_type": "stream",
     "text": [
      "\n",
      "      Epoch    GPU_mem   box_loss   cls_loss   dfl_loss  Instances       Size\n"
     ]
    },
    {
     "name": "stderr",
     "output_type": "stream",
     "text": [
      "      27/50      2.95G      1.038     0.8608      1.106         72        640: 100%|██████████| 188/188 [00:27<00:00,  \n",
      "                 Class     Images  Instances      Box(P          R      mAP50  mAP50-95): 100%|██████████| 16/16 [00:02"
     ]
    },
    {
     "name": "stdout",
     "output_type": "stream",
     "text": [
      "                   all        500       2041      0.792      0.635      0.739      0.489\n"
     ]
    },
    {
     "name": "stderr",
     "output_type": "stream",
     "text": [
      "\n"
     ]
    },
    {
     "name": "stdout",
     "output_type": "stream",
     "text": [
      "\n",
      "      Epoch    GPU_mem   box_loss   cls_loss   dfl_loss  Instances       Size\n"
     ]
    },
    {
     "name": "stderr",
     "output_type": "stream",
     "text": [
      "      28/50      2.95G      1.033     0.8427      1.104         41        640: 100%|██████████| 188/188 [00:28<00:00,  \n",
      "                 Class     Images  Instances      Box(P          R      mAP50  mAP50-95): 100%|██████████| 16/16 [00:02"
     ]
    },
    {
     "name": "stdout",
     "output_type": "stream",
     "text": [
      "                   all        500       2041      0.772      0.646      0.735      0.489\n"
     ]
    },
    {
     "name": "stderr",
     "output_type": "stream",
     "text": [
      "\n"
     ]
    },
    {
     "name": "stdout",
     "output_type": "stream",
     "text": [
      "\n",
      "      Epoch    GPU_mem   box_loss   cls_loss   dfl_loss  Instances       Size\n"
     ]
    },
    {
     "name": "stderr",
     "output_type": "stream",
     "text": [
      "      29/50      2.95G      1.027     0.8403      1.103         56        640: 100%|██████████| 188/188 [00:28<00:00,  \n",
      "                 Class     Images  Instances      Box(P          R      mAP50  mAP50-95): 100%|██████████| 16/16 [00:02"
     ]
    },
    {
     "name": "stdout",
     "output_type": "stream",
     "text": [
      "                   all        500       2041      0.758      0.656      0.738      0.485\n"
     ]
    },
    {
     "name": "stderr",
     "output_type": "stream",
     "text": [
      "\n"
     ]
    },
    {
     "name": "stdout",
     "output_type": "stream",
     "text": [
      "\n",
      "      Epoch    GPU_mem   box_loss   cls_loss   dfl_loss  Instances       Size\n"
     ]
    },
    {
     "name": "stderr",
     "output_type": "stream",
     "text": [
      "      30/50      2.95G      1.029     0.8375      1.097         68        640: 100%|██████████| 188/188 [00:28<00:00,  \n",
      "                 Class     Images  Instances      Box(P          R      mAP50  mAP50-95): 100%|██████████| 16/16 [00:02"
     ]
    },
    {
     "name": "stdout",
     "output_type": "stream",
     "text": [
      "                   all        500       2041      0.766      0.657      0.737       0.49\n"
     ]
    },
    {
     "name": "stderr",
     "output_type": "stream",
     "text": [
      "\n"
     ]
    },
    {
     "name": "stdout",
     "output_type": "stream",
     "text": [
      "\n",
      "      Epoch    GPU_mem   box_loss   cls_loss   dfl_loss  Instances       Size\n"
     ]
    },
    {
     "name": "stderr",
     "output_type": "stream",
     "text": [
      "      31/50      2.95G       1.02     0.8303      1.097         66        640: 100%|██████████| 188/188 [00:28<00:00,  \n",
      "                 Class     Images  Instances      Box(P          R      mAP50  mAP50-95): 100%|██████████| 16/16 [00:02"
     ]
    },
    {
     "name": "stdout",
     "output_type": "stream",
     "text": [
      "                   all        500       2041      0.775      0.644      0.732      0.488\n"
     ]
    },
    {
     "name": "stderr",
     "output_type": "stream",
     "text": [
      "\n"
     ]
    },
    {
     "name": "stdout",
     "output_type": "stream",
     "text": [
      "\n",
      "      Epoch    GPU_mem   box_loss   cls_loss   dfl_loss  Instances       Size\n"
     ]
    },
    {
     "name": "stderr",
     "output_type": "stream",
     "text": [
      "      32/50      2.95G      1.015     0.8354      1.096         34        640: 100%|██████████| 188/188 [00:27<00:00,  \n",
      "                 Class     Images  Instances      Box(P          R      mAP50  mAP50-95): 100%|██████████| 16/16 [00:02"
     ]
    },
    {
     "name": "stdout",
     "output_type": "stream",
     "text": [
      "                   all        500       2041      0.773      0.651      0.737      0.489\n"
     ]
    },
    {
     "name": "stderr",
     "output_type": "stream",
     "text": [
      "\n"
     ]
    },
    {
     "name": "stdout",
     "output_type": "stream",
     "text": [
      "\n",
      "      Epoch    GPU_mem   box_loss   cls_loss   dfl_loss  Instances       Size\n"
     ]
    },
    {
     "name": "stderr",
     "output_type": "stream",
     "text": [
      "      33/50      2.95G     0.9993     0.8133      1.093         55        640: 100%|██████████| 188/188 [00:28<00:00,  \n",
      "                 Class     Images  Instances      Box(P          R      mAP50  mAP50-95): 100%|██████████| 16/16 [00:02"
     ]
    },
    {
     "name": "stdout",
     "output_type": "stream",
     "text": [
      "                   all        500       2041      0.753      0.659      0.734      0.488\n"
     ]
    },
    {
     "name": "stderr",
     "output_type": "stream",
     "text": [
      "\n"
     ]
    },
    {
     "name": "stdout",
     "output_type": "stream",
     "text": [
      "\n",
      "      Epoch    GPU_mem   box_loss   cls_loss   dfl_loss  Instances       Size\n"
     ]
    },
    {
     "name": "stderr",
     "output_type": "stream",
     "text": [
      "      34/50      2.95G      1.012     0.8215      1.091         62        640: 100%|██████████| 188/188 [00:27<00:00,  \n",
      "                 Class     Images  Instances      Box(P          R      mAP50  mAP50-95): 100%|██████████| 16/16 [00:02"
     ]
    },
    {
     "name": "stdout",
     "output_type": "stream",
     "text": [
      "                   all        500       2041      0.793      0.639      0.737      0.491\n"
     ]
    },
    {
     "name": "stderr",
     "output_type": "stream",
     "text": [
      "\n"
     ]
    },
    {
     "name": "stdout",
     "output_type": "stream",
     "text": [
      "\n",
      "      Epoch    GPU_mem   box_loss   cls_loss   dfl_loss  Instances       Size\n"
     ]
    },
    {
     "name": "stderr",
     "output_type": "stream",
     "text": [
      "      35/50      2.95G      1.011     0.8131      1.096         44        640: 100%|██████████| 188/188 [00:27<00:00,  \n",
      "                 Class     Images  Instances      Box(P          R      mAP50  mAP50-95): 100%|██████████| 16/16 [00:02"
     ]
    },
    {
     "name": "stdout",
     "output_type": "stream",
     "text": [
      "                   all        500       2041      0.785      0.641      0.735      0.488\n"
     ]
    },
    {
     "name": "stderr",
     "output_type": "stream",
     "text": [
      "\n"
     ]
    },
    {
     "name": "stdout",
     "output_type": "stream",
     "text": [
      "\n",
      "      Epoch    GPU_mem   box_loss   cls_loss   dfl_loss  Instances       Size\n"
     ]
    },
    {
     "name": "stderr",
     "output_type": "stream",
     "text": [
      "      36/50      2.95G      1.011     0.8161      1.094         49        640: 100%|██████████| 188/188 [00:27<00:00,  \n",
      "                 Class     Images  Instances      Box(P          R      mAP50  mAP50-95): 100%|██████████| 16/16 [00:02"
     ]
    },
    {
     "name": "stdout",
     "output_type": "stream",
     "text": [
      "                   all        500       2041      0.779       0.65      0.742       0.49\n"
     ]
    },
    {
     "name": "stderr",
     "output_type": "stream",
     "text": [
      "\n"
     ]
    },
    {
     "name": "stdout",
     "output_type": "stream",
     "text": [
      "\n",
      "      Epoch    GPU_mem   box_loss   cls_loss   dfl_loss  Instances       Size\n"
     ]
    },
    {
     "name": "stderr",
     "output_type": "stream",
     "text": [
      "      37/50      2.95G      1.009     0.8183      1.096         52        640: 100%|██████████| 188/188 [00:27<00:00,  \n",
      "                 Class     Images  Instances      Box(P          R      mAP50  mAP50-95): 100%|██████████| 16/16 [00:02"
     ]
    },
    {
     "name": "stdout",
     "output_type": "stream",
     "text": [
      "                   all        500       2041      0.779      0.641      0.736      0.488\n"
     ]
    },
    {
     "name": "stderr",
     "output_type": "stream",
     "text": [
      "\n"
     ]
    },
    {
     "name": "stdout",
     "output_type": "stream",
     "text": [
      "\n",
      "      Epoch    GPU_mem   box_loss   cls_loss   dfl_loss  Instances       Size\n"
     ]
    },
    {
     "name": "stderr",
     "output_type": "stream",
     "text": [
      "      38/50      2.95G      1.005     0.8091      1.086         49        640: 100%|██████████| 188/188 [00:27<00:00,  \n",
      "                 Class     Images  Instances      Box(P          R      mAP50  mAP50-95): 100%|██████████| 16/16 [00:02"
     ]
    },
    {
     "name": "stdout",
     "output_type": "stream",
     "text": [
      "                   all        500       2041      0.782      0.641      0.737      0.491\n"
     ]
    },
    {
     "name": "stderr",
     "output_type": "stream",
     "text": [
      "\n"
     ]
    },
    {
     "name": "stdout",
     "output_type": "stream",
     "text": [
      "\n",
      "      Epoch    GPU_mem   box_loss   cls_loss   dfl_loss  Instances       Size\n"
     ]
    },
    {
     "name": "stderr",
     "output_type": "stream",
     "text": [
      "      39/50      2.95G     0.9979     0.8041       1.09         54        640: 100%|██████████| 188/188 [00:27<00:00,  \n",
      "                 Class     Images  Instances      Box(P          R      mAP50  mAP50-95): 100%|██████████| 16/16 [00:02"
     ]
    },
    {
     "name": "stdout",
     "output_type": "stream",
     "text": [
      "                   all        500       2041      0.804      0.637       0.74       0.49\n"
     ]
    },
    {
     "name": "stderr",
     "output_type": "stream",
     "text": [
      "\n"
     ]
    },
    {
     "name": "stdout",
     "output_type": "stream",
     "text": [
      "\n",
      "      Epoch    GPU_mem   box_loss   cls_loss   dfl_loss  Instances       Size\n"
     ]
    },
    {
     "name": "stderr",
     "output_type": "stream",
     "text": [
      "      40/50      2.95G      1.008      0.806      1.092         79        640: 100%|██████████| 188/188 [00:28<00:00,  \n",
      "                 Class     Images  Instances      Box(P          R      mAP50  mAP50-95): 100%|██████████| 16/16 [00:02"
     ]
    },
    {
     "name": "stdout",
     "output_type": "stream",
     "text": [
      "                   all        500       2041      0.773      0.651       0.74       0.49\n"
     ]
    },
    {
     "name": "stderr",
     "output_type": "stream",
     "text": [
      "\n"
     ]
    },
    {
     "name": "stdout",
     "output_type": "stream",
     "text": [
      "Closing dataloader mosaic\n",
      "\u001b[34m\u001b[1malbumentations: \u001b[0mBlur(p=0.01, blur_limit=(3, 7)), MedianBlur(p=0.01, blur_limit=(3, 7)), ToGray(p=0.01, method='weighted_average', num_output_channels=3), CLAHE(p=0.01, clip_limit=(1.0, 4.0), tile_grid_size=(8, 8))\n",
      "\n",
      "      Epoch    GPU_mem   box_loss   cls_loss   dfl_loss  Instances       Size\n"
     ]
    },
    {
     "name": "stderr",
     "output_type": "stream",
     "text": [
      "      41/50      2.95G      0.974     0.7812      1.058         30        640: 100%|██████████| 188/188 [00:27<00:00,  \n",
      "                 Class     Images  Instances      Box(P          R      mAP50  mAP50-95): 100%|██████████| 16/16 [00:02"
     ]
    },
    {
     "name": "stdout",
     "output_type": "stream",
     "text": [
      "                   all        500       2041      0.764      0.633      0.724      0.473\n"
     ]
    },
    {
     "name": "stderr",
     "output_type": "stream",
     "text": [
      "\n"
     ]
    },
    {
     "name": "stdout",
     "output_type": "stream",
     "text": [
      "\n",
      "      Epoch    GPU_mem   box_loss   cls_loss   dfl_loss  Instances       Size\n"
     ]
    },
    {
     "name": "stderr",
     "output_type": "stream",
     "text": [
      "      42/50      2.95G     0.9618     0.7496      1.046         38        640: 100%|██████████| 188/188 [00:27<00:00,  \n",
      "                 Class     Images  Instances      Box(P          R      mAP50  mAP50-95): 100%|██████████| 16/16 [00:02"
     ]
    },
    {
     "name": "stdout",
     "output_type": "stream",
     "text": [
      "                   all        500       2041      0.767      0.644      0.728      0.478\n"
     ]
    },
    {
     "name": "stderr",
     "output_type": "stream",
     "text": [
      "\n"
     ]
    },
    {
     "name": "stdout",
     "output_type": "stream",
     "text": [
      "\n",
      "      Epoch    GPU_mem   box_loss   cls_loss   dfl_loss  Instances       Size\n"
     ]
    },
    {
     "name": "stderr",
     "output_type": "stream",
     "text": [
      "      43/50      2.95G     0.9558     0.7461      1.045         28        640: 100%|██████████| 188/188 [00:27<00:00,  \n",
      "                 Class     Images  Instances      Box(P          R      mAP50  mAP50-95): 100%|██████████| 16/16 [00:02"
     ]
    },
    {
     "name": "stdout",
     "output_type": "stream",
     "text": [
      "                   all        500       2041      0.776       0.64      0.729      0.478\n"
     ]
    },
    {
     "name": "stderr",
     "output_type": "stream",
     "text": [
      "\n"
     ]
    },
    {
     "name": "stdout",
     "output_type": "stream",
     "text": [
      "\n",
      "      Epoch    GPU_mem   box_loss   cls_loss   dfl_loss  Instances       Size\n"
     ]
    },
    {
     "name": "stderr",
     "output_type": "stream",
     "text": [
      "      44/50      2.95G     0.9474     0.7297      1.036         56        640: 100%|██████████| 188/188 [00:27<00:00,  \n",
      "                 Class     Images  Instances      Box(P          R      mAP50  mAP50-95): 100%|██████████| 16/16 [00:02"
     ]
    },
    {
     "name": "stdout",
     "output_type": "stream",
     "text": [
      "                   all        500       2041      0.766      0.642      0.731       0.48\n"
     ]
    },
    {
     "name": "stderr",
     "output_type": "stream",
     "text": [
      "\n"
     ]
    },
    {
     "name": "stdout",
     "output_type": "stream",
     "text": [
      "\n",
      "      Epoch    GPU_mem   box_loss   cls_loss   dfl_loss  Instances       Size\n"
     ]
    },
    {
     "name": "stderr",
     "output_type": "stream",
     "text": [
      "      45/50      2.95G     0.9463     0.7296      1.042         53        640: 100%|██████████| 188/188 [00:27<00:00,  \n",
      "                 Class     Images  Instances      Box(P          R      mAP50  mAP50-95): 100%|██████████| 16/16 [00:02"
     ]
    },
    {
     "name": "stdout",
     "output_type": "stream",
     "text": [
      "                   all        500       2041      0.785       0.63      0.732      0.481\n"
     ]
    },
    {
     "name": "stderr",
     "output_type": "stream",
     "text": [
      "\n"
     ]
    },
    {
     "name": "stdout",
     "output_type": "stream",
     "text": [
      "\n",
      "      Epoch    GPU_mem   box_loss   cls_loss   dfl_loss  Instances       Size\n"
     ]
    },
    {
     "name": "stderr",
     "output_type": "stream",
     "text": [
      "      46/50      2.95G      0.947     0.7315      1.039         17        640: 100%|██████████| 188/188 [00:27<00:00,  \n",
      "                 Class     Images  Instances      Box(P          R      mAP50  mAP50-95): 100%|██████████| 16/16 [00:02"
     ]
    },
    {
     "name": "stdout",
     "output_type": "stream",
     "text": [
      "                   all        500       2041       0.78      0.632       0.73       0.48\n"
     ]
    },
    {
     "name": "stderr",
     "output_type": "stream",
     "text": [
      "\n"
     ]
    },
    {
     "name": "stdout",
     "output_type": "stream",
     "text": [
      "\n",
      "      Epoch    GPU_mem   box_loss   cls_loss   dfl_loss  Instances       Size\n"
     ]
    },
    {
     "name": "stderr",
     "output_type": "stream",
     "text": [
      "      47/50      2.95G     0.9378     0.7187      1.034         48        640: 100%|██████████| 188/188 [00:27<00:00,  \n",
      "                 Class     Images  Instances      Box(P          R      mAP50  mAP50-95): 100%|██████████| 16/16 [00:03"
     ]
    },
    {
     "name": "stdout",
     "output_type": "stream",
     "text": [
      "                   all        500       2041       0.78      0.632      0.731      0.482\n"
     ]
    },
    {
     "name": "stderr",
     "output_type": "stream",
     "text": [
      "\n"
     ]
    },
    {
     "name": "stdout",
     "output_type": "stream",
     "text": [
      "\n",
      "      Epoch    GPU_mem   box_loss   cls_loss   dfl_loss  Instances       Size\n"
     ]
    },
    {
     "name": "stderr",
     "output_type": "stream",
     "text": [
      "      48/50      2.95G     0.9374     0.7233      1.038         44        640: 100%|██████████| 188/188 [00:27<00:00,  \n",
      "                 Class     Images  Instances      Box(P          R      mAP50  mAP50-95): 100%|██████████| 16/16 [00:02"
     ]
    },
    {
     "name": "stdout",
     "output_type": "stream",
     "text": [
      "                   all        500       2041       0.78      0.637       0.73       0.48\n"
     ]
    },
    {
     "name": "stderr",
     "output_type": "stream",
     "text": [
      "\n"
     ]
    },
    {
     "name": "stdout",
     "output_type": "stream",
     "text": [
      "\n",
      "      Epoch    GPU_mem   box_loss   cls_loss   dfl_loss  Instances       Size\n"
     ]
    },
    {
     "name": "stderr",
     "output_type": "stream",
     "text": [
      "      49/50      2.95G     0.9462     0.7207      1.043         21        640: 100%|██████████| 188/188 [00:28<00:00,  \n",
      "                 Class     Images  Instances      Box(P          R      mAP50  mAP50-95): 100%|██████████| 16/16 [00:02"
     ]
    },
    {
     "name": "stdout",
     "output_type": "stream",
     "text": [
      "                   all        500       2041      0.786      0.635      0.731      0.482\n"
     ]
    },
    {
     "name": "stderr",
     "output_type": "stream",
     "text": [
      "\n"
     ]
    },
    {
     "name": "stdout",
     "output_type": "stream",
     "text": [
      "\n",
      "      Epoch    GPU_mem   box_loss   cls_loss   dfl_loss  Instances       Size\n"
     ]
    },
    {
     "name": "stderr",
     "output_type": "stream",
     "text": [
      "      50/50      2.95G     0.9451     0.7195      1.034         20        640: 100%|██████████| 188/188 [00:27<00:00,  \n",
      "                 Class     Images  Instances      Box(P          R      mAP50  mAP50-95): 100%|██████████| 16/16 [00:02"
     ]
    },
    {
     "name": "stdout",
     "output_type": "stream",
     "text": [
      "                   all        500       2041      0.787      0.633      0.732      0.482\n"
     ]
    },
    {
     "name": "stderr",
     "output_type": "stream",
     "text": [
      "\n"
     ]
    },
    {
     "name": "stdout",
     "output_type": "stream",
     "text": [
      "\n",
      "50 epochs completed in 0.451 hours.\n",
      "Optimizer stripped from runs\\detect\\person_detect_v2\\weights\\last.pt, 5.5MB\n",
      "Optimizer stripped from runs\\detect\\person_detect_v2\\weights\\best.pt, 5.5MB\n",
      "\n",
      "Validating runs\\detect\\person_detect_v2\\weights\\best.pt...\n",
      "Ultralytics 8.3.152  Python-3.11.11 torch-2.5.1+cu121 CUDA:0 (NVIDIA GeForce RTX 4060 Laptop GPU, 8188MiB)\n",
      "YOLO11n summary (fused): 100 layers, 2,582,347 parameters, 0 gradients, 6.3 GFLOPs\n"
     ]
    },
    {
     "name": "stderr",
     "output_type": "stream",
     "text": [
      "                 Class     Images  Instances      Box(P          R      mAP50  mAP50-95): 100%|██████████| 16/16 [00:03\n"
     ]
    },
    {
     "name": "stdout",
     "output_type": "stream",
     "text": [
      "                   all        500       2041      0.779       0.65      0.741       0.49\n",
      "Speed: 0.2ms preprocess, 1.5ms inference, 0.0ms loss, 1.4ms postprocess per image\n",
      "Results saved to \u001b[1mruns\\detect\\person_detect_v2\u001b[0m\n"
     ]
    }
   ],
   "source": [
    "# Train with custom learning rate and optimizer\n",
    "results = model.train(\n",
    "    data=os.path.join(export_dir, \"dataset.yaml\"),\n",
    "    epochs=50,\n",
    "    batch=16,\n",
    "    imgsz=640,\n",
    "    optimizer=\"AdamW\",\n",
    "    lr0=0.0001,             # Lower initial LR\n",
    "    lrf=0.01,               # Final LR after decay\n",
    "    momentum=0.9,\n",
    "    weight_decay=0.0005,    \n",
    "    warmup_epochs=3,        # Stabilize early training\n",
    "    warmup_momentum=0.8,\n",
    "    warmup_bias_lr=0.1,\n",
    "    cos_lr=True,            # Smooth cosine decay helps convergence\n",
    "    device=0,\n",
    "    workers=16,\n",
    "    project=PROJECT,\n",
    "    name=NAME\n",
    ")"
   ]
  },
  {
   "cell_type": "code",
   "execution_count": null,
   "id": "e7879272-8485-44c5-9ec2-efb90cbbbf70",
   "metadata": {},
   "outputs": [],
   "source": []
  }
 ],
 "metadata": {
  "accelerator": "GPU",
  "colab": {
   "gpuType": "L4",
   "machine_shape": "hm",
   "provenance": []
  },
  "kernelspec": {
   "display_name": "Python 3 (ipykernel)",
   "language": "python",
   "name": "python3"
  },
  "language_info": {
   "codemirror_mode": {
    "name": "ipython",
    "version": 3
   },
   "file_extension": ".py",
   "mimetype": "text/x-python",
   "name": "python",
   "nbconvert_exporter": "python",
   "pygments_lexer": "ipython3",
   "version": "3.11.11"
  }
 },
 "nbformat": 4,
 "nbformat_minor": 5
}
